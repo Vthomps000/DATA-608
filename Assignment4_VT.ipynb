{
 "cells": [
  {
   "cell_type": "markdown",
   "metadata": {},
   "source": [
    "## Assignment 4\n",
    "### Vanita Thompson"
   ]
  },
  {
   "cell_type": "markdown",
   "metadata": {},
   "source": [
    "Module 4\n",
    "In this module we’ll be looking at data from the New York City tree census:\n",
    "https://data.cityofnewyork.us/Environment/2015-Street-Tree-Census-Tree-Data/uvpi-gqnh\n",
    "This data is collected by volunteers across the city, and is meant to catalog information\n",
    "about every single tree in the city.\n",
    "Build a dash app for a arborist studying the health of various tree species (as defined by the\n",
    "variable ‘spc_common’) across each borough (defined by the variable ‘borough’). This\n",
    "arborist would like to answer the following two questions for each species and in each\n",
    "borough:\n",
    "1. What proportion of trees are in good, fair, or poor health according to the ‘health’\n",
    "variable?\n",
    "2. Are stewards (steward activity measured by the ‘steward’ variable) having an impact\n",
    "on the health of trees?\n",
    "Please see the accompanying notebook for an introduction and some notes on the Socrata\n",
    "API.\n",
    "Deployment: Dash deployment is more complicated than deploying shiny apps, so\n",
    "deployment in this case is optional (and will result in extra credit). You can read instructions\n",
    "on deploying a dash app to heroku here: https://dash.plot.ly/deployment"
   ]
  },
  {
   "cell_type": "code",
   "execution_count": 1,
   "metadata": {},
   "outputs": [],
   "source": [
    "import pandas as pd\n",
    "import numpy as np"
   ]
  },
  {
   "cell_type": "markdown",
   "metadata": {},
   "source": [
    "## Data Import and Analysis"
   ]
  },
  {
   "cell_type": "markdown",
   "metadata": {},
   "source": [
    "All of the column names used are from the data dictionary."
   ]
  },
  {
   "cell_type": "code",
   "execution_count": 2,
   "metadata": {},
   "outputs": [],
   "source": [
    "# Importing ata from NYC tree census, xtracting only columns necessary for question one, filtering out NaN and nan values, and reading it into a pandas data frame.\n",
    "\n",
    "url1 = ('https://data.cityofnewyork.us/resource/nwxe-4ae8.json?$limit=700000&' +\\\n",
    "    '$offset=0&$select=count(tree_id),boroname,spc_common,health,steward&' +\\\n",
    "    '$where=health!=%27NaN%27%20and%20spc_common!=%27nan%27' +\\\n",
    "    '&$group=boroname,health,steward,spc_common').replace(' ', '%20')\n",
    "trees_all = pd.read_json(url1)\n",
    "# Importing ata from NYC tree census, xtracting only columns necessary for question two, filtering out NaN and nan values, and reading it into a pandas data frame.\n",
    "url2 = ('https://data.cityofnewyork.us/resource/nwxe-4ae8.json?$limit=700000&' +\\\n",
    "    '$offset=0&$select=tree_id,boroname,spc_common,health,steward&' +\\\n",
    "    '$where=health!=%27NaN%27%20and%20spc_common!=%27nan%27').replace(' ', '%20')\n",
    "trees_2d = pd.read_json(url2)"
   ]
  },
  {
   "cell_type": "code",
   "execution_count": 3,
   "metadata": {},
   "outputs": [],
   "source": [
    "# Sorting for the 'steward' value in the visualizations, changing the 'None' value to '0'\n",
    "def label_steward (row):\n",
    "   if row['steward'] == 'None' :\n",
    "      return '0'\n",
    "   return row['steward']\n",
    "\n",
    "trees_all['nbr_stewards'] = trees_all.apply (lambda row: label_steward(row), axis=1)\n",
    "trees_2d['nbr_stewards'] = trees_2d.apply (lambda row: label_steward(row), axis=1)\n",
    "trees_2d.columns = ['Borough','Health','Species','steward','tree_id','Nbr Stewards']"
   ]
  },
  {
   "cell_type": "code",
   "execution_count": 4,
   "metadata": {},
   "outputs": [],
   "source": [
    "# Using the trees_all dataframe to build a dataframe for question 1 based on borough\n",
    "trees_borough1 = trees_all.groupby(['boroname','health']).agg({'count_tree_id': [np.sum]})\n",
    "trees_borough1.rename(index=str, columns={\"count_tree_id\": \"Tree Count\"})\n",
    "trees_borough1_df = pd.DataFrame(trees_borough1.to_records())\n",
    "trees_borough2 = trees_all.groupby(['boroname']).agg({'count_tree_id': [np.sum]})\n",
    "trees_borough2.rename(index=str, columns={\"count_tree_id\": \"Total Tree Count\"})\n",
    "trees_borough2_df = pd.DataFrame(trees_borough2.to_records())\n",
    "trees_borough_health = pd.merge(trees_borough1_df, trees_borough2_df, how='left', on='boroname')\n",
    "trees_borough_health.columns = ['Borough','Health','Tree Counts','Total Tree Counts']\n",
    "trees_borough_health['Proportion'] = trees_borough_health['Tree Counts'] / trees_borough_health['Total Tree Counts']"
   ]
  },
  {
   "cell_type": "code",
   "execution_count": 5,
   "metadata": {},
   "outputs": [],
   "source": [
    "# Using the trees_all dataframe to build a dataframe for question 1 based on species\n",
    "trees_species1 = trees_all.groupby(['spc_common','health']).agg({'count_tree_id': [np.sum]})\n",
    "trees_species1.rename(index=str, columns={\"count_tree_id\": \"Tree Count\"})\n",
    "trees_species1_df = pd.DataFrame(trees_species1.to_records())\n",
    "trees_species2 = trees_all.groupby(['spc_common']).agg({'count_tree_id': [np.sum]})\n",
    "trees_species2.rename(index=str, columns={\"count_tree_id\": \"Total Tree Count\"})\n",
    "trees_species2_df = pd.DataFrame(trees_species2.to_records())\n",
    "trees_species_health = pd.merge(trees_species1_df, trees_species2_df, how='left', on='spc_common')\n",
    "trees_species_health.columns = ['Species','Health','Tree Counts','Total Tree Counts']\n",
    "trees_species_health['Proportion'] = trees_species_health['Tree Counts'] / trees_species_health['Total Tree Counts']"
   ]
  },
  {
   "cell_type": "markdown",
   "metadata": {},
   "source": [
    "## Data Visualization"
   ]
  },
  {
   "cell_type": "code",
   "execution_count": null,
   "metadata": {},
   "outputs": [
    {
     "name": "stdout",
     "output_type": "stream",
     "text": [
      "Dash is running on http://127.0.0.1:8050/\n",
      "\n",
      "Dash is running on http://127.0.0.1:8050/\n",
      "\n",
      "Dash is running on http://127.0.0.1:8050/\n",
      "\n",
      "Dash is running on http://127.0.0.1:8050/\n",
      "\n",
      " * Serving Flask app \"__main__\" (lazy loading)\n",
      " * Environment: production\n",
      "   WARNING: This is a development server. Do not use it in a production deployment.\n",
      "   Use a production WSGI server instead.\n",
      " * Debug mode: off\n"
     ]
    }
   ],
   "source": [
    "import dash\n",
    "import dash_core_components as dcc\n",
    "import dash_html_components as html\n",
    "\n",
    "external_stylesheets = ['https://codepen.io/chriddyp/pen/bWLwgP.css']\n",
    "\n",
    "# setting up datasets \n",
    "df_boro = trees_borough_health\n",
    "df_spec = trees_species_health\n",
    "\n",
    "# setting up drop-downs \n",
    "borough_drop_down = df_boro['Borough'].unique()\n",
    "species_drop_down = df_spec['Species'].unique()\n",
    "\n",
    "app = dash.Dash(__name__, external_stylesheets=external_stylesheets)\n",
    "\n",
    "app.layout = html.Div([\n",
    "    html.H1('Proportions of Health Status by Borough'),\n",
    "    html.Div('''\n",
    "        Borough\n",
    "    '''),\n",
    "    dcc.Dropdown(\n",
    "        id='borough-dropdown',\n",
    "        options=[{'label': i, 'value': i} for i in borough_drop_down],\n",
    "        multi=True, \n",
    "        value='Bronx'\n",
    "    ),\n",
    "    dcc.Graph(\n",
    "        id='borough-graph'    \n",
    "    ),\n",
    "    html.H1('Proportions of Health Status by Species'),\n",
    "    html.Div('''\n",
    "        Species\n",
    "    '''),\n",
    "    dcc.Dropdown(\n",
    "        id='species-dropdown',\n",
    "        options=[{'label': i, 'value': i} for i in species_drop_down], \n",
    "        multi=True, \n",
    "        value='American beech'\n",
    "    ),\n",
    "    dcc.Graph(\n",
    "        id='species-graph'    \n",
    "    ), \n",
    "    html.H1('Borough Tree Health vs Stewards 2d Histogram'),\n",
    "    dcc.Graph(\n",
    "        id='borough-steward-graph'\n",
    "    ), \n",
    "    html.H1('Species Tree Health vs Stewards 2d Histogram'),\n",
    "    dcc.Graph(\n",
    "        id='species-steward-graph'\n",
    "    )\n",
    "    ])\n",
    "\n",
    "# health by borough\n",
    "@app.callback(\n",
    "    dash.dependencies.Output('borough-graph', 'figure'),\n",
    "    [dash.dependencies.Input('borough-dropdown', 'value')])\n",
    "\n",
    "def update_boro_output(borough_dropdown_value):\n",
    "    html.H1('Proportions of Health Status by Borough'),\n",
    "    html.Div('''\n",
    "        Borough\n",
    "    '''),\n",
    "    dff = df_boro[df_boro['Borough'] == borough_dropdown_value]\n",
    "    figure = {\n",
    "            'data': [\n",
    "                {'x': dff.Borough[dff['Health'] == 'Good'], 'y': dff.Proportion[dff['Health'] == 'Good'], 'type': 'bar', 'name': 'Good'},\n",
    "                {'x': dff.Borough[dff['Health'] == 'Fair'], 'y': dff.Proportion[dff['Health'] == 'Fair'], 'type': 'bar', 'name': 'Fair'},\n",
    "                {'x': dff.Borough[dff['Health'] == 'Poor'], 'y': dff.Proportion[dff['Health'] == 'Poor'], 'type': 'bar', 'name': 'Poor'}\n",
    "            ],\n",
    "            'layout': {\n",
    "                'title': 'Proportions of Health Status by Borough'\n",
    "                    }\n",
    "            }\n",
    "    return figure \n",
    "\n",
    "# health by species\n",
    "@app.callback(\n",
    "    dash.dependencies.Output('species-graph', 'figure'),\n",
    "    [dash.dependencies.Input('species-dropdown', 'value')])\n",
    "\n",
    "def update_spec_output(species_dropdown_value):\n",
    "    html.H1('Proportions of Health Status by Species'),\n",
    "    html.Div('''\n",
    "        Species\n",
    "    '''),\n",
    "    dff = df_spec[df_spec['Species'] == species_dropdown_value]\n",
    "    figure = {\n",
    "            'data': [\n",
    "                {'x': dff.Species[dff['Health'] == 'Good'], 'y': dff.Proportion[dff['Health'] == 'Good'], 'type': 'bar', 'name': 'Good'},\n",
    "                {'x': dff.Species[dff['Health'] == 'Fair'], 'y': dff.Proportion[dff['Health'] == 'Fair'], 'type': 'bar', 'name': 'Fair'},\n",
    "                {'x': dff.Species[dff['Health'] == 'Poor'], 'y': dff.Proportion[dff['Health'] == 'Poor'], 'type': 'bar', 'name': 'Poor'}\n",
    "            ],\n",
    "            'layout': {\n",
    "                'title': 'Proportions of Health Status by Species'\n",
    "                    }\n",
    "            }\n",
    "    return figure \n",
    "\n",
    "# histogram of steward count vs health count by borough\n",
    "@app.callback(\n",
    "    dash.dependencies.Output('borough-steward-graph', 'figure'),\n",
    "    [dash.dependencies.Input('borough-dropdown', 'value')])\n",
    "\n",
    "def update_boro_steward_output(borough_dropdown_value):\n",
    "    html.H1('Borough Tree Health vs Stewards 2d Histogram'),\n",
    "    dff = trees_2d[trees_2d['Borough'] == borough_dropdown_value]\n",
    "    figure = {\n",
    "            'data': [\n",
    "                {'x': dff['Health'], 'y': dff['Nbr Stewards'], 'type': 'histogram2d'}\n",
    "            ],\n",
    "            'layout': {\n",
    "                'title': 'Borough Tree Health vs Stewards 2d Histogram'\n",
    "                    }\n",
    "            }\n",
    "    \n",
    "    return figure \n",
    "\n",
    "# histogram of steward count vs health count by species\n",
    "@app.callback(\n",
    "    dash.dependencies.Output('species-steward-graph', 'figure'),\n",
    "    [dash.dependencies.Input('species-dropdown', 'value')])\n",
    "\n",
    "def update_spec_steward_output(species_dropdown_value):\n",
    "    html.H1('Species Tree Health vs Stewards 2d Histogram'),\n",
    "    dff = trees_2d[trees_2d['Species'] == species_dropdown_value]\n",
    "    figure = {\n",
    "            'data': [\n",
    "                {'x': dff['Health'], 'y': dff['Nbr Stewards'], 'type': 'histogram2d'}\n",
    "            ],\n",
    "            'layout': {\n",
    "                'title': 'Species Tree Health vs Stewards 2d Histogram'\n",
    "                    }\n",
    "            }\n",
    "    return figure \n",
    "\n",
    "\n",
    "if __name__ == '__main__':\n",
    "    app.run_server(debug=False)"
   ]
  },
  {
   "cell_type": "markdown",
   "metadata": {},
   "source": [
    "The graphs can be visualized by clicking the dash link above http://127.0.0.1:8050/ "
   ]
  }
 ],
 "metadata": {
  "kernelspec": {
   "display_name": "Python 3",
   "language": "python",
   "name": "python3"
  },
  "language_info": {
   "codemirror_mode": {
    "name": "ipython",
    "version": 3
   },
   "file_extension": ".py",
   "mimetype": "text/x-python",
   "name": "python",
   "nbconvert_exporter": "python",
   "pygments_lexer": "ipython3",
   "version": "3.7.6"
  }
 },
 "nbformat": 4,
 "nbformat_minor": 2
}
