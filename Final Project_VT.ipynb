{
 "cells": [
  {
   "cell_type": "markdown",
   "metadata": {},
   "source": [
    "# Visualizing Expected Job Growth Trend 2019-2020 "
   ]
  },
  {
   "cell_type": "markdown",
   "metadata": {},
   "source": [
    "## Final Project\n",
    "## DATA 608\n",
    "### Vanita Thompson"
   ]
  },
  {
   "cell_type": "markdown",
   "metadata": {},
   "source": [
    "## Introduction"
   ]
  },
  {
   "cell_type": "markdown",
   "metadata": {},
   "source": [
    "The U.S. Bureau of Labor and Statistics tracks the national employment projections each decade.  For this analysis, I will be taking a look at the expected job growth trends from 2019-2029. This dataset can be found at: https://data.bls.gov/projections/nationalMatrix?queryParams=541700&ioType=i"
   ]
  },
  {
   "cell_type": "markdown",
   "metadata": {},
   "source": [
    "## Hypothesis"
   ]
  },
  {
   "cell_type": "code",
   "execution_count": null,
   "metadata": {},
   "outputs": [],
   "source": [
    "Job growth will be correlated to education level. Salary will be directly proportional to eductaion."
   ]
  },
  {
   "cell_type": "markdown",
   "metadata": {},
   "source": [
    "## Environment Setup and Data Importation"
   ]
  },
  {
   "cell_type": "markdown",
   "metadata": {},
   "source": [
    "I will be using and numpy and pandas to import and clean data."
   ]
  },
  {
   "cell_type": "code",
   "execution_count": 36,
   "metadata": {},
   "outputs": [],
   "source": [
    "import numpy as np\n",
    "import pandas as pd"
   ]
  },
  {
   "cell_type": "code",
   "execution_count": 37,
   "metadata": {},
   "outputs": [],
   "source": [
    "jobs = pd.read_csv('https://raw.githubusercontent.com/Vthomps000/DATA-608/master/Employment%20Projections.csv')"
   ]
  },
  {
   "cell_type": "markdown",
   "metadata": {},
   "source": [
    "## Data Cleaning"
   ]
  },
  {
   "cell_type": "markdown",
   "metadata": {},
   "source": [
    "Here is a preview of the entire dataset. There are 790 rows and 14 columns."
   ]
  },
  {
   "cell_type": "code",
   "execution_count": 38,
   "metadata": {},
   "outputs": [
    {
     "data": {
      "text/html": [
       "<div>\n",
       "<style scoped>\n",
       "    .dataframe tbody tr th:only-of-type {\n",
       "        vertical-align: middle;\n",
       "    }\n",
       "\n",
       "    .dataframe tbody tr th {\n",
       "        vertical-align: top;\n",
       "    }\n",
       "\n",
       "    .dataframe thead th {\n",
       "        text-align: right;\n",
       "    }\n",
       "</style>\n",
       "<table border=\"1\" class=\"dataframe\">\n",
       "  <thead>\n",
       "    <tr style=\"text-align: right;\">\n",
       "      <th></th>\n",
       "      <th>Occupation Title</th>\n",
       "      <th>Occupation Code</th>\n",
       "      <th>Employment 2019</th>\n",
       "      <th>Employment 2029</th>\n",
       "      <th>Employment Change, 2019-2029</th>\n",
       "      <th>Employment Percent Change, 2019-2029</th>\n",
       "      <th>Occupational Openings, 2019-2029 Annual Average</th>\n",
       "      <th>Median Annual Wage 2019</th>\n",
       "      <th>Typical Entry-Level Education</th>\n",
       "      <th>Education Code</th>\n",
       "      <th>Work Experience in a Related Occupation</th>\n",
       "      <th>Workex Code</th>\n",
       "      <th>Typical on-the-job Training</th>\n",
       "      <th>trCode</th>\n",
       "    </tr>\n",
       "  </thead>\n",
       "  <tbody>\n",
       "    <tr>\n",
       "      <th>0</th>\n",
       "      <td>Accountants and auditors    * Account Auditor*...</td>\n",
       "      <td>=\"13-2011\"</td>\n",
       "      <td>1,436.1</td>\n",
       "      <td>1,497.9</td>\n",
       "      <td>61.7</td>\n",
       "      <td>4.3</td>\n",
       "      <td>125.7</td>\n",
       "      <td>71,550</td>\n",
       "      <td>Bachelor's degree</td>\n",
       "      <td>3</td>\n",
       "      <td>None</td>\n",
       "      <td>4</td>\n",
       "      <td>None</td>\n",
       "      <td>6</td>\n",
       "    </tr>\n",
       "    <tr>\n",
       "      <th>1</th>\n",
       "      <td>Actors    * Actor Understudy* Actress* Dramati...</td>\n",
       "      <td>=\"27-2011\"</td>\n",
       "      <td>70.1</td>\n",
       "      <td>72.2</td>\n",
       "      <td>2.1</td>\n",
       "      <td>3.1</td>\n",
       "      <td>7.1</td>\n",
       "      <td>NaN</td>\n",
       "      <td>Some college, no degree</td>\n",
       "      <td>6</td>\n",
       "      <td>None</td>\n",
       "      <td>4</td>\n",
       "      <td>Long-term on-the-job training</td>\n",
       "      <td>3</td>\n",
       "    </tr>\n",
       "    <tr>\n",
       "      <th>2</th>\n",
       "      <td>Actuaries    * Actuarial Associate* Actuarial ...</td>\n",
       "      <td>=\"15-2011\"</td>\n",
       "      <td>27.7</td>\n",
       "      <td>32.6</td>\n",
       "      <td>4.9</td>\n",
       "      <td>17.6</td>\n",
       "      <td>2.0</td>\n",
       "      <td>108,350</td>\n",
       "      <td>Bachelor's degree</td>\n",
       "      <td>3</td>\n",
       "      <td>None</td>\n",
       "      <td>4</td>\n",
       "      <td>Long-term on-the-job training</td>\n",
       "      <td>3</td>\n",
       "    </tr>\n",
       "    <tr>\n",
       "      <th>3</th>\n",
       "      <td>Acupuncturists and healthcare diagnosing or tr...</td>\n",
       "      <td>=\"29-1298\"</td>\n",
       "      <td>49.6</td>\n",
       "      <td>49.4</td>\n",
       "      <td>-0.1</td>\n",
       "      <td>-0.3</td>\n",
       "      <td>2.3</td>\n",
       "      <td>75,640</td>\n",
       "      <td>Master's degree</td>\n",
       "      <td>2</td>\n",
       "      <td>None</td>\n",
       "      <td>4</td>\n",
       "      <td>None</td>\n",
       "      <td>6</td>\n",
       "    </tr>\n",
       "    <tr>\n",
       "      <th>4</th>\n",
       "      <td>Adhesive bonding machine operators and tenders...</td>\n",
       "      <td>=\"51-9191\"</td>\n",
       "      <td>14.0</td>\n",
       "      <td>13.7</td>\n",
       "      <td>-0.2</td>\n",
       "      <td>-1.8</td>\n",
       "      <td>1.4</td>\n",
       "      <td>34,340</td>\n",
       "      <td>High school diploma or equivalent</td>\n",
       "      <td>7</td>\n",
       "      <td>None</td>\n",
       "      <td>4</td>\n",
       "      <td>Moderate-term on-the-job training</td>\n",
       "      <td>4</td>\n",
       "    </tr>\n",
       "  </tbody>\n",
       "</table>\n",
       "</div>"
      ],
      "text/plain": [
       "                                    Occupation Title Occupation Code  \\\n",
       "0  Accountants and auditors    * Account Auditor*...      =\"13-2011\"   \n",
       "1  Actors    * Actor Understudy* Actress* Dramati...      =\"27-2011\"   \n",
       "2  Actuaries    * Actuarial Associate* Actuarial ...      =\"15-2011\"   \n",
       "3  Acupuncturists and healthcare diagnosing or tr...      =\"29-1298\"   \n",
       "4  Adhesive bonding machine operators and tenders...      =\"51-9191\"   \n",
       "\n",
       "  Employment 2019 Employment 2029 Employment Change, 2019-2029  \\\n",
       "0         1,436.1         1,497.9                         61.7   \n",
       "1            70.1            72.2                          2.1   \n",
       "2            27.7            32.6                          4.9   \n",
       "3            49.6            49.4                         -0.1   \n",
       "4            14.0            13.7                         -0.2   \n",
       "\n",
       "   Employment Percent Change, 2019-2029  \\\n",
       "0                                   4.3   \n",
       "1                                   3.1   \n",
       "2                                  17.6   \n",
       "3                                  -0.3   \n",
       "4                                  -1.8   \n",
       "\n",
       "   Occupational Openings, 2019-2029 Annual Average Median Annual Wage 2019  \\\n",
       "0                                            125.7                  71,550   \n",
       "1                                              7.1                     NaN   \n",
       "2                                              2.0                 108,350   \n",
       "3                                              2.3                  75,640   \n",
       "4                                              1.4                  34,340   \n",
       "\n",
       "       Typical Entry-Level Education  Education Code  \\\n",
       "0                  Bachelor's degree               3   \n",
       "1            Some college, no degree               6   \n",
       "2                  Bachelor's degree               3   \n",
       "3                    Master's degree               2   \n",
       "4  High school diploma or equivalent               7   \n",
       "\n",
       "  Work Experience in a Related Occupation  Workex Code  \\\n",
       "0                                    None            4   \n",
       "1                                    None            4   \n",
       "2                                    None            4   \n",
       "3                                    None            4   \n",
       "4                                    None            4   \n",
       "\n",
       "         Typical on-the-job Training  trCode  \n",
       "0                               None       6  \n",
       "1      Long-term on-the-job training       3  \n",
       "2      Long-term on-the-job training       3  \n",
       "3                               None       6  \n",
       "4  Moderate-term on-the-job training       4  "
      ]
     },
     "execution_count": 38,
     "metadata": {},
     "output_type": "execute_result"
    }
   ],
   "source": [
    "jobs.head()"
   ]
  },
  {
   "cell_type": "code",
   "execution_count": 39,
   "metadata": {},
   "outputs": [
    {
     "name": "stdout",
     "output_type": "stream",
     "text": [
      "rows, columns:  (790, 14)\n"
     ]
    }
   ],
   "source": [
    "print(\"rows, columns: \",jobs.shape)"
   ]
  },
  {
   "cell_type": "markdown",
   "metadata": {},
   "source": [
    "The dataset is already in long form so I will no be reshaping. However, I will be removing unecessary columns, and dropping rows with NaN values."
   ]
  },
  {
   "cell_type": "code",
   "execution_count": 40,
   "metadata": {},
   "outputs": [],
   "source": [
    "job_df = pd.DataFrame (jobs, columns = ['Occupation Title','Median Annual Wage 2019','Employment Percent Change, 2019-2029',\n",
    "                                        'Typical Entry-Level Education','Occupational Openings, 2019-2029 Annual Average',\n",
    "                                        'Education Code','Work Experience in a Related Occupation'])\n",
    "job_df2 = job_df.dropna()\n"
   ]
  },
  {
   "cell_type": "code",
   "execution_count": 41,
   "metadata": {},
   "outputs": [
    {
     "name": "stdout",
     "output_type": "stream",
     "text": [
      "rows, columns:  (785, 7)\n"
     ]
    }
   ],
   "source": [
    "print(\"rows, columns: \",job_df2.shape)"
   ]
  },
  {
   "cell_type": "code",
   "execution_count": 42,
   "metadata": {},
   "outputs": [
    {
     "data": {
      "text/html": [
       "<div>\n",
       "<style scoped>\n",
       "    .dataframe tbody tr th:only-of-type {\n",
       "        vertical-align: middle;\n",
       "    }\n",
       "\n",
       "    .dataframe tbody tr th {\n",
       "        vertical-align: top;\n",
       "    }\n",
       "\n",
       "    .dataframe thead th {\n",
       "        text-align: right;\n",
       "    }\n",
       "</style>\n",
       "<table border=\"1\" class=\"dataframe\">\n",
       "  <thead>\n",
       "    <tr style=\"text-align: right;\">\n",
       "      <th></th>\n",
       "      <th>Occupation Title</th>\n",
       "      <th>Median Annual Wage 2019</th>\n",
       "      <th>Employment Percent Change, 2019-2029</th>\n",
       "      <th>Typical Entry-Level Education</th>\n",
       "      <th>Occupational Openings, 2019-2029 Annual Average</th>\n",
       "      <th>Education Code</th>\n",
       "      <th>Work Experience in a Related Occupation</th>\n",
       "    </tr>\n",
       "  </thead>\n",
       "  <tbody>\n",
       "    <tr>\n",
       "      <th>0</th>\n",
       "      <td>Accountants and auditors    * Account Auditor*...</td>\n",
       "      <td>71,550</td>\n",
       "      <td>4.3</td>\n",
       "      <td>Bachelor's degree</td>\n",
       "      <td>125.7</td>\n",
       "      <td>3</td>\n",
       "      <td>None</td>\n",
       "    </tr>\n",
       "    <tr>\n",
       "      <th>2</th>\n",
       "      <td>Actuaries    * Actuarial Associate* Actuarial ...</td>\n",
       "      <td>108,350</td>\n",
       "      <td>17.6</td>\n",
       "      <td>Bachelor's degree</td>\n",
       "      <td>2.0</td>\n",
       "      <td>3</td>\n",
       "      <td>None</td>\n",
       "    </tr>\n",
       "    <tr>\n",
       "      <th>3</th>\n",
       "      <td>Acupuncturists and healthcare diagnosing or tr...</td>\n",
       "      <td>75,640</td>\n",
       "      <td>-0.3</td>\n",
       "      <td>Master's degree</td>\n",
       "      <td>2.3</td>\n",
       "      <td>2</td>\n",
       "      <td>None</td>\n",
       "    </tr>\n",
       "    <tr>\n",
       "      <th>4</th>\n",
       "      <td>Adhesive bonding machine operators and tenders...</td>\n",
       "      <td>34,340</td>\n",
       "      <td>-1.8</td>\n",
       "      <td>High school diploma or equivalent</td>\n",
       "      <td>1.4</td>\n",
       "      <td>7</td>\n",
       "      <td>None</td>\n",
       "    </tr>\n",
       "    <tr>\n",
       "      <th>5</th>\n",
       "      <td>Administrative law judges, adjudicators, and h...</td>\n",
       "      <td>97,870</td>\n",
       "      <td>0.3</td>\n",
       "      <td>Doctoral or professional degree</td>\n",
       "      <td>0.7</td>\n",
       "      <td>1</td>\n",
       "      <td>5 years or more</td>\n",
       "    </tr>\n",
       "  </tbody>\n",
       "</table>\n",
       "</div>"
      ],
      "text/plain": [
       "                                    Occupation Title Median Annual Wage 2019  \\\n",
       "0  Accountants and auditors    * Account Auditor*...                  71,550   \n",
       "2  Actuaries    * Actuarial Associate* Actuarial ...                 108,350   \n",
       "3  Acupuncturists and healthcare diagnosing or tr...                  75,640   \n",
       "4  Adhesive bonding machine operators and tenders...                  34,340   \n",
       "5  Administrative law judges, adjudicators, and h...                  97,870   \n",
       "\n",
       "   Employment Percent Change, 2019-2029      Typical Entry-Level Education  \\\n",
       "0                                   4.3                  Bachelor's degree   \n",
       "2                                  17.6                  Bachelor's degree   \n",
       "3                                  -0.3                    Master's degree   \n",
       "4                                  -1.8  High school diploma or equivalent   \n",
       "5                                   0.3    Doctoral or professional degree   \n",
       "\n",
       "   Occupational Openings, 2019-2029 Annual Average  Education Code  \\\n",
       "0                                            125.7               3   \n",
       "2                                              2.0               3   \n",
       "3                                              2.3               2   \n",
       "4                                              1.4               7   \n",
       "5                                              0.7               1   \n",
       "\n",
       "  Work Experience in a Related Occupation  \n",
       "0                                    None  \n",
       "2                                    None  \n",
       "3                                    None  \n",
       "4                                    None  \n",
       "5                         5 years or more  "
      ]
     },
     "execution_count": 42,
     "metadata": {},
     "output_type": "execute_result"
    }
   ],
   "source": [
    "## Droped all rows with NAN values for visualization\n",
    "job_df2.head()"
   ]
  },
  {
   "cell_type": "markdown",
   "metadata": {},
   "source": [
    "## Data Visualization"
   ]
  },
  {
   "cell_type": "markdown",
   "metadata": {},
   "source": [
    "Since, this is a large dataset, I will be using plotly for this scatter plot visualization. I inclued a drop down to take a look at more variables included in the data."
   ]
  },
  {
   "cell_type": "code",
   "execution_count": 86,
   "metadata": {},
   "outputs": [
    {
     "data": {
      "application/vnd.plotly.v1+json": {
       "config": {
        "plotlyServerURL": "https://plot.ly"
       },
       "data": [
        {
         "customdata": [
          [
           "None",
           4.3
          ],
          [
           "None",
           17.6
          ],
          [
           "Less than 5 years",
           6.5
          ],
          [
           "None",
           -10.4
          ],
          [
           "Less than 5 years",
           -1.1
          ],
          [
           "None",
           2.8
          ],
          [
           "Less than 5 years",
           11.8
          ],
          [
           "None",
           1.6
          ],
          [
           "None",
           1.8
          ],
          [
           "Less than 5 years",
           2.8
          ],
          [
           "None",
           5.5
          ],
          [
           "Less than 5 years",
           7.7
          ],
          [
           "None",
           0.8
          ],
          [
           "5 years or more",
           2.6
          ],
          [
           "5 years or more",
           -1.8
          ],
          [
           "None",
           16.2
          ],
          [
           "None",
           6.4
          ],
          [
           "None",
           4.7
          ],
          [
           "None",
           2.2
          ],
          [
           "None",
           4.9
          ],
          [
           "None",
           -5.3
          ],
          [
           "None",
           3.4
          ],
          [
           "None",
           -8.8
          ],
          [
           "None",
           14
          ],
          [
           "Less than 5 years",
           3.1
          ],
          [
           "Less than 5 years",
           1.1
          ],
          [
           "Less than 5 years",
           2.3
          ],
          [
           "None",
           4.5
          ],
          [
           "None",
           4.4
          ],
          [
           "None",
           4.7
          ],
          [
           "5 years or more",
           -10
          ],
          [
           "None",
           11.7
          ],
          [
           "None",
           1.7
          ],
          [
           "None",
           4
          ],
          [
           "None",
           7.3
          ],
          [
           "None",
           11.8
          ],
          [
           "None",
           -3.5
          ],
          [
           "None",
           11.7
          ],
          [
           "5 years or more",
           2.5
          ],
          [
           "Less than 5 years",
           7.9
          ],
          [
           "None",
           4.6
          ],
          [
           "5 years or more",
           10.4
          ],
          [
           "None",
           1.6
          ],
          [
           "5 years or more",
           5
          ],
          [
           "None",
           5.7
          ],
          [
           "None",
           -9.4
          ],
          [
           "None",
           7.4
          ],
          [
           "None",
           5.1
          ],
          [
           "None",
           8.5
          ],
          [
           "None",
           -1.5
          ],
          [
           "None",
           -4.8
          ],
          [
           "None",
           7.6
          ],
          [
           "None",
           30.9
          ],
          [
           "None",
           9.7
          ],
          [
           "None",
           -1.9
          ],
          [
           "None",
           8
          ],
          [
           "Less than 5 years",
           3.3
          ],
          [
           "Less than 5 years",
           -7.3
          ],
          [
           "Less than 5 years",
           8.1
          ],
          [
           "Less than 5 years",
           1
          ],
          [
           "None",
           4.4
          ],
          [
           "None",
           4.6
          ],
          [
           "None",
           1.4
          ],
          [
           "None",
           3.5
          ],
          [
           "5 years or more",
           4.5
          ],
          [
           "None",
           1.3
          ],
          [
           "None",
           3.1
          ],
          [
           "None",
           7.8
          ],
          [
           "None",
           11.3
          ],
          [
           "None",
           -4.4
          ],
          [
           "None",
           21.6
          ],
          [
           "None",
           5.5
          ],
          [
           "None",
           7.3
          ],
          [
           "5 years or more",
           15.5
          ],
          [
           "None",
           1
          ],
          [
           "None",
           1.2
          ],
          [
           "None",
           4.4
          ],
          [
           "None",
           14.1
          ],
          [
           "None",
           3.8
          ],
          [
           "None",
           14.3
          ],
          [
           "5 years or more",
           5.8
          ],
          [
           "None",
           -1.2
          ],
          [
           "None",
           4.9
          ],
          [
           "None",
           -3.8
          ],
          [
           "None",
           3.9
          ],
          [
           "None",
           11.4
          ],
          [
           "5 years or more",
           6.3
          ],
          [
           "None",
           7
          ],
          [
           "None",
           5.3
          ],
          [
           "None",
           10.1
          ],
          [
           "5 years or more",
           0.9
          ],
          [
           "Less than 5 years",
           31.2
          ],
          [
           "None",
           -6.2
          ],
          [
           "None",
           -4.9
          ],
          [
           "None",
           20
          ],
          [
           "None",
           3.7
          ],
          [
           "Less than 5 years",
           -6.8
          ],
          [
           "None",
           -2.4
          ],
          [
           "Less than 5 years",
           6.2
          ],
          [
           "None",
           5
          ],
          [
           "None",
           4.6
          ],
          [
           "None",
           3.2
          ],
          [
           "None",
           4.4
          ],
          [
           "Less than 5 years",
           10.7
          ],
          [
           "None",
           1.5
          ],
          [
           "None",
           17.7
          ],
          [
           "5 years or more",
           6.7
          ],
          [
           "None",
           1.5
          ],
          [
           "None",
           3.4
          ],
          [
           "None",
           3.9
          ],
          [
           "Less than 5 years",
           31.5
          ],
          [
           "None",
           7.8
          ],
          [
           "None",
           3.1
          ],
          [
           "None",
           3.6
          ],
          [
           "None",
           4.2
          ],
          [
           "None",
           11.6
          ],
          [
           "Less than 5 years",
           1.7
          ],
          [
           "5 years or more",
           4.8
          ],
          [
           "None",
           4.3
          ],
          [
           "None",
           -11.2
          ],
          [
           "None",
           -12.6
          ],
          [
           "None",
           3.8
          ],
          [
           "None",
           24.8
          ],
          [
           "None",
           4.4
          ],
          [
           "Less than 5 years",
           -1.8
          ],
          [
           "None",
           3.2
          ],
          [
           "None",
           -3
          ],
          [
           "None",
           3.7
          ],
          [
           "Less than 5 years",
           10
          ],
          [
           "None",
           5.9
          ],
          [
           "None",
           -2.7
          ],
          [
           "None",
           2.9
          ],
          [
           "5 years or more",
           9.2
          ],
          [
           "None",
           7.2
          ],
          [
           "5 years or more",
           2.6
          ],
          [
           "None",
           8.3
          ],
          [
           "None",
           7.2
          ],
          [
           "None",
           3.2
          ],
          [
           "None",
           6.3
          ],
          [
           "Less than 5 years",
           3.5
          ],
          [
           "None",
           4.1
          ],
          [
           "None",
           3.8
          ],
          [
           "None",
           3.7
          ],
          [
           "None",
           1.2
          ],
          [
           "Less than 5 years",
           17
          ],
          [
           "None",
           5.8
          ],
          [
           "None",
           0.8
          ],
          [
           "None",
           5.1
          ],
          [
           "None",
           21.5
          ],
          [
           "None",
           6.8
          ],
          [
           "None",
           8.5
          ],
          [
           "None",
           2.9
          ],
          [
           "None",
           2.6
          ],
          [
           "None",
           8.3
          ],
          [
           "None",
           3.2
          ],
          [
           "None",
           4.1
          ],
          [
           "None",
           6.4
          ],
          [
           "None",
           24.7
          ],
          [
           "None",
           2.6
          ],
          [
           "None",
           1.6
          ],
          [
           "None",
           -4.1
          ],
          [
           "None",
           3.4
          ],
          [
           "Less than 5 years",
           7.4
          ],
          [
           "None",
           14.6
          ],
          [
           "5 years or more",
           7.3
          ],
          [
           "Less than 5 years",
           8.6
          ],
          [
           "None",
           7.4
          ],
          [
           "None",
           -2.3
          ],
          [
           "None",
           3.9
          ]
         ],
         "hovertemplate": "<b>%{hovertext}</b><br><br>Typical Entry-Level Education=Bachelor's degree<br>Median Annual Wage 2019=%{x}<br>Employment Percent Change, 2019-2029=%{customdata[1]}<br>Education Code=%{marker.size}<br>Work Experience in a Related Occupation=%{customdata[0]}<extra></extra>",
         "hovertext": [
          "Accountants and auditors    * Account Auditor* Accountant* Auditor* Auditor-In-Charge* CPA* Certified Public Accountant* Cost Accountant* Field Auditor* Financial Accountant* Financial Auditor* Fund Accountant* Internal Auditor* Payroll Auditor* Tax Accountant",
          "Actuaries    * Actuarial Associate* Actuarial Mathematician* Health Actuary* Insurance Actuary* Pricing Actuary* Product Development Actuary",
          "Administrative services and facilities managers",
          "Adult basic education, adult secondary education, and English as a Second Language instructors    * Adult Basic Studies Teacher* Adult Education Teacher* Adult Literacy Instructor* Adult Literacy Teacher* Adult Remedial Education Instructor* GED Instructor* General Educational Development (GED) Teacher* General Educational Development Teacher",
          "Advertising and promotions managers    * Advertising Director* Advertising Executive* Advertising Manager* Classified Advertising Manager* Promotion Manager* Promotions Director* VP Advertising* VP Promotions",
          "Aerospace engineers    * Aerodynamics Engineer* Aeronautical Engineer* Aerospace Engineer* Aircraft Design Engineer* Aircraft Designer* Aircraft Engineer* Astronautical Engineer* Flight Systems Test Engineer* Flight Test Engineer* Wind Tunnel Engineer",
          "Agents and business managers of artists, performers, and athletes    * Artist Manager* Artist Representative* Author's Agent* Band Manager* Booking Agent* Booking Manager* Fight Manager* Literary Agent* Modeling Agent* Talent Agent* Talent Manager* Theatrical Agent",
          "Agricultural engineers    * Agricultural Engineer* Agricultural Production Engineer* Agricultural Research Engineer* Farm Equipment Engineer* Research Agricultural Engineer",
          "Agricultural inspectors    * Cattle Examiner* Cattle Inspector* Grain Sampler* Meat and Poultry Inspector* Milk Tester* Wheat Inspector",
          "Airline pilots, copilots, and flight engineers    * Airline Captain* Airline Pilot* Airline Pilot Flight Instructor* Airline Pilot In Command* Airline Pilot Second In Command* Airline Transport Pilot* Charter Pilot (Air Transport Pilot Certificate Required)* Charter Pilot (Airline)* Regional Airline Pilot",
          "Animal scientists    * Animal Geneticist* Animal Nutritionist* Animal Scientist* Beef Cattle Nutritionist* Dairy Scientist* Poultry Scientist* Swine Genetics Researcher",
          "Arbitrators, mediators, and conciliators    * Alternative Dispute Resolution Coordinator* Mediation Commissioner* Ombudsman",
          "Architects, except landscape and naval    * Building Architect* Building Architectural Designer* Structural Architect",
          "Architectural and engineering managers    * Electrical Engineering Director* Engineering Design Manager* Engineering Manager* Engineering Research Manager* Global Engineering Manager* Mechanical Engineering Director* Process Engineering Manager",
          "Art directors    * Art Director* Magazine Designer",
          "Athletic trainers    * Athletic Trainer* Certified Athletic Trainer* Clinical Athletic Instructor* Resident Athletic Trainer",
          "Atmospheric and space scientists    * Atmospheric Chemist* Atmospheric Scientist* Climatologist* Hurricane Tracker* Meteorologist* Oceanographic Meteorologist* Space Scientist* Storm Chaser* Tornado Chaser* Warning Coordination Meteorologist* Weather Analyst* Weather Forecaster* Weatherman",
          "Bioengineers and biomedical engineers    * Bio-Mechanical Engineer* Biochemical Engineer* Biomaterials Engineer* Biomedical Engineer* Dialysis Engineer* Genetic Engineer",
          "Biological scientists, all other    * Biologist* Bryologist* Embryologist* Osteologist* Paleobotanist* Phytopathologist* Plant Etiologist",
          "Biological technicians    * Bacteriology Technician* Biochemistry Technician* Biology Laboratory Assistant* Marine Fisheries Technician* Microbiology Technician* Wildlife Technician",
          "Broadcast announcers and radio disc jockeys    * Commercial Announcer* Game Show Host* Radio Artist* Radio Disk Jockey* Radio Host* Talk Show Host* Television Host",
          "Budget analysts    * Budget Analyst* Budget Coordinator* Budget Examiner* Budget Officer* Cost Analyst",
          "Buyers and purchasing agents",
          "Camera operators, television, video, and film    * Cinematographer* Electronic News Gathering Camera Operator* Motion Picture Camera Operator* Movie Shot Camera Operator* News Camera Operator* News Videographer* Television Camera Operator* Video Camera Operator",
          "Career/technical education teachers, middle school    * Middle School Vocational Education Teacher",
          "Career/technical education teachers, postsecondary    * Architectural Drafting Instructor* Aviation Maintenance Instructor* Barbering Instructor* Barbering Teacher* Building Trades Instructor* Carpentry Instructor* Commercial Art Instructor* Computer Repair Instructor* Computer-Aided Drafting and Design Instructor* Cosmetology Professor* Electrical Technology Instructor* Electronics Technology Instructor* Industrial Electrical Technology Instructor* Industrial Maintenance Instructor* Machine Tool Technician Instructor* Masonry Instructor* Massage Therapy Instructor* Mechanical Maintenance Instructor* Paralegal Instructor* Postsecondary Career and Technical Education Teacher* Residential Construction Instructor* Skin Care Instructor* Upholstery Instructor* Vocational Horticulture Instructor* Welding Instructor",
          "Career/technical education teachers, secondary school    * High School Auto Repair Teacher* High School Vocational Education Teacher",
          "Cartographers and photogrammetrists    * Cadastral Mapper* Digital Cartographer* Engineer, Photogrammetric* Map Maker* Mapper* Orthophotography Technician* Photo Cartographer* Photogrammetrist* Topographer",
          "Chemical engineers    * Absorption and Adsorption Engineer* Chemical Process Engineer* Chemical Research Engineer* Fuels Engineer* Oxidation Engineer* Plastics Engineer* Polymerization Engineer* Refinery Process Engineer",
          "Chemists    * Agricultural Chemist* Analytical Chemist* Bench Chemist* Food Chemist* Formulary Chemist* Industrial Chemist* Inorganic Chemist* Laboratory Chemist* Nuclear Chemist* Organic Chemist* Quality Control Chemist* Research and Development Chemist",
          "Chief executives    * CEO* COO* Chief Executive Officer* Chief Operating Officer* Commissioner of Internal Revenue* County Commissioner* Government Service Executive* Governor* Mayor",
          "Child, family, and school social workers    * C-CYFSW* Certified Children, Youth, and Family Social Worker* Child Abuse Worker* Child Protective Services Social Worker* Child Protective Services Specialist* Child Welfare Social Worker* Child Welfare Worker* Child and Family Services Worker* Family Preservation Caseworker* Family Preservation Worker* Family Service Caseworker* Foster Care Social Worker* Foster Care Worker* School Social Worker",
          "Civil engineers    * Architectural Engineer* Bridge Engineer* Civil Engineer* Construction Engineer* Facilities Engineer* Geotechnical Engineer* Highway Engineer* Hydrographic Engineer* Railroad Design Consultant* Research Hydraulic Engineer* Structural Engineer",
          "Clergy    * Cantor* Children's Pastor* College Chaplain* Hebrew Cantor* Hospital Chaplain* Imam* Minister* Parish Priest* Pastor* Priest* Rabbi* Reverend* Vicar* Youth Pastor",
          "Clinical laboratory technologists and technicians",
          "Coaches and scouts    * Athletic Coach* Baseball Coach* Baseball Scout* Basketball Coach* Boxing Trainer* Coach* Football Coach* Hockey Scout* Ice Skating Coach* Riding Coach* Ski Coach* Tennis Coach* Tennis Instructor",
          "Commercial and industrial designers    * Automobile Designer* Bank Note Designer* Bicycle Designer* Car Body Designer* Ceramic Designer* Ceramic Mold Designer* Furniture Designer* Package Designer* Rug Designer* Snowboard Designer* Textile Designer* Tile Designer* Toy Designer",
          "Community and social service specialists, all other    * Community Organization Worker* Veterans Service Officer",
          "Compensation and benefits managers    * Compensation Director* Employee Benefits Coordinator* Employee Benefits Director* Employee Benefits Manager* Wage and Salary Administrator",
          "Compensation, benefits, and job analysis specialists    * Benefits Analyst* Compensation Analyst* Compensation Specialist* Employee Benefits Specialist* Job Analyst* Job Specification Writer* Occupational Analyst* Pension Administrator* Position Classification Specialist* Retirement Plan Specialist",
          "Compliance officers    * Air Pollution Compliance Inspector* Compliance Investigator* Driver's License Examiner* EEO Officer* Environmental Compliance Inspector* Equal Employment Opportunity Investigator* Equal Employment Opportunity Officer* Equal Employment Opportunity Representative* Immigration Investigator* Inspector of Weights and Measures* License Inspector* Mortician Investigator* Wage and Hour Investigator",
          "Computer and information systems managers    * Application Development Director* Chief Technology Officer* Computer Operations Manager* Computer Security Manager* Data Operations Director* Data Processing Manager* Information Systems Director* Information Systems Manager* Information Technology Director* Information Technology Systems Director* Internet Technology Manager* MIS Director* Management Information Systems Director",
          "Computer hardware engineers    * Computer Hardware Designer* Computer Hardware Developer* Computer Hardware Engineer",
          "Computer network architects",
          "Computer occupations, all other",
          "Computer programmers",
          "Computer systems analysts",
          "Conservation scientists    * Conservation Science Officer* Conservation Scientist* Grassland Conservationist* Land Reclamation Specialist* Land Resource Specialist* Range Conservationist* Range Ecologist* Range Scientist* Resource Conservationist* Soil Conservationist* Water Conservationist",
          "Construction managers    * Construction Coordinator* Construction Superintendent* General Contractor* Masonry Contractor Administrator",
          "Cost estimators    * Construction Estimator* Construction Job Cost Estimator* Crating and Moving Estimator* Electrical Estimator* Job Estimator* Production Cost Estimator",
          "Credit analysts    * Chief Credit Analyst* Credit Analyst* Credit Assessment Analyst* Credit Risk Analyst* Factorer",
          "Credit counselors    * Credit Counselor* Debt Management Counselor* Financial Assistance Advisor* Loan Counselor",
          "Data scientists and mathematical science occupations, all other",
          "Database administrators and architects",
          "Designers, all other    * Memorial Marker Designer",
          "Dietitians and nutritionists    * Clinical Dietitian* Dietitian* Nutritionist* Pediatric Dietician* Public Health Dietitian* Public Health Nutritionist* Research Dietitian* Sports Nutritionist* Therapeutic Dietitian",
          "Directors, religious activities and education    * Campus Ministry Director* Christian Education Minister* Education Minister* Parish Religious Education Director* Religious Activities Director* Religious Education Coordinator* Religious Education Director* Student Ministries Director* Youth Ministry Director",
          "Editors    * Advertising Editor* Art Editor* Book Editor* Copy Desk Chief* Copy Editor* Index Editor* Manuscript Editor* Newspaper Photo Editor* Publications Editor* Rewrite Editor* Scientific Publications Editor* Sports Editor* Technical Editor",
          "Education administrators, all other",
          "Education and childcare administrators, preschool and daycare    * Childcare Center Administrator* Childcare Center Director* Early Head Start Director* Head Start Director* Prekindergarten Program Coordinator* Preschool Director",
          "Educational instruction and library workers, all other    * General Educational Development (GED) Examiner* Individualized Education Plan (IEP) Aide* Scholastic Aptitude Test (SAT) Grader",
          "Electrical engineers    * Electrical Design Engineer* Electrical Engineer* Electrical Systems Engineer* Illuminating Engineer* Power Distribution Engineer",
          "Electronics engineers, except computer    * Antenna Engineer* Circuit Design Engineer* Electronic Design Automation Engineer* Electronic Engineer* Electronic Parts Designer* Telecommunication Engineer",
          "Elementary school teachers, except special education    * 3rd Grade Reading Teacher* 4th Grade Math Teacher* Elementary School Band Director* Elementary School Teacher* Grades 1 Thru 5 Teacher",
          "Emergency management directors    * Director of Civil Defense* Disaster Response Director* EMS Director* Emergency Management System Director* Emergency Planner* Emergency Planning and Response Manager* Emergency Preparedness Coordinator* Emergency Services Director* Emergency Services Program Coordinator* Public Safety Director",
          "Engineers, all other    * Corrosion Control Engineer* Mathematical Engineer* Optical Engineer* Ordnance Engineer* Photonics Engineer* Salvage Engineer",
          "Environmental engineers    * Air Pollution Control Engineer* Environmental Engineer* Environmental Remediation Engineer* Hazardous Substances Engineer* Hazardous Waste Management Control Engineer* Pollution Control Engineer* Soil Engineer* Waste Management Engineer* Wastewater Treatment Engineer* Water Treatment Plant Engineer",
          "Environmental scientists and specialists, including health    * Ecological Modeler* Environmental Analyst* Environmental Scientist* Hazardous Substances Scientist* Health Environmentalist* Water Pollution Scientist* Water Quality Analyst",
          "Exercise physiologists    * Applied Exercise Physiologist* Clinical Exercise Physiologist* Kinesiotherapist",
          "Fashion designers    * Apparel Designer* Clothes Designer* Clothing Designer* Costume Designer* Custom Furrier* Dance Costume Designer* Dress Designer* Fashion Designer* Hat Designer* Sweater Designer* Uniform Designer",
          "Film and video editors    * Cue Selector* Electronic News Gathering Editor* Film Editor* Movie Editor* News Video Editor* News Videotape Editor* Tape Editor* Television News Video Editor* Video Tape Transferrer",
          "Financial and investment analysts, financial risk specialists, and financial specialists, all other",
          "Financial examiners    * Bank Compliance Officer* Bank Examiner* Financial Compliance Examiner* Home Mortgage Disclosure Act Specialist* Payroll Examiner* Pension Examiner",
          "Financial managers    * Banking Center Manager* Banking Manager* City Comptroller* City Treasurer* Comptroller* Credit Manager* Financial Director* Financial Officer* Fiscal Manager* International Bank Manager* Residential Mortgage Manager",
          "Fine artists, including painters, sculptors, and illustrators    * Book Illustrator* Caricature Artist* Comic Artist* Comic Book Artist* Comic Illustrator* Commercial Artist* Concrete Sculptor* Editorial Cartoonist* Fashion Illustrator* Free Lance Artist* Fresco Artist* Glass Artist* Ice Sculptor* Medical Illustrator* Mural Painter* Muralist* Non-Representational Metal Sculptor* Oil Painter* Pattern Illustrator* Political Cartoonist* Portrait Artist* Portrait Painter* Scientific Illustrator* Sketch Artist* Sports Cartoonist* Stained Glass Artist* Water Colorist* Watercolor Artist",
          "Fish and game wardens    * Conservation Enforcement Officer* Fish Warden* Fish and Game Warden* Fish and Wildlife Warden* Game Warden* Wildlife Control Agent* Wildlife Officer* Wildlife and Game Protector",
          "Food scientists and technologists    * Dairy Bacteriologist* Enologist* Food Preservation Scientist* Food Processing Scientist* Food Safety Scientist* Food Scientist* Food Technologist",
          "Forensic science technicians    * Ballistic Technician* Ballistician* Ballistics Expert* Crime Lab Technician* Crime Scene Technician* Criminalist Technician* Fingerprint Expert* Forensic Analyst* Forensic Science Technician* Handwriting Expert* Trace Evidence Technician* Wildlife Forensic Geneticist",
          "Foresters    * Environmental Protection Forester* Forest Ecologist* Forestry Scientist* Land Management Forester* Operations Forester* Resource Forester* Service Forester* Timber Management Specialist* Urban Forester",
          "Fundraisers    * Campaign Fundraiser* Donor Relations Officer* Fundraising Officer",
          "General and operations managers    * Department Store General Manager* General Manager* General Superintendent* Manufacturing Operations Manager* Operations Manager* Radio Station Manager* Television Station Manager",
          "Geographers    * Biogeographer* Economic Geographer* GIS Geographer* Geographer* Geomorphologist* Glaciologist* Physical Geographer* Political Geographer",
          "Geoscientists, except hydrologists and geographers    * Crystallographer* Development Geologist* Environmental Geologist* Exploration Geologist* Geochemist* Geodesist* Geologist* Geomagnetist* Geophysicist* Geoscientist* Mine Geologist* Mineralogist* Mining Production Geologist* Oceanographer* Oceanologist* Paleontologist* Petroleum Geologist* Petrologist* Research Geologist* Sedimentationist* Seismologist* Stratigrapher* Volcanologist",
          "Graphic designers    * Catalogue Illustrator* Graphic Artist* Graphic Designer* Visual Designer",
          "Health and safety engineers, except mining safety engineers and inspectors    * Fire Prevention Engineer* Fire Protection Engineer* Industrial Safety Engineer* Product Safety Engineer* Product Safety Test Engineer* System Safety Engineer",
          "Health education specialists    * Certified Diabetes Educator* Certified Health Education Specialist* Community Health Education Coordinator* Diabetes Educator* Health Education Specialist* Health Educator* Public Health Educator",
          "Human resources managers    * Employee Relations Manager* Job Analysis Manager* Labor Relations Director* Personnel Administrator* Personnel Director* Personnel Manager* Position Description Manager",
          "Human resources specialists    * Corporate Recruiter* Credentialing Coordinator* Employee Placement Specialist* Human Resources Generalist* Job Placement Officer* Job Placement Specialist* Job Recruiter* Personnel Coordinator* Personnel Officer* Personnel Recruiter* Personnel Specialist* Staffing Coordinator",
          "Hydrologists    * Hydrogeologist* Hydrologist* Isotope Hydrologist* Surface Hydrologist",
          "Industrial engineers    * Efficiency Engineer* Manufacturing Engineer* Packaging Engineer* Production Engineer",
          "Industrial production managers    * Industrial Production Manager* Manufacturing Director* Plant Chief* Plant Manager* Plant Superintendent* Production Control Manager",
          "Information security analysts",
          "Insurance underwriters    * Automobile and Property Underwriter* Bond Underwriter* Insurance Analyst* Insurance Underwriter* Insurance Writer* Underwriting Account Representative* Underwriting Service Representative",
          "Interior designers    * Certified Kitchen Designer* Furniture Arranger* Home Lighting Adviser* Interior Decorator* Interior Designer* Kitchen Designer* Kitchen and Bath Designer",
          "Interpreters and translators    * American Sign Language Interpreter* Court Interpreter* Deaf Interpreter* Diplomatic Interpreter* Language Translator* Translator",
          "Kindergarten teachers, except special education    * Bilingual Kindergarten Teacher* Kindergarten Teacher",
          "Labor relations specialists    * Employee Relations Specialist* Industrial Relations Analyst* Industrial Relations Specialist* Labor Relations Consultant* Labor Relations Representative* Union Representative",
          "Landscape architects    * Golf Course Architect* Golf Course Designer* Landscape Designer* Lanscape Architect",
          "Legislators    * City Alderman* City Council Member* Congressional Representative* Councilor* Legislator* Member of Congress* Selectman* Senator* Tribal Council Member",
          "Librarians and media collections specialists",
          "Life scientists, all other    * Life Science Taxonomist",
          "Loan officers    * Branch Lending Officer* Commercial Lender* Loan Analyst* Loan Officer* Loan Reviewer* Real Estate Loan Officer",
          "Logisticians    * Logistician* Logistics Analyst* Logistics Coordinator* Logistics Planner* Logistics Specialist",
          "Management analysts    * Business Analyst* Business Consultant* Business Management Analyst* Business Process Consultant* Clerical Methods Analyst* Commercial Specialist* Industrial Analyst* Management Analyst* Management Consultant* Records Management Analyst",
          "Marine engineers and naval architects    * Marine Architect* Marine Equipment Engineer* Marine Structural Designer* Naval Engineer* Ships Equipment Engineer",
          "Market research analysts and marketing specialists    * Market Research Analyst* Market Research Specialist* Marketing Analyst* Marketing Consultant* Marketing Forecaster* Marketing Specialist",
          "Marketing managers    * Internet Marketing Manager* Marketing Administrator* Marketing Director* VP Marketing",
          "Materials engineers    * Automotive Sheet Metal Engineer* Ceramic Engineer* Forensic Materials Engineer* Glass Science Engineer* Metallographer* Metallurgical Engineer* Metallurgist* Welding Engineer",
          "Materials scientists    * Materials Scientist* Metal Alloy Scientist* Plastics Scientist",
          "Mechanical engineers    * Auto Research Engineer* Combustion Engineer* Engine Designer* Heating and Cooling Systems Engineer* Mechanical Engineer* Tool Engineer* Tool and Die Engineer",
          "Medical and health services managers    * Clinic Director* Clinical Services Director* Emergency Medical Service Coordinator* Health Care Manager* Health Services Administrator* Health Services Director* Healthcare Administrator* Healthcare Manager* Hospice Director* Hospice Plan Administrator* Hospital Administrator* Hospital Director* Medical Director* Medical Records Administrator* Medical and Health Information Manager* Mental Health Program Manager* Nursing Home Manager* Nursing Service Director* Occupational Therapy Director* Public Health Administrator* Respiratory Therapy Director* Speech and Hearing Therapy Director* Wellness Director* Wellness Manager",
          "Meeting, convention, and event planners    * Certified Meeting Professional* Conference Organizer* Conference Planner* Conference Planning Manager* Conference Services Director* Conference Services Manager* Convention Planner* Convention Services Manager* Corporate Meeting Planner* Event Planner* Events Manager* Wedding Planner",
          "Microbiologists    * Bacteriologist* Clinical Microbiologist* Medical Microbiologist* Microbiological Analyst* Public Health Microbiologist* Quality Control Microbiologist* Virologist",
          "Middle school teachers, except special and career/technical education    * 7th Grade Social Studies Teacher* Junior High School Teacher* Middle School PE Teacher* Middle School Science Teacher",
          "Mining and geological engineers, including mining safety engineers    * Geophysical Engineer* Mineral Engineer* Mining Engineer* Seismic Engineer",
          "Museum technicians and conservators    * Art Conservator* Art Preparator* Conservation Technician* Ethnographic Materials Conservator* Museum Exhibit Technician* Objects Conservator* Paintings Conservator* Paper Conservator* Textile Conservator",
          "Music directors and composers    * Choir Director* Choirmaster* Chorus Master* Composer* Jingle Writer* Maestro* Music Adapter* Music Arranger* Music Copyist* Music Director* Music Minister* Music Pastor* Orchestra Conductor* Orchestra Director* Orchestrator* Songwriter",
          "Natural sciences managers    * Agricultural Research Director* Geochemical Manager* Geophysical Manager* Ocean Program Administrator",
          "Network and computer systems administrators",
          "News analysts, reporters, and journalists",
          "Nuclear engineers    * Atomic Process Engineer* Nuclear Engineer* Nuclear Radiation Engineer* Nuclear Steam Supply System Engineer* Radiation Engineer* Reactor Engineer* Reactor Projects Engineer",
          "Occupational health and safety specialists",
          "Operations research analysts    * Operations Analyst* Operations Research Analyst* Procedure Analyst* Process Analyst",
          "Personal financial advisors    * Certified Financial Planner* Estate Planner* Estate Planning Counselor* Financial Counselor* Individual Pension Adviser* Individual Pension Consultant* Personal Financial Advisor* Personal Financial Planner* Personal Investment Adviser",
          "Personal service managers, all other; entertainment and recreation managers, except gambling; and managers, all other",
          "Petroleum engineers    * Natural Gas Engineer* Oil Drilling Engineer* Oil Exploration Engineer* Oil Well Engineer* Petroleum Engineer",
          "Physical scientists, all other    * Physical Scientist",
          "Probation officers and correctional treatment specialists    * Correctional Treatment Specialist* Juvenile Probation Officer* Parole Agent* Parole Officer* Probation Officer",
          "Producers and directors    * Broadcast Producer* Casting Director* Film Maker* Independent Film Maker* Independent Video Producer* Motion Picture Director* Movie Producer* Music Video Director* Music Video Producer* News Production Supervisor* Newscast Director* Newscast Producer* On-Air Director* Pageant Director* Radio Producer* Radio Television Technical Director* Stage Manager* Television News Producer* Television Newscast Director* Television Producer* Television Program Director* Theater Company Producer* Video Producer",
          "Project management specialists and business operations specialists, all other",
          "Proofreaders and copy markers    * Braille Proofreader* Clerical Proofreader* Copy Reader* Editorial Assistant* Format Proofreader* Proofreader",
          "Property appraisers and assessors",
          "Public relations and fundraising managers",
          "Public relations specialists    * Environmental Communications Specialist* Lobbyist* Media Relations Specialist* Press Agent* Press Secretary* Public Affairs Officer* Public Relations Counselor* Public Relations Officer* Public Relations Representative* Publicist* Publicity Agent* Publicity Writer",
          "Purchasing managers    * Contract Administrator* Contracting Manager* Director of Strategic Sourcing* Procurement Manager* Purchasing Director* Purchasing Manager* Sourcing Manager",
          "Recreational therapists    * CTRS* Certified Recreational Therapist* Certified Therapeutic Recreation Specialist* Drama Therapist* Recreational Therapist* Therapeutic Recreation Specialist",
          "Registered nurses    * CCU Nurse* CNS* Clinical Nurse Specialist* Community Health Nurse* Coronary Care Unit Nurse* Emergency Room RN* Endoscopy Registered Nurse* Hospice Registered Nurse* Obstetrical Nurse* Oncology Registered Nurse* PACU Nurse* Pediatric Registered Nurse* Post-Anesthesia Care Unit Nurse* Psychiatric Nurse* RN* Registered Nurse* Triage Registered Nurse",
          "Religious workers, all other    * Buddhist Monk* Christian Science Nurse* Missionary* Mohel* Nun* Pastoral Worker* Prior* Sacristan* Sunday School Missionary* Traveling Missionary* Verger",
          "Sales engineers    * Aerospace Products Sales Engineer* Missile Navigation Systems Sales Engineer* Nuclear Equipment Sales Engineer",
          "Sales managers    * District Sales Manager* E-Commerce Director* Export Manager* Regional Sales Manager* Sales Account Manager* Sales Director* Territory Sales Manager",
          "Sales representatives, wholesale and manufacturing, technical and scientific products    * Chemical Sales Representative* Electroplating Sales Representative* Engineering Supplies Sales* Pharmaceutical Detailer* Pharmaceutical Sales Representative* Pharmaceutical Salesperson* Surgical Instruments Sales Representative* Wholesale Ultrasonic Equipment Salesperson",
          "Secondary school teachers, except special and career/technical education    * High School Biology Teacher* High School English Teacher* High School French Teacher* High School History Teacher* High School Math Teacher* High School Music Director* High School Teacher",
          "Securities, commodities, and financial services sales agents    * Commodities Broker* Commodity Trader* Equity Trader* Investment Banker* Municipal Bond Trader* Mutual Fund Sales Agent* Securities Trader* Stock Broker* Stock Trader",
          "Set and exhibit designers    * Scenic Designer* Set Decorator* Set Designer* Stage Scenery Designer* Theater Set Production Designer",
          "Social and community service managers    * Child Welfare Director* Community Service Director* Community Service Organization Director* Family Service Center Director* Neighborhood Service Center Director* Social Service Director* Social Services Director* Youth Program Director",
          "Social science research assistants    * City Planning Aide* Economic Research Assistant* Economist Research Assistant* Historian Research Assistant* Political Science Research Assistant* Psychologist Research Assistant* Sociology Research Assistant",
          "Social scientists and related workers, all other    * Behavioral Scientist* Demographer* Ethnologist* Etymologist* Linguist* Philologist* Social Scientist",
          "Social workers, all other    * Criminal Justice Social Worker* Forensic Social Worker* Sexual Assault Social Worker",
          "Software developers and software quality assurance analysts and testers",
          "Soil and plant scientists    * Agriculturist* Agronomist* Arboreal Scientist* Crop Nutrition Scientist* Floriculturist* Horticulturist* Plant Physiologist* Plant Scientist* Pomologist* Soil Fertility Extension Specialist* Soil Scientist* Viticulturist",
          "Special education teachers, all other    * Autism Tutor* Special Education Teacher for Adults with Disabilities",
          "Special education teachers, kindergarten and elementary school    * SED Elementary School Teacher* Severe Emotional Disorders Elementary School Teacher* Special Education Kindergarten Teacher",
          "Special education teachers, middle school",
          "Special education teachers, preschool    * Early Childhood Special Education Teacher* Early Childhood Special Educator* Pre-K Special Education Teacher* Pre-Kindergarten Special Education Teacher* Special Education Preschool Teacher",
          "Special education teachers, secondary school",
          "Special effects artists and animators    * 3D Animator* Animator* Multimedia Artist* Special Effects Artist",
          "Statistical assistants    * Actuarial Assistant* Actuary Clerk* Data Analysis Assistant* Statistical Clerk* Tariff Compiling Clerk",
          "Substance abuse, behavioral disorder, and mental health counselors",
          "Substitute teachers, short-term",
          "Surveyors    * City Surveyor* County Surveyor* Geodetic Surveyor* Geophysical Prospecting Surveyor* Land Surveyor* Mine Surveyor* Mineral Surveyor* Registered Land Surveyor* Topographical Surveyor",
          "Tax examiners and collectors, and revenue agents    * City Collector* Customs Appraiser* Income Tax Adjuster* Internal Revenue Agent* Internal Revenue Service Agent* Revenue Collector* Revenue Enforcement Agent* Tax Compliance Officer* Tax Compliance Representative* Tax Examiner* Tax Investigator* Tax Revenue Officer",
          "Teaching assistants, postsecondary",
          "Technical writers    * Assembly Instructions Writer* Documentation Writer* Engineering Writer* Handbook Writer* Medical Writer* Specifications Writer* Technical Communicator* Technical Writer",
          "Therapists, all other    * Art Therapist* Auriculotherapist* Educational Therapist* Hydrotherapist* Music Therapist* Peripatologist",
          "Training and development managers    * E-Learning Manager* Employee Development Director* Employee Development Manager* Labor Training Manager",
          "Training and development specialists    * Computer Training Specialist* Corporate Trainer* Employee Development Specialist* Job Training Specialist* Training Coordinator* Training Specialist* Workforce Development Specialist",
          "Tutors and teachers and instructors, all other",
          "Writers and authors    * Advertising Copy Writer* Advertising Copywriter* Author* Biographer* Copy Writer* Copywriter* Lyricist* Novelist* Playwright* Poet* Program Writer* Radio Script Writer* Screen Writer* Short Story Writer* Song Lyricist* Television Writer* Verse Writer",
          "Zoologists and wildlife biologists    * Aquatic Biologist* Entomologist* Fish Culturist* Fishery Biologist* Herpetologist* Ichthyologist* Lepidopterist* Marine Biologist* Migratory Game Bird Biologist* Ornithologist* Protozoologist* Wildlife Biologist"
         ],
         "legendgroup": "Bachelor's degree",
         "marker": {
          "color": "#636efa",
          "size": [
           3,
           3,
           3,
           3,
           3,
           3,
           3,
           3,
           3,
           3,
           3,
           3,
           3,
           3,
           3,
           3,
           3,
           3,
           3,
           3,
           3,
           3,
           3,
           3,
           3,
           3,
           3,
           3,
           3,
           3,
           3,
           3,
           3,
           3,
           3,
           3,
           3,
           3,
           3,
           3,
           3,
           3,
           3,
           3,
           3,
           3,
           3,
           3,
           3,
           3,
           3,
           3,
           3,
           3,
           3,
           3,
           3,
           3,
           3,
           3,
           3,
           3,
           3,
           3,
           3,
           3,
           3,
           3,
           3,
           3,
           3,
           3,
           3,
           3,
           3,
           3,
           3,
           3,
           3,
           3,
           3,
           3,
           3,
           3,
           3,
           3,
           3,
           3,
           3,
           3,
           3,
           3,
           3,
           3,
           3,
           3,
           3,
           3,
           3,
           3,
           3,
           3,
           3,
           3,
           3,
           3,
           3,
           3,
           3,
           3,
           3,
           3,
           3,
           3,
           3,
           3,
           3,
           3,
           3,
           3,
           3,
           3,
           3,
           3,
           3,
           3,
           3,
           3,
           3,
           3,
           3,
           3,
           3,
           3,
           3,
           3,
           3,
           3,
           3,
           3,
           3,
           3,
           3,
           3,
           3,
           3,
           3,
           3,
           3,
           3,
           3,
           3,
           3,
           3,
           3,
           3,
           3,
           3,
           3,
           3,
           3,
           3,
           3,
           3,
           3,
           3,
           3,
           3,
           3
          ],
          "sizemode": "area",
          "sizeref": 0.02,
          "symbol": "circle"
         },
         "mode": "markers",
         "name": "Bachelor's degree",
         "orientation": "v",
         "showlegend": true,
         "type": "scatter",
         "x": [
          "71,550",
          "108,350",
          "96,940",
          "54,350",
          "125,510",
          "116,500",
          "73,740",
          "80,720",
          "45,490",
          "147,220",
          "60,300",
          "63,930",
          "80,750",
          "144,830",
          "94,220",
          "48,440",
          "95,380",
          "91,410",
          "82,220",
          "45,860",
          "34,630",
          "76,540",
          "64,380",
          "55,160",
          "60,800",
          "54,620",
          "61,710",
          "65,470",
          "108,770",
          "77,630",
          "184,460",
          "47,390",
          "87,060",
          "50,400",
          "53,120",
          "34,840",
          "68,890",
          "43,790",
          "122,270",
          "64,560",
          "69,050",
          "146,360",
          "117,220",
          "112,690",
          "88,550",
          "86,550",
          "90,920",
          "62,660",
          "95,260",
          "65,250",
          "73,650",
          "45,950",
          "94,280",
          "93,750",
          "64,620",
          "61,270",
          "43,860",
          "61,370",
          "85,450",
          "48,210",
          "40,310",
          "98,530",
          "105,570",
          "59,670",
          "74,590",
          "99,040",
          "88,860",
          "71,360",
          "49,170",
          "73,790",
          "63,780",
          "81,590",
          "81,090",
          "129,890",
          "50,550",
          "57,500",
          "68,970",
          "59,150",
          "61,790",
          "57,970",
          "100,780",
          "81,540",
          "92,040",
          "52,110",
          "91,410",
          "55,220",
          "116,720",
          "61,920",
          "81,270",
          "88,020",
          "105,480",
          "99,730",
          "70,020",
          "56,040",
          "51,830",
          "56,850",
          "69,020",
          "69,360",
          "29,270",
          "59,500",
          "75,910",
          "63,270",
          "74,750",
          "85,260",
          "92,400",
          "63,790",
          "136,850",
          "93,360",
          "96,810",
          "88,430",
          "100,980",
          "50,600",
          "75,650",
          "59,660",
          "91,160",
          "44,430",
          "51,670",
          "129,100",
          "83,510",
          "46,270",
          "113,460",
          "74,100",
          "84,810",
          "87,850",
          "110,630",
          "137,720",
          "109,910",
          "54,290",
          "74,420",
          "73,570",
          "40,630",
          "57,010",
          "116,180",
          "61,150",
          "121,110",
          "48,220",
          "73,300",
          "31,630",
          "103,900",
          "126,640",
          "81,020",
          "61,660",
          "62,270",
          "54,600",
          "67,150",
          "47,510",
          "83,330",
          "61,230",
          "107,510",
          "63,200",
          "61,190",
          "60,460",
          "61,440",
          "60,000",
          "61,710",
          "75,270",
          "49,870",
          "46,240",
          "28,790",
          "63,420",
          "54,890",
          "32,080",
          "72,850",
          "52,650",
          "113,350",
          "61,210",
          "39,350",
          "63,200",
          "63,270"
         ],
         "xaxis": "x",
         "y": [
          4.3,
          17.6,
          6.5,
          -10.4,
          -1.1,
          2.8,
          11.8,
          1.6,
          1.8,
          2.8,
          5.5,
          7.7,
          0.8,
          2.6,
          -1.8,
          16.2,
          6.4,
          4.7,
          2.2,
          4.9,
          -5.3,
          3.4,
          -8.8,
          14,
          3.1,
          1.1,
          2.3,
          4.5,
          4.4,
          4.7,
          -10,
          11.7,
          1.7,
          4,
          7.3,
          11.8,
          -3.5,
          11.7,
          2.5,
          7.9,
          4.6,
          10.4,
          1.6,
          5,
          5.7,
          -9.4,
          7.4,
          5.1,
          8.5,
          -1.5,
          -4.8,
          7.6,
          30.9,
          9.7,
          -1.9,
          8,
          3.3,
          -7.3,
          8.1,
          1,
          4.4,
          4.6,
          1.4,
          3.5,
          4.5,
          1.3,
          3.1,
          7.8,
          11.3,
          -4.4,
          21.6,
          5.5,
          7.3,
          15.5,
          1,
          1.2,
          4.4,
          14.1,
          3.8,
          14.3,
          5.8,
          -1.2,
          4.9,
          -3.8,
          3.9,
          11.4,
          6.3,
          7,
          5.3,
          10.1,
          0.9,
          31.2,
          -6.2,
          -4.9,
          20,
          3.7,
          -6.8,
          -2.4,
          6.2,
          5,
          4.6,
          3.2,
          4.4,
          10.7,
          1.5,
          17.7,
          6.7,
          1.5,
          3.4,
          3.9,
          31.5,
          7.8,
          3.1,
          3.6,
          4.2,
          11.6,
          1.7,
          4.8,
          4.3,
          -11.2,
          -12.6,
          3.8,
          24.8,
          4.4,
          -1.8,
          3.2,
          -3,
          3.7,
          10,
          5.9,
          -2.7,
          2.9,
          9.2,
          7.2,
          2.6,
          8.3,
          7.2,
          3.2,
          6.3,
          3.5,
          4.1,
          3.8,
          3.7,
          1.2,
          17,
          5.8,
          0.8,
          5.1,
          21.5,
          6.8,
          8.5,
          2.9,
          2.6,
          8.3,
          3.2,
          4.1,
          6.4,
          24.7,
          2.6,
          1.6,
          -4.1,
          3.4,
          7.4,
          14.6,
          7.3,
          8.6,
          7.4,
          -2.3,
          3.9
         ],
         "yaxis": "y"
        },
        {
         "customdata": [
          [
           "None",
           -0.3
          ],
          [
           "None",
           5.2
          ],
          [
           "None",
           7.9
          ],
          [
           "None",
           5.6
          ],
          [
           "None",
           15.4
          ],
          [
           "None",
           13
          ],
          [
           "None",
           12.6
          ],
          [
           "None",
           14.1
          ],
          [
           "5 years or more",
           3.9
          ],
          [
           "Less than 5 years",
           3.7
          ],
          [
           "None",
           8
          ],
          [
           "None",
           4.6
          ],
          [
           "None",
           1.3
          ],
          [
           "None",
           -3.9
          ],
          [
           "None",
           21.5
          ],
          [
           "None",
           14.4
          ],
          [
           "None",
           2.6
          ],
          [
           "None",
           2.5
          ],
          [
           "5 years or more",
           5.9
          ],
          [
           "None",
           22.3
          ],
          [
           "None",
           3
          ],
          [
           "None",
           16.8
          ],
          [
           "None",
           13.7
          ],
          [
           "None",
           11.6
          ],
          [
           "None",
           52.4
          ],
          [
           "None",
           15.9
          ],
          [
           "None",
           16.9
          ],
          [
           "None",
           31.3
          ],
          [
           "None",
           6.1
          ],
          [
           "None",
           2.3
          ],
          [
           "None",
           10.3
          ],
          [
           "None",
           3.6
          ],
          [
           "None",
           24.9
          ],
          [
           "None",
           34.6
          ],
          [
           "None",
           -3.7
          ],
          [
           "None",
           11
          ]
         ],
         "hovertemplate": "<b>%{hovertext}</b><br><br>Typical Entry-Level Education=Master's degree<br>Median Annual Wage 2019=%{x}<br>Employment Percent Change, 2019-2029=%{customdata[1]}<br>Education Code=%{marker.size}<br>Work Experience in a Related Occupation=%{customdata[0]}<extra></extra>",
         "hovertext": [
          "Acupuncturists and healthcare diagnosing or treating practitioners, all other",
          "Anthropologists and archeologists    * Anthropologist* Applied Anthropologist* Archaeologist* Ethnoarchaeologist* Medical Anthropologist* Physical Anthropologist* Political Anthropologist* Research Anthropologist* Research Archaeologist",
          "Archivists    * Archivist* Digital Archivist* Film Archivist* Historical Records Administrator* Image Archivist* Museum Archivist* Processing Archivist* Reference Archivist* State Archivist",
          "Art, drama, and music teachers, postsecondary    * Ballet Professor* Graphic Design Professor* Music Professor* Photography Professor* Piano Performance and Pedagogy Professor* Piano Professor* Scene and Lighting Design Lecturer* Stagecraft Professor* Theatre Professor* Voice Professor",
          "Computer and information research scientists",
          "Counselors, all other    * AIDS Counselor* Anger Control Counselor* Grief Counselor* HIV Counselor* Sexual Assault Counselor",
          "Curators    * Collections Curator* Collections and Archives Director* Curator* Educational Institution Curator* Exhibitions and Collections Manager* Herbarium Curator* Museum Curator* Photography and Prints Curator",
          "Economists    * Agricultural Economist* Econometrician* Economic Development Specialist* Economic Research Analyst* Economist* Environmental Economist* Industrial Economist* Labor Economist* Price Economist* Social Economist* Tax Economist* Trade Economist",
          "Education administrators, kindergarten through secondary    * Elementary School Principal* High School Principal* Junior High School Principal* K-12 School Principal* K-8 School Principal* Middle School Principal* Secondary School Principal",
          "Education administrators, postsecondary    * Adult Basic Education Manager* Continuing Education Director* Graduate School Dean* Graduate Studies Dean* Provost* University Administrator* University Dean",
          "Educational, guidance, and career counselors and advisors    * Career Counselor* Career Technical Counselor* Education Counselor* International Student Counselor* School Adjustment Counselor* School Guidance Counselor* Student Advisor* Student Development Advisor* Student Services Counselor* Student Success Counselor* Study Abroad Advisor* Vocational Adviser",
          "Epidemiologists    * Clinical Epidemiologist* Communicable Disease Specialist* Environmental Epidemiologist* Epidemiology Investigator* Malariologist* Medical Epidemiologist* Pharmacoepidemiologist",
          "Family and consumer sciences teachers, postsecondary    * Family Resource Management Professor* Family and Consumer Sciences Professor* Home and Family Living Professor* Weaving Professor",
          "Farm and home management educators    * 4-H Youth Development Specialist* Agricultural Agent* Agricultural Extension Educator* Extension Service Advisor* Family Resource Management Specialist* Family and Consumer Sciences Extension Agent* Farm Business Management Agent* Farm Management Specialist* Feed Management Advisor* Home Economics Expert",
          "Genetic counselors    * Certified Genetic Counselor* Chromosomal Disorders Counselor* Genetic Counselor* Mitochondrial Disorders Counselor* Prenatal Genetic Counselor",
          "Healthcare social workers    * AIDS Social Worker* C-SWHC* Certified Social Workers In Health Care* Healthcare Social Worker* Hospice Home Care Social Worker* Hospice Social Worker* Hospital Social Worker* Medical Social Worker* Neonatal Social Worker* Nephrology Social Worker* Oncology Social Worker* Pediatric Social Worker* Public Health Social Worker* Renal Social Worker",
          "Historians    * Genealogist* Historiographer* Protohistorian",
          "Industrial-organizational psychologists    * Engineering Psychologist* Human Resources Psychologist* I/O Psychologist* Industrial Psychologist* Management Psychologist* Organizational Psychologist* Organizational Research Consultant* Personnel Research Psychologist",
          "Instructional coordinators    * Curriculum Coordinator* Curriculum Designer* Curriculum Specialist* Curriculum and Assessment Director* Curriculum and Instruction Director* Instructional Coordinator* Instructional Materials Director* School Curriculum Developer* Special Education Curriculum Specialist",
          "Marriage and family therapists    * Child and Family Counselor* Couples Therapist* Family Counselor* Family Therapist* Marriage Counselor* Marriage Therapist* Relationship Counselor",
          "Mathematicians    * Algebraist* Cipher Expert* Cryptanalyst* Cryptographer* Cryptographic Vulnerability Analyst* Geometrician* Mathematician",
          "Mental health and substance abuse social workers    * Community Mental Health Social Worker* Drug Abuse Social Worker* Psychiatric Social Worker* Psychotherapist Social Worker",
          "Nurse anesthetists    * Certified Registered Nurse Anesthetist* Certified Registered Nurse Anesthetist (CRNA)* DNAP* Doctor of Nurse Anesthesia Practice* Nurse Anesthetist",
          "Nurse midwives    * Certified Nurse Midwife* Certified Nurse Midwife (CNM)",
          "Nurse practitioners    * Acute Care Nurse Practitioner* Adult Nurse Practitioner* Cardiology Nurse Practitioner* Certified Nurse Practitioner* Certified Pediatric Nurse Practitioner* Certified Registered Nurse Practitioner* Dermatology Nurse Practitioner* Electrophysiology Nurse Practitioner* Emergency Medicine Nurse Practitioner* Family Health Nurse Practitioner* Family Practice Nurse Practitioner* Gastroenterology Nurse Practitioner* Gerontological Nurse Practitioner* Internal Medicine Nurse Practitioner* NP* Neurosurgical Nurse Practitioner* Nurse Practitioner* Obstetrics-Gynecology Nurse Practitioner* Orthopedic Nurse Practitioner* Palliative Care Nurse Practitioner* Pediatric Nurse Practitioner* Surgical Nurse Practitioner",
          "Occupational therapists    * OT* Occupational Therapist* Registered Occupational Therapist",
          "Orthotists and prosthetists    * American Board Certified Orthotist* Artificial Limb Fitter* Certified Orthotic Fitter* Certified Prosthetist/Orthotist* Licensed Prosthetist* Orthotic/Prosthetic Practitioner* Orthotist* Pedorthist* Prosthetist",
          "Physician assistants    * Anesthesiologist Assistant* Certified Physician's Assistant* Family Practice Physician Assistant* Orthopaedic Physician Assistant* Orthopedic Physician Assistant* Pediatric Physician Assistant* Radiology Practitioner Assistant* Surgical Physician Assistant",
          "Political scientists    * Government Affairs Researcher* Government Affairs Specialist* Local Governance and Citizen Participation Specialist* Political Consultant* Political Research Scientist* Political Researcher",
          "Psychologists, all other    * Developmental Psychologist* Experimental Psychologist* Forensic Psychologist* Neuropsychologist* Psychometrist* Psychotherapist* Rehabilitation Psychologist* Social Psychologist* Sports Psychologist",
          "Rehabilitation counselors    * Certified Rehabilitation Counselor* Coordinator of Rehabilitation Services* Psychosocial Rehabilitation Counselor* Rehabilitation Counselor* Veterans Rehabilitation Counselor* Vocational Rehabilitation Counselor",
          "Sociologists    * Criminologist* Family Sociologist* Penologist* Rural Sociologist* Sociologist* Urban Sociologist",
          "Speech-language pathologists    * Language Pathologist* Public School Speech Clinician* Public School Speech Therapist* Speech Clinician* Speech Pathologist* Speech Therapist* Speech and Language Specialist",
          "Statisticians    * Analytical Statistician* Applied Statistician* Biometrician* Biostatistician* Environmental Statistician* Mathematical Statistician* Research Biostatistician* Sampling Expert* Statistical Analyst* Statistical Reporting Analyst* Statistician* Survey Statistician* Time Study Statistician",
          "Survey researchers    * Pollster* Survey Methodologist* Survey Questionnaire Designer* Survey Researcher",
          "Urban and regional planners    * City Planner* Community Development Planner* Regional Planner* Urban Planner"
         ],
         "legendgroup": "Master's degree",
         "marker": {
          "color": "#EF553B",
          "size": [
           2,
           2,
           2,
           2,
           2,
           2,
           2,
           2,
           2,
           2,
           2,
           2,
           2,
           2,
           2,
           2,
           2,
           2,
           2,
           2,
           2,
           2,
           2,
           2,
           2,
           2,
           2,
           2,
           2,
           2,
           2,
           2,
           2,
           2,
           2,
           2
          ],
          "sizemode": "area",
          "sizeref": 0.02,
          "symbol": "circle"
         },
         "mode": "markers",
         "name": "Master's degree",
         "orientation": "v",
         "showlegend": true,
         "type": "scatter",
         "x": [
          "75,640",
          "63,670",
          "53,950",
          "69,530",
          "122,840",
          "42,930",
          "54,570",
          "105,020",
          "96,400",
          "95,410",
          "57,040",
          "70,990",
          "76,480",
          "49,710",
          "81,880",
          "56,750",
          "63,680",
          "92,880",
          "66,290",
          "49,610",
          "105,030",
          "46,650",
          "174,790",
          "105,030",
          "109,820",
          "84,950",
          "68,410",
          "112,260",
          "122,220",
          "101,790",
          "35,950",
          "83,420",
          "79,120",
          "91,160",
          "59,170",
          "74,350"
         ],
         "xaxis": "x",
         "y": [
          -0.3,
          5.2,
          7.9,
          5.6,
          15.4,
          13,
          12.6,
          14.1,
          3.9,
          3.7,
          8,
          4.6,
          1.3,
          -3.9,
          21.5,
          14.4,
          2.6,
          2.5,
          5.9,
          22.3,
          3,
          16.8,
          13.7,
          11.6,
          52.4,
          15.9,
          16.9,
          31.3,
          6.1,
          2.3,
          10.3,
          3.6,
          24.9,
          34.6,
          -3.7,
          11
         ],
         "yaxis": "y"
        },
        {
         "customdata": [
          [
           "None",
           -1.8
          ],
          [
           "None",
           -6.5
          ],
          [
           "Less than 5 years",
           5.4
          ],
          [
           "None",
           4.4
          ],
          [
           "None",
           -17.4
          ],
          [
           "None",
           6.1
          ],
          [
           "None",
           9.4
          ],
          [
           "None",
           -3.2
          ],
          [
           "None",
           22.9
          ],
          [
           "None",
           6.5
          ],
          [
           "None",
           13.3
          ],
          [
           "None",
           2.9
          ],
          [
           "None",
           -0.4
          ],
          [
           "None",
           5.3
          ],
          [
           "None",
           -0.3
          ],
          [
           "None",
           4.9
          ],
          [
           "None",
           -6.4
          ],
          [
           "None",
           1.9
          ],
          [
           "None",
           0.9
          ],
          [
           "None",
           -6.4
          ],
          [
           "None",
           1.3
          ],
          [
           "None",
           3.8
          ],
          [
           "None",
           3.4
          ],
          [
           "None",
           9.3
          ],
          [
           "None",
           -2.9
          ],
          [
           "None",
           2.6
          ],
          [
           "None",
           5.5
          ],
          [
           "None",
           -0.4
          ],
          [
           "5 years or more",
           6.4
          ],
          [
           "None",
           1.7
          ],
          [
           "None",
           -3.1
          ],
          [
           "None",
           1.7
          ],
          [
           "5 years or more",
           14
          ],
          [
           "None",
           -6.4
          ],
          [
           "None",
           1.4
          ],
          [
           "None",
           1.7
          ],
          [
           "None",
           -18.7
          ],
          [
           "None",
           -2
          ],
          [
           "None",
           9.1
          ],
          [
           "None",
           9.1
          ],
          [
           "None",
           15.2
          ],
          [
           "None",
           -7
          ],
          [
           "None",
           6.7
          ],
          [
           "5 years or more",
           3.2
          ],
          [
           "None",
           0.2
          ],
          [
           "None",
           3.8
          ],
          [
           "None",
           -7.5
          ],
          [
           "None",
           -3.2
          ],
          [
           "None",
           4.7
          ],
          [
           "None",
           -2.2
          ],
          [
           "None",
           4.8
          ],
          [
           "Less than 5 years",
           1.7
          ],
          [
           "None",
           -4.8
          ],
          [
           "None",
           15.7
          ],
          [
           "None",
           -5.7
          ],
          [
           "None",
           -2
          ],
          [
           "None",
           -4.8
          ],
          [
           "None",
           -8.3
          ],
          [
           "None",
           -24.6
          ],
          [
           "None",
           9.4
          ],
          [
           "Less than 5 years",
           1.1
          ],
          [
           "None",
           -0.9
          ],
          [
           "None",
           4.5
          ],
          [
           "None",
           -19
          ],
          [
           "None",
           3
          ],
          [
           "Less than 5 years",
           7.8
          ],
          [
           "Less than 5 years",
           4.1
          ],
          [
           "None",
           1.7
          ],
          [
           "None",
           1.4
          ],
          [
           "None",
           8.4
          ],
          [
           "None",
           -23.2
          ],
          [
           "None",
           6.6
          ],
          [
           "None",
           3.8
          ],
          [
           "None",
           -15.2
          ],
          [
           "None",
           6.2
          ],
          [
           "None",
           -4.6
          ],
          [
           "Less than 5 years",
           2.9
          ],
          [
           "Less than 5 years",
           -20.4
          ],
          [
           "None",
           15.4
          ],
          [
           "None",
           -10.5
          ],
          [
           "None",
           -6.4
          ],
          [
           "None",
           -3.1
          ],
          [
           "None",
           -11.4
          ],
          [
           "None",
           -16.7
          ],
          [
           "None",
           1.3
          ],
          [
           "5 years or more",
           -6.5
          ],
          [
           "None",
           -5.3
          ],
          [
           "None",
           -14.6
          ],
          [
           "None",
           8.6
          ],
          [
           "5 years or more",
           4.8
          ],
          [
           "Less than 5 years",
           -7.8
          ],
          [
           "Less than 5 years",
           -1.1
          ],
          [
           "Less than 5 years",
           5.9
          ],
          [
           "Less than 5 years",
           16.4
          ],
          [
           "Less than 5 years",
           8.4
          ],
          [
           "Less than 5 years",
           11.4
          ],
          [
           "Less than 5 years",
           2.7
          ],
          [
           "Less than 5 years",
           -8.3
          ],
          [
           "Less than 5 years",
           -3
          ],
          [
           "Less than 5 years",
           11.2
          ],
          [
           "Less than 5 years",
           5.2
          ],
          [
           "Less than 5 years",
           -0.3
          ],
          [
           "Less than 5 years",
           -5.5
          ],
          [
           "Less than 5 years",
           5.1
          ],
          [
           "Less than 5 years",
           17.3
          ],
          [
           "None",
           -20.1
          ],
          [
           "None",
           1.3
          ],
          [
           "None",
           0.5
          ],
          [
           "Less than 5 years",
           0.6
          ],
          [
           "None",
           -0.5
          ],
          [
           "Less than 5 years",
           24.3
          ],
          [
           "None",
           -21.1
          ],
          [
           "None",
           -5.8
          ],
          [
           "None",
           -2.9
          ],
          [
           "None",
           -0.7
          ],
          [
           "None",
           -3.7
          ],
          [
           "None",
           3.7
          ],
          [
           "None",
           5.7
          ],
          [
           "None",
           7.7
          ],
          [
           "Less than 5 years",
           8.8
          ],
          [
           "None",
           6.5
          ],
          [
           "Less than 5 years",
           5.6
          ],
          [
           "None",
           -2.1
          ],
          [
           "None",
           -5.6
          ],
          [
           "None",
           3.9
          ],
          [
           "None",
           -8.2
          ],
          [
           "None",
           8.2
          ],
          [
           "None",
           6.9
          ],
          [
           "None",
           10.5
          ],
          [
           "None",
           -10.3
          ],
          [
           "None",
           1.5
          ],
          [
           "None",
           20.2
          ],
          [
           "None",
           4.4
          ],
          [
           "None",
           5.6
          ],
          [
           "None",
           6.8
          ],
          [
           "None",
           5
          ],
          [
           "None",
           -6.9
          ],
          [
           "None",
           33.7
          ],
          [
           "None",
           -6.9
          ],
          [
           "None",
           15.6
          ],
          [
           "None",
           3
          ],
          [
           "None",
           -17
          ],
          [
           "None",
           2.5
          ],
          [
           "None",
           4.5
          ],
          [
           "None",
           -2.2
          ],
          [
           "None",
           5.5
          ],
          [
           "None",
           2.5
          ],
          [
           "None",
           -10
          ],
          [
           "None",
           -10.1
          ],
          [
           "None",
           -10.2
          ],
          [
           "None",
           -22.1
          ],
          [
           "None",
           -3.8
          ],
          [
           "None",
           5.9
          ],
          [
           "None",
           4.9
          ],
          [
           "None",
           8.3
          ],
          [
           "None",
           8.1
          ],
          [
           "None",
           -7.5
          ],
          [
           "Less than 5 years",
           -3.5
          ],
          [
           "Less than 5 years",
           -11.7
          ],
          [
           "None",
           -11.4
          ],
          [
           "None",
           -12.5
          ],
          [
           "None",
           -14.5
          ],
          [
           "None",
           4.2
          ],
          [
           "None",
           -6.7
          ],
          [
           "None",
           4.2
          ],
          [
           "None",
           6.1
          ],
          [
           "None",
           -22.3
          ],
          [
           "None",
           3.6
          ],
          [
           "None",
           8.1
          ],
          [
           "None",
           11.5
          ],
          [
           "None",
           5.9
          ],
          [
           "None",
           9.5
          ],
          [
           "None",
           -3.4
          ],
          [
           "None",
           -8.6
          ],
          [
           "None",
           0
          ],
          [
           "None",
           -11.5
          ],
          [
           "None",
           -18.6
          ],
          [
           "None",
           6.9
          ],
          [
           "None",
           -12.8
          ],
          [
           "None",
           4.3
          ],
          [
           "Less than 5 years",
           1.6
          ],
          [
           "None",
           1.2
          ],
          [
           "None",
           0.7
          ],
          [
           "None",
           -8.2
          ],
          [
           "None",
           -0.2
          ],
          [
           "None",
           -6.1
          ],
          [
           "None",
           -9.6
          ],
          [
           "None",
           0.8
          ],
          [
           "None",
           2.1
          ],
          [
           "None",
           -7.1
          ],
          [
           "None",
           -14.7
          ],
          [
           "None",
           -35.7
          ],
          [
           "None",
           4.8
          ],
          [
           "None",
           19.9
          ],
          [
           "None",
           4
          ],
          [
           "None",
           -5
          ],
          [
           "None",
           -13.1
          ],
          [
           "None",
           4
          ],
          [
           "None",
           7.6
          ],
          [
           "None",
           4
          ],
          [
           "None",
           5
          ],
          [
           "None",
           3.8
          ],
          [
           "None",
           1.4
          ],
          [
           "None",
           -5.7
          ],
          [
           "None",
           -36.2
          ],
          [
           "None",
           4.4
          ],
          [
           "None",
           -8.4
          ],
          [
           "None",
           -4.7
          ],
          [
           "None",
           4.7
          ],
          [
           "None",
           -4.5
          ],
          [
           "None",
           8.5
          ],
          [
           "None",
           8.3
          ],
          [
           "None",
           -0.5
          ],
          [
           "None",
           -15.7
          ],
          [
           "None",
           3.6
          ],
          [
           "None",
           -3.6
          ],
          [
           "None",
           -19.4
          ],
          [
           "None",
           21.3
          ],
          [
           "None",
           4.4
          ],
          [
           "None",
           0
          ],
          [
           "None",
           -8.8
          ],
          [
           "None",
           4.3
          ],
          [
           "None",
           5.7
          ],
          [
           "None",
           -13.5
          ],
          [
           "None",
           -13.5
          ],
          [
           "None",
           -17.8
          ],
          [
           "Less than 5 years",
           -21.9
          ],
          [
           "None",
           -8.6
          ],
          [
           "None",
           -7.7
          ],
          [
           "None",
           -15.1
          ],
          [
           "None",
           3.3
          ],
          [
           "None",
           -14.8
          ],
          [
           "None",
           -13.3
          ],
          [
           "Less than 5 years",
           8.3
          ],
          [
           "None",
           -7.5
          ],
          [
           "None",
           2.1
          ],
          [
           "None",
           3.9
          ],
          [
           "Less than 5 years",
           0.2
          ],
          [
           "None",
           10.9
          ],
          [
           "None",
           6.2
          ],
          [
           "None",
           9.7
          ],
          [
           "None",
           -3.2
          ],
          [
           "None",
           -4.7
          ],
          [
           "None",
           -6.8
          ],
          [
           "None",
           3.4
          ],
          [
           "None",
           -5.5
          ],
          [
           "None",
           -2.1
          ],
          [
           "Less than 5 years",
           2.6
          ],
          [
           "None",
           2.3
          ],
          [
           "None",
           3.6
          ],
          [
           "None",
           10
          ],
          [
           "None",
           5.1
          ],
          [
           "None",
           -19.3
          ],
          [
           "None",
           5
          ],
          [
           "None",
           -2.9
          ],
          [
           "None",
           11.8
          ],
          [
           "None",
           4.6
          ],
          [
           "None",
           -11.3
          ],
          [
           "None",
           -16
          ],
          [
           "None",
           1.9
          ],
          [
           "None",
           6
          ],
          [
           "None",
           0.9
          ],
          [
           "None",
           -6.9
          ],
          [
           "None",
           4.3
          ],
          [
           "None",
           -10.1
          ],
          [
           "None",
           10.3
          ],
          [
           "None",
           2.8
          ],
          [
           "Less than 5 years",
           10.3
          ],
          [
           "None",
           0.7
          ],
          [
           "None",
           3.5
          ],
          [
           "None",
           10.1
          ],
          [
           "None",
           1.3
          ],
          [
           "None",
           -8.7
          ],
          [
           "None",
           -10.3
          ],
          [
           "None",
           -14.5
          ],
          [
           "None",
           -0.7
          ],
          [
           "None",
           16.8
          ],
          [
           "None",
           50.5
          ],
          [
           "None",
           2.2
          ],
          [
           "None",
           0.7
          ],
          [
           "None",
           -3.2
          ],
          [
           "None",
           4.7
          ],
          [
           "None",
           -16
          ],
          [
           "None",
           5.3
          ],
          [
           "None",
           0.7
          ],
          [
           "None",
           -22.5
          ],
          [
           "None",
           -0.6
          ],
          [
           "None",
           -1.6
          ],
          [
           "None",
           -27.9
          ],
          [
           "None",
           -15.3
          ],
          [
           "None",
           -10.3
          ],
          [
           "None",
           -11.9
          ],
          [
           "None",
           -10.5
          ],
          [
           "None",
           -12.8
          ],
          [
           "None",
           -9.7
          ],
          [
           "None",
           -4.9
          ],
          [
           "None",
           -22.3
          ],
          [
           "None",
           0.5
          ],
          [
           "None",
           2.3
          ],
          [
           "None",
           -2.6
          ],
          [
           "None",
           -4.8
          ],
          [
           "None",
           5.4
          ],
          [
           "None",
           6
          ],
          [
           "None",
           4
          ],
          [
           "None",
           2.4
          ],
          [
           "None",
           -3.1
          ],
          [
           "5 years or more",
           3.5
          ],
          [
           "None",
           -25.9
          ],
          [
           "None",
           10.7
          ],
          [
           "None",
           8
          ],
          [
           "None",
           9.3
          ],
          [
           "None",
           -4
          ],
          [
           "None",
           15.8
          ],
          [
           "None",
           -32.3
          ],
          [
           "None",
           -4.2
          ],
          [
           "None",
           5.1
          ],
          [
           "None",
           3.1
          ],
          [
           "None",
           -6.8
          ],
          [
           "Less than 5 years",
           4.2
          ],
          [
           "None",
           -4.6
          ],
          [
           "None",
           -2.4
          ],
          [
           "None",
           -36.4
          ]
         ],
         "hovertemplate": "<b>%{hovertext}</b><br><br>Typical Entry-Level Education=High school diploma or equivalent<br>Median Annual Wage 2019=%{x}<br>Employment Percent Change, 2019-2029=%{customdata[1]}<br>Education Code=%{marker.size}<br>Work Experience in a Related Occupation=%{customdata[0]}<extra></extra>",
         "hovertext": [
          "Adhesive bonding machine operators and tenders    * Glue Line Operator* Glue Machine Operator* Glue Reel Operator* Paper Gluing Operator",
          "Advertising sales agents    * Advertising Account Executive* Advertising Agent* Advertising Solicitor* Display Advertising Sales Representative* Inside Sales Advertising Executive* Outside Sales Advertising Executive* Radio Time Salesperson* Signs and Displays Salesperson* Yellow Pages Space Salesperson",
          "Aircraft cargo handling supervisors",
          "Aircraft service attendants and transportation workers, all other",
          "Aircraft structure, surfaces, rigging, and systems assemblers    * Aircraft De-Icer Installer* Aircraft Fuselage Framer* Aircraft Layout Worker* Aircraft Line Assembler* Aircraft Part Assembler* Aircraft Riveter* Aircraft Sheet Metal Mechanic* Helicopter Airframe Mechanic* Propeller Layout Worker* Wing Coverer",
          "Airfield operations specialists    * Aviation Operations Specialist* Flight Operations Coordinator",
          "Ambulance drivers and attendants, except emergency medical technicians    * Ambulance Attendant* Emergency Medical Services (EMS) Driver* Emergency Medical Services Driver",
          "Animal breeders    * Animal Breeder* Cat Breeder* Dairy Husbandry Worker* Dog Breeder* Equine Breeder* Horse Breeder* Livestock Breeder* Poultry Inseminator* Stallion Manager",
          "Animal caretakers    * Animal Care Giver* Animal Care Technician* Animal Caregiver* Animal Daycare Provider* Animal Groomer* Animal Shelter Worker* Animal Sitter* Aquarist* Aquarium Tank Attendant* Cat and Dog Bather* Dog Bather* Dog Beautician* Dog Groomer* Dog Sitter* Horse Exerciser* Kennel Aide* Kennel Attendant* Kennel Helper* Kennel Worker* Pet Feeder* Pet Groomer* Pet Sitter* Pet Stylist* Zookeeper",
          "Animal control workers    * Animal Control Officer* Animal Cruelty Investigator* Animal Treatment Investigator* Animal Warden* Dog Catcher* Dog Warden* Humane Officer",
          "Animal trainers    * Animal Trainer* Dog Handler* Dog Trainer* Dolphin Trainer* Guide Dog Instructor* Guide Dog Mobility Instructor* Guide Dog Trainer* Horse Breaker* Licensed Guide Dog Instructor* Lion Trainer* Marine Mammal Trainer* Seeing Eye Dog Trainer",
          "Automotive body and related repairers    * Auto Body Customizer* Auto Body Technician* Auto Body Worker* Auto Bumper Straightener* Body Shop Worker* Body and Frame Technician* Car Refinisher* Truck Body Repairer* Vehicle Body Sander",
          "Automotive glass installers and repairers    * Auto Glass Installer* Auto Glass Mechanic* Automotive Glass Technician* Automotive Glazier* Windshield Installer* Windshield Repair Technician",
          "Baggage porters and bellhops    * Baggage Porter* Bell Staff* Bellperson* Bellstaff* Hotel Baggage Handler* Luggage Attendant* Redcap* Skycap",
          "Bailiffs    * Bailiff* City Bailiff* County Bailiff* Court Bailiff* Court Officer* Court Security Officer* Deputy Bailiff",
          "Bicycle repairers    * Bicycle Mechanic* Bicycle Repairer* Bicycle Service Technician* Bike Mechanic",
          "Bill and account collectors    * Accounts Collector* Bill Collector* Billing Representative* Collection Agent* Collections Clerk* Collections Representative* Debt Collector* Installment Agent* Installment Loan Collector* Insurance Collector* Payment Collector* Repossessor",
          "Billing and posting clerks    * Billing Clerk* Invoice Clerk* Invoice Control Clerk* Patient Account Representative* Posting Clerk* Statement Clerk* Statement Distribution Clerk* Statement Processor",
          "Boilermakers    * Boiler Fitter* Boiler Installer* Boiler Mechanic* Boiler Setter* Boiler Tester* Boilermaker* Boilermaker Mechanic",
          "Brickmasons and blockmasons    * Adobe Layer* Block Layer* Blockmason* Brick Chimney Builder* Brick Setter* Bricklayer* Brickmason* Brickmason Apprentice* Firebrick Layer* Furnace Mason* Pottery Kiln Builder* Refractory Bricklayer",
          "Bridge and lock tenders    * Bridge Operator* Bridge Tender* Dam Tender* Lighthouse Keeper* Lock and Dam Operator",
          "Brokerage clerks    * Brokerage Clerk* Brokerage Purchase-and-Sale Clerk* Commodities Clerk* Dividend Clerk* Securities Clerk",
          "Bus and truck mechanics and diesel engine specialists    * Biodiesel Engine Specialist* Diesel Engine Fitter* Diesel Service Technician* Marine Diesel Technician* School Bus Mechanic* Tractor Trailer Mechanic* Truck Engine Technician",
          "Bus drivers, transit and intercity",
          "Cabinetmakers and bench carpenters    * Cabinet Builder* Cabinetmaker* Marquetry Worker* Wood Furniture Assembler* Wood Working Assembler",
          "Camera and photographic equipment repairers    * Aircraft Photographic Equipment Repairer* Camera Machinist* Camera Repair Technician* Camera Repairer* Photographic Equipment Technician",
          "Cargo and freight agents    * Cargo Agent* Cargo Router* Freight Agent* Freight Shipping Agent* Ramp Service Agent",
          "Carpenters    * Beam Builder* Building Carpenter* Construction Carpenter* Counter Installer* Custom Wood Stair Builder* Finish Carpenter* Hardwood Floor Installer* House Carpenter* Wood Floor Layer",
          "Chefs and head cooks    * Banquet Chef* Chef De Cuisine* Chef De Froid* Executive Chef* Head Chef* Kitchen Chef* Master Chef* Pastry Chef* Sous Chef* Sushi Chef",
          "Chemical equipment operators and tenders    * Acid Purification Equipment Operator* Chemical Machine Tender* Chemical Process Equipment Operator* Chemical Processor* Chemical Treatment Operator",
          "Chemical plant and system operators    * Chemical Plant Operator* Chemical Treatment Plant Technician* Nitric Acid Plant Operator* Nitrogen Operator* Pharmaceutical Manufacturing Machine Operator",
          "Childcare workers    * Au Pair* Baby Sitter* Before and After School Daycare Worker* Childcare Aide* Childcare Attendant* Childcare Worker* Day Care Attendant* Day Care Worker* Daycare Aide* Daycare Provider* Governess* Nanny* Nursery Day Care Worker* Playground Aide",
          "Choreographers    * Choreographer* Dance Director* Dance Master",
          "Claims adjusters, examiners, and investigators    * Claims Analyst* Fire Claims Adjuster* Health Claims Examiner* Health Insurance Adjuster* Independent Insurance Adjuster* Medical Claims Analyst* Medical Claims Examiner* Property Damage Claims Adjustor* Property and Casualty Insurance Claims Examiner* Reinsurance Claims Analyst* Workers Compensation Claims Adjuster* Workers Compensation Claims Examiner",
          "Cleaning, washing, and metal pickling equipment operators and tenders    * Acid Dipper* Bottle Washing Machine Operator* Degreaser Operator* Glass Cleaning Machine Tender* Immersion Metal Cleaner* Metal Pickling Equipment Operator* Pickle House Operator",
          "Coating, painting, and spraying machine setters, operators, and tenders",
          "Coil winders, tapers, and finishers    * Coil Builder* Coil Former* Coil Winder* Motor Rewinder* Motor Winder* Multiple Coil Winder* Rotor Coil Taper* Wire Coiler* Wire Winder* Wire Winding Machine Tender",
          "Coin, vending, and amusement machine servicers and repairers    * Arcade Games Mechanic* Coin Box Collector* Juke Box Mechanic* Parking Meter Collector* Slot Machine Mechanic* Slot Technician* Stamp Machine Servicer* Vending Machine Filler",
          "Commercial pilots    * Aerial Crop Duster* Aerial Hurricane Hunter* Aerial Sprayer* Agricultural Pilot* Air Ambulance Captain* Air Tour Pilot* Balloon Pilot* Charter Pilot (Commercial Pilot Certificate Required)* Charter Pilot (Commercial)* Commercial Helicopter Pilot* Corporate Pilot* EMS Helicopter Pilot* Emergency Medical Service Helicopter Pilot* Emergency Medical Service Rotary Wing Pilot* Executive Pilot* Flight Instructor (Commercial Pilots)* Helicopter Pilot",
          "Communications equipment operators, all other    * Communications Equipment Operator* Facsimile Machine Operator* Fax Machine Operator* Telegraph and Teletype Operator* Telex Operator",
          "Community health workers    * CHW* Community Health Advisor* Community Health Representative* Community Health Worker* Lay Health Advocate* Peer Health Promoter* Promotor(a)",
          "Computer numerically controlled tool operators",
          "Concierges    * Activities Concierge* Club Concierge* Concierge* Conference Concierge* Guest Service Supervisor* Hotel Concierge* Hotel Guest Service Agent",
          "Construction and building inspectors    * Architectural Inspector* Bridge Inspector* Building Code Inspector* Building Inspector* Construction Inspector* Electrical Inspector* Elevator Inspector* Highway Inspector* Home Inspector* Plumbing Inspector* Public Works Inspector* Residential Building Inspector",
          "Control and valve installers and repairers, except mechanical door    * Air Valve Mechanic* Electric Meter Installer* Gas Meter Installer* Gas Meter Mechanic* Thermostat Repairer* Valve Mechanic* Water Meter Installer",
          "Cooling and freezing equipment operators and tenders    * Ammonia Refrigeration Worker* Chiller Operator* Chiller Tender* Freezer Operator* Refrigerating Machine Operator* Refrigeration Operator",
          "Correctional officers and jailers    * Certified Detention Deputy* Convict Guard* Correction Officer* Correctional Guard* Correctional Sergeant* Detention Deputy* Detention Officer* Jail Guard* Juvenile Corrections Officer* Penal Officer* Prison Guard* Prison Officer",
          "Correspondence clerks    * Claims Correspondence Clerk* Correspondence Clerk* Correspondence Representative* Correspondence Transcriber* Customer Service Correspondence Clerk* Fan Mail Editor* Medicare Correspondence Representative* Student Loan Correspondent",
          "Costume attendants    * Costume Attendant* Theatrical Wardrobe Attendant* Theatrical Wardrobe Dresser* Wardrobe Assistant* Wardrobe Attendant* Wardrobe Custodian* Wardrobe Dresser* Wardrobe Supervisor",
          "Couriers and messengers    * Bank Courier* Bicycle Messenger* Courier* Court Messenger* Laboratory Courier* Office Messenger* Office Runner",
          "Court, municipal, and license clerks    * Circuit Court Clerk* City Clerk* Court Clerk* Courtroom Clerk* Deputy Court Clerk* Docket Clerk* Dog Licenser* License Clerk* Motor Vehicle License Clerk* Motor Vehicle Representative* Municipal Clerk* Tax Clerk* Township Clerk* Warrant Clerk",
          "Crane and tower operators    * Boom Crane Operator* Bridge Crane Operator* Cherry Picker Operator* Coal Tower Operator* Electric Crane Operator* Erecting Crane Operator* Monorail Crane Operator* Overhead Crane Operator* Port Crane Operator* Radio Control Crane Operator* Scrap Crane Operator* Tower Loader Operator* Woodyard Crane Operator",
          "Credit authorizers, checkers, and clerks    * Charge Authorizer* Commercial Credit Reviewer* Credit Authorizer* Credit Charge Authorizer* Credit Checker* Credit Investigator* Credit Processor* Credit Rating Checker* Credit Reference Clerk* Credit Report Checker",
          "Crematory operators and personal care and service workers, all other",
          "Crushing, grinding, and polishing machine setters, operators, and tenders    * Beveling and Edging Machine Operator* Beveller Operator* Blanchard Grinder Operator* Crusher Plant Operator* Cullet Crusher and Washer* Industrial Coffee Grinder* Marble and Granite Polisher* Mix Crusher Operator* Pulverizer Operator",
          "Customer service representatives    * Complaint Clerk* Contact Center Specialist* Customer Complaint Clerk* Customer Contact Specialist* Customer Relations Representative* Customer Support Representative* Gas Distribution and Emergency Clerk* Passenger Relations Representative* Policyholder Information Clerk* Warranty Clerk",
          "Cutting and slicing machine setters, operators, and tenders    * Dog Food Shredder Operator* Glass Cutting Machine Operator* Insulation Cutter* Paper Cutter* Paper Slitter* Rubber Trimmer* Shearing Machine Tender* Trimming Operator",
          "Cutting, punching, and press machine setters, operators, and tenders, metal and plastic    * Crimping Machine Operator for Metal* Four Slide Machine Setter* Metal Punch Press Operator* Metal Slitter* Metal Stamper",
          "Data entry keyers    * Customs Entry Clerk* Data Entry Clerk* Data Input Clerk* Data Keyer* Data Processing Clerk* Data Typist* Key Punch Operator* Keypunch Operator* Keypuncher",
          "Dental laboratory technicians    * Crown Ceramist* Crown and Bridge Dental Lab Technician* Crown and Bridge Technician* Dental Ceramist* Dental Laboratory Worker* Dental Mold Maker* Dental Technician* Orthodontic Technician",
          "Detectives and criminal investigators    * Criminal Investigator* Deputy United States Marshal* FBI Investigator* Homicide Detective* Narcotics Detective* Narcotics Investigator* Police Detective",
          "Dispatchers, except police, fire, and ambulance    * Airplane Dispatch Clerk* Auto Service Dispatcher* Bus Dispatcher* Crew Dispatcher* Maintenance Dispatcher* School Bus Dispatcher* Taxicab Dispatcher* Tow Truck Dispatcher* Train Dispatcher* Truck Dispatcher",
          "Dredge operators    * Dredge Deckhand* Dredge Engineer* Dredge Mate* Dredge Operator* Dredger",
          "Drilling and boring machine tool setters, operators, and tenders, metal and plastic    * Bore Mill Operator for Plastic* Boring Mill Operator for Metal* Drill Press Operator for Metal* Horizontal Boring Mill Operator for Metal* Radial Drill Operator for Plastic* Radial Drill Press Operator for Plastic* Reaming Machine Operator for Plastic",
          "Driver/sales workers    * Bakery Deliverer* Bobtailer* Delivery Sales worker* Newspaper Deliverer* Newspaper Delivery Driver* Pizza Delivery Driver* Route Sales Person* Route Salesperson* Sales Route Driver",
          "Earth drillers, except oil and gas; and explosives workers, ordnance handling experts, and blasters",
          "Electric motor, power tool, and related repairers    * AC/DC Rewinder* Armature Rewinder* Battery Repairer* Dynamo Repairer* Electric Motor Fitter* Electric Motor Rewinder* Electrical Parts Reconditioner",
          "Electrical power-line installers and repairers    * Electric Powerline Examiner* Electric Utility Lineworker* Electrical High Tension Tester* Electrical Lineworker* Power Lineworker* Underground Conduit Installer",
          "Electrical, electronic, and electromechanical assemblers, except coil winders, tapers, and finishers",
          "Electricians    * Chief Electrician* Control Electrician* Electrical Maintenance Worker* Electrical Sign Wirer* House Wirer* Licensed Electrician* Lighting Fixture Installer* Marine Electrician* Master Electrician* Solar Photovoltaic Electrician* Stage Electrician",
          "Electronic equipment installers and repairers, motor vehicles    * Auto Electrician* Auto Phone Installer* Auto Radio Mechanic* Automotive Electrician* Car Alarm Installer* Car Stereo Installer* GPS Car Navigation Installer* Mobile Electronics Installation Specialist",
          "Elevator and escalator installers and repairers    * Elevator Adjuster* Elevator Constructor* Elevator Installer* Elevator Mechanic* Elevator Repair and Maintenance Technician* Elevator Service Technician* Escalator Installer* Escalator Mechanic* Escalator Service Mechanic* Freight Elevator Erector* Hydraulic Elevator Constructor",
          "Eligibility interviewers, government programs    * Medicare Interviewer* Public Housing Interviewer* Social Security Benefits Interviewer* Unemployment Benefits Claims Taker* Welfare Interviewer",
          "Engine and other machine assemblers    * Aircraft Engine Assembler* Assembling Motor Builder* Clutch Housing Assembler* Engine Builder* Gas Turbine Assembler* Generator Assembler* Jet Engine Assembler* Machine Builder* Sewing Machine Assembler* Steam Turbine Assembler* Truck Transmission Assembler* Truck Transmission Builder",
          "Entertainment attendants and related workers, all other    * Jockey Valet",
          "Etchers and engravers    * Engraver* Glass Etcher* Laser Engraver* Machine Engraver* Metal Engraver* Pantograph Engraver* Rotary Engraver* Rubber Engraver",
          "Excavating and loading machine and dragline operators, surface mining",
          "Executive secretaries and executive administrative assistants    * Executive Assistant",
          "Exercise trainers and group fitness instructors    * Aerobics Instructor* Certified Personal Trainer* Fitness Trainer* Group Exercise Instructor* Group Fitness Instructor* Personal Fitness Trainer* Personal Trainer* Weight Trainer* Weight Training Instructor* Yoga Instructor* Yoga Teacher",
          "Extruding and drawing machine setters, operators, and tenders, metal and plastic    * Wire Drawing Machine Tender* Wire Mill Rover",
          "Extruding and forming machine setters, operators, and tenders, synthetic and glass fibers    * Drawbench Operator* Fiber Machine Tender* Synthetic Filament Extruder",
          "Extruding, forming, pressing, and compacting machine setters, operators, and tenders    * Bowling Ball Molder* Brick Maker* Cigarette Stamper* Extrusion Press Operator* Paper Baling Machine Operator* Rubber Extrusion Operator* Sugar Presser* Tuber Operator",
          "Fabric and apparel patternmakers    * Clothing Patternmaker* Embroidery Patternmaker* Fabric Pattern Grader",
          "Fallers    * Lumberjack* Pulpwood Cutter* Timber Cutter* Timber Faller* Timber Feller",
          "Farm equipment mechanics and service technicians    * Agricultural Equipment Mechanic* Combine Mechanic* Dairy Equipment Mechanic* Dairy Equipment Repairer* Harvester Mechanic* Irrigation Equipment Mechanic* Milking Machine Mechanic* Tractor Mechanic",
          "Farmers, ranchers, and other agricultural managers    * Agricultural Crop Farm Manager* Animal Husbandry Manager* Aquaculture Farm Manager* Beef Farm Operator* Christmas Tree Farm Manager* Dairy Farm Manager* Fish Hatchery Manager* Greenhouse Manager* Hatchery Manager* Orchard Manager",
          "Fiberglass laminators and fabricators",
          "File clerks    * Cut File Clerk* Document Clerk* File Clerk* File Keeper* Index Clerk* Records Clerk",
          "Financial clerks, all other    * Bank Vault Attendant* Bank Vault Clerk* Bank Vault Custodian* Financial Operations Clerk* Financial Reserve Clerk* Safe Deposit Clerk* Safety Deposit Clerk* Vault Teller",
          "First-line supervisors of construction trades and extraction workers    * Carpenter Supervisor* Drilling Foreman* Electrician Supervisor* Excavating Supervisor* Quarry Boss* Rig Supervisor* Roustabout Crew Leader* Segmental Paving Supervisor* Solar Panel Installation Supervisor",
          "First-line supervisors of correctional officers    * Chief Jailer* Correctional Officer Sergeant* Correctional Supervisor* Corrections Sergeant* Prison Guard Supervisor",
          "First-line supervisors of farming, fishing, and forestry workers    * Animal Caretaker Supervisor* Aquacultural Worker Supervisor* Corn Crop Supervisor* Corral Boss* Cranberry Bog Supervisor* Farm Supervisor* Farrowing Manager* Feed Manager* Fish Hatchery Supervisor* Harvest Crew Supervisor* Harvest Manager* Logging Crew Supervisor* Picking Crew Supervisor* Planting Supervisor* Ranch Hand Supervisor",
          "First-line supervisors of food preparation and serving workers    * Banquet Supervisor* Bar Manager* Cafeteria Manager* Dairy Bar Manager* Food Service Supervisor* Head Waiter* Head Waitress* Kitchen Supervisor",
          "First-line supervisors of gambling services workers",
          "First-line supervisors of housekeeping and janitorial workers    * Building Cleaning Supervisor* Cleaning Staff Supervisor* Custodial Supervisor* Head Custodian* Head School Custodian* Janitor Supervisor* Maid Supervisor* Maintenance and Custodian Supervisor",
          "First-line supervisors of landscaping, lawn service, and groundskeeping workers    * Gardening Supervisor* Greenskeeper Supervisor* Grounds Crew Supervisor* Grounds Foreman* Grounds Maintenance Supervisor* Head Greenskeeper* Horticultural Services Supervisor* Landscape Installation Foreman* Turf and Grounds Supervisor",
          "First-line supervisors of mechanics, installers, and repairers    * Automobile Body Repair Supervisor* Body Shop Supervisor* Electronic Maintenance Supervisor* Fleet Maintenance Supervisor* Heating, Ventilation, and Air Conditioning Supervisor* Oil Field Equipment Mechanic Supervisor* Railroad Car Repair Supervisor* Repair Department Supervisor",
          "First-line supervisors of non-retail sales workers    * Blood Donor Recruiter Supervisor* Insurance Sales Supervisor* Radio Time Sales Supervisor* Real Estate Sales Supervisor* Stock Broker Supervisor* Telemarketer Supervisor* Telemarketing Manager* Telesales Supervisor",
          "First-line supervisors of office and administrative support workers    * Accounts Payable Supervisor* Billing Department Supervisor* Billing Supervisor* Clerical Supervisor* Data Entry Supervisor* Medical Billing Supervisor* Office Services Supervisor* Payroll Supervisor* Records Supervisor* Teller Supervisor* Timekeeping Supervisor",
          "First-line supervisors of personal service and entertainment and recreation workers, except gambling services",
          "First-line supervisors of police and detectives    * Commanding Officer Homicide Squad* Detective Lieutenant* Detective Supervisor* Police Lieutenant* Traffic Lieutenant* Traffic Sergeant",
          "First-line supervisors of production and operating workers    * Assembly Line Supervisor* Assembly Supervisor* Die Cast Supervisor* Machine Assembler Supervisor* Machinist Supervisor* Molding Supervisor* Paper Machine Supervisor* Printing Supervisor* Printing Worker Supervisor* Tool Room Supervisor",
          "First-line supervisors of retail sales workers    * Assistant Store Manager* Cashier Manager* Cashier Supervisor* Delicatessen Department Manager* Produce Department Supervisor* Sales Clerk Supervisor* Used Car Sales Supervisor",
          "First-line supervisors of transportation and material-moving workers, except aircraft cargo handling supervisors",
          "Flight attendants    * Airline Flight Attendant* Airplane Flight Attendant* Flight Steward",
          "Floral designers    * Corsage Maker* Floral Arranger* Floral Artist* Floral Decorator* Florist* Florist Designer* Flower Arranger",
          "Food batchmakers    * Almond Paste Mixer* Candy Maker* Candy Puller* Cheese Processor* Cottage Cheese Maker* Dough Scaler and Mixer* Frozen Yogurt Maker* Honey Blender* Ice Cream Maker* Liquid Sugar Fortifier* Peanut Butter Maker* Pickle Maker* Relish Maker* Taffy Puller",
          "Food cooking machine operators and tenders    * Doughnut Machine Operator* Dumpling Machine Operator* Fish Fryer* Food Cooking Machine Operator* Kettle Fry Cook Operator* Pierogi Maker* Potato Chip Frier* Tripe Cooker",
          "Food service managers    * Banquet Director* Banquet Manager* Cafeteria Director* Food Service Director* Food Service Manager* Food and Beverage Manager* Restaurant General Manager* Tavern Operator",
          "Forest and conservation workers    * Forest Nursery Worker* Forester Aide* Forestry Laborer* Rangelands Conservation Laborer* Reforestation Worker* Seedling Puller* Wetlands Conservation Laborer",
          "Forest fire inspectors and prevention specialists    * Environmental Protection Fire Control Officer* Fire Control Officer* Fire Operations Forester* Fire Ranger* Forest Fire Control Officer* Forest Fire Officer* Wildfire Prevention Specialist* Wildland Fire Operations Specialist",
          "Forging machine setters, operators, and tenders, metal and plastic    * Cold Header Operator* Forging Roll Operator* Header Setup Operator* Spike Machine Operator* Swager Operator* Swaging Machine Operator",
          "Foundry mold and coremakers    * Airset Caster* Airset Molder* Core Stripper* Foundry Molder* Green Sand Molder* No Bake Molder* Sand Molder* Wax Pattern Coater",
          "Funeral attendants    * Funeral Assistant* Funeral Attendant* Funeral Greeter* Funeral Home Assistant* Funeral Home Associate* Mortician Helper* Pallbearer* Undertaker Helper",
          "Furnace, kiln, oven, drier, and kettle operators and tenders    * Calciner Operator* Dry Kiln Operator* Induction Furnace Operator* Lime Kiln Operator* Lumber Kiln Operator* Rubber Curer* Soap Drier Tender* Tunnel Kiln Operator",
          "Furniture finishers    * Cabinet Finisher* Furniture Refinisher* Furniture Sander* Piano Refinisher* Wood Cabinet Finisher",
          "Gambling and sports book writers and runners    * Betting Clerk* Bookie* Casino Floor Runner* Keno Runner* Keno Writer* Race Book Writer* Race and Sports Book Writer* Sports Book Board Attendant* Sportsbook Ticket Writer",
          "Gambling cage workers    * Cage Cashier* Casino Cage Cashier* Casino Cashier* Gaming Cage Cashier* Gaming Cashier",
          "Gambling dealers    * 21 Dealer* Blackjack Dealer* Casino Dealer* Casino Games Dealer* Craps Dealer* Keno Dealer* Poker Dealer* Roulette Dealer* Table Games Dealer",
          "Gambling managers    * Bingo Manager* Casino Manager* Gaming Department Head* Gaming Director* Gaming Manager* Slot Operations Director* Slots Manager* Table Games Manager",
          "Gambling service workers, all other    * Card Table Attendant* Pit Clerk* Poker Prop Player* Proposition Player* Shill",
          "Gambling surveillance officers and gambling investigators    * Casino Investigator* Casino Surveillance Officer* Gambling Monitor* Gaming Surveillance Observer* Gaming Surveillance Officer",
          "Gas compressor and gas pumping station operators    * Acetylene Gas Compressor* Butane Compressor Operator* Compressor Station Operator* Gas Compressor Operator* Gas Cylinder Processor* Gas Storage Operator* High Pressure Compressed Gas Filler* LNG Plant Operator* Liquid Natural Gas Plant Operator",
          "Gas plant operators    * Gas Controller* Gas Plant Dispatcher* Gas Plant Operator* Gas Plant Technician* Natural Gas Plant Technician",
          "Glaziers    * Leaded Glass Installer* Plate Glass Installer* Stained Glass Glazier* Stained Glass Installer* Stained Glass Joiner* Window Glazier",
          "Grinding, lapping, polishing, and buffing machine tool setters, operators, and tenders, metal and plastic    * Aluminum Polisher* Deburring Machine Operator* Jewel Bearing Facer* Metal Grinder* Tool Polishing Machine Operator",
          "Hazardous materials removal workers    * Asbestos Abatement Worker* Asbestos Remover* Decontamination Worker* Hazard Waste Handler* Hazmat Technician* Irradiated Fuel Handler* Lead Abatement Worker* Radiological Control and Safety Technician",
          "Healthcare support workers, all other    * Ortho/Prosthetic Aide",
          "Hearing aid specialists    * Hearing Aid Fitter* Hearing Aid Technician* Hearing Instrument Specialist",
          "Heat treating equipment setters, operators, and tenders, metal and plastic    * Annealing Furnace Operator* Carburizing Furnace Operator* Flame Hardening Machine Setter* Heat Treater Apprentice* Heat Treating Furnace Tender* Induction Machine Setter* Wire Annealer* Wire Temperer",
          "Helpers--electricians    * Electrical Sign Wirer Helper* Electrician's Assistant* House Wirer Helper* Marine Electrician Helper* Stage Electrician Helper* Utilities Ground Worker",
          "Helpers--extraction workers    * Blaster Helper* Blasting Helper* Boring Machine Operator Helper* Continuous Miner Operator Helper* Driller Helper* Loading Machine Operator Helper* Longwall Machine Operator Helper* Mining Helper* Roof Bolter Helper* Rotary Drill Operator Helper* Shale Planer Operator Helper",
          "Helpers--installation, maintenance, and repair workers    * Automobile Body Repairer Helper* Cable Splicer Helper* Hydroelectric Machinery Mechanic Helper* Locksmith Helper* Mechanic's Assistant* Meter Repairer Helper* Motorboat Mechanic Helper* Powerhouse Mechanic Helper* Streetcar Repairer Helper",
          "Helpers--pipelayers, plumbers, pipefitters, and steamfitters    * Gas Main Fitter Helper* Hydraulic Plumber Helper* Industrial Gas Fitter Helper* Marine Pipefitter Helper* Marine Steam Fitter Helper* Pipe Fitter Helper* Plumber Assistant* Plumber Helper* Sewer Pipe Layer Helper* Sprinkler Fitter Helper* Trench Pipe Layer Helper* Water Main Installer Helper",
          "Helpers--production workers    * Blending Tank Helper* Commercial Baker Helper* Machinist Helper* Slitter Helper* Tailor Helper* Welder Helper* Woodworker Helper",
          "Highway maintenance workers    * Highway Maintainer* Highway Maintenance Crew Worker* Highway Worker* Lane Marker Installer* Road Patcher* Road Sign Installer",
          "Home appliance repairers    * Certified Appliance Service Technician* Electric Stove Installer* Gas Appliance Repairer* Gas Appliance Servicer* Home Appliance Installer* Stove Installer* Vacuum Cleaner Repair Person* Vacuum Cleaner Repairer* Washing Machine Installer* Washing Machine Repairer* Window Air Conditioner Installer",
          "Home health and personal care aides",
          "Hotel, motel, and resort desk clerks    * Assistant Innkeeper* Hotel Desk Clerk* Hotel Front Desk Clerk* Hotel Registration Clerk* Motel Clerk* Motel Front Desk Attendant* Resort Desk Clerk",
          "Industrial machinery mechanics    * Bag Machine Adjuster* Boilerhouse Mechanic* Foundry Equipment Mechanic* Hydroelectric Machinery Mechanic* Industrial Conveyor Belt Repairer* Loom Fixer* Loom Technician",
          "Information and record clerks, all other    * Election Clerk* Flight Crew Scheduler* Probate Clerk* Student Admissions Clerk",
          "Inspectors, testers, sorters, samplers, and weighers    * Ampoule Examiner* Bag Grader* Cigarette Examiner* Compressed Gas Tester* Machined Parts Quality Inspector* Petroleum Sampler* Quality Assurance Inspector* Quality Control Inspector* Quality Inspector* Spark Plug Tester",
          "Installation, maintenance, and repair workers, all other    * Bowling Alley Mechanic* Fire Extinguisher Installer* Gasoline Pump Installer* Gunsmith* Ski Lift Mechanic* Wheelwright* Windmill Mechanic* Window Shade Installer",
          "Insulation workers, mechanical    * Boiler Coverer* Heat and Frost Insulator* Pipe Coverer* Pipe Insulator* Refrigeration Insulator* Sheet Metal Insulator",
          "Insurance claims and policy processing clerks    * Insurance Claims Clerk* Insurance Clerk* Insurance Examining Clerk* Insurance Policy Issue Clerk* Underwriting Assistant* Underwriting Clerk",
          "Insurance sales agents    * Health Insurance Sales Agent* Insurance Agent* Insurance Broker* Life Insurance Agent* Life Insurance Salesperson* Pension Agent",
          "Interviewers, except eligibility and loan    * Admitting Interviewer* Census Clerk* Census Taker* Field Enumerator* Market Research Interviewer* Outpatient Interviewing Clerk* Survey Interviewer* Telephone Interviewer",
          "Jewelers and precious stone and metal workers    * Diamond Grader* Diamond Polisher* Diamond Setter* Facetor* Gem Cutter* Gemologist* Goldsmith* Jewelry Repairer* Jewelsmith* Lapidarist* Pewterer* Silversmith",
          "Lathe and turning machine tool setters, operators, and tenders, metal and plastic    * Engine Lathe Operator* Gear Cutter* Screw Machine Operator* Screw Machine Tool Setter",
          "Layout workers, metal and plastic    * Shipfitter* Shipfitter Apprentice",
          "Legal secretaries and administrative assistants    * Accredited Legal Secretary* Certified Legal Secretary Specialist* Law Secretary* Legal Administrative Assistant",
          "Library assistants, clerical    * Book Sorter* Braille and Talking Books Clerk* Circulation Clerk* Film Library Clerk* Library Aide* Library Assistant* Library Circulation Clerk* Library Clerk* Medical Library Assistant* Microfilm Clerk",
          "Light truck drivers    * Pharmacy Delivery Driver",
          "Lighting technicians and media and communication equipment workers, all other",
          "Loan interviewers and clerks    * Loan Interviewer* Loan Processor* Mortgage Closing Clerk* Mortgage Loan Closer* Mortgage Loan Processing Clerk* Mortgage Loan Processor* Mortgage Processor",
          "Locker room, coatroom, and dressing room attendants    * Athletic Equipment Manager* Bathhouse Attendant* Checkroom Attendant* Cloak Room Attendant* Coat Checker* Ladies Locker Room Attendant* Locker Room Attendant* Locker Room Manager* Locker Room Supervisor* Washroom Attendant",
          "Locksmiths and safe repairers    * Key Maker* Keysmith* Lock Expert* Lock Fitter* Lock Setter* Lock Technician* Locksmith* Safe and Vault Installer* Safe and Vault Mechanic",
          "Locomotive engineers    * Freight Engineer* Railroad Engineer* Railway Engineer* Train Engineer",
          "Lodging managers    * Bed and Breakfast Innkeeper* Boardinghouse Keeper* Hotel Director* Hotel Manager* Hotel Operations Manager* Innkeeper* Lodging Facilities Manager",
          "Log graders and scalers    * Log Check Scaler* Log Grader* Log Scaler* Log Sorter* Timber Estimator* Veneer Grader",
          "Logging equipment operators    * Delimber Operator* Feller Buncher Operator* Feller Operator* Grapple Operator* Grapple Skidder Operator* Log Hauler* Log Processor Operator* Log Stacker Operator* Logging Crane Operator* Logging Shovel Operator* Logging Tractor Operator* Lumber Stacker Operator* Timber Harvester Operator* Tree-Shear Operator",
          "Logging workers, all other    * Log Cutter* Log Peeler* Log Roper* Rigging Slinger* Timber Hand",
          "Machinists    * Automotive Machinist* CNC Machinist* Gear Machinist* Manual Lathe Machinist* Precision Machinist* Production Machinist* Tool Room Machinist",
          "Mail clerks and mail machine operators, except postal service    * Direct Mail Clerk* Mailroom Clerk* Packaging Clerk",
          "Maintenance and repair workers, general    * Building Maintenance Mechanic* Building Mechanic* Building Services Mechanic* Maintenance Mechanic* Mechanics Handyman* Plant Maintenance Technician",
          "Maintenance workers, machinery    * Crane Oiler",
          "Manufactured building and mobile home installers    * Housetrailer Servicer* Mobile Home Mechanic* Mobile Home Servicer* Mobile Home Technician* Modular Home Crew Member",
          "Mechanical door repairers    * Automatic Door Mechanic* Door Closer Mechanic* Garage Door Technician* Mechanical Door Repairer* Overhead Door Technician",
          "Media and communication workers, all other    * Stage Technician",
          "Medical appliance technicians    * Arch-Support Maker* Brace Maker* Hearing Aid Repair Technician* Orthopaedic Technician* Orthopaedic Technologist* Orthotic Fabricator Technician* Orthotic Finish Grinding Technician* Orthotics Fitter* Orthotics Technician* Prosthetics Fabrication Technician* Prosthetics Lab Technician* Prosthetics Technician* Surgical Appliance Fitter",
          "Medical equipment preparers    * Central Sterile Supply Technician* Certified Registered Central Service Technician* Health Equipment Servicer* Medical Equipment Preparer* Medical Supply Technician* Oxygen Equipment Preparer* Sterile Preparation Technician* Sterile Processing Technician* Sterile Processing and Distribution Technician* Sterilization Specialist* Sterilization Technician",
          "Medical secretaries and administrative assistants    * Dental Secretary* Hospital Secretary* Psychiatric Secretary",
          "Merchandise displayers and window trimmers    * Display Artist* Display Decorator* Display Designer* Display Specialist* Mannequin Decorator* Merchandise Displayer* Show Floor Decorator* Visual Merchandiser* Visual Merchandising Specialist* Window Decorator* Window Draper* Window Dresser* Window Trimmer",
          "Metal workers and plastic workers, all other    * Electrical Discharge Machine Setup Operator* Metal Rivet Machine Operator* Tin Recovery Worker",
          "Metal-refining furnace operators and tenders    * Electric Arc Furnace Operator* Melt Room Operator* Smelter Operator",
          "Meter readers, utilities    * Electric Meter Reader* Gas Meter Reader* Water Meter Reader",
          "Milling and planing machine setters, operators, and tenders, metal and plastic    * Metal Milling Machine Operator* Metal Rotary Head Milling Machine Setup Operator* Plastic Thread Milling Machine Setup Operator",
          "Millwrights    * Construction Millwright* Machine Erector* Machinery Dismantler* Maintenance Millwright* Manufacturing Millwright",
          "Miscellaneous assemblers and fabricators",
          "Miscellaneous construction and related workers",
          "Miscellaneous first-line supervisors, protective service workers",
          "Mixing and blending machine setters, operators, and tenders    * Asphalt Blender* Clay Mixer* Concrete Batcher* Dye Mixer* Glue Mixer* Ink Blender* Ink Mixer* Plaster Mixer* Resin Mixer",
          "Mobile heavy equipment mechanics, except engines    * Bulldozer Mechanic* Construction Equipment Mechanic* Dragline Mechanic* Forklift Mechanic* Forklift Technician",
          "Model makers, metal and plastic    * Metal Mockup Maker* Plastic Jig and Fixture Builder",
          "Model makers, wood    * Architectural Wood Model Maker",
          "Molders, shapers, and casters, except metal and plastic    * Almond Paste Molder* Burial Vault Maker* Cigar Roller* Clay Modeler* Concrete Vault Maker* Glass Bender* Glass Block Bender* Glass Blower* Glass Presser* Glass Tube Bender* Mannequin Mold Maker* Neon Glass Bender* Neon Glass Blower* Neon Molder* Neon Tube Bender* Rubber Molder* Stone Carver",
          "Molding, coremaking, and casting machine setters, operators, and tenders, metal and plastic    * Aluminum Molding Machine Operator* Blow Mold Operator* Compression Molding Machine Operator* Plastic Cup Fabricating Machine Operator",
          "Motorboat mechanics and service technicians    * Certified Marine Mechanic* Marine Propulsion Technician* Marine Technician* Motorboat Mechanic* Outboard Motor Mechanic* Outboard Technician",
          "Multiple machine tool setters, operators, and tenders, metal and plastic    * Combination Machine Tool Operator* Multi-operation Forming Machine Setter",
          "Musical instrument repairers and tuners    * Accordion Repairer* Band Instrument Repair Technician* Banjo Repairer* Bow Rehairer* Brass and Wind Instrument Repairer* Chip Tuner* Fretted String Instrument Repairer* Guitar Builder* Guitar Repairer* Keyboard Instrument Repairer* Luthier* Mandolin Repairer* Organ Installer* Organ Tuner* Percussion Instrument Repairer* Piano Regulator* Piano Technician* Piano Tuner* Pipe Organ Technician* Stringed Instrument Repairer* Tone Regulator* Violin Repairer",
          "New accounts clerks    * Banking Services Clerk* New Accounts Banking Representative* New Client Banking Services Clerk",
          "Nuclear power reactor operators    * Nuclear Control Room Operator* Nuclear Reactor Operator* Nuclear Station Operator* Reactor Operator",
          "Occupational health and safety technicians",
          "Occupational therapy aides    * Certified Occupational Rehabilitation Aide* OT Aide* Occupational Rehabilitation Aide* Occupational Therapist Aide* Rehabilitation Services Aide",
          "Office and administrative support workers, all other    * Braille Transcriber* Envelope Stuffer* Fingerprint Clerk* Investigation Clerk* Newspaper Inserter* Notary Public",
          "Office clerks, general    * Administrative Clerk* Office Assistant* Office Clerk* Real Estate Clerk",
          "Office machine operators, except computer    * Business Machine Operator* Coin Machine Operator* Coin Rolling Machine Operator* Coin Wrapping Machine Operator* Collator Operator* Copy Center Operator* Copy Machine Operator* Duplicating Machine Operator",
          "Operating engineers and other construction equipment operators    * Angle Dozer Operator* Blade Grader Operator* Bulldozer Operator* Ditching Machine Operating Engineer* Grader Operator* Motor Grader Operator* Scraper Operator* Steam Shovel Operating Engineer* Steam Shovel Operator",
          "Ophthalmic laboratory technicians    * Contact Lens Cutter* Contact Lens Technician* Eyeglass Assembler* Eyeglass Lens Cutter* Eyeglass Maker* Lens Grinder* Lens Grinder and Polisher* Lens Mounter* Precision Lens Centerer and Edger* Prescription Eyeglass Maker",
          "Opticians, dispensing    * Certified Optician* Contact Lens Fitter* Eyeglass Fitter* Licensed Dispensing Optician* Licensed Optical Dispenser* Licensed Optician* Optical Dispenser* Optician",
          "Orderlies",
          "Outdoor power equipment and other small engine mechanics    * Chain Saw Mechanic* Edge Trimmer Mechanic* Electric Golf Cart Repairers* Electric Wheelchair Repairer* Go-Cart Mechanic* Golf Cart Mechanic* Lawn Mower Repairer* Mobility Scooter Repairer* Motor Scooter Mechanic* Power Saw Mechanic* Power Wheelchair Mechanic* Snowblower Mechanic* Snowmobile Mechanic",
          "Packaging and filling machine operators and tenders    * Bottle Capper* Bottle Line Worker* Bottle Packer* Can Filler* Can Sealer* Keg Filler* Potato Chip Packaging Machine Operator* Tea Bag Packer",
          "Paper goods machine setters, operators, and tenders    * Box Fabricator* Carton Making Machine Operator* Corrugated Box Machine Operator* Corrugator Machine Operator* Corrugator Operator* Envelope Machine Operator* Napkin Machine Operator* Paper Bag Machine Operator* Paper Cone Machine Tender* Paper Machine Operator",
          "Parking enforcement workers    * Meter Maid* Parking Enforcement Officer* Parking Meter Attendant",
          "Passenger attendants    * Dining Car Steward* Ship Steward* Sleeping Car Service Attendant* Train Attendant",
          "Patternmakers, metal and plastic    * Metal Patternmaker",
          "Patternmakers, wood    * Wood Die Maker",
          "Paving, surfacing, and tamping equipment operators    * Asphalt Paver* Asphalt Paving Machine Operator* Asphalt Roller Operator* Asphalt Tamping Machine Operator* Blacktop-Paver Operator* Paver Operator* Road Grader* Screed Operator",
          "Payroll and timekeeping clerks    * Flight Crew Time Clerk* Payroll Bookkeeper* Personnel Scheduler* Time Clerk* Time and Attendance Clerk* Timekeeper",
          "Pest control workers    * Exterminator* Fumigator* Insecticide Expert* Mosquito Sprayer* Pest Controller* Rat Exterminator* Rodent Exterminator* Termite Technician* Termite Treater",
          "Pesticide handlers, sprayers, and applicators, vegetation    * Certified Pesticide Applicator* Fruit Sprayer* Herbicide Sprayer* Orchard Sprayer* Plant Sprayer* Weed Sprayer",
          "Petroleum pump system operators, refinery operators, and gaugers    * Hydrotreater Operator* Oil Gauger* Oil Pipeline Dispatcher* Oil Pipeline Operator* Oil Refiner* Petroleum Plant Operator* Petroleum Refinery Control Panel Operator* Petroleum Refinery Operator* Petroleum Refining Equipment Operator",
          "Pharmacy aides    * Certified Pharmacist Assistant* Pharmacist Aide* Pharmacist Assistant* Pharmacy Assistant* Pharmacy Clerk* Prescription Clerk",
          "Pharmacy technicians    * CPHT* Certified Pharmacy Technician* Pharmacist Technician* Pharmacy Laboratory Technician* Pharmacy Technician",
          "Photographers    * Advertising Photographer* Aerial Photographer* Industrial Photographer* Marine Photographer* Medical Photographer* News Photographer* Newspaper Photojournalist* Photojournalist* Portrait Photographer* School Photographer* Wedding Photographer",
          "Photographic process workers and processing machine operators    * Digital Imaging Technician* Digital Photo Printer* Digital Photo Technician* Digital Retoucher* Film Developing Machine Operator* Film Printer* Film Process Operator* Film Processor* Photo Lab Specialist* Photo Lab Technician* Photo Machine Operator* Photo Print Specialist* Photo Retoucher* Print Retoucher",
          "Physical therapist aides    * Clinical Rehabilitation Aide* Physical Therapy Aide* Physiotherapy Aide",
          "Pile driver operators    * Diesel Pile Hammer Operator* Hydraulic Pile Hammer Operator* Hydraulic Press-In Operator* Pile Driver Operator* Vibratory Pile Driver",
          "Plant and system operators, all other    * Asphalt Plant Operator* Concrete Batch Plant Operator* Lime Filter Operator* Sand Plant Attendant",
          "Plating machine setters, operators, and tenders, metal and plastic    * Anodizer* Chrome Plater* Chromium Plater* Copper Plater* Electro Plater* Electrogalvanizing Machine Operator* Electroplater* Galvanizer* Hard Chrome Plater* Metal Plater* Metal Spraying Machine Operator* Metalizing Machine Operator* Nickel Plater* Plating Machine Operator* Tin Plater",
          "Plumbers, pipefitters, and steamfitters    * Fire Sprinkler Installer* Gas Main Fitter* Gas Plumber* Hydraulic Plumber* Industrial Gas Fitter* Marine Pipefitter* Marine Steamfitter* Master Plumber* Pipe Fitter* Plumber* Solar Thermal Installer* Sprinkler Fitter* Steamfitter* Water Pump Installer",
          "Police and sheriff's patrol officers    * Border Guard* Border Patrol Officer* Constable* Cop* Deputy Sheriff* Highway Patrol Officer* Motorcycle Police* Mounted Police* Park Police* Patrol Officer* Policeman* Policewoman* State Highway Police Officer* State Trooper",
          "Postal service clerks    * Bulk Mail Clerk* Bulk Mail Technician* Parcel Post Clerk* Postal Clerk* Postal Service Clerk* Postal Service Window Clerk",
          "Postal service mail carriers    * City Letter Carrier* Letter Carrier* Mail Deliverer* Parcel Post Carrier* Postal Mail Carrier* Rural Mail Carrier* Rural Route Carrier* USPS Letter Carrier",
          "Postal service mail sorters, processors, and processing machine operators    * Flat Sorter Operator* Flat Sorting Machine Clerk* Mail Forwarding System Markup Clerk* Parcel Post Distribution Machine Operator* Post Office Markup Clerk* Postal Service Mail Processor* Small Package and Bundle Sorter Clerk",
          "Postmasters and mail superintendents    * Postal Supervisor* Postmaster",
          "Pourers and casters, metal    * Aluminum Pourer* Ingot Caster* Iron Pourer* Molten Iron Pourer* Steel Pourer* Tin Pourer* White Metal Caster",
          "Power distributors and dispatchers    * Power System Dispatcher* Steam Plant Control Room Operator* Steam and Power Panel Operator* Substation Operator",
          "Power plant operators    * Hydroelectric Plant Operator* Power Plant Control Room Operator* Powerhouse Operator* Turbine Room Attendant",
          "Precision instrument and equipment repairers, all other    * Gyroscope Repairer* Hydrometer Calibrator* Scale Adjuster* Telescope Repairer",
          "Print binding and finishing workers    * Bindery Cutter Operator* Bindery Folder Operator* Bindery Machine Operator* Bindery Worker* Book Repairer* Bookbinder* Bookbinding Machine Operator* Case Binder Operator* Foil Stamp Operator* Perfect Binder Operator* Saddle Stitch Operator* Saddle Stitcher Operator* Spiral Binder Operator",
          "Printing press operators    * Digital Press Operator* Flexographic Press Operator* Gravure Press Operator* Lithograph Press Operator* Lithographing Machine Operator* Offset Lithographic Press Setter and Set-Up Operator* Offset Press Operator* Printing Machine Operator* Screen Printing Machine Operator* Screen Printing Press Operator* Silk Screen Operator* Silk Screen Printer* Web Offset Press Feeder* Web Press Operator",
          "Private detectives and investigators    * Certified Legal Investigator* Licensed Private Investigator* Loss Prevention Detective* Private Detective* Private Eye* Private Investigator* Skip Tracer* Store Detective",
          "Procurement clerks    * Procurement Assistant* Procurement Clerk* Purchasing Assistant* Purchasing Clerk",
          "Production workers, all other",
          "Production, planning, and expediting clerks    * Expeditor* Material Control Clerk* Material Expediter* Mill Recorder* Production Control Clerk* Production Control Coordinating Clerk* Production Control Coordinator* Production Scheduler* Work Ticket Distributor",
          "Property, real estate, and community association managers    * Apartment Manager* Building Rental Manager* Community Association Manager* Condominium Association Manager* Homeowner Association Manager* Land Acquisition Manager* Leasing Property Manager* Property Manager* Real Estate Manager",
          "Psychiatric aides",
          "Public safety telecommunicators    * 911 Dispatcher* 911 Operator* Ambulance Dispatcher* Emergency Communications Dispatcher* Emergency Communications Operator* Emergency Operator* Emergency Telecommunications Dispatcher* Fire Dispatcher* Police Dispatcher* Police Radio Dispatcher",
          "Pump operators, except wellhead pumpers    * Acid Pump Operator* Brewery Pumper* Concrete Pump Operator* Fluid Pump Operator",
          "Rail car repairers    * Freight Car Repairer* Mine Car Mechanic* Rail Car Maintenance Mechanic* Rail Car Mechanic* Streetcar Repairer* Subway Car Repairer* Tank Car Reconditioner* Trolley Car Mechanic* Trolley Car Overhauler",
          "Rail transportation workers, all other    * Railway Equipment Operator* Retarder Operator* Transfer Table Operator",
          "Rail yard engineers, dinkey operators, and hostlers    * Coal Tram Driver* Dinkey Driver* Dinkey Operator* Engine Hostler* Haulage Engine Operator* Railcar Switcher* Yard Hostler",
          "Rail-track laying and maintenance equipment operators    * Ballast Cleaning Machine Operator* Rail Maintenance Worker* Railroad Track Mechanic* Track Layer* Track Machine Operator* Track Maintainer* Track Moving Machine Operator* Track Repair Worker* Track Repairer* Track Service Worker* Track Surfacing Machine Operator* Trackwalker",
          "Railroad brake, signal, and switch operators and locomotive firers",
          "Railroad conductors and yardmasters    * Freight Conductor* Passenger Car Conductor* Train Conductor* Yard Conductor",
          "Real estate brokers    * Licensed Real Estate Broker* Real Estate Broker",
          "Real estate sales agents    * Agricultural Real Estate Agent* Apartment Rental Agent* Industrial Real Estate Agent* Land Sales Agent* Right of Way Agent",
          "Receptionists and information clerks    * Appointment Clerk* Dental Receptionist* Front Desk Receptionist* Land Leasing Information Clerk",
          "Recreation workers    * Activities Aide* Activities Assistant* Activities Coordinator* Activities Leader* Camp Counselor* Playground Worker* Recreation Activities Coordinator* Recreation Assistant* Recreational Aide",
          "Recreational vehicle service technicians    * Master Certified RV Technician* Mobile Service Recreational Vehicle Technician* RV Mechanic* RV Servicer* RVDA Master Certified RV Technician* Recreational Vehicle (RV) Repairer* Recreational Vehicle Mechanic",
          "Refractory materials repairers, except brickmasons    * Bondactor Machine Operator* Cupola Repairer* Kiln Door Builder* Ladle Repairer* Refractory Repairer",
          "Reinforcing iron and rebar workers    * Post Tensioning Ironworker* Rebar Worker* Reinforcing Steel  Worker* Rod Buster* Steel Rod Buster* Steel Tier",
          "Reservation and transportation ticket agents and travel clerks    * Airline Reservation Agent* Airline Reservationist* Airline Ticket Agent* Gate Agent* Hotel Reservationist* Passenger Agent* Passenger Booking Clerk* Reservation Agent* Reservation Sales Agent* Train Clerk* Train Reservation Clerk* Transportation Clerk* Travel Clerk",
          "Residential advisors    * Dormitory Counselor* House Parent* Residence Director* Residence Life Coordinator* Residential Advisor* Residential Director* Residential Life Director* Sorority Mother",
          "Riggers    * Acrobatic Rigger* Boat Rigger* Crane Rigger* Fly Rail Operator* Gantry Rigger* High Rigger* Marine Rigger* Parachute Rigger* Ship Rigger* Theatrical Rigger* Wire Rigger* Yacht Rigger* Yard Rigger",
          "Rolling machine setters, operators, and tenders, metal and plastic    * Brass Roller* Forming Roll Operator* Metal Sheet Roller Operator* Pipe Straightener* Plastic Straightening Roll Operator* Steel Roller",
          "Roof bolters, mining",
          "Sales and related workers, all other    * Auctioneer* Blood Donor Recruiter* Leaflet Distributor* Livestock Auctioneer* Personal Shopper* Store Gift Wrap Associate",
          "Sales representatives of services, except advertising, insurance, financial services, and travel",
          "Sales representatives, wholesale and manufacturing, except technical and scientific products    * Bottling Equipment Sales Representative* Freight Broker* Hotel Supplies Salesperson* Mortician Supplies Sales Representative* Pulpwood Dealer* Wholesale Diamond Broker",
          "Sawing machine setters, operators, and tenders, wood    * Backup Sawyer* Band Scroll Saw Operator* Bandmill Operator* Buzzsaw Operator* Chop Saw Operator* Circle Saw Operator* Curve Saw Operator* Cut Off Saw Operator* Hardwood Sawyer* Headrig Sawyer* Panel Saw Operator* Rip Saw Operator* Stave Saw Operator* Trim Saw Operator",
          "School bus monitors and protective service workers, all other",
          "Secretaries and administrative assistants, except legal, medical, and executive    * Alumni Secretary* Department Secretary* Office Secretary* Personal Secretary* Real Estate Administrative Assistant* School Attendance Secretary* School Secretary",
          "Security and fire alarm systems installers    * Alarm Adjuster* Alarm Technician* Burglar Alarm Installer* Fire Alarm Installer* Fire Alarm Technician* Home Security Alarm Installer",
          "Security guards    * Armed Guard* Bank Guard* Bodyguard* Bouncer* Private Watchman* Security Officer",
          "Self-enrichment teachers    * Ballet Teacher* CPR Instructor* Ceramics Instructor* Citizenship Teacher* Dance Teacher* Defensive Driving Instructor* Driver Education Instructor* Driving Instructor* First Aid Instructor* Horseback Riding Instructor* Judo Instructor* Karate Instructor* Knitting Teacher* Martial Arts Instructor* Sailing Instructor* Skiing Instructor* Snowboard Instructor* Theater Education Teacher",
          "Semiconductor processing technicians    * Electronic Semiconductor Processor* Semiconductor Assembler* Wafer Fabricator",
          "Separating, filtering, clarifying, precipitating, and still machine setters, operators, and tenders    * Brewmaster* Fermentation Operator* Fermenter* Linseed Oil Temperer* Milk Pasteurizer* Milk Processor* Molasses Preparer* Pasteurizer* Winemaker",
          "Septic tank servicers and sewer pipe cleaners    * Electric Sewer Cleaning Machine Operator* Septic Pump Truck Driver* Septic Tank Cleaner* Sewage Screen Operator* Sewer Cleaner* Sewer Pipe Cleaner* Sewer and Drain Technician",
          "Sheet metal workers    * Air Conditioning Sheet Metal Installer* Heating, Ventilation, and Air Conditioning  (HVAC) Sheet Metal Installer* Sheet Metal Duct Installer* Sheet Metal Fabricator* Sheet Metal Former* Sheet Metal Installer* Sheet Metal Layout Mechanic* Sheet Metal Layout Worker* Sheet Metal Worker* Tinsmith",
          "Shipping, receiving, and inventory clerks    * Freight Clerk* Incoming Freight Clerk* Receiving Clerk* Reconsignment Clerk* Route Delivery Clerk* Shipping Order Clerk* Shipping and Receiving Clerk* Store Receiving Clerk",
          "Shoe and leather workers and repairers    * Cobbler* Leather Lacer* Leather Worker* Luggage Repairer* Saddle Maker* Saddle and Harness Maker* Shoe Maker* Shoemaker",
          "Shoe machine operators and tenders    * Arch Cushion Press Operator* Insole Beveler* Lacing Operator* Lasting Machine Operator* Pump Stitcher* Rasper Machine Operator* Shoe Cementer* Shoe Sewing Machine Operator and Tender* Sole Trimmer",
          "Signal and track switch repairers    * Electric Track Switch Maintainer* Light Rail Signal Technician* Rail Signal Mechanic* Railway Signal Technician* Third Rail Installer* Train Control Electronic Technician* Train Control Technician",
          "Social and human service assistants    * Addictions Counselor Assistant* Case Work Aide* Clinical Social Work Aide* Family Service Assistant* Human Services Worker* Social Work Assistant",
          "Solar photovoltaic installers    * PV Installer* PV Panel Installer* Photovoltaic (PV) Installation Technician* Solar PV Installer",
          "Stationary engineers and boiler operators    * Boiler Engineer* Boiler Operator¿¿¿* Boiler Plant Operator* Boiler Room Operator* Heating, Ventilation, and Air Conditioning (HVAC) Mechanic Boiler Operator* High Pressure Boiler Operator",
          "Stockers and order fillers",
          "Stonemasons    * Banker Mason* Curbstone Setter* Granite Setter* Memorial Mason* Monument Mason* Rock Mason* Stone Chimney Mason* Stone Layer* Stonemason",
          "Structural iron and steel workers    * Bridge Ironworker* Construction Ironworker* Iron Guardrail Installer* Metal Tank Erector* Ornamental Ironworker* Pre-Engineered Metal Building Ironworker* Precast Concrete Ironworker* Steel Fabricator* Steel Fitter* Structural Steel Erector* Wind Turbine Erector",
          "Structural metal fabricators and fitters    * Mill Beam Fitter* Protector Plate Attacher",
          "Subway and streetcar operators    * Light Rail Operator* Light Rail Transit Operator* Light Rail Vehicle Operator* Rapid Transit Operator* Subway Conductor* Subway Train Operator* Tram Operator* Trolley Car Operator",
          "Surveying and mapping technicians    * Cartographic Aide* Cartographic Technician* Field Map Technician* GIS Mapping Technician* Geophysical Prospecting Surveying Technician* Mapping Technician* Mineral Surveying Technician* Surveying Technician* Topography Technician",
          "Switchboard operators, including answering service    * PBX Operator* Private Branch Exchange Operator* Telephone Answering Service Operator* Telephone Switchboard Operator",
          "Tax preparers    * Corporate Tax Preparer* Income Tax Advisor* Income Tax Preparer* Licensed Tax Consultant* Tax Consultant* Tax Specialist",
          "Telecommunications line installers and repairers    * Cable Television Installer* FIOS Line Installer* Fiber Optic Technician* Telecommunication Lines Repairer* Telecommunications Line Installer* Telephone Cable Splicer* Telephone Lines Repairer* Telephone Lineworker",
          "Telephone operators    * 411 Directory Assistance Operator* Directory Assistance Operator* Information Operator* Local Telephone Operator* Long Distance Operator* Telephone Exchange Operator",
          "Tellers    * Bank Teller* Commercial Teller* Exchange Teller* Foreign Banknote Teller* Foreign Exchange Clerk* Loan Teller* Money Order Clerk* Receiving Teller* Savings Teller* Securities Teller",
          "Terrazzo workers and finishers    * Granite-Chip Terrazzo  Finisher* Marble-Chip Terrazzo Worker* Onyx-Chip Terrazzo Worker* Rustic Terrazzo Setter* Terrazzo Finisher* Terrazzo Grinder* Terrazzo Installer* Terrazzo Layer* Terrazzo Setter* Terrazzo Worker",
          "Textile bleaching and dyeing machine operators and tenders    * Cloth Dyer* Dye Range Operator* Rug Dyer* Skein Yarn Dyer* Yarn Dyer",
          "Textile cutting machine setters, operators, and tenders    * Bedspread Cutter* Canvas Cutter* Cloth Cutter* Industrial Fabric Cutter* Textile Slitting Machine Operator* Twill Cutter* Upholstery Cutter* Welt Trimming Machine Operator",
          "Textile knitting and weaving machine setters, operators, and tenders    * Crochet Machine Operator* Jacquard Loom Weaver* Knitter Operator* Knitting Machine Operator* Loom Operator* Looping Machine Operator* Warp Knitting Machine Operator",
          "Textile winding, twisting, and drawing out machine setters, operators, and tenders    * Rope Machine Setter* Roving Winder* Silk Winding Machine Operator* Twister Operator* Winder Operator",
          "Textile, apparel, and furnishings workers, all other    * Apparel Embroidery Digitizer* Feltmaker* Hat Blocking Machine Operator* Swatch Maker* Tassel Making Machine Operator",
          "Timing device assemblers and adjusters",
          "Tire builders    * Auto Tire Recapper* Retreader* Tire Finisher* Tire Molder* Tire Retreader",
          "Tire repairers and changers    * Auto Tire Worker* Tire Balancer* Tire Fixer* Tire Mechanic* Tire Mounter* Tire Servicer* Tire Technician",
          "Title examiners, abstractors, and searchers    * Abstract Searcher* Abstract Writer* Advisory Title Officer* Escrow Officer* Land Title Examiner* Lease Examiner* Lien Searcher* Title Agent* Title Checker* Title Examiner* Title Inspector* Title Investigator* Title Officer* Title Searcher",
          "Tool grinders, filers, and sharpeners    * Tool Grinder* Tool Grinding Machine Operator* Tool Sharpener* Tool Straightener",
          "Tour and travel guides",
          "Traffic technicians    * Highway Traffic Control Technician* Traffic Engineering Technician* Traffic Signal Technician* Transportation Planning Technician* Transportation Technician",
          "Transit and railroad police    * Railroad Detective* Railroad Police Officer* Track Patrol* Transit Authority Police* Transit Police Officer",
          "Transportation inspectors    * Aircraft Inspector* Aircraft Landing Gear Inspector* Aircraft Quality Control Inspector* Airworthiness Safety Inspector* Freight Inspector* Locomotive Inspector* Motor Vehicle Emissions Inspector* Railroad Car Inspector* Railroad Inspector* School Bus Inspector* Transit Vehicle Inspector",
          "Transportation security screeners    * Airport Baggage Screener* Airport Security Screener* Flight Security Specialist* Transportation Security Administration (TSA) Screener* Transportation Security Officer",
          "Transportation, storage, and distribution managers    * Airport Manager* Cold Storage Supervisor* Distribution Center Manager* Logistics Manager* Logistics Supply Officer* Marine Oil Terminal Superintendent* Traffic Safety Administrator* Transportation Manager* Warehouse Manager* Warehouse Operations Manager",
          "Travel agents    * Auto Travel Counselor* Certified Corporate Travel Executive* Certified Travel Counselor* Corporate Travel Expert* Travel Agent* Travel Consultant* Travel Counselor* Travel Service Consultant",
          "Tree trimmers and pruners    * Pruner* Tree Pruner* Tree Specialist* Tree Surgeon* Tree Trimmer",
          "Umpires, referees, and other sports officials    * Athletic Events Scorer* Baseball Umpire* Diving Judge* Dressage Judge* Equestrian Events Judge* Handicapper* Horse Show Judge* Paddock Judge* Pit Steward* Placing Judge* Race Starter",
          "Underground mining machine operators and extraction workers, all other",
          "Upholsterers    * Aircraft Seat Upholsterer* Auto Upholsterer* Chair Upholsterer* Dining Chair Seat Cushion Trimmer* Furniture Upholsterer* Seating Upholsterer",
          "Veterinary assistants and laboratory animal caretakers    * Laboratory Animal Caretaker* Veterinarian Assistant* Veterinarian Helper* Veterinary Attendant",
          "Watch and clock repairers    * Antique Clock Repairer* Chronometer Repairer* Clock Repair Technician* Clockmaker* Clocksmith* Horologist* Time Piece Repairer* Watchmaker",
          "Water and wastewater treatment plant and system operators    * Industrial Waste Treatment Technician* Lead Sewage Plant Operator* Liquid Waste Treatment Plant Operator* Sewage Plant Operator* Waste Treatment Operator* Wastewater Operator* Water Plant Operator* Water Treatment Technician",
          "Weighers, measurers, checkers, and samplers, recordkeeping    * Bean Weigher* Cheese Weigher* Freight Checker* Sample Checker* Scale Attendant* Scale Clerk* Scale Operator* Warehouse Checker* Weighing Station Operator* Wool Sampler",
          "Welders, cutters, solderers, and brazers    * Aluminum Welder* Arc Welder* Brazer* Certified Maintenance Welder* Cutting Torch Operator* Pipe Welder* Silver Solderer* Sub Arc Operator* Welder Fitter* Wire Welder",
          "Welding, soldering, and brazing machine setters, operators, and tenders    * Brazing Machine Operator* Brazing Machine Setter and Setup Operator* Brazing Machine Tender* Electron Beam Welder Setter* Machine Welder* Reserve Tube Welder* Soldering Machine Operator* Soldering Machine Setter and Setup Operator* Soldering Machine Tender* Ultrasonic Welding Machine Operator* Welding Machine Operator",
          "Wellhead pumpers    * Oil Field Pumper* Oil Well Pumper* Oilfield Plant and Field Operator* Wellhead Pumper",
          "Woodworkers, all other    * Pole Framer* Timber Framer* Wood Carver* Wood Casket Assembler* Wood Veneer Taper",
          "Woodworking machine setters, operators, and tenders, except sawing    * CNC Wood Lathe Operator* Roof Truss Builder* Speed Belt Sander* Tenon Operator* Wood Boring Machine Operator* Wood Dowel Machine Operator* Wood Lathe Operator* Wood Planer",
          "Word processors and typists    * Clerk Typist* Dictaphone Typist* Legal Transcriptionist* Statistical Typist* Transcription Typist* Typist* Word Processor"
         ],
         "legendgroup": "High school diploma or equivalent",
         "marker": {
          "color": "#00cc96",
          "size": [
           7,
           7,
           7,
           7,
           7,
           7,
           7,
           7,
           7,
           7,
           7,
           7,
           7,
           7,
           7,
           7,
           7,
           7,
           7,
           7,
           7,
           7,
           7,
           7,
           7,
           7,
           7,
           7,
           7,
           7,
           7,
           7,
           7,
           7,
           7,
           7,
           7,
           7,
           7,
           7,
           7,
           7,
           7,
           7,
           7,
           7,
           7,
           7,
           7,
           7,
           7,
           7,
           7,
           7,
           7,
           7,
           7,
           7,
           7,
           7,
           7,
           7,
           7,
           7,
           7,
           7,
           7,
           7,
           7,
           7,
           7,
           7,
           7,
           7,
           7,
           7,
           7,
           7,
           7,
           7,
           7,
           7,
           7,
           7,
           7,
           7,
           7,
           7,
           7,
           7,
           7,
           7,
           7,
           7,
           7,
           7,
           7,
           7,
           7,
           7,
           7,
           7,
           7,
           7,
           7,
           7,
           7,
           7,
           7,
           7,
           7,
           7,
           7,
           7,
           7,
           7,
           7,
           7,
           7,
           7,
           7,
           7,
           7,
           7,
           7,
           7,
           7,
           7,
           7,
           7,
           7,
           7,
           7,
           7,
           7,
           7,
           7,
           7,
           7,
           7,
           7,
           7,
           7,
           7,
           7,
           7,
           7,
           7,
           7,
           7,
           7,
           7,
           7,
           7,
           7,
           7,
           7,
           7,
           7,
           7,
           7,
           7,
           7,
           7,
           7,
           7,
           7,
           7,
           7,
           7,
           7,
           7,
           7,
           7,
           7,
           7,
           7,
           7,
           7,
           7,
           7,
           7,
           7,
           7,
           7,
           7,
           7,
           7,
           7,
           7,
           7,
           7,
           7,
           7,
           7,
           7,
           7,
           7,
           7,
           7,
           7,
           7,
           7,
           7,
           7,
           7,
           7,
           7,
           7,
           7,
           7,
           7,
           7,
           7,
           7,
           7,
           7,
           7,
           7,
           7,
           7,
           7,
           7,
           7,
           7,
           7,
           7,
           7,
           7,
           7,
           7,
           7,
           7,
           7,
           7,
           7,
           7,
           7,
           7,
           7,
           7,
           7,
           7,
           7,
           7,
           7,
           7,
           7,
           7,
           7,
           7,
           7,
           7,
           7,
           7,
           7,
           7,
           7,
           7,
           7,
           7,
           7,
           7,
           7,
           7,
           7,
           7,
           7,
           7,
           7,
           7,
           7,
           7,
           7,
           7,
           7,
           7,
           7,
           7,
           7,
           7,
           7,
           7,
           7,
           7,
           7,
           7,
           7,
           7,
           7,
           7,
           7,
           7,
           7,
           7,
           7,
           7,
           7,
           7,
           7,
           7,
           7,
           7,
           7,
           7,
           7,
           7,
           7,
           7,
           7,
           7,
           7,
           7,
           7,
           7,
           7,
           7,
           7,
           7,
           7,
           7,
           7
          ],
          "sizemode": "area",
          "sizeref": 0.02,
          "symbol": "circle"
         },
         "mode": "markers",
         "name": "High school diploma or equivalent",
         "orientation": "v",
         "showlegend": true,
         "type": "scatter",
         "x": [
          "34,340",
          "53,310",
          "53,850",
          "37,000",
          "54,210",
          "52,650",
          "25,890",
          "42,920",
          "24,780",
          "37,590",
          "30,430",
          "43,580",
          "35,790",
          "25,580",
          "47,830",
          "30,330",
          "37,000",
          "38,740",
          "63,100",
          "53,100",
          "50,110",
          "52,750",
          "48,500",
          "43,030",
          "35,790",
          "38,880",
          "43,740",
          "48,330",
          "51,530",
          "49,130",
          "62,550",
          "24,230",
          "46,330",
          "66,790",
          "31,850",
          "38,150",
          "36,520",
          "35,420",
          "86,080",
          "42,790",
          "40,360",
          "41,200",
          "31,390",
          "60,710",
          "58,100",
          "35,290",
          "45,180",
          "38,140",
          "41,410",
          "29,690",
          "39,380",
          "56,690",
          "40,100",
          "27,130",
          "37,560",
          "34,710",
          "35,600",
          "35,610",
          "33,490",
          "41,340",
          "83,170",
          "40,190",
          "47,040",
          "38,910",
          "25,860",
          "46,250",
          "44,070",
          "72,520",
          "34,810",
          "56,180",
          "37,380",
          "84,990",
          "46,590",
          "45,660",
          "26,460",
          "30,620",
          "44,800",
          "60,890",
          "40,390",
          "36,320",
          "36,110",
          "35,480",
          "45,070",
          "44,650",
          "42,200",
          "71,160",
          "35,480",
          "32,710",
          "42,420",
          "66,210",
          "63,730",
          "48,280",
          "33,400",
          "50,710",
          "40,780",
          "49,370",
          "67,460",
          "74,760",
          "56,620",
          "39,800",
          "91,090",
          "61,310",
          "40,350",
          "55,060",
          "56,640",
          "28,040",
          "30,790",
          "31,110",
          "55,320",
          "31,770",
          "45,270",
          "39,670",
          "35,590",
          "27,930",
          "40,090",
          "32,480",
          "24,750",
          "28,040",
          "21,260",
          "74,970",
          "28,300",
          "34,190",
          "66,160",
          "70,710",
          "44,630",
          "36,100",
          "43,900",
          "38,460",
          "53,420",
          "38,250",
          "32,830",
          "37,120",
          "30,530",
          "32,100",
          "29,100",
          "40,730",
          "40,260",
          "25,280",
          "24,470",
          "53,590",
          "41,360",
          "39,140",
          "39,830",
          "48,690",
          "40,750",
          "50,940",
          "34,970",
          "40,870",
          "40,100",
          "49,940",
          "47,300",
          "27,490",
          "34,730",
          "73,460",
          "40,640",
          "25,110",
          "41,940",
          "67,090",
          "54,430",
          "37,280",
          "41,440",
          "39,780",
          "44,420",
          "30,960",
          "39,080",
          "47,520",
          "33,890",
          "41,570",
          "47,580",
          "40,690",
          "37,440",
          "36,580",
          "29,460",
          "34,830",
          "42,250",
          "42,280",
          "43,210",
          "55,560",
          "32,350",
          "39,720",
          "50,490",
          "37,780",
          "53,370",
          "57,020",
          "59,260",
          "34,030",
          "32,130",
          "41,330",
          "36,330",
          "36,650",
          "36,550",
          "100,530",
          "51,550",
          "29,230",
          "35,470",
          "34,040",
          "33,450",
          "48,980",
          "32,620",
          "37,840",
          "28,980",
          "36,100",
          "30,990",
          "39,210",
          "40,920",
          "26,570",
          "46,910",
          "64,880",
          "40,130",
          "46,180",
          "37,330",
          "35,840",
          "74,180",
          "27,850",
          "33,950",
          "36,280",
          "32,280",
          "27,000",
          "62,600",
          "58,390",
          "33,500",
          "55,160",
          "63,150",
          "48,330",
          "51,310",
          "60,140",
          "76,900",
          "38,620",
          "90,700",
          "81,990",
          "58,720",
          "33,040",
          "36,910",
          "50,510",
          "43,310",
          "29,800",
          "48,260",
          "58,760",
          "31,110",
          "41,910",
          "45,040",
          "56,390",
          "51,600",
          "49,330",
          "56,100",
          "60,260",
          "65,990",
          "59,720",
          "48,930",
          "30,050",
          "26,350",
          "38,570",
          "53,990",
          "49,100",
          "38,380",
          "29,450",
          "50,860",
          "40,490",
          "59,090",
          "31,820",
          "56,130",
          "59,930",
          "30,410",
          "30,990",
          "37,690",
          "48,970",
          "29,680",
          "39,190",
          "38,060",
          "41,330",
          "39,870",
          "50,400",
          "34,190",
          "29,560",
          "30,570",
          "73,890",
          "35,060",
          "44,890",
          "62,150",
          "27,380",
          "43,280",
          "55,040",
          "40,390",
          "67,880",
          "45,010",
          "30,610",
          "43,080",
          "56,750",
          "35,750",
          "31,230",
          "52,180",
          "29,460",
          "28,730",
          "29,980",
          "29,790",
          "27,970",
          "35,080",
          "46,010",
          "28,640",
          "48,180",
          "39,330",
          "27,600",
          "47,480",
          "71,820",
          "75,820",
          "41,770",
          "94,560",
          "40,660",
          "39,980",
          "28,550",
          "50,160",
          "35,130",
          "28,590",
          "42,520",
          "47,760",
          "35,040",
          "42,490",
          "38,310",
          "55,040",
          "33,110",
          "30,990",
          "40,340"
         ],
         "xaxis": "x",
         "y": [
          -1.8,
          -6.5,
          5.4,
          4.4,
          -17.4,
          6.1,
          9.4,
          -3.2,
          22.9,
          6.5,
          13.3,
          2.9,
          -0.4,
          5.3,
          -0.3,
          4.9,
          -6.4,
          1.9,
          0.9,
          -6.4,
          1.3,
          3.8,
          3.4,
          9.3,
          -2.9,
          2.6,
          5.5,
          -0.4,
          6.4,
          1.7,
          -3.1,
          1.7,
          14,
          -6.4,
          1.4,
          1.7,
          -18.7,
          -2,
          9.1,
          9.1,
          15.2,
          -7,
          6.7,
          3.2,
          0.2,
          3.8,
          -7.5,
          -3.2,
          4.7,
          -2.2,
          4.8,
          1.7,
          -4.8,
          15.7,
          -5.7,
          -2,
          -4.8,
          -8.3,
          -24.6,
          9.4,
          1.1,
          -0.9,
          4.5,
          -19,
          3,
          7.8,
          4.1,
          1.7,
          1.4,
          8.4,
          -23.2,
          6.6,
          3.8,
          -15.2,
          6.2,
          -4.6,
          2.9,
          -20.4,
          15.4,
          -10.5,
          -6.4,
          -3.1,
          -11.4,
          -16.7,
          1.3,
          -6.5,
          -5.3,
          -14.6,
          8.6,
          4.8,
          -7.8,
          -1.1,
          5.9,
          16.4,
          8.4,
          11.4,
          2.7,
          -8.3,
          -3,
          11.2,
          5.2,
          -0.3,
          -5.5,
          5.1,
          17.3,
          -20.1,
          1.3,
          0.5,
          0.6,
          -0.5,
          24.3,
          -21.1,
          -5.8,
          -2.9,
          -0.7,
          -3.7,
          3.7,
          5.7,
          7.7,
          8.8,
          6.5,
          5.6,
          -2.1,
          -5.6,
          3.9,
          -8.2,
          8.2,
          6.9,
          10.5,
          -10.3,
          1.5,
          20.2,
          4.4,
          5.6,
          6.8,
          5,
          -6.9,
          33.7,
          -6.9,
          15.6,
          3,
          -17,
          2.5,
          4.5,
          -2.2,
          5.5,
          2.5,
          -10,
          -10.1,
          -10.2,
          -22.1,
          -3.8,
          5.9,
          4.9,
          8.3,
          8.1,
          -7.5,
          -3.5,
          -11.7,
          -11.4,
          -12.5,
          -14.5,
          4.2,
          -6.7,
          4.2,
          6.1,
          -22.3,
          3.6,
          8.1,
          11.5,
          5.9,
          9.5,
          -3.4,
          -8.6,
          0,
          -11.5,
          -18.6,
          6.9,
          -12.8,
          4.3,
          1.6,
          1.2,
          0.7,
          -8.2,
          -0.2,
          -6.1,
          -9.6,
          0.8,
          2.1,
          -7.1,
          -14.7,
          -35.7,
          4.8,
          19.9,
          4,
          -5,
          -13.1,
          4,
          7.6,
          4,
          5,
          3.8,
          1.4,
          -5.7,
          -36.2,
          4.4,
          -8.4,
          -4.7,
          4.7,
          -4.5,
          8.5,
          8.3,
          -0.5,
          -15.7,
          3.6,
          -3.6,
          -19.4,
          21.3,
          4.4,
          0,
          -8.8,
          4.3,
          5.7,
          -13.5,
          -13.5,
          -17.8,
          -21.9,
          -8.6,
          -7.7,
          -15.1,
          3.3,
          -14.8,
          -13.3,
          8.3,
          -7.5,
          2.1,
          3.9,
          0.2,
          10.9,
          6.2,
          9.7,
          -3.2,
          -4.7,
          -6.8,
          3.4,
          -5.5,
          -2.1,
          2.6,
          2.3,
          3.6,
          10,
          5.1,
          -19.3,
          5,
          -2.9,
          11.8,
          4.6,
          -11.3,
          -16,
          1.9,
          6,
          0.9,
          -6.9,
          4.3,
          -10.1,
          10.3,
          2.8,
          10.3,
          0.7,
          3.5,
          10.1,
          1.3,
          -8.7,
          -10.3,
          -14.5,
          -0.7,
          16.8,
          50.5,
          2.2,
          0.7,
          -3.2,
          4.7,
          -16,
          5.3,
          0.7,
          -22.5,
          -0.6,
          -1.6,
          -27.9,
          -15.3,
          -10.3,
          -11.9,
          -10.5,
          -12.8,
          -9.7,
          -4.9,
          -22.3,
          0.5,
          2.3,
          -2.6,
          -4.8,
          5.4,
          6,
          4,
          2.4,
          -3.1,
          3.5,
          -25.9,
          10.7,
          8,
          9.3,
          -4,
          15.8,
          -32.3,
          -4.2,
          5.1,
          3.1,
          -6.8,
          4.2,
          -4.6,
          -2.4,
          -36.4
         ],
         "yaxis": "y"
        },
        {
         "customdata": [
          [
           "5 years or more",
           0.3
          ],
          [
           "None",
           2.1
          ],
          [
           "None",
           0.5
          ],
          [
           "None",
           4.4
          ],
          [
           "None",
           5.1
          ],
          [
           "None",
           4.9
          ],
          [
           "None",
           2.4
          ],
          [
           "None",
           1.9
          ],
          [
           "None",
           13.3
          ],
          [
           "None",
           4
          ],
          [
           "None",
           9.3
          ],
          [
           "None",
           12
          ],
          [
           "None",
           4.3
          ],
          [
           "None",
           4.5
          ],
          [
           "None",
           3.1
          ],
          [
           "None",
           3.2
          ],
          [
           "None",
           2.6
          ],
          [
           "None",
           6.7
          ],
          [
           "None",
           0.2
          ],
          [
           "None",
           2.8
          ],
          [
           "None",
           5.2
          ],
          [
           "Less than 5 years",
           4.8
          ],
          [
           "None",
           8.6
          ],
          [
           "None",
           2.1
          ],
          [
           "None",
           3.7
          ],
          [
           "None",
           6.1
          ],
          [
           "None",
           5.7
          ],
          [
           "None",
           2.2
          ],
          [
           "None",
           -0.6
          ],
          [
           "None",
           2.9
          ],
          [
           "Less than 5 years",
           20.5
          ],
          [
           "None",
           3.6
          ],
          [
           "5 years or more",
           3.4
          ],
          [
           "None",
           3.4
          ],
          [
           "Less than 5 years",
           6.9
          ],
          [
           "None",
           4
          ],
          [
           "None",
           3
          ],
          [
           "None",
           1.3
          ],
          [
           "None",
           6.1
          ],
          [
           "Less than 5 years",
           17.6
          ],
          [
           "None",
           -1.4
          ],
          [
           "None",
           4.3
          ],
          [
           "None",
           2.4
          ],
          [
           "None",
           2.4
          ],
          [
           "None",
           -1.6
          ],
          [
           "None",
           -3.3
          ],
          [
           "None",
           6.7
          ],
          [
           "None",
           18.2
          ],
          [
           "None",
           4.3
          ],
          [
           "None",
           7.3
          ],
          [
           "None",
           4.4
          ],
          [
           "None",
           0.2
          ],
          [
           "None",
           4.9
          ],
          [
           "None",
           2
          ],
          [
           "None",
           2.2
          ],
          [
           "None",
           11.9
          ],
          [
           "None",
           8.8
          ],
          [
           "None",
           2.6
          ],
          [
           "None",
           -0.3
          ],
          [
           "None",
           5.7
          ],
          [
           "None",
           3.8
          ],
          [
           "None",
           -2.2
          ],
          [
           "None",
           15.9
          ]
         ],
         "hovertemplate": "<b>%{hovertext}</b><br><br>Typical Entry-Level Education=Doctoral or professional degree<br>Median Annual Wage 2019=%{x}<br>Employment Percent Change, 2019-2029=%{customdata[1]}<br>Education Code=%{marker.size}<br>Work Experience in a Related Occupation=%{customdata[0]}<extra></extra>",
         "hovertext": [
          "Administrative law judges, adjudicators, and hearing officers    * Appeals Examiner* Appeals Referee* Appellate Conferee* Hearing Examiner* Hearing Officer* Justice of The Peace* Traffic Court Referee",
          "Agricultural sciences teachers, postsecondary    * Agricultural Soil Conservation Professor* Agronomy Professor* Animal Husbandry Professor* Animal Science Professor* Aquaculture and Fisheries Professor* Farm Management Professor* Floriculture Professor* Horticulture Instructor* Olericulture Professor",
          "Anesthesiologists",
          "Anthropology and archeology teachers, postsecondary    * Cultural Anthropology Professor* Ethnoarchaeology Professor* Near East Archeology Professor* Paleology Professor* Sociocultural Anthropology Professor",
          "Architecture teachers, postsecondary    * Architectural Design Professor* Architecture Professor* Interior Design Professor* Landscape Architecture Professor",
          "Area, ethnic, and cultural studies teachers, postsecondary    * African Studies Professor* Asian Studies Professor* Black Studies Professor* Ethnology Professor* Gender Studies Professor* Latin American Studies Professor* Women's Studies Professor",
          "Astronomers    * Astronomer* Astrophysicist",
          "Atmospheric, earth, marine, and space sciences teachers, postsecondary    * Climatology Professor* Earth Science Professor* Geology Professor* Geoscience Professor* Meteorology Professor* Mineralogy Professor* Oceanic Sciences Professor* Oceanography Professor* Volcanology Professor",
          "Audiologists    * Audiologist* Clinical Audiologist* Dispensing Audiologist* Educational Audiologist* Hearing Therapist* Licensed Audiologist* Pediatric Audiologist",
          "Biochemists and biophysicists    * Biochemist* Biological Chemist* Biophysicist* Clinical Biochemist* Physical Biochemist",
          "Biological science teachers, postsecondary    * Anatomy Professor* Bacteriology Professor* Biochemistry Professor* Botany Professor* Embryology Professor* Microbiology Professor* Zoology Professor",
          "Business teachers, postsecondary    * Accounting Professor* Banking and Finance Instructor* Business Administration Professor* Finance Professor* Management Professor* Marketing Instructor* Marketing Professor",
          "Chemistry teachers, postsecondary    * Chemistry Professor* Inorganic Chemistry Professor* Organic Chemistry Professor* Physical Chemistry Professor* Phytochemistry Professor",
          "Chiropractors    * Chiropractic Doctor* Chiropractic Physician* Chiropractor",
          "Clinical, counseling, and school psychologists    * Child Psychologist* Child Psychometrist* Clinical Psychologist* Eating Disorder Psychologist* Educational Psychologist* Geropsychologist* Pediatric Psychologist* School Psychologist* School Psychometrist* Vocational Psychologist",
          "Communications teachers, postsecondary    * Interpersonal Communications Professor* Journalism Professor* Media Arts Professor* Professor of Communication and Writing* Professor of Rhetoric* Public Speaking Professor* Speech Professor",
          "Computer science teachers, postsecondary    * C++ Professor* Computer Information Systems Professor* Computer Programming Professor* IT Professor* Information Systems Professor* Information Technology Professor* Java Programming Professor",
          "Criminal justice and law enforcement teachers, postsecondary    * Criminal Justice Professor* Criminology Professor* Penology Professor",
          "Dentists, all other specialists    * Endodontist* Maxillofacial Pathology* Oral Pathologist* Pediatric Dentist* Pedodontist* Periodontist* Public Health Dentist",
          "Dentists, general    * Family Dentist",
          "Economics teachers, postsecondary    * Agricultural Economics Professor* Econometrics Professor* Industrial Economics Professor* Labor Economics Professor* Macroeconomics Professor* Microeconomics Professor",
          "Education teachers, postsecondary    * Counselor Education Professor* Literacy Education Professor* Mathematics Education Professor* Primary Education Professor* Science Education Professor* Secondary Education Professor* Special Education Professor",
          "Engineering teachers, postsecondary    * Aeronautical Engineering Professor* Ceramic Engineering Professor* Chemical Engineering Professor* Civil Engineering Professor* Electrical Engineering Professor* Electronics Engineering Professor* Industrial Engineering Professor* Manufacturing Engineering Professor* Marine Engineering Professor* Mechanical Engineering Professor* Petroleum Engineering Professor",
          "English language and literature teachers, postsecondary    * Children's Literature Professor* Composition Professor* Contemporary English Literature Professor* Creative Writing English Professor* Etymology Professor* Medieval English Literature Professor* Seventeenth-Century English Literature Professor* Victorian Literature Professor",
          "Environmental science teachers, postsecondary    * Environmental Science Professor* Environmental Science, Management and Policy Professor* Environmental Studies Professor",
          "Family medicine physicians",
          "Foreign language and literature teachers, postsecondary    * Arabic Professor* Biblical Languages Professor* Chinese Language Professor* French Professor* German Professor* Greek Professor* Hebrew Professor* Japanese Professor* Russian Language Professor* Spanish Literature Professor",
          "Forestry and conservation science teachers, postsecondary    * Ecology Professor* Environmental Conservation Professor* Forest Biometrics Professor* Forest Ecology Professor* Forest Management Professor* Forest Pathology Professor* Forest Resources Professor* Forest Technology Professor* Silviculture Professor* Timber Management Professor* Wildlife Conservation Professor",
          "General internal medicine physicians",
          "Geography teachers, postsecondary    * Cartography Professor* GIS Professor* Geographic Information Systems Professor* Geomatics Professor",
          "Health specialties teachers, postsecondary    * Clinical Laboratory Science Professor* Clinical Sciences Professor* Dentistry Professor* Gastroenterology Professor* Neurology Professor* Nutrition Professor* Occupational Therapy Professor* Optometry Professor* Pharmacology Professor* Physical Therapy Professor* Podiatric Medicine Professor* Podiatry Professor* Public Health Professor",
          "History teachers, postsecondary    * African History Professor* American History Professor* Historiography Professor* Jewish History Professor* Russian History Professor* South Asian History Professor",
          "Judges, magistrate judges, and magistrates    * Administrative Court Justice* Circuit Court Judge* County Court Judge* Criminal Court Judge* District Court Judge* Jurist* Justice* Probate Judge* Trial Court Judge* Tribal Judge",
          "Judicial law clerks    * Judicial Clerk",
          "Law teachers, postsecondary    * Constitutional Law Professor* Contracts Law Professor* Criminal Law Professor* Environmental Law Professor* Labor Law Professor* Torts Law Professor",
          "Lawyers    * Agency Legal Counsel* Assistant Attorney General* Assistant Corporation Counsel* Assistant Counsel* Associate Attorney* Attorney* Attorney At Law* Attorney General* Brief Writer* City Attorney* Civil Lawyer* Commonwealth Attorney* Corporate Attorney* Corporate Counsel* Corporate Counselor* County Attorney* Defense Attorney* Deputy Attorney General* Deputy Chief Counsel* District Attorney* Environmental Attorney* Estate Conservator* General Counsel* Insurance Attorney* Lawyer* Legal Counsel* Probate Lawyer* Prosecutor* Public Defender* Real Estate Attorney* Sports Attorney* Tax Attorney* Trial Attorney* Trial Lawyer",
          "Library science teachers, postsecondary    * Library and Information Science Professor* Library and Information Technology Instructor* Medical Records Library Professor",
          "Mathematical science teachers, postsecondary    * Actuarial Science Professor* Biostatistics Professor* Calculus Professor* Geometry Professor* Mathematics Professor* Statistical Methods Professor* Statistics Professor* Topology Professor",
          "Medical scientists, except epidemiologists    * Cancer Researcher* Clinical Pharmacologist* Clinical Research Scientist* Gerontologist* Histologist* Histopathologist* Immunochemist* Industrial Pharmacist* Medical Health Researcher* Medical Research Scientist* Medical Scientist* Neuroscientist* Pharmacologist* Serologist* Toxicologist",
          "Nursing instructors and teachers, postsecondary    * Advanced Nursing Professor* Clinical Nursing Instructor* Clinical Nursing Professor* Registered Nursing Professor",
          "Obstetricians and gynecologists",
          "Optometrists    * Doctor of Optometry* Optometrist",
          "Oral and maxillofacial surgeons    * Dental Surgeon* Maxillofacial Surgeon* Oral Surgeon",
          "Orthodontists    * Dentofacial Orthopedics Dentist* Invisible Braces Orthodontist* Orthodontist* Pediatric Orthodontist",
          "Pediatricians, general",
          "Pharmacists    * Apothecary* Clinical Pharmacist* Druggist* Hospital Pharmacist* Registered Pharmacist",
          "Philosophy and religion teachers, postsecondary    * Biblical Studies Professor* Divinity Professor* Eastern Philosophy Professor* Old Testament Professor* Pastoral Ministries Professor* Religious Studies Professor* Theology Professor* Western Philosophy Professor",
          "Physical therapists    * Cardiopulmonary Physical Therapist* Geriatric Physical Therapist* Orthopedic Physical Therapist* PT* Pediatric Physical Therapist* Physical Therapist* Physiotherapist* Pulmonary Physical Therapist* Sports Physical Therapist",
          "Physicians, all other; and ophthalmologists, except pediatric",
          "Physicists    * Fluid Dynamicist* Health Physicist* Mathematical Physicist* Medical Physicist* Molecular Physicist* Nuclear Physicist* Optical Scientist* Research Physicist* Rheologist* Thermodynamic Physicist* Thermodynamicist",
          "Physics teachers, postsecondary    * Aerodynamics Professor* Astrophysics Professor* Atomic Physics Professor* Ballistics Professor* Hydrodynamics Professor* Medical Physics Professor* Nuclear Physics Professor* Physical Science Professor* Thermodynamics Professor",
          "Podiatrists    * Chiropodist* Doctor of Podiatric Medicine* Foot Doctor* Foot Orthopedist* Foot and Ankle Surgeon* Orthopedic Podiatrist* Podiatric Physician",
          "Political science teachers, postsecondary    * Government Professor* International Relations Professor* Political Theory Professor* Public Policy Professor",
          "Postsecondary teachers, all other    * Braille Teacher* Flight Simulator Teacher* Interdisciplinary Professor* Military Science Teacher* Project Management Professor",
          "Prosthodontists    * Maxillofacial Prosthetics Dentist* Maxillofacial Prosthodontist* Prosthodontist* Reconstructive Dentist",
          "Psychiatrists",
          "Psychology teachers, postsecondary    * Applied Psychology Professor* Child Development Professor* Clinical Psychology Professor* Educational Psychology Professor* Human Relations Professor* Industrial Psychology Professor* Industrial/Organizational Psychology Professor* Psychology Professor",
          "Recreation and fitness studies teachers, postsecondary    * Health and Physical Education Professor* Human Performance Professor* Kinesiology Professor* Leisure Studies Professor* Physical Education (PE) Professor* Physical Education Professor* Swimming Professor",
          "Social sciences teachers, postsecondary, all other    * Social Science Professor* Survey Research Professor* Urban Planning Professor",
          "Social work teachers, postsecondary    * Family Welfare Social Work Professor* Geriatric Social Work Professor* Health Social Work Professor* Social Work Professor",
          "Sociology teachers, postsecondary    * Comparative Sociology Professor* Race Relations Professor* Social Organization Professor",
          "Surgeons, except ophthalmologists",
          "Veterinarians    * Animal Pathologist* Animal Surgeon* Doctor of Veterinary Medicine* Doctor of Veterinary Medicine (DVM)* Equine Veterinarian* Large Animal Veterinarian* Poultry Pathologist* Public Health Veterinarian* Small Animal Veterinarian* Veterinary Medicine Scientist* Wildlife Veterinarian"
         ],
         "legendgroup": "Doctoral or professional degree",
         "marker": {
          "color": "#ab63fa",
          "size": [
           1,
           1,
           1,
           1,
           1,
           1,
           1,
           1,
           1,
           1,
           1,
           1,
           1,
           1,
           1,
           1,
           1,
           1,
           1,
           1,
           1,
           1,
           1,
           1,
           1,
           1,
           1,
           1,
           1,
           1,
           1,
           1,
           1,
           1,
           1,
           1,
           1,
           1,
           1,
           1,
           1,
           1,
           1,
           1,
           1,
           1,
           1,
           1,
           1,
           1,
           1,
           1,
           1,
           1,
           1,
           1,
           1,
           1,
           1,
           1,
           1,
           1,
           1
          ],
          "sizemode": "area",
          "sizeref": 0.02,
          "symbol": "circle"
         },
         "mode": "markers",
         "name": "Doctoral or professional degree",
         "orientation": "v",
         "showlegend": true,
         "type": "scatter",
         "x": [
          "97,870",
          "83,260",
          ">=208,000",
          "86,220",
          "87,900",
          "77,070",
          "114,590",
          "92,040",
          "77,600",
          "94,490",
          "83,300",
          "87,200",
          "79,550",
          "70,340",
          "78,200",
          "70,630",
          "85,180",
          "62,860",
          "147,220",
          "155,600",
          "104,370",
          "65,510",
          "101,010",
          "68,490",
          "82,430",
          "205,590",
          "69,990",
          "85,450",
          "201,590",
          "80,520",
          "97,320",
          "75,170",
          "136,910",
          "54,010",
          "113,530",
          "122,960",
          "71,410",
          "73,690",
          "88,790",
          "74,600",
          ">=208,000",
          "115,250",
          ">=208,000",
          ">=208,000",
          "175,310",
          "128,090",
          "75,240",
          "89,440",
          "206,500",
          "122,850",
          "89,590",
          "126,240",
          "85,930",
          "68,970",
          ">=208,000",
          ">=208,000",
          "76,620",
          "64,380",
          "71,530",
          "72,070",
          "75,290",
          ">=208,000",
          "95,460"
         ],
         "xaxis": "x",
         "y": [
          0.3,
          2.1,
          0.5,
          4.4,
          5.1,
          4.9,
          2.4,
          1.9,
          13.3,
          4,
          9.3,
          12,
          4.3,
          4.5,
          3.1,
          3.2,
          2.6,
          6.7,
          0.2,
          2.8,
          5.2,
          4.8,
          8.6,
          2.1,
          3.7,
          6.1,
          5.7,
          2.2,
          -0.6,
          2.9,
          20.5,
          3.6,
          3.4,
          3.4,
          6.9,
          4,
          3,
          1.3,
          6.1,
          17.6,
          -1.4,
          4.3,
          2.4,
          2.4,
          -1.6,
          -3.3,
          6.7,
          18.2,
          4.3,
          7.3,
          4.4,
          0.2,
          4.9,
          2,
          2.2,
          11.9,
          8.8,
          2.6,
          -0.3,
          5.7,
          3.8,
          -2.2,
          15.9
         ],
         "yaxis": "y"
        },
        {
         "customdata": [
          [
           "None",
           7
          ],
          [
           "None",
           4.1
          ],
          [
           "None",
           0.5
          ],
          [
           "None",
           -2.5
          ],
          [
           "None",
           4.4
          ],
          [
           "None",
           3.1
          ],
          [
           "None",
           2.1
          ],
          [
           "None",
           5.4
          ],
          [
           "None",
           2.8
          ],
          [
           "None",
           2.5
          ],
          [
           "None",
           6.4
          ],
          [
           "None",
           5.9
          ],
          [
           "None",
           -19
          ],
          [
           "None",
           16.8
          ],
          [
           "None",
           5.9
          ],
          [
           "None",
           0.6
          ],
          [
           "None",
           1.5
          ],
          [
           "None",
           0.5
          ],
          [
           "None",
           3
          ],
          [
           "None",
           -7.6
          ],
          [
           "None",
           7.5
          ],
          [
           "None",
           8.4
          ],
          [
           "None",
           0.6
          ],
          [
           "Less than 5 years",
           -5.7
          ],
          [
           "None",
           5.5
          ],
          [
           "None",
           -5
          ],
          [
           "None",
           1.5
          ],
          [
           "None",
           -1.2
          ],
          [
           "None",
           4.7
          ],
          [
           "Less than 5 years",
           7
          ],
          [
           "None",
           -8.3
          ],
          [
           "None",
           3.1
          ],
          [
           "None",
           5.1
          ],
          [
           "None",
           -2
          ],
          [
           "None",
           5.4
          ],
          [
           "None",
           -18.9
          ],
          [
           "None",
           34.6
          ],
          [
           "None",
           10.5
          ],
          [
           "None",
           32.6
          ],
          [
           "None",
           2.5
          ],
          [
           "None",
           7.1
          ],
          [
           "None",
           3.7
          ],
          [
           "None",
           6.7
          ],
          [
           "None",
           19.4
          ],
          [
           "None",
           16.2
          ],
          [
           "None",
           8
          ]
         ],
         "hovertemplate": "<b>%{hovertext}</b><br><br>Typical Entry-Level Education=Associate's degree<br>Median Annual Wage 2019=%{x}<br>Employment Percent Change, 2019-2029=%{customdata[1]}<br>Education Code=%{marker.size}<br>Work Experience in a Related Occupation=%{customdata[0]}<extra></extra>",
         "hovertext": [
          "Aerospace engineering and operations technologists and technicians    * Altitude Chamber Technician* Flight Data Technician* Wind Tunnel Technician",
          "Agricultural and food science technicians",
          "Air traffic controllers    * Air Traffic Control Operator* Air Traffic Control Specialist* Air Traffic Controller* Air Traffic Coordinator* Airport Tower Controller* Control Tower Operator* Enroute Controller",
          "Architectural and civil drafters    * Architectural Drafter* Building Drafter* Civil Computer-Aided Design and Drafting Technician* Civil Drafter* Structural Drafter",
          "Avionics technicians    * Aircraft Armament Mechanic* Aircraft Electrician* Aircraft Instrument Mechanic* Airplane Electrician* Automatic Pilot Mechanic* Aviation Electronics Technician* In-Flight Refueling System Repairer",
          "Broadcast technicians    * Audio Engineer* Broadcast Engineer* Broadcast Maintenance Engineer* Broadcast Operations Engineer* Radio Station Audio Engineer* Radio/Television Technician* Remote Broadcast Engineer* Telecasting Engineer* Television Audio Engineer",
          "Calibration technologists and technicians and engineering technologists and technicians, except drafters, all other",
          "Cardiovascular technologists and technicians    * Cardiac Catheterization Laboratory Technologist* Cardiac Catheterization Technologist* Cardiac Monitor Technician* Cardiac Technician* Cardiopulmonary Technologist* Cardiovascular Interventional Technologist* Cardiovascular Technologist* EKG Technician* Echocardiogram Technician* Echocardiographer* Echocardiographic Technologist* Echocardiography Technician* Echocardiology Technologist* Electrocardiogram Technician* Electrocardiograph Operator* Pulmonary Function Technologist",
          "Chemical technicians    * Assayer* Chemical Laboratory Technician* Chemical Technician* Inorganic Chemical Technician",
          "Civil engineering technologists and technicians    * Civil Engineering Technician* Concrete Engineering Technician* Geotechnical Engineering Technician* Highway Engineering Technician* Structural Engineering Technician* Transportation Engineering Technician",
          "Computer network support specialists",
          "Dental hygienists",
          "Desktop publishers    * DTP Operator* Desktop Publisher* Desktop Publishing Specialist* Electronic Console Display Operator* Electronic Imager* Electronic Pagination System Operator* Electronic Publisher* Electronic Publishing Specialist",
          "Diagnostic medical sonographers    * Cardiac/Vascular Sonographer* Diagnostic Medical Sonographer* Registered Diagnostic Medical Sonographer* Sonographer* Ultrasonographer* Ultrasound Technician* Ultrasound Technologist",
          "Dietetic technicians    * Clinical Dietetic Technician* Cook Chill Technician* DTR* Dietary Aide* Dietary Technician* Dietetic Technician* Nutrition Technician* Registered Diet Technician",
          "Drafters, all other    * Blueprint Tracer* Drafting Layout Worker* Draughtsman* Geological Drafter* Marine Drafter",
          "Electrical and electronic engineering technologists and technicians    * Electrical Design Technician* Electrical Engineering Technician* Electrical Power Station Technician* Electronic Instrument Testing Technician* Lighting Engineering Technician* Programmable Logic Controller Programmer* Semiconductor Development Technician",
          "Electrical and electronics drafters    * Circuit Board Drafter* Electrical Computer Aided Design and Drafting Technician* Electrical Drafter* Electrical Systems Drafter* Electronic Drafter* Printed Circuit Board Drafter",
          "Electro-mechanical and mechatronics technologists and technicians    * Remotely Piloted Vehicle Engineering Technician* Robotics Testing Technician",
          "Embalmers    * Anatomical Embalmer* Arterial Embalmer* Embalmer Apprentice* Licensed Embalmer* Restorative Art Embalmer",
          "Environmental engineering technologists and technicians    * Air Analysis Engineering Technician* Environmental Remediation Engineering Technician* Environmental Technician* Pollution Control Engineering Technician",
          "Environmental science and protection technicians, including health",
          "Forest and conservation technicians",
          "Funeral home managers",
          "Geological and hydrologic technicians",
          "Human resources assistants, except payroll and timekeeping    * Employment Clerk* HR Clerk* Personnel Clerk",
          "Industrial engineering technologists and technicians    * Industrial Engineering Technician* Motion Study Technician* Production Control Technologist* Time Study Technician* Time Study Technologist",
          "Legal support workers, all other    * Legal Technician",
          "Life, physical, and social science technicians, all other    * Meteorological Aide* Polygraph Examiner",
          "Magnetic resonance imaging technologists    * Computed Tomography/Magnetic Resonance Imaging (CT/MRI) Technologist* MRI Technologist",
          "Mechanical drafters    * Aeronautical Drafter* Automotive Design Drafter* Die Designer* Gage Designer* Mechanical Design Drafter* Mechanical Drafter* Tool Designer* Tool and Die Designer",
          "Mechanical engineering technologists and technicians    * Gyroscopic Engineering Technician* Heat Transfer Technician* Hydraulic Technician* Mechanical Engineering Technician* Optomechanical Technician",
          "Medical equipment repairers    * BMET* Biomedical Electronics Technician* Biomedical Equipment Technician* Certified Biomedical Equipment Technician* Dental Equipment Mechanic* Dental Equipment Repairer* Durable Medical Equipment Repairer* Electromedical Equipment Technician* Radiology Equipment Servicer* Surgical Instrument Mechanic",
          "Morticians, undertakers, and funeral arrangers    * Certified Mortician* Funeral Arrangement Director* Funeral Arranger* Funeral Director* Licensed Funeral Director",
          "Nuclear medicine technologists    * Certified Nuclear Medicine Technologist* Isotope Technologist* Nuclear Cardiology Technologist* Nuclear Medical Technologist* Radioisotope Technologist* Registered Nuclear Medicine Technologist",
          "Nuclear technicians    * Nuclear Monitoring Technician* Nuclear Technician* Radiation Protection Technician* Radiochemical Technician",
          "Occupational therapy assistants    * COTA* Certified Occupational Therapy Assistant* Licensed Occupational Therapy Assistant* Occupational Therapist Assistants",
          "Paralegals and legal assistants    * Assistant Paralegal* Legal Aide* Legal Assistant* Paralegal* Summer Associate* Summer Law Clerk",
          "Physical therapist assistants    * LPTA* Licensed Physical Therapist Assistant* Physical Therapy Assistant* Physical Therapy Technician* Physiotherapy Assistant",
          "Preschool teachers, except special education    * Early Childhood Teacher* Head Start Teacher* Nursery School Teacher* Nursery Teacher* Pre-K Teacher* Pre-Kindergarten Teacher* Preschool Teacher",
          "Radiation therapists    * Dosimetrist* Radiation Therapist* Radiation Therapy Technologist* Registered Radiation Therapist",
          "Radio, cellular, and tower equipment installers and repairers    * Radio Frequency Technician* Radio Mechanic* Radio Repairer* Two-Way Radio Technician",
          "Radiologic technologists and technicians    * Computed Axial Tomography Technologist* Computed Tomography (CT) Scanner Operator* Radiologic Technician* Registered Radiologic Technologist* Skiagrapher* X-Ray Technician",
          "Respiratory therapists    * CRT* Certified Respiratory Therapist* Inhalation Therapist* Oxygen Therapist* RRT* Registered Respiratory Therapist* Respiratory Therapist",
          "Veterinary technologists and technicians    * Certified Veterinary Technician* LVT* Licensed Veterinary Technician* Registered Veterinary Technician* Veterinary Lab Tech* Veterinary Laboratory Technician* Veterinary Surgery Technician* Veterinary Surgery Technologist* Veterinary Technologist* Veterinary X-Ray Operator",
          "Web developers and digital interface designers"
         ],
         "legendgroup": "Associate's degree",
         "marker": {
          "color": "#FFA15A",
          "size": [
           4,
           4,
           4,
           4,
           4,
           4,
           4,
           4,
           4,
           4,
           4,
           4,
           4,
           4,
           4,
           4,
           4,
           4,
           4,
           4,
           4,
           4,
           4,
           4,
           4,
           4,
           4,
           4,
           4,
           4,
           4,
           4,
           4,
           4,
           4,
           4,
           4,
           4,
           4,
           4,
           4,
           4,
           4,
           4,
           4,
           4
          ],
          "sizemode": "area",
          "sizeref": 0.02,
          "symbol": "circle"
         },
         "mode": "markers",
         "name": "Associate's degree",
         "orientation": "v",
         "showlegend": true,
         "type": "scatter",
         "x": [
          "66,020",
          "41,230",
          "122,990",
          "56,340",
          "65,700",
          "40,570",
          "62,990",
          "57,720",
          "49,260",
          "53,410",
          "63,460",
          "76,220",
          "45,390",
          "74,320",
          "28,400",
          "52,830",
          "65,260",
          "61,530",
          "58,350",
          "47,760",
          "50,620",
          "46,540",
          "45,500",
          "76,350",
          "51,130",
          "41,430",
          "56,550",
          "58,400",
          "50,550",
          "73,410",
          "57,060",
          "56,980",
          "49,280",
          "54,150",
          "77,950",
          "82,080",
          "61,510",
          "51,740",
          "58,790",
          "30,520",
          "85,560",
          "55,380",
          "60,510",
          "61,330",
          "35,320",
          "73,760"
         ],
         "xaxis": "x",
         "y": [
          7,
          4.1,
          0.5,
          -2.5,
          4.4,
          3.1,
          2.1,
          5.4,
          2.8,
          2.5,
          6.4,
          5.9,
          -19,
          16.8,
          5.9,
          0.6,
          1.5,
          0.5,
          3,
          -7.6,
          7.5,
          8.4,
          0.6,
          -5.7,
          5.5,
          -5,
          1.5,
          -1.2,
          4.7,
          7,
          -8.3,
          3.1,
          5.1,
          -2,
          5.4,
          -18.9,
          34.6,
          10.5,
          32.6,
          2.5,
          7.1,
          3.7,
          6.7,
          19.4,
          16.2,
          8
         ],
         "yaxis": "y"
        },
        {
         "customdata": [
          [
           "None",
           11.4
          ],
          [
           "None",
           2.9
          ],
          [
           "None",
           10.3
          ],
          [
           "None",
           -0.2
          ],
          [
           "None",
           10
          ],
          [
           "None",
           2.4
          ],
          [
           "None",
           5.3
          ],
          [
           "None",
           5.9
          ],
          [
           "None",
           4.8
          ],
          [
           "None",
           1.7
          ],
          [
           "None",
           -8.9
          ],
          [
           "None",
           -7.4
          ],
          [
           "None",
           -2
          ],
          [
           "None",
           3.6
          ],
          [
           "None",
           5.4
          ],
          [
           "None",
           2.3
          ],
          [
           "None",
           0.4
          ],
          [
           "None",
           3.5
          ],
          [
           "None",
           -13.4
          ],
          [
           "None",
           2
          ],
          [
           "Less than 5 years",
           23.1
          ],
          [
           "None",
           -4.4
          ],
          [
           "None",
           1.1
          ],
          [
           "None",
           -1
          ],
          [
           "None",
           5.7
          ],
          [
           "None",
           -29.9
          ],
          [
           "None",
           3.1
          ],
          [
           "None",
           30.5
          ],
          [
           "None",
           6.5
          ],
          [
           "None",
           0.5
          ],
          [
           "None",
           -20
          ],
          [
           "None",
           0.4
          ],
          [
           "Less than 5 years",
           10.4
          ],
          [
           "None",
           3.8
          ],
          [
           "None",
           -8.3
          ],
          [
           "None",
           11.4
          ],
          [
           "None",
           2.2
          ],
          [
           "None",
           9.9
          ],
          [
           "None",
           2.2
          ],
          [
           "None",
           -0.8
          ],
          [
           "None",
           6.9
          ],
          [
           "None",
           -1.1
          ],
          [
           "None",
           -0.1
          ],
          [
           "None",
           6.8
          ],
          [
           "None",
           2.5
          ],
          [
           "None",
           0
          ],
          [
           "None",
           -19.5
          ],
          [
           "None",
           6.5
          ],
          [
           "None",
           4.2
          ],
          [
           "None",
           -4.7
          ],
          [
           "None",
           1.3
          ],
          [
           "None",
           1.9
          ],
          [
           "None",
           3.5
          ],
          [
           "None",
           -5
          ],
          [
           "None",
           8.2
          ],
          [
           "None",
           2.8
          ],
          [
           "None",
           1.6
          ],
          [
           "None",
           4.4
          ],
          [
           "None",
           4.2
          ],
          [
           "None",
           10.1
          ],
          [
           "None",
           0.2
          ],
          [
           "None",
           9
          ],
          [
           "None",
           -13.4
          ],
          [
           "None",
           0.2
          ],
          [
           "None",
           -0.3
          ],
          [
           "None",
           1.5
          ],
          [
           "None",
           1.7
          ],
          [
           "None",
           0.5
          ],
          [
           "None",
           -11.2
          ],
          [
           "None",
           3.1
          ],
          [
           "None",
           -4.8
          ],
          [
           "None",
           0.2
          ],
          [
           "None",
           -0.5
          ],
          [
           "None",
           -0.8
          ],
          [
           "None",
           7.2
          ],
          [
           "None",
           2
          ],
          [
           "None",
           11.1
          ],
          [
           "None",
           4.7
          ],
          [
           "None",
           4.1
          ],
          [
           "None",
           -18.9
          ],
          [
           "None",
           8.8
          ],
          [
           "None",
           -0.6
          ],
          [
           "None",
           3.6
          ],
          [
           "None",
           2.4
          ],
          [
           "None",
           26.9
          ],
          [
           "None",
           25.1
          ],
          [
           "None",
           0.9
          ],
          [
           "None",
           22.9
          ],
          [
           "None",
           -7.9
          ],
          [
           "None",
           -9.3
          ],
          [
           "None",
           11.4
          ],
          [
           "None",
           3.3
          ],
          [
           "None",
           -4.3
          ],
          [
           "None",
           -1.7
          ],
          [
           "None",
           -4
          ],
          [
           "None",
           -14.2
          ],
          [
           "None",
           8.6
          ],
          [
           "None",
           3.3
          ],
          [
           "None",
           3.7
          ]
         ],
         "hovertemplate": "<b>%{hovertext}</b><br><br>Typical Entry-Level Education=No formal educational credential<br>Median Annual Wage 2019=%{x}<br>Employment Percent Change, 2019-2029=%{customdata[1]}<br>Education Code=%{marker.size}<br>Work Experience in a Related Occupation=%{customdata[0]}<extra></extra>",
         "hovertext": [
          "Agricultural equipment operators    * Cane Flume Chute Operator* Combine Driver* Combine Operator* Corn Detasseler Machine Operator* Cotton Ginner* Cotton Picker Operator* Custom Harvester* Farm Tractor Operator* Hay Baler* Hay Stacker Operator* Rake Operator* Replanting Machine Operator* Tractor Operator* Wheat Combine Driver",
          "Agricultural workers, all other    * Crop Scout* Irrigation Worker* Livestock Showman",
          "Amusement and recreation attendants    * Amusement Park Worker* Animal Ride Attendant* Arcade Attendant* Carnival Worker* Ferris Wheel Operator* Golf Caddy* Ice Rink Attendant* Ride Operator* Rides Attendant* Ski Lift Attendant* Ski Lift Operator* Sports Complex Attendant",
          "Artists and related workers, all other    * Calligrapher* Tattoo Artist",
          "Athletes and sports competitors    * All Terrain Vehicle Racer* Athlete* Auto Racer* Baseball Pitcher* Baseball Player* Basketball Player* Bicycle Racer* Bicyclist* Billiard Player* Bowler* Bull Rider* Car Racer* Cyclist* Dirt Bike Racer* Drag Car Racer* Figure Skater* Football Player* Golfer* Hockey Player* Horse Racer* Ice Skater* Jockey* Kick Boxer* Motocross Racer* National Association for  Stock Car Auto Racing Driver* Prize Fighter* Professional Bass Fisher* Professional Soccer Player* Pugilist* Race Car Driver* Roller Skater* Skater* Skier* Snowboarder* Softball Player* Stock Car Driver* Surfer* Swimmer* Tennis Player* Volleyball Player* Wrestler",
          "Automotive and watercraft service attendants    * Auto Service Station Attendant* Gas Pump Attendant* Gas Station Attendant* Gas and Oil Servicer* Oil Changer* Pump Jockey* Service Station Attendant",
          "Bakers    * Bagel Maker* Bread Baker* Dough Maker* Pastry Baker* Pastry Finisher* Pie Baker* Pie Maker",
          "Bartenders    * Barkeep* Bartender* Drink Mixer* Mixologist* Taproom Attendant",
          "Building cleaning workers, all other    * Building Pressure Washer* Chimney Sweep* Chimney Sweeper",
          "Butchers and meat cutters    * Butcher* Butcher Apprentice* Halal Butcher* Kosher Butcher* Meat Carver* Meat Clerk* Meat Counter Worker",
          "Carpet installers    * Carpet Installer* Carpet Layer* Commercial Carpet Installer* Residential Carpet Installer* Wall-to-Wall Carpet Installer",
          "Cashiers    * Cash Register Operator* Check Out Cashier* Fare Collector* Grocery Checker* Hotel  Dining Room Cashier* Snack Bar Cashier* Toll Booth Operator* Toll Collector",
          "Cement masons and concrete finishers    * Cement Mason* Cement Patcher* Concrete Finisher* Concrete Floor Installer* Concrete Mason* Concrete Smoother* Concrete Swimming Pool Installer",
          "Cleaners of vehicles and equipment    * Aircraft Cleaner* Auto Cleaner* Auto Detailer* Automobile Detailer* Beer Coil Cleaner* Boat Detailer* Bus Cleaner* Bus Washer* Car Wash Attendant* Car Washer* Equipment Cleaner* Machine Cleaner* Railroad Car Cleaner* Truck Washer",
          "Construction laborers    * Air Hammer Operator* Construction Craft Laborer* Construction Laborer* Construction Trench Digger",
          "Continuous mining machine operators    * Continuous Mining Machine Coal Miner* Continuous Mining Machine Lode Miner* Self-Propelled Mining Machine Operator",
          "Conveyor operators and tenders    * Ash Conveyor Operator* Assembly Line Tender* Chip Bin Conveyor Tender* Conveyor Belt Operator* Conveyor Tender* Grain Elevator Operator* Packing Line Operator",
          "Cooks, all other    * Falafel Cart Cook* Fraternity House Cook",
          "Cooks, fast food    * Fast Food Cook* Fast Food Fry Cook* Fryline Attendant",
          "Cooks, institution and cafeteria    * Cafeteria Cook* Camp Cook* Galley Cook* Institutional Cook* Mess Cook* School Cook",
          "Cooks, restaurant    * Banquet Cook* Breakfast Cook* Chef De Partie* Line Cook* Saucier* Specialty Cook",
          "Cooks, short order    * Griddle Attendant* Griddle Cook* Grill Cook* Short Order Fry Cook* Snack Bar Cook",
          "Counter and rental clerks    * Airplane Charter Clerk* Apartment Rental Clerk* Automobile Rental Clerk* Bicycle Rental Clerk* Boat Rental Clerk* Car Rental Agent* Dry Cleaning Counter Clerk* Layaway Clerk* Rental Clerk* Storage Facility Rental Clerk* Video Rental Clerk",
          "Craft artists    * Furniture Artist* Hand Potter* Metal Arts Production Artist* Quilter",
          "Crossing guards and flaggers    * Construction Site Crossing Guard* Crossing Guard* School Crossing Guard* School Traffic Guard",
          "Cutters and trimmers, hand    * Fur Trimmer* Hand Cloth Cutter* Hand Fabric Cutter* Portable Machine Cutter",
          "Demonstrators and product promoters    * Home Demonstrator* Home Service Demonstrator* Hostess Party Sales Representative* In-Store Demonstrator",
          "Derrick operators, oil and gas    * Derrick Operator* Gas Derrick Operator* Oil Derrick Operator* Rotary Derrick Operator* Well Service Derrick Worker",
          "Dining room and cafeteria attendants and bartender helpers    * Banquet Set Up Person* Bar Back* Barback* Buffet Attendant* Bus Person* Busser* Lunchroom Attendant",
          "Dishwashers    * Dish Room Worker* Dishwasher* Silverware Cleaner",
          "Door-to-door sales workers, news and street vendors, and related workers    * Newspaper Carrier* Newstand Vendor* Peddler* Souvenir Street Vendor",
          "Drywall and ceiling tile installers    * Acoustical Ceiling Installer* Drywall Applicator* Drywall Finisher* Drywall Hanger* Drywall Installer* Drywall Sander* Drywall Stripper* Drywall Worker* Sheet Rock Applier* Sheet Rock Hanger* Sheet Rock Installer* Sheet Rock Worker",
          "Farm labor contractors    * Farm Labor Contractor* Harvesting Contractor",
          "Farmworkers and laborers, crop, nursery, and greenhouse    * Cane Cutter* Carrot Harvester* Citrus Picker* Corn Picker* Cotton Picker* Crop Picker* Flower Picker* Greenhouse Transplanter* Harvest Worker* Harvester* Orchard Hand* Orchard Worker* Pecan Gatherer* Pepper Picker* Vineyard Tender",
          "Farmworkers, farm, ranch, and aquacultural animals    * Aquaculture Worker* Barn Hand* Barn Worker* Cattle Brander* Cattle Driver* Chicken Handler* Chicken Vaccinator* Cow Tender* Egg Gatherer* Farrowing Worker* Goat Herder* Groom* Hatchery Worker* Livestock Handler* Poultry Debeaker* Ranch Hand* Sheep Shearer* Shrimp Pond Laborer",
          "Fast food and counter workers",
          "Fence erectors    * Chain Link Fence Installer* Fence Builder* Fence Erector* Wire Fence Builder* Wood Fence Installer",
          "Floor layers, except carpet, wood, and hard tiles    * Composition Floor Layer* Cork Floor Installer* Laminate Floor Installer* Linoleum Installer* Resilient Tile Installer* Shock-Absorption Floor Layer* Vinyl Flooring Installer* Vinyl Installer",
          "Floor sanders and finishers    * Floor Finisher* Floor Refinisher* Floor Sander* Floor Sanding Machine Operator* Floor Scraper* Hardwood Finisher",
          "Food and tobacco roasting, baking, and drying machine operators and tenders    * Bean Roaster* Coffee Roaster* Fish Smoker* Food Dehydrator Operator* Grain Roaster* Malt House Kiln Operator* Meat Curer* Meat Smoker* Sausage Smoker* Smokehouse Worker* Tobacco Drier Operator",
          "Food preparation and serving related workers, all other    * Kitchen Steward",
          "Food preparation workers    * Deli Clerk* Deli Slicer* Food Preparer* Fruit and Vegetable Parer* Salad Maker* Sandwich Maker",
          "Food processing workers, all other    * Olive Pitter* Pasta Press Operator* Poultry Hanger* Yeast Maker",
          "Food servers, nonrestaurant    * Boat Hop* Hospital Food Service Worker* Room Service Food Server",
          "Gambling change persons and booth cashiers    * Mutuel Teller* Slot Attendant",
          "Graders and sorters, agricultural products    * Apple Sorter* Cherry Sorter* Cotton Grader* Egg Grader* Fruit Sorter* Meat Grader* Oyster Sorter* Peanut Grader* Potato Sorter* Seed Sorter* Strawberry Sorter* Vegetable Sorter* Wool Grader",
          "Grinding and polishing workers, hand    * Hand Buffer* Hand Sander* Jewelry Grinder* Jewelry Polisher* Knife Grinder* Ring Polisher",
          "Grounds maintenance workers, all other    * Trail Construction Worker* Trail Maintenance Worker* Trailhead Construction Worker* Trailhead Maintenance Worker* Tree Trimmer Helper",
          "Helpers, construction trades, all other    * Boiler Coverer Helper* Bridge Ironworker Helper* Carpet Layer Helper* Cellulose Insulation Helper* Construction Ironworker Helper* Cork Insulator Helper* Drywall Hanger Helper* Drywall Stripper Helper* Drywall Taper Helper* HVAC Sheet Metal Installer Helper* Heat and Frost Insulator Helper* Linoleum Layer Helper* Ornamental Ironworker Helper* Pipe Insulator Helper* Plate Glass Installer Helper* Post Tensioning Ironworker Helper* Rod Buster Helper* Sheet Metal Duct Installer Helper* Sheet Rock Installation Helper* Sheet Rock Taper Helper* Stained Glass Glazier Helper* Terrazzo Finisher Helper* Terrazzo Layer Helper* Terrazzo Worker Helper* Trench Digger Helper* Wall Taper Helper* Window Glazier Helper",
          "Helpers--brickmasons, blockmasons, stonemasons, and tile and marble setters    * Adobe Layer Helper* Brick Carrier* Brick Washer* Bricklayer Helper* Ceramic Tile Installation Helper* Chimney Builder Helper* Firebrick Layer Helper* Marble Installation Helper* Mortar Mixer* Parquet Floor Layer's Helper* Refractory Tile Helper* Wood Tile Installation Helper",
          "Helpers--carpenters    * Beam Builder Helper* Building Carpenter Helper* Carpenter Assistant* Carpenter Helper* Construction Carpenters Helper* Hardwood Floor Installation Helper* House Carpenter Helper",
          "Helpers--painters, paperhangers, plasterers, and stucco masons    * Billboard Poster Helper* Bridge Painter Helper* Dry Plasterer Helper* Highway Painter Helper* House Painter Helper* Ornamental Plasterer Helper* Plaster Tender* Ship Painter Helper* Swimming Pool Plasterer Helper* Wallpaper Hanger Helper* Wallpaperer Helper",
          "Helpers--roofers    * Hot Tar Roofer Helper* Industrial Roofer Helper* Residential Roofer Helper* Roofer Assistant* Roofer Helper* Roofing Laborer* Shingles Roofer Helper* Slate Roofer Helper* Terra Cotta Roofer Helper",
          "Hoist and winch operators    * Hoist Operator* Winch Derrick Operator* Winch Operator",
          "Hosts and hostesses, restaurant, lounge, and coffee shop    * Bar Host/Hostess* Bar Hostess* Dining Room Host* Dining Room Host/Hostess* Maitre D'* Tearoom Host/Hostess* Tearoom Hostess",
          "Industrial truck and tractor operators    * Forklift Driver* Forklift Operator* Front-End Loader Operator* Hydraulic Lift Driver* Industrial Truck Operator* Reach-Lift Truck Driver* Stacker Operator",
          "Insulation workers, floor, ceiling, and wall    * Ceiling Insulation Blower* Composition Weatherboard Installer* Cork Insulation Installer* Cork Insulator* Insulation Machine Operator* Interior Surface Insulation Worker* Wall Insulation Sprayer",
          "Janitors and cleaners, except maids and housekeeping cleaners    * Building Custodian* Cleaning and Maintenance Worker* Custodial Worker* Custodian* Floor Cleaner* Heavy Duty Custodian* Industrial Plant Custodian* Janitor* Office Cleaner* School Custodian* Window Cleaner* Window Washer",
          "Laborers and freight, stock, and material movers, hand    * Cargo Handler* Cart Pusher* Freight Handler* Grave Digger* Manufacturing Laborer* Material Handler* Package Handler* Shipping and Receiving Material Handler* Stock Mover* Van Loader* Wharf Laborer",
          "Landscaping and groundskeeping workers    * Golf Course Laborer* Greenskeeper* Greenskeeper Laborer* Grounds Caretaker* Grounds Maintenance Worker* Hedge Trimmer* Lawn Care Worker* Lawn Caretaker* Lawn Maintenance Worker* Lawn Mower* Lawn Service Worker* Shrub Planter* Sod Layer",
          "Laundry and dry-cleaning workers    * Drycleaner* Launderer* Laundress* Laundry Attendant* Laundry Equipment Operator* Laundry Operator* Laundry Sorter* Laundry Worker* Precision Dyer",
          "Lifeguards, ski patrol, and other recreational protective service workers    * Beach Lifeguard* Certified Ski Patroller* Life Guard* OEC Technician* Outdoor Emergency Care Technician* Pool Lifeguard* Ski Patrol",
          "Loading and moving machine operators, underground mining",
          "Machine feeders and offbearers    * Brick Offbearer* Chain Offbearer* Chopper Feeder* Doffer* Dryer Feeder* Hopper Feeder* Hopper Filler* Line Feeder* Offbearer* Packing Machine Can Feeder* Spike Machine Feeder* Spinning Doffer* Spooler Operator",
          "Maids and housekeeping cleaners    * Chambermaid* Cleaning Maid* Cottage Attendant* Domestic Maid* House Cleaner* Housekeeping Aide* Housekeeping Staff* Motel Maid* Ward Maid",
          "Material moving workers, all other    * Freight Elevator Operator",
          "Meat, poultry, and fish cutters and trimmers    * Crab Picker* Deboner* Fish Cutter* Fish Filleter* Frozen Meat Cutter* Meat Trimmer* Oyster Shucker* Poultry Cutter* Poultry Eviscerator* Shrimp Peeler* Shrimp Picker* Wing Scorer",
          "Models    * Artist's Model* Clothes Model* Fashion Model* Figure Model* Hand Model* Hat Model* Model* Photographer's Model* Studio Model",
          "Motion picture projectionists    * Chief Projectionist* Film Projector Operator* Motion Picture Operator* Motion Picture Projectionist* Movie Projectionist* Projector Booth Operator* Stereoptician",
          "Motor vehicle operators, all other    * Assembly Line Driver* Ice-Resurfacing Machine Operators* Motorcycle Deliverer* Street Cleaning Equipment Operator* Street Sweeper Operator",
          "Packers and packagers, hand    * Bagger* Carton Wrapper* Egg Packer* Gift Wrapper* Grocery Store Bagger* Meat Packager* Meat Wrapper* Utility Bagger",
          "Painters, construction and maintenance    * Bridge Painter* Facilities Painter* Highway Painter* House Painter* Industrial Painter* Parking Line Painter* Roof Painter* Traffic Line Painter",
          "Painting, coating, and decorating workers    * Ceramic Painter* China Decorator* Glass Decorator* Lacquerer* Sign Painter",
          "Paperhangers    * Billboard Poster* Paperhanger* Wall Covering Installer* Wallpaper Hanger* Wallpaperer",
          "Parking attendants    * Auto Parker* Car Jockey* Parking Attendant* Parking Ramp Attendant* Valet Parker* Valet Runner",
          "Parts salespersons    * Appliance Parts Counter Clerk* Auto Parts Salesperson* Electronic Parts Salesperson* Parts Clerk* Parts Counter Clerk",
          "Passenger vehicle drivers, except bus drivers, transit and intercity",
          "Pipelayers    * Cast-Iron Drain Pipe Layer* Pipe Layer* Sewer Pipe Layer* Trench Pipe Layer* Water Main Pipe Layer",
          "Plasterers and stucco masons    * Dry Plasterer* Journey Level Plasterer* Molding Plasterer* Ornamental Plasterer* Plasterer Apprentice* Stucco Plasterer* Stucco Worker* Swimming Pool Plasterer",
          "Pressers, textile, garment, and related materials    * Clothes Ironer* Clothes Presser* Clothing Presser* Garment Presser* Pants Presser* Shirt Presser* Silk Presser* Wool Presser",
          "Refuse and recyclable material collectors    * Garbage Collector* Recyclable Materials Collector* Refuse Collector* Scrap Metal Collector* Solid Waste Collector* Trash Collector",
          "Retail salespersons    * Automotive Salesperson* Department Store Salesperson* Menswear Salesperson* New Car Salesperson* Pet Supplies Salesperson* Pets Salesperson* Shoe Salesperson* Used Car Salesperson* Women's Apparel Salesperson",
          "Rock splitters, quarry    * Quarry Plug and Feather Driller* Sandstone Splitter",
          "Roofers    * Composition Roofer* Hot Tar Roofer* Industrial Roofer* Metal Roofing Mechanic* Residential Roofer* Roofer* Sheet Metal Roofer* Shingles Roofer* Slate Roofer* Terra Cotta Roofer",
          "Rotary drill operators, oil and gas    * Drilling Rig Operator* Natural Gas Shothole Driller* Oil Driller* Oil Rig Driller* Oil Well Cable Tool Driller* Oil Well Cable Tool Operator* Oil Well Driller* Prospecting Driller",
          "Roustabouts, oil and gas    * Oil Field Roustabout* Oil Rig Roughneck* Roustabout* Roustabout Pusher",
          "Sailors and marine oilers    * Able Seaman* Deck Cadet* Deck Hand* Deckhand* Merchant Mariner* Merchant Seaman* Ordinary Seaman* Sailor* Vessel Ordinary Seaman",
          "Service unit operators, oil and gas    * Oil Well Fishing-Tool Technician* Well Service Pump Equipment Operator* Well Service Rig Operator* Well Services Operator* Well Servicing Rig Operator",
          "Sewers, hand    * Hand Quilter* Hand Sewer* Hand Stitcher* Hand Weaver",
          "Sewing machine operators    * Blind Stitch Machine Operator* Button Sewing Machine Operator* Carpet Sewing Machine Operator* Custom T-Shirt Embroidery Machine Operator* Embroidery Machine Operator* Hemming and Tacking Machine Operator* Ultrasonic Seaming Machine Operator",
          "Shampooers    * Scalp Treatment Specialist* Shampoo Assistant* Shampoo Technician* Shampooer",
          "Slaughterers and meat packers    * Beef Splitter* Cattle Killer* Halal Meat Packer* Hog Slaughterer* Meat Packer* Meat Processor* Poultry Slaughterer* Shochet* Slaughterer",
          "Tailors, dressmakers, and custom sewers    * Alterations Sewer* Alterations Tailor* Bridal Gown Fitter* Coat Cutter* Coat Maker* Couture Dressmaker* Dress Fitter* Fur Tailor* Garment Fitter* Suit Maker* Vest Maker",
          "Tank car, truck, and ship loaders    * Barge Loader* Bulk Tank Car Unloader* Dock Loader* Rail Car Loader* Rail Loader* Ship Unloader* Tank Car Loader* Tank Truck Loader",
          "Tapers    * Drywall Taper* Sheet Rock Taper* Wall Taper",
          "Telemarketers    * Inbound Telemarketer* Outbound Telemarketer* Telemarketer* Telemarketing Sales Representative* Telephone Solicitor* Telesales Representative* Telesales Specialist",
          "Tile and stone setters    * Ceramic Tile Installer* Hard Tile Setter* Marble Ceiling Installer* Parquet Floor Layer* Tile Installer* Tile Mason* Wood Tile Installer",
          "Ushers, lobby attendants, and ticket takers    * Drive-In Theater Attendant* Lobby Attendant* Theater Usher* Ticket Attendant* Ticket Collector* Usher",
          "Waiters and waitresses    * Cocktail Server* Cocktail Waitress* Dining Car Server* Restaurant Server* Wine Steward"
         ],
         "legendgroup": "No formal educational credential",
         "marker": {
          "color": "#19d3f3",
          "size": [
           8,
           8,
           8,
           8,
           8,
           8,
           8,
           8,
           8,
           8,
           8,
           8,
           8,
           8,
           8,
           8,
           8,
           8,
           8,
           8,
           8,
           8,
           8,
           8,
           8,
           8,
           8,
           8,
           8,
           8,
           8,
           8,
           8,
           8,
           8,
           8,
           8,
           8,
           8,
           8,
           8,
           8,
           8,
           8,
           8,
           8,
           8,
           8,
           8,
           8,
           8,
           8,
           8,
           8,
           8,
           8,
           8,
           8,
           8,
           8,
           8,
           8,
           8,
           8,
           8,
           8,
           8,
           8,
           8,
           8,
           8,
           8,
           8,
           8,
           8,
           8,
           8,
           8,
           8,
           8,
           8,
           8,
           8,
           8,
           8,
           8,
           8,
           8,
           8,
           8,
           8,
           8,
           8,
           8,
           8,
           8,
           8,
           8,
           8
          ],
          "sizemode": "area",
          "sizeref": 0.02,
          "symbol": "circle"
         },
         "mode": "markers",
         "name": "No formal educational credential",
         "orientation": "v",
         "showlegend": true,
         "type": "scatter",
         "x": [
          "31,950",
          "29,590",
          "23,370",
          "64,490",
          "51,370",
          "25,200",
          "27,700",
          "23,680",
          "31,230",
          "32,500",
          "40,090",
          "23,650",
          "44,810",
          "25,800",
          "36,860",
          "55,280",
          "34,660",
          "30,760",
          "23,510",
          "27,750",
          "27,790",
          "25,150",
          "28,820",
          "34,710",
          "29,760",
          "30,200",
          "30,930",
          "46,990",
          "23,470",
          "23,970",
          "27,420",
          "45,700",
          "61,910",
          "25,440",
          "27,830",
          "22,740",
          "35,800",
          "44,240",
          "39,610",
          "31,590",
          "24,970",
          "24,800",
          "27,550",
          "24,430",
          "25,690",
          "25,670",
          "30,600",
          "32,090",
          "31,910",
          "35,410",
          "33,060",
          "31,340",
          "32,110",
          "59,720",
          "23,090",
          "36,200",
          "40,380",
          "27,430",
          "29,510",
          "30,440",
          "24,220",
          "23,420",
          "54,210",
          "31,180",
          "24,850",
          "31,770",
          "28,100",
          "28,350",
          "25,150",
          "32,910",
          "25,910",
          "40,280",
          "32,950",
          "40,520",
          "25,140",
          "31,710",
          "31,340",
          "38,820",
          "45,440",
          "24,190",
          "37,840",
          "25,250",
          "36,070",
          "42,100",
          "54,980",
          "38,910",
          "43,480",
          "46,740",
          "29,950",
          "26,420",
          "22,550",
          "29,230",
          "31,520",
          "42,360",
          "59,070",
          "26,290",
          "43,050",
          "23,500",
          "22,890"
         ],
         "xaxis": "x",
         "y": [
          11.4,
          2.9,
          10.3,
          -0.2,
          10,
          2.4,
          5.3,
          5.9,
          4.8,
          1.7,
          -8.9,
          -7.4,
          -2,
          3.6,
          5.4,
          2.3,
          0.4,
          3.5,
          -13.4,
          2,
          23.1,
          -4.4,
          1.1,
          -1,
          5.7,
          -29.9,
          3.1,
          30.5,
          6.5,
          0.5,
          -20,
          0.4,
          10.4,
          3.8,
          -8.3,
          11.4,
          2.2,
          9.9,
          2.2,
          -0.8,
          6.9,
          -1.1,
          -0.1,
          6.8,
          2.5,
          0,
          -19.5,
          6.5,
          4.2,
          -4.7,
          1.3,
          1.9,
          3.5,
          -5,
          8.2,
          2.8,
          1.6,
          4.4,
          4.2,
          10.1,
          0.2,
          9,
          -13.4,
          0.2,
          -0.3,
          1.5,
          1.7,
          0.5,
          -11.2,
          3.1,
          -4.8,
          0.2,
          -0.5,
          -0.8,
          7.2,
          2,
          11.1,
          4.7,
          4.1,
          -18.9,
          8.8,
          -0.6,
          3.6,
          2.4,
          26.9,
          25.1,
          0.9,
          22.9,
          -7.9,
          -9.3,
          11.4,
          3.3,
          -4.3,
          -1.7,
          -4,
          -14.2,
          8.6,
          3.3,
          3.7
         ],
         "yaxis": "y"
        },
        {
         "customdata": [
          [
           "None",
           4.6
          ],
          [
           "None",
           12.3
          ],
          [
           "None",
           -2.8
          ],
          [
           "None",
           -3.7
          ],
          [
           "None",
           7.5
          ],
          [
           "Less than 5 years",
           -0.3
          ],
          [
           "None",
           4.7
          ],
          [
           "None",
           21.9
          ],
          [
           "Less than 5 years",
           -6.3
          ],
          [
           "None",
           8.9
          ],
          [
           "None",
           6.6
          ],
          [
           "None",
           2.4
          ],
          [
           "None",
           1.9
          ],
          [
           "Less than 5 years",
           -3.2
          ],
          [
           "None",
           6.4
          ],
          [
           "5 years or more",
           5.9
          ],
          [
           "None",
           6.1
          ],
          [
           "Less than 5 years",
           6.2
          ],
          [
           "None",
           -2.2
          ],
          [
           "None",
           7.9
          ],
          [
           "None",
           4
          ],
          [
           "None",
           1.5
          ],
          [
           "None",
           -4
          ],
          [
           "None",
           -3.9
          ],
          [
           "None",
           9.1
          ],
          [
           "None",
           11
          ],
          [
           "None",
           19.2
          ],
          [
           "None",
           20.6
          ],
          [
           "None",
           19.2
          ],
          [
           "None",
           8.5
          ],
          [
           "None",
           -2.2
          ],
          [
           "Less than 5 years",
           0.1
          ],
          [
           "None",
           3.5
          ],
          [
           "None",
           7.6
          ],
          [
           "None",
           14.2
          ],
          [
           "None",
           17.2
          ],
          [
           "None",
           -20.7
          ],
          [
           "Less than 5 years",
           13.3
          ],
          [
           "Less than 5 years",
           0.7
          ],
          [
           "None",
           16.6
          ],
          [
           "None",
           6
          ],
          [
           "None",
           6.8
          ],
          [
           "None",
           -2.6
          ],
          [
           "None",
           -5.4
          ],
          [
           "None",
           60.7
          ]
         ],
         "hovertemplate": "<b>%{hovertext}</b><br><br>Typical Entry-Level Education=Postsecondary nondegree award<br>Median Annual Wage 2019=%{x}<br>Employment Percent Change, 2019-2029=%{customdata[1]}<br>Education Code=%{marker.size}<br>Work Experience in a Related Occupation=%{customdata[0]}<extra></extra>",
         "hovertext": [
          "Aircraft mechanics and service technicians    * A&P Mechanic* Aircraft Engine Mechanic* Aircraft Engine Specialist* Airframe Mechanic* Airframe and Power Plant Mechanic* Airplane Rigger* FAA Certified Powerplant Mechanic* Flight Test Mechanic* Helicopter Mechanic* Jet Engine Mechanic* Propeller-Driven Airplane Mechanic",
          "Audio and video technicians    * Audio-Visual Production Specialist* Event AV Operator* Event Crew Technician* Multimedia Production Assistant* Video Control Operator* Video Equipment Technician* Video Production Assistant",
          "Audiovisual equipment installers and repairers    * Cable Installation Technician* Electric Organ Checker* Electronic Musical Instrument Repairer* Home Stereo Equipment Installer* Home Theater Installer* Satellite Dish Installer* Stereo Equipment Installer* Television Installer* Television Repairer* Wireless Internet Installer",
          "Automotive service technicians and mechanics    * Auto Clutch Rebuilder* Auto Clutch Specialist* Auto Radiator Specialist* Auto Suspension and Steering Mechanic* Auto Transmission Specialist* Automotive Alignment Specialist* Automotive Brake Adjuster* Automotive Brake Specialist* Automotive Brake Technician* Automotive Fuel Injection Servicer* Automotive Fuel Systems Converter* Automotive Specialty Technician* Hybrid Car Mechanic* Motor Tune-Up Specialist",
          "Barbers    * Barber* Barber Apprentice* Master Barber",
          "Captains, mates, and pilots of water vessels    * Barge Captain* Barge Master* Boat Pilot* Car Ferry Captain* Car Ferry Master* Coastal Tug Mate* Deck Officer* Docking Pilot* Ferry Boat Captain* Ferry Captain* Ferryboat Captain* First Mate* Harbor Boat Pilot* Harbor Pilot* Harbor Tug Captain* Port Captain* River Boat Captain* River Pilot* Sailboat Captain* Ship Harbor Pilot* Tow Boat Captain* Towboat Pilot* Tug Boat Captain* Tugboat Captain* Tugboat Mate* Tugboat Operator* Tugboat Pilot",
          "Commercial divers    * Commercial Diver* Marine Diver* Non Destructive Testing Underwater Welder* Salvage Diver* Scuba Diver* Submarine Diver* Underwater Welder",
          "Computer numerically controlled tool programmers",
          "Cooks, private household    * Certified Personal Chef* Personal Chef* Private Chef",
          "Court reporters and simultaneous captioners",
          "Dental assistants    * Certified Dental Assistant* Dental Aide* Dental Assistant* Expanded Functions Dental Assistant* Orthodontic Assistant* Orthodontist Assistant* Registered Dental Assistant* Surgical Dental Assistant",
          "Electrical and electronics installers and repairers, transportation equipment    * Locomotive Electrician* Marine Electronics Repairer* Marine Electronics Technician",
          "Electrical and electronics repairers, commercial and industrial equipment    * Industrial Aerial Installer* Industrial Robotics Mechanic* Missile Pad Mechanic* Public Address System Mechanic",
          "Electrical and electronics repairers, powerhouse, substation, and relay    * Generating Station Mechanic* Power Transformer Repairer* Powerhouse Electrician* Protective Relay Technician* Relay Technician* Substation Electrician* Substation Mechanic",
          "Emergency medical technicians and paramedics",
          "Fire inspectors and investigators    * Arson Investigator* CFEI* Certified Fire Investigator* Certified Fire and Explosion Investigator* Certified Vehicle Fire Investigator* Fire Hazard Inspector* Fire Investigator* Fire Prevention Inspector* Fire Safety Inspector",
          "Firefighters    * Fire Engine Pump Operator* Fire Equipment Operator* Fire Fighter* Forest Firefighter* Marine Firefighter* Municipal Firefighter* Smoke Jumper* Wildland Firefighter",
          "First-line supervisors of firefighting and prevention workers    * Fire Lieutenant* Municipal Fire Fighting and Prevention Supervisor* Supervising Fire Marshal",
          "Hairdressers, hairstylists, and cosmetologists    * Beautician* Cosmetologist* Funeral Home Makeup Artist* Hair Colorist* Hair Stylist* Hair and Makeup Designer* Hairdresser* Hairpiece Stylist* Wedding Makeup Artist* Wig Stylist",
          "Health information technologists, medical registrars, surgical assistants, and healthcare practitioners and technical workers, all other",
          "Heating, air conditioning, and refrigeration mechanics and installers    * Air Conditioning Service Technician* Bulk Cooler Installer* Evaporative Cooler Installer* Furnace Converter* Furnace Fitter* Gas Furnace Installer* Heating, Ventilation, and Air Conditioning (HVAC) Mechanic* Oil Burner Repairer* Oil Furnace Installer* Refrigeration Systems Installer* Stoker Installer",
          "Heavy and tractor-trailer truck drivers    * Auto Carrier Driver* Cement Truck Driver* Concrete Mixer Driver* Concrete Mixer Truck Driver* Fuel Truck Driver* Garbage Truck Driver* Line Haul Driver* Logging Truck Driver* Moving Van Driver* Over-the-Road Driver* Semi-Truck Driver* Tanker Driver* Tow Truck Operator",
          "Insurance appraisers, auto damage    * Auto Damage Appraiser* Auto Damage Insurance Appraiser* Automobile Damage Appraiser* Vehicle Damage Appraiser",
          "Library technicians    * Cataloging Library Technical Assistant* Library Acquisitions Technician* Library Cataloging Technician* Library Circulation Technician* Library Technical Assistant* Serials or Bindery Library Technical Assistant",
          "Licensed practical and licensed vocational nurses    * LP Nurse* LPN* LVN* Licensed Practical Nurse* Licensed Vocational Nurse* Pediatric Licensed Practical Nurse* Triage Licensed Practical Nurse",
          "Makeup artists, theatrical and performance    * Special Effects Makeup Artist",
          "Manicurists and pedicurists    * Fingernail Sculptor* Nail Technician* Pedicurist",
          "Massage therapists    * Deep Tissue Massage Therapist* Licensed Massage Practitioner* Licensed Massage Therapist* Massage Therapist* Masseur* Masseuse* Massotherapist* Rolfer* Swedish Masseuse",
          "Medical assistants    * Autopsy Assistant* Certified Medical Assistant* Chiropractic Assistant* Clinical Medical Assistant* Morgue Attendant* Ocular Care Aide* Optometric Aide* Optometrist Assistant* Optometry Assistant* Orthopedic Cast Specialist* Podiatric Aide",
          "Medical dosimetrists, medical records specialists, and health technologists and technicians, all other",
          "Medical transcriptionists    * Certified Medical Transcriptionist* Medical Record Transcriber* Medical Stenographer* Medical Transcriber* Medical Transcriptionist* Pathology Transcriptionist* Radiology Transcriptionist* Registered Medical Transcriptionist",
          "Motorboat operators    * Launch Operator* Motorboat Operator* Outboard Motorboat Operator* Speedboat Driver* Speedboat Operator* Water Taxi Ferry Operator* Water Taxi Operator",
          "Motorcycle mechanics    * ATV Technician* All Terrain Vehicle Technician* Motor Scooter Mechanic* Motorcycle Mechanic* Motorcycle Repairer* Motorcycle Service Technician* Motorcycle Technician* Scooter Mechanic",
          "Nursing assistants",
          "Ophthalmic medical technicians    * Ocular Care Technologist* Ophthalmic Technologist",
          "Phlebotomists    * Certified Phlebotomy Technician* Phlebotomist* Phlebotomy Technician* Venipuncturist",
          "Prepress technicians and workers    * Digital Proofing and Platemaker* Electronic Pre-Press Technician* Photoengraver* Plate Mounter* Pre-Press Proofer* Prepress Stripper* Type Setter",
          "Psychiatric technicians    * Behavioral Health Technician* Mental Health Technician* Psychiatric Technician",
          "Ship engineers    * Barge Engineer* Ferry Engineer* Towboat Engineer* Tug Boat Engineer* Tugboat Engineer",
          "Skincare specialists    * Electrolysis Needle Operator* Electrolysis Operator* Electrolysist* Esthetician* Facialist* Licensed Esthetician* Medical Esthetician* Skin Care Technician",
          "Sound engineering technicians    * Audio Recording Engineer* Disc Recordist* Dub Room Engineer* Film Sound Engineer* Play Back Operator* Public Address Technician* Recording Engineer* Sound Assistant* Sound Cutter* Sound Designer* Sound Editor* Sound Effects Technician* Sound Engineering Technician",
          "Surgical technologists    * Certified Surgical Technologist* OR Tech* Operating Room Technician* Surgical First Assistant* Surgical Scrub Technologist* Surgical Technologist",
          "Telecommunications equipment installers and repairers, except line installers    * Communications Equipment Installer* Fiber Optic Central Office Installer* Headend Technician* Private Branch Exchange (PBX ) Installer and Repairer* Switchboard Wirer* Telecommunications Switch Technician",
          "Tool and die makers    * Jig Bore Tool Maker* Metal Die Finisher* Metal Gauge Maker* Plastic Die Maker Apprentice* Tool Maker* Toolmaker",
          "Wind turbine service technicians    * Wind Energy Mechanic* Wind Energy Technician* Wind Turbine Mechanic* Wind Turbine Technician"
         ],
         "legendgroup": "Postsecondary nondegree award",
         "marker": {
          "color": "#FF6692",
          "size": [
           5,
           5,
           5,
           5,
           5,
           5,
           5,
           5,
           5,
           5,
           5,
           5,
           5,
           5,
           5,
           5,
           5,
           5,
           5,
           5,
           5,
           5,
           5,
           5,
           5,
           5,
           5,
           5,
           5,
           5,
           5,
           5,
           5,
           5,
           5,
           5,
           5,
           5,
           5,
           5,
           5,
           5,
           5,
           5,
           5
          ],
          "sizemode": "area",
          "sizeref": 0.02,
          "symbol": "circle"
         },
         "mode": "markers",
         "name": "Postsecondary nondegree award",
         "orientation": "v",
         "showlegend": true,
         "type": "scatter",
         "x": [
          "64,090",
          "45,910",
          "39,510",
          "42,090",
          "30,150",
          "72,340",
          "49,980",
          "56,450",
          "37,870",
          "60,130",
          "40,080",
          "62,530",
          "59,300",
          "82,780",
          "35,400",
          "61,660",
          "50,850",
          "77,800",
          "26,090",
          "49,850",
          "48,730",
          "45,260",
          "63,270",
          "34,900",
          "47,480",
          "75,730",
          "25,770",
          "42,820",
          "34,800",
          "42,630",
          "33,380",
          "48,260",
          "37,600",
          "29,660",
          "36,940",
          "35,510",
          "40,510",
          "33,780",
          "74,610",
          "34,090",
          "54,740",
          "48,300",
          "57,910",
          "53,920",
          "52,910"
         ],
         "xaxis": "x",
         "y": [
          4.6,
          12.3,
          -2.8,
          -3.7,
          7.5,
          -0.3,
          4.7,
          21.9,
          -6.3,
          8.9,
          6.6,
          2.4,
          1.9,
          -3.2,
          6.4,
          5.9,
          6.1,
          6.2,
          -2.2,
          7.9,
          4,
          1.5,
          -4,
          -3.9,
          9.1,
          11,
          19.2,
          20.6,
          19.2,
          8.5,
          -2.2,
          0.1,
          3.5,
          7.6,
          14.2,
          17.2,
          -20.7,
          13.3,
          0.7,
          16.6,
          6,
          6.8,
          -2.6,
          -5.4,
          60.7
         ],
         "yaxis": "y"
        },
        {
         "customdata": [
          [
           "None",
           -5.7
          ],
          [
           "None",
           8
          ],
          [
           "None",
           -0.8
          ],
          [
           "None",
           -11.5
          ],
          [
           "None",
           3.6
          ]
         ],
         "hovertemplate": "<b>%{hovertext}</b><br><br>Typical Entry-Level Education=Some college, no degree<br>Median Annual Wage 2019=%{x}<br>Employment Percent Change, 2019-2029=%{customdata[1]}<br>Education Code=%{marker.size}<br>Work Experience in a Related Occupation=%{customdata[0]}<extra></extra>",
         "hovertext": [
          "Bookkeeping, accounting, and auditing clerks    * Accounts Receivable Assistant* Accounts Receivable Clerk* Auditing Clerk* Bookkeeper* Fixed Capital Clerk* Foreign Exchange Position Clerk* Mortgage Accounting Clerk",
          "Computer user support specialists",
          "Computer, automated teller, and office machine repairers    * ATM Servicer* Cash Register Servicer* Computer Repair Technician* Computer Repairer* Computer Service Technician* Copier Technician* Copying Machine Repairer* Data Processing Equipment Repairer* Photocopying Equipment Repairer* Printer Repair Technician",
          "Order clerks    * Catalogue Clerk* Classified Ad Clerk* Mail Order Clerk* Order Desk Clerk* Service Order Clerk* Subscription Clerk* Want Ad Clerk",
          "Teaching assistants, except postsecondary"
         ],
         "legendgroup": "Some college, no degree",
         "marker": {
          "color": "#B6E880",
          "size": [
           6,
           6,
           6,
           6,
           6
          ],
          "sizemode": "area",
          "sizeref": 0.02,
          "symbol": "circle"
         },
         "mode": "markers",
         "name": "Some college, no degree",
         "orientation": "v",
         "showlegend": true,
         "type": "scatter",
         "x": [
          "41,230",
          "52,270",
          "39,530",
          "34,240",
          "27,920"
         ],
         "xaxis": "x",
         "y": [
          -5.7,
          8,
          -0.8,
          -11.5,
          3.6
         ],
         "yaxis": "y"
        }
       ],
       "layout": {
        "legend": {
         "itemsizing": "constant",
         "title": {
          "text": "Typical Entry-Level Education"
         },
         "tracegroupgap": 0
        },
        "template": {
         "data": {
          "bar": [
           {
            "error_x": {
             "color": "#2a3f5f"
            },
            "error_y": {
             "color": "#2a3f5f"
            },
            "marker": {
             "line": {
              "color": "#E5ECF6",
              "width": 0.5
             }
            },
            "type": "bar"
           }
          ],
          "barpolar": [
           {
            "marker": {
             "line": {
              "color": "#E5ECF6",
              "width": 0.5
             }
            },
            "type": "barpolar"
           }
          ],
          "carpet": [
           {
            "aaxis": {
             "endlinecolor": "#2a3f5f",
             "gridcolor": "white",
             "linecolor": "white",
             "minorgridcolor": "white",
             "startlinecolor": "#2a3f5f"
            },
            "baxis": {
             "endlinecolor": "#2a3f5f",
             "gridcolor": "white",
             "linecolor": "white",
             "minorgridcolor": "white",
             "startlinecolor": "#2a3f5f"
            },
            "type": "carpet"
           }
          ],
          "choropleth": [
           {
            "colorbar": {
             "outlinewidth": 0,
             "ticks": ""
            },
            "type": "choropleth"
           }
          ],
          "contour": [
           {
            "colorbar": {
             "outlinewidth": 0,
             "ticks": ""
            },
            "colorscale": [
             [
              0,
              "#0d0887"
             ],
             [
              0.1111111111111111,
              "#46039f"
             ],
             [
              0.2222222222222222,
              "#7201a8"
             ],
             [
              0.3333333333333333,
              "#9c179e"
             ],
             [
              0.4444444444444444,
              "#bd3786"
             ],
             [
              0.5555555555555556,
              "#d8576b"
             ],
             [
              0.6666666666666666,
              "#ed7953"
             ],
             [
              0.7777777777777778,
              "#fb9f3a"
             ],
             [
              0.8888888888888888,
              "#fdca26"
             ],
             [
              1,
              "#f0f921"
             ]
            ],
            "type": "contour"
           }
          ],
          "contourcarpet": [
           {
            "colorbar": {
             "outlinewidth": 0,
             "ticks": ""
            },
            "type": "contourcarpet"
           }
          ],
          "heatmap": [
           {
            "colorbar": {
             "outlinewidth": 0,
             "ticks": ""
            },
            "colorscale": [
             [
              0,
              "#0d0887"
             ],
             [
              0.1111111111111111,
              "#46039f"
             ],
             [
              0.2222222222222222,
              "#7201a8"
             ],
             [
              0.3333333333333333,
              "#9c179e"
             ],
             [
              0.4444444444444444,
              "#bd3786"
             ],
             [
              0.5555555555555556,
              "#d8576b"
             ],
             [
              0.6666666666666666,
              "#ed7953"
             ],
             [
              0.7777777777777778,
              "#fb9f3a"
             ],
             [
              0.8888888888888888,
              "#fdca26"
             ],
             [
              1,
              "#f0f921"
             ]
            ],
            "type": "heatmap"
           }
          ],
          "heatmapgl": [
           {
            "colorbar": {
             "outlinewidth": 0,
             "ticks": ""
            },
            "colorscale": [
             [
              0,
              "#0d0887"
             ],
             [
              0.1111111111111111,
              "#46039f"
             ],
             [
              0.2222222222222222,
              "#7201a8"
             ],
             [
              0.3333333333333333,
              "#9c179e"
             ],
             [
              0.4444444444444444,
              "#bd3786"
             ],
             [
              0.5555555555555556,
              "#d8576b"
             ],
             [
              0.6666666666666666,
              "#ed7953"
             ],
             [
              0.7777777777777778,
              "#fb9f3a"
             ],
             [
              0.8888888888888888,
              "#fdca26"
             ],
             [
              1,
              "#f0f921"
             ]
            ],
            "type": "heatmapgl"
           }
          ],
          "histogram": [
           {
            "marker": {
             "colorbar": {
              "outlinewidth": 0,
              "ticks": ""
             }
            },
            "type": "histogram"
           }
          ],
          "histogram2d": [
           {
            "colorbar": {
             "outlinewidth": 0,
             "ticks": ""
            },
            "colorscale": [
             [
              0,
              "#0d0887"
             ],
             [
              0.1111111111111111,
              "#46039f"
             ],
             [
              0.2222222222222222,
              "#7201a8"
             ],
             [
              0.3333333333333333,
              "#9c179e"
             ],
             [
              0.4444444444444444,
              "#bd3786"
             ],
             [
              0.5555555555555556,
              "#d8576b"
             ],
             [
              0.6666666666666666,
              "#ed7953"
             ],
             [
              0.7777777777777778,
              "#fb9f3a"
             ],
             [
              0.8888888888888888,
              "#fdca26"
             ],
             [
              1,
              "#f0f921"
             ]
            ],
            "type": "histogram2d"
           }
          ],
          "histogram2dcontour": [
           {
            "colorbar": {
             "outlinewidth": 0,
             "ticks": ""
            },
            "colorscale": [
             [
              0,
              "#0d0887"
             ],
             [
              0.1111111111111111,
              "#46039f"
             ],
             [
              0.2222222222222222,
              "#7201a8"
             ],
             [
              0.3333333333333333,
              "#9c179e"
             ],
             [
              0.4444444444444444,
              "#bd3786"
             ],
             [
              0.5555555555555556,
              "#d8576b"
             ],
             [
              0.6666666666666666,
              "#ed7953"
             ],
             [
              0.7777777777777778,
              "#fb9f3a"
             ],
             [
              0.8888888888888888,
              "#fdca26"
             ],
             [
              1,
              "#f0f921"
             ]
            ],
            "type": "histogram2dcontour"
           }
          ],
          "mesh3d": [
           {
            "colorbar": {
             "outlinewidth": 0,
             "ticks": ""
            },
            "type": "mesh3d"
           }
          ],
          "parcoords": [
           {
            "line": {
             "colorbar": {
              "outlinewidth": 0,
              "ticks": ""
             }
            },
            "type": "parcoords"
           }
          ],
          "pie": [
           {
            "automargin": true,
            "type": "pie"
           }
          ],
          "scatter": [
           {
            "marker": {
             "colorbar": {
              "outlinewidth": 0,
              "ticks": ""
             }
            },
            "type": "scatter"
           }
          ],
          "scatter3d": [
           {
            "line": {
             "colorbar": {
              "outlinewidth": 0,
              "ticks": ""
             }
            },
            "marker": {
             "colorbar": {
              "outlinewidth": 0,
              "ticks": ""
             }
            },
            "type": "scatter3d"
           }
          ],
          "scattercarpet": [
           {
            "marker": {
             "colorbar": {
              "outlinewidth": 0,
              "ticks": ""
             }
            },
            "type": "scattercarpet"
           }
          ],
          "scattergeo": [
           {
            "marker": {
             "colorbar": {
              "outlinewidth": 0,
              "ticks": ""
             }
            },
            "type": "scattergeo"
           }
          ],
          "scattergl": [
           {
            "marker": {
             "colorbar": {
              "outlinewidth": 0,
              "ticks": ""
             }
            },
            "type": "scattergl"
           }
          ],
          "scattermapbox": [
           {
            "marker": {
             "colorbar": {
              "outlinewidth": 0,
              "ticks": ""
             }
            },
            "type": "scattermapbox"
           }
          ],
          "scatterpolar": [
           {
            "marker": {
             "colorbar": {
              "outlinewidth": 0,
              "ticks": ""
             }
            },
            "type": "scatterpolar"
           }
          ],
          "scatterpolargl": [
           {
            "marker": {
             "colorbar": {
              "outlinewidth": 0,
              "ticks": ""
             }
            },
            "type": "scatterpolargl"
           }
          ],
          "scatterternary": [
           {
            "marker": {
             "colorbar": {
              "outlinewidth": 0,
              "ticks": ""
             }
            },
            "type": "scatterternary"
           }
          ],
          "surface": [
           {
            "colorbar": {
             "outlinewidth": 0,
             "ticks": ""
            },
            "colorscale": [
             [
              0,
              "#0d0887"
             ],
             [
              0.1111111111111111,
              "#46039f"
             ],
             [
              0.2222222222222222,
              "#7201a8"
             ],
             [
              0.3333333333333333,
              "#9c179e"
             ],
             [
              0.4444444444444444,
              "#bd3786"
             ],
             [
              0.5555555555555556,
              "#d8576b"
             ],
             [
              0.6666666666666666,
              "#ed7953"
             ],
             [
              0.7777777777777778,
              "#fb9f3a"
             ],
             [
              0.8888888888888888,
              "#fdca26"
             ],
             [
              1,
              "#f0f921"
             ]
            ],
            "type": "surface"
           }
          ],
          "table": [
           {
            "cells": {
             "fill": {
              "color": "#EBF0F8"
             },
             "line": {
              "color": "white"
             }
            },
            "header": {
             "fill": {
              "color": "#C8D4E3"
             },
             "line": {
              "color": "white"
             }
            },
            "type": "table"
           }
          ]
         },
         "layout": {
          "annotationdefaults": {
           "arrowcolor": "#2a3f5f",
           "arrowhead": 0,
           "arrowwidth": 1
          },
          "coloraxis": {
           "colorbar": {
            "outlinewidth": 0,
            "ticks": ""
           }
          },
          "colorscale": {
           "diverging": [
            [
             0,
             "#8e0152"
            ],
            [
             0.1,
             "#c51b7d"
            ],
            [
             0.2,
             "#de77ae"
            ],
            [
             0.3,
             "#f1b6da"
            ],
            [
             0.4,
             "#fde0ef"
            ],
            [
             0.5,
             "#f7f7f7"
            ],
            [
             0.6,
             "#e6f5d0"
            ],
            [
             0.7,
             "#b8e186"
            ],
            [
             0.8,
             "#7fbc41"
            ],
            [
             0.9,
             "#4d9221"
            ],
            [
             1,
             "#276419"
            ]
           ],
           "sequential": [
            [
             0,
             "#0d0887"
            ],
            [
             0.1111111111111111,
             "#46039f"
            ],
            [
             0.2222222222222222,
             "#7201a8"
            ],
            [
             0.3333333333333333,
             "#9c179e"
            ],
            [
             0.4444444444444444,
             "#bd3786"
            ],
            [
             0.5555555555555556,
             "#d8576b"
            ],
            [
             0.6666666666666666,
             "#ed7953"
            ],
            [
             0.7777777777777778,
             "#fb9f3a"
            ],
            [
             0.8888888888888888,
             "#fdca26"
            ],
            [
             1,
             "#f0f921"
            ]
           ],
           "sequentialminus": [
            [
             0,
             "#0d0887"
            ],
            [
             0.1111111111111111,
             "#46039f"
            ],
            [
             0.2222222222222222,
             "#7201a8"
            ],
            [
             0.3333333333333333,
             "#9c179e"
            ],
            [
             0.4444444444444444,
             "#bd3786"
            ],
            [
             0.5555555555555556,
             "#d8576b"
            ],
            [
             0.6666666666666666,
             "#ed7953"
            ],
            [
             0.7777777777777778,
             "#fb9f3a"
            ],
            [
             0.8888888888888888,
             "#fdca26"
            ],
            [
             1,
             "#f0f921"
            ]
           ]
          },
          "colorway": [
           "#636efa",
           "#EF553B",
           "#00cc96",
           "#ab63fa",
           "#FFA15A",
           "#19d3f3",
           "#FF6692",
           "#B6E880",
           "#FF97FF",
           "#FECB52"
          ],
          "font": {
           "color": "#2a3f5f"
          },
          "geo": {
           "bgcolor": "white",
           "lakecolor": "white",
           "landcolor": "#E5ECF6",
           "showlakes": true,
           "showland": true,
           "subunitcolor": "white"
          },
          "hoverlabel": {
           "align": "left"
          },
          "hovermode": "closest",
          "mapbox": {
           "style": "light"
          },
          "paper_bgcolor": "white",
          "plot_bgcolor": "#E5ECF6",
          "polar": {
           "angularaxis": {
            "gridcolor": "white",
            "linecolor": "white",
            "ticks": ""
           },
           "bgcolor": "#E5ECF6",
           "radialaxis": {
            "gridcolor": "white",
            "linecolor": "white",
            "ticks": ""
           }
          },
          "scene": {
           "xaxis": {
            "backgroundcolor": "#E5ECF6",
            "gridcolor": "white",
            "gridwidth": 2,
            "linecolor": "white",
            "showbackground": true,
            "ticks": "",
            "zerolinecolor": "white"
           },
           "yaxis": {
            "backgroundcolor": "#E5ECF6",
            "gridcolor": "white",
            "gridwidth": 2,
            "linecolor": "white",
            "showbackground": true,
            "ticks": "",
            "zerolinecolor": "white"
           },
           "zaxis": {
            "backgroundcolor": "#E5ECF6",
            "gridcolor": "white",
            "gridwidth": 2,
            "linecolor": "white",
            "showbackground": true,
            "ticks": "",
            "zerolinecolor": "white"
           }
          },
          "shapedefaults": {
           "line": {
            "color": "#2a3f5f"
           }
          },
          "ternary": {
           "aaxis": {
            "gridcolor": "white",
            "linecolor": "white",
            "ticks": ""
           },
           "baxis": {
            "gridcolor": "white",
            "linecolor": "white",
            "ticks": ""
           },
           "bgcolor": "#E5ECF6",
           "caxis": {
            "gridcolor": "white",
            "linecolor": "white",
            "ticks": ""
           }
          },
          "title": {
           "x": 0.05
          },
          "xaxis": {
           "automargin": true,
           "gridcolor": "white",
           "linecolor": "white",
           "ticks": "",
           "title": {
            "standoff": 15
           },
           "zerolinecolor": "white",
           "zerolinewidth": 2
          },
          "yaxis": {
           "automargin": true,
           "gridcolor": "white",
           "linecolor": "white",
           "ticks": "",
           "title": {
            "standoff": 15
           },
           "zerolinecolor": "white",
           "zerolinewidth": 2
          }
         }
        },
        "title": {
         "text": "Expected Job Growth by Industry 2019-2020 vs Median Salary"
        },
        "xaxis": {
         "anchor": "y",
         "domain": [
          0,
          1
         ],
         "title": {
          "text": "Median Annual Wage 2019"
         },
         "type": "log"
        },
        "yaxis": {
         "anchor": "x",
         "domain": [
          0,
          1
         ],
         "title": {
          "text": "Employment Percent Change, 2019-2029"
         }
        }
       }
      },
      "text/html": [
       "<div>                            <div id=\"d31e0678-9e8a-4ff6-91f8-fd15ebe84418\" class=\"plotly-graph-div\" style=\"height:525px; width:100%;\"></div>            <script type=\"text/javascript\">                require([\"plotly\"], function(Plotly) {                    window.PLOTLYENV=window.PLOTLYENV || {};                                    if (document.getElementById(\"d31e0678-9e8a-4ff6-91f8-fd15ebe84418\")) {                    Plotly.newPlot(                        \"d31e0678-9e8a-4ff6-91f8-fd15ebe84418\",                        [{\"customdata\": [[\"None\", 4.3], [\"None\", 17.6], [\"Less than 5 years\", 6.5], [\"None\", -10.4], [\"Less than 5 years\", -1.1], [\"None\", 2.8], [\"Less than 5 years\", 11.8], [\"None\", 1.6], [\"None\", 1.8], [\"Less than 5 years\", 2.8], [\"None\", 5.5], [\"Less than 5 years\", 7.7], [\"None\", 0.8], [\"5 years or more\", 2.6], [\"5 years or more\", -1.8], [\"None\", 16.2], [\"None\", 6.4], [\"None\", 4.7], [\"None\", 2.2], [\"None\", 4.9], [\"None\", -5.3], [\"None\", 3.4], [\"None\", -8.8], [\"None\", 14.0], [\"Less than 5 years\", 3.1], [\"Less than 5 years\", 1.1], [\"Less than 5 years\", 2.3], [\"None\", 4.5], [\"None\", 4.4], [\"None\", 4.7], [\"5 years or more\", -10.0], [\"None\", 11.7], [\"None\", 1.7], [\"None\", 4.0], [\"None\", 7.3], [\"None\", 11.8], [\"None\", -3.5], [\"None\", 11.7], [\"5 years or more\", 2.5], [\"Less than 5 years\", 7.9], [\"None\", 4.6], [\"5 years or more\", 10.4], [\"None\", 1.6], [\"5 years or more\", 5.0], [\"None\", 5.7], [\"None\", -9.4], [\"None\", 7.4], [\"None\", 5.1], [\"None\", 8.5], [\"None\", -1.5], [\"None\", -4.8], [\"None\", 7.6], [\"None\", 30.9], [\"None\", 9.7], [\"None\", -1.9], [\"None\", 8.0], [\"Less than 5 years\", 3.3], [\"Less than 5 years\", -7.3], [\"Less than 5 years\", 8.1], [\"Less than 5 years\", 1.0], [\"None\", 4.4], [\"None\", 4.6], [\"None\", 1.4], [\"None\", 3.5], [\"5 years or more\", 4.5], [\"None\", 1.3], [\"None\", 3.1], [\"None\", 7.8], [\"None\", 11.3], [\"None\", -4.4], [\"None\", 21.6], [\"None\", 5.5], [\"None\", 7.3], [\"5 years or more\", 15.5], [\"None\", 1.0], [\"None\", 1.2], [\"None\", 4.4], [\"None\", 14.1], [\"None\", 3.8], [\"None\", 14.3], [\"5 years or more\", 5.8], [\"None\", -1.2], [\"None\", 4.9], [\"None\", -3.8], [\"None\", 3.9], [\"None\", 11.4], [\"5 years or more\", 6.3], [\"None\", 7.0], [\"None\", 5.3], [\"None\", 10.1], [\"5 years or more\", 0.9], [\"Less than 5 years\", 31.2], [\"None\", -6.2], [\"None\", -4.9], [\"None\", 20.0], [\"None\", 3.7], [\"Less than 5 years\", -6.8], [\"None\", -2.4], [\"Less than 5 years\", 6.2], [\"None\", 5.0], [\"None\", 4.6], [\"None\", 3.2], [\"None\", 4.4], [\"Less than 5 years\", 10.7], [\"None\", 1.5], [\"None\", 17.7], [\"5 years or more\", 6.7], [\"None\", 1.5], [\"None\", 3.4], [\"None\", 3.9], [\"Less than 5 years\", 31.5], [\"None\", 7.8], [\"None\", 3.1], [\"None\", 3.6], [\"None\", 4.2], [\"None\", 11.6], [\"Less than 5 years\", 1.7], [\"5 years or more\", 4.8], [\"None\", 4.3], [\"None\", -11.2], [\"None\", -12.6], [\"None\", 3.8], [\"None\", 24.8], [\"None\", 4.4], [\"Less than 5 years\", -1.8], [\"None\", 3.2], [\"None\", -3.0], [\"None\", 3.7], [\"Less than 5 years\", 10.0], [\"None\", 5.9], [\"None\", -2.7], [\"None\", 2.9], [\"5 years or more\", 9.2], [\"None\", 7.2], [\"5 years or more\", 2.6], [\"None\", 8.3], [\"None\", 7.2], [\"None\", 3.2], [\"None\", 6.3], [\"Less than 5 years\", 3.5], [\"None\", 4.1], [\"None\", 3.8], [\"None\", 3.7], [\"None\", 1.2], [\"Less than 5 years\", 17.0], [\"None\", 5.8], [\"None\", 0.8], [\"None\", 5.1], [\"None\", 21.5], [\"None\", 6.8], [\"None\", 8.5], [\"None\", 2.9], [\"None\", 2.6], [\"None\", 8.3], [\"None\", 3.2], [\"None\", 4.1], [\"None\", 6.4], [\"None\", 24.7], [\"None\", 2.6], [\"None\", 1.6], [\"None\", -4.1], [\"None\", 3.4], [\"Less than 5 years\", 7.4], [\"None\", 14.6], [\"5 years or more\", 7.3], [\"Less than 5 years\", 8.6], [\"None\", 7.4], [\"None\", -2.3], [\"None\", 3.9]], \"hovertemplate\": \"<b>%{hovertext}</b><br><br>Typical Entry-Level Education=Bachelor's degree<br>Median Annual Wage 2019=%{x}<br>Employment Percent Change, 2019-2029=%{customdata[1]}<br>Education Code=%{marker.size}<br>Work Experience in a Related Occupation=%{customdata[0]}<extra></extra>\", \"hovertext\": [\"Accountants and auditors    * Account Auditor* Accountant* Auditor* Auditor-In-Charge* CPA* Certified Public Accountant* Cost Accountant* Field Auditor* Financial Accountant* Financial Auditor* Fund Accountant* Internal Auditor* Payroll Auditor* Tax Accountant\", \"Actuaries    * Actuarial Associate* Actuarial Mathematician* Health Actuary* Insurance Actuary* Pricing Actuary* Product Development Actuary\", \"Administrative services and facilities managers\", \"Adult basic education, adult secondary education, and English as a Second Language instructors    * Adult Basic Studies Teacher* Adult Education Teacher* Adult Literacy Instructor* Adult Literacy Teacher* Adult Remedial Education Instructor* GED Instructor* General Educational Development (GED) Teacher* General Educational Development Teacher\", \"Advertising and promotions managers    * Advertising Director* Advertising Executive* Advertising Manager* Classified Advertising Manager* Promotion Manager* Promotions Director* VP Advertising* VP Promotions\", \"Aerospace engineers    * Aerodynamics Engineer* Aeronautical Engineer* Aerospace Engineer* Aircraft Design Engineer* Aircraft Designer* Aircraft Engineer* Astronautical Engineer* Flight Systems Test Engineer* Flight Test Engineer* Wind Tunnel Engineer\", \"Agents and business managers of artists, performers, and athletes    * Artist Manager* Artist Representative* Author's Agent* Band Manager* Booking Agent* Booking Manager* Fight Manager* Literary Agent* Modeling Agent* Talent Agent* Talent Manager* Theatrical Agent\", \"Agricultural engineers    * Agricultural Engineer* Agricultural Production Engineer* Agricultural Research Engineer* Farm Equipment Engineer* Research Agricultural Engineer\", \"Agricultural inspectors    * Cattle Examiner* Cattle Inspector* Grain Sampler* Meat and Poultry Inspector* Milk Tester* Wheat Inspector\", \"Airline pilots, copilots, and flight engineers    * Airline Captain* Airline Pilot* Airline Pilot Flight Instructor* Airline Pilot In Command* Airline Pilot Second In Command* Airline Transport Pilot* Charter Pilot (Air Transport Pilot Certificate Required)* Charter Pilot (Airline)* Regional Airline Pilot\", \"Animal scientists    * Animal Geneticist* Animal Nutritionist* Animal Scientist* Beef Cattle Nutritionist* Dairy Scientist* Poultry Scientist* Swine Genetics Researcher\", \"Arbitrators, mediators, and conciliators    * Alternative Dispute Resolution Coordinator* Mediation Commissioner* Ombudsman\", \"Architects, except landscape and naval    * Building Architect* Building Architectural Designer* Structural Architect\", \"Architectural and engineering managers    * Electrical Engineering Director* Engineering Design Manager* Engineering Manager* Engineering Research Manager* Global Engineering Manager* Mechanical Engineering Director* Process Engineering Manager\", \"Art directors    * Art Director* Magazine Designer\", \"Athletic trainers    * Athletic Trainer* Certified Athletic Trainer* Clinical Athletic Instructor* Resident Athletic Trainer\", \"Atmospheric and space scientists    * Atmospheric Chemist* Atmospheric Scientist* Climatologist* Hurricane Tracker* Meteorologist* Oceanographic Meteorologist* Space Scientist* Storm Chaser* Tornado Chaser* Warning Coordination Meteorologist* Weather Analyst* Weather Forecaster* Weatherman\", \"Bioengineers and biomedical engineers    * Bio-Mechanical Engineer* Biochemical Engineer* Biomaterials Engineer* Biomedical Engineer* Dialysis Engineer* Genetic Engineer\", \"Biological scientists, all other    * Biologist* Bryologist* Embryologist* Osteologist* Paleobotanist* Phytopathologist* Plant Etiologist\", \"Biological technicians    * Bacteriology Technician* Biochemistry Technician* Biology Laboratory Assistant* Marine Fisheries Technician* Microbiology Technician* Wildlife Technician\", \"Broadcast announcers and radio disc jockeys    * Commercial Announcer* Game Show Host* Radio Artist* Radio Disk Jockey* Radio Host* Talk Show Host* Television Host\", \"Budget analysts    * Budget Analyst* Budget Coordinator* Budget Examiner* Budget Officer* Cost Analyst\", \"Buyers and purchasing agents\", \"Camera operators, television, video, and film    * Cinematographer* Electronic News Gathering Camera Operator* Motion Picture Camera Operator* Movie Shot Camera Operator* News Camera Operator* News Videographer* Television Camera Operator* Video Camera Operator\", \"Career/technical education teachers, middle school    * Middle School Vocational Education Teacher\", \"Career/technical education teachers, postsecondary    * Architectural Drafting Instructor* Aviation Maintenance Instructor* Barbering Instructor* Barbering Teacher* Building Trades Instructor* Carpentry Instructor* Commercial Art Instructor* Computer Repair Instructor* Computer-Aided Drafting and Design Instructor* Cosmetology Professor* Electrical Technology Instructor* Electronics Technology Instructor* Industrial Electrical Technology Instructor* Industrial Maintenance Instructor* Machine Tool Technician Instructor* Masonry Instructor* Massage Therapy Instructor* Mechanical Maintenance Instructor* Paralegal Instructor* Postsecondary Career and Technical Education Teacher* Residential Construction Instructor* Skin Care Instructor* Upholstery Instructor* Vocational Horticulture Instructor* Welding Instructor\", \"Career/technical education teachers, secondary school    * High School Auto Repair Teacher* High School Vocational Education Teacher\", \"Cartographers and photogrammetrists    * Cadastral Mapper* Digital Cartographer* Engineer, Photogrammetric* Map Maker* Mapper* Orthophotography Technician* Photo Cartographer* Photogrammetrist* Topographer\", \"Chemical engineers    * Absorption and Adsorption Engineer* Chemical Process Engineer* Chemical Research Engineer* Fuels Engineer* Oxidation Engineer* Plastics Engineer* Polymerization Engineer* Refinery Process Engineer\", \"Chemists    * Agricultural Chemist* Analytical Chemist* Bench Chemist* Food Chemist* Formulary Chemist* Industrial Chemist* Inorganic Chemist* Laboratory Chemist* Nuclear Chemist* Organic Chemist* Quality Control Chemist* Research and Development Chemist\", \"Chief executives    * CEO* COO* Chief Executive Officer* Chief Operating Officer* Commissioner of Internal Revenue* County Commissioner* Government Service Executive* Governor* Mayor\", \"Child, family, and school social workers    * C-CYFSW* Certified Children, Youth, and Family Social Worker* Child Abuse Worker* Child Protective Services Social Worker* Child Protective Services Specialist* Child Welfare Social Worker* Child Welfare Worker* Child and Family Services Worker* Family Preservation Caseworker* Family Preservation Worker* Family Service Caseworker* Foster Care Social Worker* Foster Care Worker* School Social Worker\", \"Civil engineers    * Architectural Engineer* Bridge Engineer* Civil Engineer* Construction Engineer* Facilities Engineer* Geotechnical Engineer* Highway Engineer* Hydrographic Engineer* Railroad Design Consultant* Research Hydraulic Engineer* Structural Engineer\", \"Clergy    * Cantor* Children's Pastor* College Chaplain* Hebrew Cantor* Hospital Chaplain* Imam* Minister* Parish Priest* Pastor* Priest* Rabbi* Reverend* Vicar* Youth Pastor\", \"Clinical laboratory technologists and technicians\", \"Coaches and scouts    * Athletic Coach* Baseball Coach* Baseball Scout* Basketball Coach* Boxing Trainer* Coach* Football Coach* Hockey Scout* Ice Skating Coach* Riding Coach* Ski Coach* Tennis Coach* Tennis Instructor\", \"Commercial and industrial designers    * Automobile Designer* Bank Note Designer* Bicycle Designer* Car Body Designer* Ceramic Designer* Ceramic Mold Designer* Furniture Designer* Package Designer* Rug Designer* Snowboard Designer* Textile Designer* Tile Designer* Toy Designer\", \"Community and social service specialists, all other    * Community Organization Worker* Veterans Service Officer\", \"Compensation and benefits managers    * Compensation Director* Employee Benefits Coordinator* Employee Benefits Director* Employee Benefits Manager* Wage and Salary Administrator\", \"Compensation, benefits, and job analysis specialists    * Benefits Analyst* Compensation Analyst* Compensation Specialist* Employee Benefits Specialist* Job Analyst* Job Specification Writer* Occupational Analyst* Pension Administrator* Position Classification Specialist* Retirement Plan Specialist\", \"Compliance officers    * Air Pollution Compliance Inspector* Compliance Investigator* Driver's License Examiner* EEO Officer* Environmental Compliance Inspector* Equal Employment Opportunity Investigator* Equal Employment Opportunity Officer* Equal Employment Opportunity Representative* Immigration Investigator* Inspector of Weights and Measures* License Inspector* Mortician Investigator* Wage and Hour Investigator\", \"Computer and information systems managers    * Application Development Director* Chief Technology Officer* Computer Operations Manager* Computer Security Manager* Data Operations Director* Data Processing Manager* Information Systems Director* Information Systems Manager* Information Technology Director* Information Technology Systems Director* Internet Technology Manager* MIS Director* Management Information Systems Director\", \"Computer hardware engineers    * Computer Hardware Designer* Computer Hardware Developer* Computer Hardware Engineer\", \"Computer network architects\", \"Computer occupations, all other\", \"Computer programmers\", \"Computer systems analysts\", \"Conservation scientists    * Conservation Science Officer* Conservation Scientist* Grassland Conservationist* Land Reclamation Specialist* Land Resource Specialist* Range Conservationist* Range Ecologist* Range Scientist* Resource Conservationist* Soil Conservationist* Water Conservationist\", \"Construction managers    * Construction Coordinator* Construction Superintendent* General Contractor* Masonry Contractor Administrator\", \"Cost estimators    * Construction Estimator* Construction Job Cost Estimator* Crating and Moving Estimator* Electrical Estimator* Job Estimator* Production Cost Estimator\", \"Credit analysts    * Chief Credit Analyst* Credit Analyst* Credit Assessment Analyst* Credit Risk Analyst* Factorer\", \"Credit counselors    * Credit Counselor* Debt Management Counselor* Financial Assistance Advisor* Loan Counselor\", \"Data scientists and mathematical science occupations, all other\", \"Database administrators and architects\", \"Designers, all other    * Memorial Marker Designer\", \"Dietitians and nutritionists    * Clinical Dietitian* Dietitian* Nutritionist* Pediatric Dietician* Public Health Dietitian* Public Health Nutritionist* Research Dietitian* Sports Nutritionist* Therapeutic Dietitian\", \"Directors, religious activities and education    * Campus Ministry Director* Christian Education Minister* Education Minister* Parish Religious Education Director* Religious Activities Director* Religious Education Coordinator* Religious Education Director* Student Ministries Director* Youth Ministry Director\", \"Editors    * Advertising Editor* Art Editor* Book Editor* Copy Desk Chief* Copy Editor* Index Editor* Manuscript Editor* Newspaper Photo Editor* Publications Editor* Rewrite Editor* Scientific Publications Editor* Sports Editor* Technical Editor\", \"Education administrators, all other\", \"Education and childcare administrators, preschool and daycare    * Childcare Center Administrator* Childcare Center Director* Early Head Start Director* Head Start Director* Prekindergarten Program Coordinator* Preschool Director\", \"Educational instruction and library workers, all other    * General Educational Development (GED) Examiner* Individualized Education Plan (IEP) Aide* Scholastic Aptitude Test (SAT) Grader\", \"Electrical engineers    * Electrical Design Engineer* Electrical Engineer* Electrical Systems Engineer* Illuminating Engineer* Power Distribution Engineer\", \"Electronics engineers, except computer    * Antenna Engineer* Circuit Design Engineer* Electronic Design Automation Engineer* Electronic Engineer* Electronic Parts Designer* Telecommunication Engineer\", \"Elementary school teachers, except special education    * 3rd Grade Reading Teacher* 4th Grade Math Teacher* Elementary School Band Director* Elementary School Teacher* Grades 1 Thru 5 Teacher\", \"Emergency management directors    * Director of Civil Defense* Disaster Response Director* EMS Director* Emergency Management System Director* Emergency Planner* Emergency Planning and Response Manager* Emergency Preparedness Coordinator* Emergency Services Director* Emergency Services Program Coordinator* Public Safety Director\", \"Engineers, all other    * Corrosion Control Engineer* Mathematical Engineer* Optical Engineer* Ordnance Engineer* Photonics Engineer* Salvage Engineer\", \"Environmental engineers    * Air Pollution Control Engineer* Environmental Engineer* Environmental Remediation Engineer* Hazardous Substances Engineer* Hazardous Waste Management Control Engineer* Pollution Control Engineer* Soil Engineer* Waste Management Engineer* Wastewater Treatment Engineer* Water Treatment Plant Engineer\", \"Environmental scientists and specialists, including health    * Ecological Modeler* Environmental Analyst* Environmental Scientist* Hazardous Substances Scientist* Health Environmentalist* Water Pollution Scientist* Water Quality Analyst\", \"Exercise physiologists    * Applied Exercise Physiologist* Clinical Exercise Physiologist* Kinesiotherapist\", \"Fashion designers    * Apparel Designer* Clothes Designer* Clothing Designer* Costume Designer* Custom Furrier* Dance Costume Designer* Dress Designer* Fashion Designer* Hat Designer* Sweater Designer* Uniform Designer\", \"Film and video editors    * Cue Selector* Electronic News Gathering Editor* Film Editor* Movie Editor* News Video Editor* News Videotape Editor* Tape Editor* Television News Video Editor* Video Tape Transferrer\", \"Financial and investment analysts, financial risk specialists, and financial specialists, all other\", \"Financial examiners    * Bank Compliance Officer* Bank Examiner* Financial Compliance Examiner* Home Mortgage Disclosure Act Specialist* Payroll Examiner* Pension Examiner\", \"Financial managers    * Banking Center Manager* Banking Manager* City Comptroller* City Treasurer* Comptroller* Credit Manager* Financial Director* Financial Officer* Fiscal Manager* International Bank Manager* Residential Mortgage Manager\", \"Fine artists, including painters, sculptors, and illustrators    * Book Illustrator* Caricature Artist* Comic Artist* Comic Book Artist* Comic Illustrator* Commercial Artist* Concrete Sculptor* Editorial Cartoonist* Fashion Illustrator* Free Lance Artist* Fresco Artist* Glass Artist* Ice Sculptor* Medical Illustrator* Mural Painter* Muralist* Non-Representational Metal Sculptor* Oil Painter* Pattern Illustrator* Political Cartoonist* Portrait Artist* Portrait Painter* Scientific Illustrator* Sketch Artist* Sports Cartoonist* Stained Glass Artist* Water Colorist* Watercolor Artist\", \"Fish and game wardens    * Conservation Enforcement Officer* Fish Warden* Fish and Game Warden* Fish and Wildlife Warden* Game Warden* Wildlife Control Agent* Wildlife Officer* Wildlife and Game Protector\", \"Food scientists and technologists    * Dairy Bacteriologist* Enologist* Food Preservation Scientist* Food Processing Scientist* Food Safety Scientist* Food Scientist* Food Technologist\", \"Forensic science technicians    * Ballistic Technician* Ballistician* Ballistics Expert* Crime Lab Technician* Crime Scene Technician* Criminalist Technician* Fingerprint Expert* Forensic Analyst* Forensic Science Technician* Handwriting Expert* Trace Evidence Technician* Wildlife Forensic Geneticist\", \"Foresters    * Environmental Protection Forester* Forest Ecologist* Forestry Scientist* Land Management Forester* Operations Forester* Resource Forester* Service Forester* Timber Management Specialist* Urban Forester\", \"Fundraisers    * Campaign Fundraiser* Donor Relations Officer* Fundraising Officer\", \"General and operations managers    * Department Store General Manager* General Manager* General Superintendent* Manufacturing Operations Manager* Operations Manager* Radio Station Manager* Television Station Manager\", \"Geographers    * Biogeographer* Economic Geographer* GIS Geographer* Geographer* Geomorphologist* Glaciologist* Physical Geographer* Political Geographer\", \"Geoscientists, except hydrologists and geographers    * Crystallographer* Development Geologist* Environmental Geologist* Exploration Geologist* Geochemist* Geodesist* Geologist* Geomagnetist* Geophysicist* Geoscientist* Mine Geologist* Mineralogist* Mining Production Geologist* Oceanographer* Oceanologist* Paleontologist* Petroleum Geologist* Petrologist* Research Geologist* Sedimentationist* Seismologist* Stratigrapher* Volcanologist\", \"Graphic designers    * Catalogue Illustrator* Graphic Artist* Graphic Designer* Visual Designer\", \"Health and safety engineers, except mining safety engineers and inspectors    * Fire Prevention Engineer* Fire Protection Engineer* Industrial Safety Engineer* Product Safety Engineer* Product Safety Test Engineer* System Safety Engineer\", \"Health education specialists    * Certified Diabetes Educator* Certified Health Education Specialist* Community Health Education Coordinator* Diabetes Educator* Health Education Specialist* Health Educator* Public Health Educator\", \"Human resources managers    * Employee Relations Manager* Job Analysis Manager* Labor Relations Director* Personnel Administrator* Personnel Director* Personnel Manager* Position Description Manager\", \"Human resources specialists    * Corporate Recruiter* Credentialing Coordinator* Employee Placement Specialist* Human Resources Generalist* Job Placement Officer* Job Placement Specialist* Job Recruiter* Personnel Coordinator* Personnel Officer* Personnel Recruiter* Personnel Specialist* Staffing Coordinator\", \"Hydrologists    * Hydrogeologist* Hydrologist* Isotope Hydrologist* Surface Hydrologist\", \"Industrial engineers    * Efficiency Engineer* Manufacturing Engineer* Packaging Engineer* Production Engineer\", \"Industrial production managers    * Industrial Production Manager* Manufacturing Director* Plant Chief* Plant Manager* Plant Superintendent* Production Control Manager\", \"Information security analysts\", \"Insurance underwriters    * Automobile and Property Underwriter* Bond Underwriter* Insurance Analyst* Insurance Underwriter* Insurance Writer* Underwriting Account Representative* Underwriting Service Representative\", \"Interior designers    * Certified Kitchen Designer* Furniture Arranger* Home Lighting Adviser* Interior Decorator* Interior Designer* Kitchen Designer* Kitchen and Bath Designer\", \"Interpreters and translators    * American Sign Language Interpreter* Court Interpreter* Deaf Interpreter* Diplomatic Interpreter* Language Translator* Translator\", \"Kindergarten teachers, except special education    * Bilingual Kindergarten Teacher* Kindergarten Teacher\", \"Labor relations specialists    * Employee Relations Specialist* Industrial Relations Analyst* Industrial Relations Specialist* Labor Relations Consultant* Labor Relations Representative* Union Representative\", \"Landscape architects    * Golf Course Architect* Golf Course Designer* Landscape Designer* Lanscape Architect\", \"Legislators    * City Alderman* City Council Member* Congressional Representative* Councilor* Legislator* Member of Congress* Selectman* Senator* Tribal Council Member\", \"Librarians and media collections specialists\", \"Life scientists, all other    * Life Science Taxonomist\", \"Loan officers    * Branch Lending Officer* Commercial Lender* Loan Analyst* Loan Officer* Loan Reviewer* Real Estate Loan Officer\", \"Logisticians    * Logistician* Logistics Analyst* Logistics Coordinator* Logistics Planner* Logistics Specialist\", \"Management analysts    * Business Analyst* Business Consultant* Business Management Analyst* Business Process Consultant* Clerical Methods Analyst* Commercial Specialist* Industrial Analyst* Management Analyst* Management Consultant* Records Management Analyst\", \"Marine engineers and naval architects    * Marine Architect* Marine Equipment Engineer* Marine Structural Designer* Naval Engineer* Ships Equipment Engineer\", \"Market research analysts and marketing specialists    * Market Research Analyst* Market Research Specialist* Marketing Analyst* Marketing Consultant* Marketing Forecaster* Marketing Specialist\", \"Marketing managers    * Internet Marketing Manager* Marketing Administrator* Marketing Director* VP Marketing\", \"Materials engineers    * Automotive Sheet Metal Engineer* Ceramic Engineer* Forensic Materials Engineer* Glass Science Engineer* Metallographer* Metallurgical Engineer* Metallurgist* Welding Engineer\", \"Materials scientists    * Materials Scientist* Metal Alloy Scientist* Plastics Scientist\", \"Mechanical engineers    * Auto Research Engineer* Combustion Engineer* Engine Designer* Heating and Cooling Systems Engineer* Mechanical Engineer* Tool Engineer* Tool and Die Engineer\", \"Medical and health services managers    * Clinic Director* Clinical Services Director* Emergency Medical Service Coordinator* Health Care Manager* Health Services Administrator* Health Services Director* Healthcare Administrator* Healthcare Manager* Hospice Director* Hospice Plan Administrator* Hospital Administrator* Hospital Director* Medical Director* Medical Records Administrator* Medical and Health Information Manager* Mental Health Program Manager* Nursing Home Manager* Nursing Service Director* Occupational Therapy Director* Public Health Administrator* Respiratory Therapy Director* Speech and Hearing Therapy Director* Wellness Director* Wellness Manager\", \"Meeting, convention, and event planners    * Certified Meeting Professional* Conference Organizer* Conference Planner* Conference Planning Manager* Conference Services Director* Conference Services Manager* Convention Planner* Convention Services Manager* Corporate Meeting Planner* Event Planner* Events Manager* Wedding Planner\", \"Microbiologists    * Bacteriologist* Clinical Microbiologist* Medical Microbiologist* Microbiological Analyst* Public Health Microbiologist* Quality Control Microbiologist* Virologist\", \"Middle school teachers, except special and career/technical education    * 7th Grade Social Studies Teacher* Junior High School Teacher* Middle School PE Teacher* Middle School Science Teacher\", \"Mining and geological engineers, including mining safety engineers    * Geophysical Engineer* Mineral Engineer* Mining Engineer* Seismic Engineer\", \"Museum technicians and conservators    * Art Conservator* Art Preparator* Conservation Technician* Ethnographic Materials Conservator* Museum Exhibit Technician* Objects Conservator* Paintings Conservator* Paper Conservator* Textile Conservator\", \"Music directors and composers    * Choir Director* Choirmaster* Chorus Master* Composer* Jingle Writer* Maestro* Music Adapter* Music Arranger* Music Copyist* Music Director* Music Minister* Music Pastor* Orchestra Conductor* Orchestra Director* Orchestrator* Songwriter\", \"Natural sciences managers    * Agricultural Research Director* Geochemical Manager* Geophysical Manager* Ocean Program Administrator\", \"Network and computer systems administrators\", \"News analysts, reporters, and journalists\", \"Nuclear engineers    * Atomic Process Engineer* Nuclear Engineer* Nuclear Radiation Engineer* Nuclear Steam Supply System Engineer* Radiation Engineer* Reactor Engineer* Reactor Projects Engineer\", \"Occupational health and safety specialists\", \"Operations research analysts    * Operations Analyst* Operations Research Analyst* Procedure Analyst* Process Analyst\", \"Personal financial advisors    * Certified Financial Planner* Estate Planner* Estate Planning Counselor* Financial Counselor* Individual Pension Adviser* Individual Pension Consultant* Personal Financial Advisor* Personal Financial Planner* Personal Investment Adviser\", \"Personal service managers, all other; entertainment and recreation managers, except gambling; and managers, all other\", \"Petroleum engineers    * Natural Gas Engineer* Oil Drilling Engineer* Oil Exploration Engineer* Oil Well Engineer* Petroleum Engineer\", \"Physical scientists, all other    * Physical Scientist\", \"Probation officers and correctional treatment specialists    * Correctional Treatment Specialist* Juvenile Probation Officer* Parole Agent* Parole Officer* Probation Officer\", \"Producers and directors    * Broadcast Producer* Casting Director* Film Maker* Independent Film Maker* Independent Video Producer* Motion Picture Director* Movie Producer* Music Video Director* Music Video Producer* News Production Supervisor* Newscast Director* Newscast Producer* On-Air Director* Pageant Director* Radio Producer* Radio Television Technical Director* Stage Manager* Television News Producer* Television Newscast Director* Television Producer* Television Program Director* Theater Company Producer* Video Producer\", \"Project management specialists and business operations specialists, all other\", \"Proofreaders and copy markers    * Braille Proofreader* Clerical Proofreader* Copy Reader* Editorial Assistant* Format Proofreader* Proofreader\", \"Property appraisers and assessors\", \"Public relations and fundraising managers\", \"Public relations specialists    * Environmental Communications Specialist* Lobbyist* Media Relations Specialist* Press Agent* Press Secretary* Public Affairs Officer* Public Relations Counselor* Public Relations Officer* Public Relations Representative* Publicist* Publicity Agent* Publicity Writer\", \"Purchasing managers    * Contract Administrator* Contracting Manager* Director of Strategic Sourcing* Procurement Manager* Purchasing Director* Purchasing Manager* Sourcing Manager\", \"Recreational therapists    * CTRS* Certified Recreational Therapist* Certified Therapeutic Recreation Specialist* Drama Therapist* Recreational Therapist* Therapeutic Recreation Specialist\", \"Registered nurses    * CCU Nurse* CNS* Clinical Nurse Specialist* Community Health Nurse* Coronary Care Unit Nurse* Emergency Room RN* Endoscopy Registered Nurse* Hospice Registered Nurse* Obstetrical Nurse* Oncology Registered Nurse* PACU Nurse* Pediatric Registered Nurse* Post-Anesthesia Care Unit Nurse* Psychiatric Nurse* RN* Registered Nurse* Triage Registered Nurse\", \"Religious workers, all other    * Buddhist Monk* Christian Science Nurse* Missionary* Mohel* Nun* Pastoral Worker* Prior* Sacristan* Sunday School Missionary* Traveling Missionary* Verger\", \"Sales engineers    * Aerospace Products Sales Engineer* Missile Navigation Systems Sales Engineer* Nuclear Equipment Sales Engineer\", \"Sales managers    * District Sales Manager* E-Commerce Director* Export Manager* Regional Sales Manager* Sales Account Manager* Sales Director* Territory Sales Manager\", \"Sales representatives, wholesale and manufacturing, technical and scientific products    * Chemical Sales Representative* Electroplating Sales Representative* Engineering Supplies Sales* Pharmaceutical Detailer* Pharmaceutical Sales Representative* Pharmaceutical Salesperson* Surgical Instruments Sales Representative* Wholesale Ultrasonic Equipment Salesperson\", \"Secondary school teachers, except special and career/technical education    * High School Biology Teacher* High School English Teacher* High School French Teacher* High School History Teacher* High School Math Teacher* High School Music Director* High School Teacher\", \"Securities, commodities, and financial services sales agents    * Commodities Broker* Commodity Trader* Equity Trader* Investment Banker* Municipal Bond Trader* Mutual Fund Sales Agent* Securities Trader* Stock Broker* Stock Trader\", \"Set and exhibit designers    * Scenic Designer* Set Decorator* Set Designer* Stage Scenery Designer* Theater Set Production Designer\", \"Social and community service managers    * Child Welfare Director* Community Service Director* Community Service Organization Director* Family Service Center Director* Neighborhood Service Center Director* Social Service Director* Social Services Director* Youth Program Director\", \"Social science research assistants    * City Planning Aide* Economic Research Assistant* Economist Research Assistant* Historian Research Assistant* Political Science Research Assistant* Psychologist Research Assistant* Sociology Research Assistant\", \"Social scientists and related workers, all other    * Behavioral Scientist* Demographer* Ethnologist* Etymologist* Linguist* Philologist* Social Scientist\", \"Social workers, all other    * Criminal Justice Social Worker* Forensic Social Worker* Sexual Assault Social Worker\", \"Software developers and software quality assurance analysts and testers\", \"Soil and plant scientists    * Agriculturist* Agronomist* Arboreal Scientist* Crop Nutrition Scientist* Floriculturist* Horticulturist* Plant Physiologist* Plant Scientist* Pomologist* Soil Fertility Extension Specialist* Soil Scientist* Viticulturist\", \"Special education teachers, all other    * Autism Tutor* Special Education Teacher for Adults with Disabilities\", \"Special education teachers, kindergarten and elementary school    * SED Elementary School Teacher* Severe Emotional Disorders Elementary School Teacher* Special Education Kindergarten Teacher\", \"Special education teachers, middle school\", \"Special education teachers, preschool    * Early Childhood Special Education Teacher* Early Childhood Special Educator* Pre-K Special Education Teacher* Pre-Kindergarten Special Education Teacher* Special Education Preschool Teacher\", \"Special education teachers, secondary school\", \"Special effects artists and animators    * 3D Animator* Animator* Multimedia Artist* Special Effects Artist\", \"Statistical assistants    * Actuarial Assistant* Actuary Clerk* Data Analysis Assistant* Statistical Clerk* Tariff Compiling Clerk\", \"Substance abuse, behavioral disorder, and mental health counselors\", \"Substitute teachers, short-term\", \"Surveyors    * City Surveyor* County Surveyor* Geodetic Surveyor* Geophysical Prospecting Surveyor* Land Surveyor* Mine Surveyor* Mineral Surveyor* Registered Land Surveyor* Topographical Surveyor\", \"Tax examiners and collectors, and revenue agents    * City Collector* Customs Appraiser* Income Tax Adjuster* Internal Revenue Agent* Internal Revenue Service Agent* Revenue Collector* Revenue Enforcement Agent* Tax Compliance Officer* Tax Compliance Representative* Tax Examiner* Tax Investigator* Tax Revenue Officer\", \"Teaching assistants, postsecondary\", \"Technical writers    * Assembly Instructions Writer* Documentation Writer* Engineering Writer* Handbook Writer* Medical Writer* Specifications Writer* Technical Communicator* Technical Writer\", \"Therapists, all other    * Art Therapist* Auriculotherapist* Educational Therapist* Hydrotherapist* Music Therapist* Peripatologist\", \"Training and development managers    * E-Learning Manager* Employee Development Director* Employee Development Manager* Labor Training Manager\", \"Training and development specialists    * Computer Training Specialist* Corporate Trainer* Employee Development Specialist* Job Training Specialist* Training Coordinator* Training Specialist* Workforce Development Specialist\", \"Tutors and teachers and instructors, all other\", \"Writers and authors    * Advertising Copy Writer* Advertising Copywriter* Author* Biographer* Copy Writer* Copywriter* Lyricist* Novelist* Playwright* Poet* Program Writer* Radio Script Writer* Screen Writer* Short Story Writer* Song Lyricist* Television Writer* Verse Writer\", \"Zoologists and wildlife biologists    * Aquatic Biologist* Entomologist* Fish Culturist* Fishery Biologist* Herpetologist* Ichthyologist* Lepidopterist* Marine Biologist* Migratory Game Bird Biologist* Ornithologist* Protozoologist* Wildlife Biologist\"], \"legendgroup\": \"Bachelor's degree\", \"marker\": {\"color\": \"#636efa\", \"size\": [3, 3, 3, 3, 3, 3, 3, 3, 3, 3, 3, 3, 3, 3, 3, 3, 3, 3, 3, 3, 3, 3, 3, 3, 3, 3, 3, 3, 3, 3, 3, 3, 3, 3, 3, 3, 3, 3, 3, 3, 3, 3, 3, 3, 3, 3, 3, 3, 3, 3, 3, 3, 3, 3, 3, 3, 3, 3, 3, 3, 3, 3, 3, 3, 3, 3, 3, 3, 3, 3, 3, 3, 3, 3, 3, 3, 3, 3, 3, 3, 3, 3, 3, 3, 3, 3, 3, 3, 3, 3, 3, 3, 3, 3, 3, 3, 3, 3, 3, 3, 3, 3, 3, 3, 3, 3, 3, 3, 3, 3, 3, 3, 3, 3, 3, 3, 3, 3, 3, 3, 3, 3, 3, 3, 3, 3, 3, 3, 3, 3, 3, 3, 3, 3, 3, 3, 3, 3, 3, 3, 3, 3, 3, 3, 3, 3, 3, 3, 3, 3, 3, 3, 3, 3, 3, 3, 3, 3, 3, 3, 3, 3, 3, 3, 3, 3, 3, 3, 3], \"sizemode\": \"area\", \"sizeref\": 0.02, \"symbol\": \"circle\"}, \"mode\": \"markers\", \"name\": \"Bachelor's degree\", \"orientation\": \"v\", \"showlegend\": true, \"type\": \"scatter\", \"x\": [\"71,550\", \"108,350\", \"96,940\", \"54,350\", \"125,510\", \"116,500\", \"73,740\", \"80,720\", \"45,490\", \"147,220\", \"60,300\", \"63,930\", \"80,750\", \"144,830\", \"94,220\", \"48,440\", \"95,380\", \"91,410\", \"82,220\", \"45,860\", \"34,630\", \"76,540\", \"64,380\", \"55,160\", \"60,800\", \"54,620\", \"61,710\", \"65,470\", \"108,770\", \"77,630\", \"184,460\", \"47,390\", \"87,060\", \"50,400\", \"53,120\", \"34,840\", \"68,890\", \"43,790\", \"122,270\", \"64,560\", \"69,050\", \"146,360\", \"117,220\", \"112,690\", \"88,550\", \"86,550\", \"90,920\", \"62,660\", \"95,260\", \"65,250\", \"73,650\", \"45,950\", \"94,280\", \"93,750\", \"64,620\", \"61,270\", \"43,860\", \"61,370\", \"85,450\", \"48,210\", \"40,310\", \"98,530\", \"105,570\", \"59,670\", \"74,590\", \"99,040\", \"88,860\", \"71,360\", \"49,170\", \"73,790\", \"63,780\", \"81,590\", \"81,090\", \"129,890\", \"50,550\", \"57,500\", \"68,970\", \"59,150\", \"61,790\", \"57,970\", \"100,780\", \"81,540\", \"92,040\", \"52,110\", \"91,410\", \"55,220\", \"116,720\", \"61,920\", \"81,270\", \"88,020\", \"105,480\", \"99,730\", \"70,020\", \"56,040\", \"51,830\", \"56,850\", \"69,020\", \"69,360\", \"29,270\", \"59,500\", \"75,910\", \"63,270\", \"74,750\", \"85,260\", \"92,400\", \"63,790\", \"136,850\", \"93,360\", \"96,810\", \"88,430\", \"100,980\", \"50,600\", \"75,650\", \"59,660\", \"91,160\", \"44,430\", \"51,670\", \"129,100\", \"83,510\", \"46,270\", \"113,460\", \"74,100\", \"84,810\", \"87,850\", \"110,630\", \"137,720\", \"109,910\", \"54,290\", \"74,420\", \"73,570\", \"40,630\", \"57,010\", \"116,180\", \"61,150\", \"121,110\", \"48,220\", \"73,300\", \"31,630\", \"103,900\", \"126,640\", \"81,020\", \"61,660\", \"62,270\", \"54,600\", \"67,150\", \"47,510\", \"83,330\", \"61,230\", \"107,510\", \"63,200\", \"61,190\", \"60,460\", \"61,440\", \"60,000\", \"61,710\", \"75,270\", \"49,870\", \"46,240\", \"28,790\", \"63,420\", \"54,890\", \"32,080\", \"72,850\", \"52,650\", \"113,350\", \"61,210\", \"39,350\", \"63,200\", \"63,270\"], \"xaxis\": \"x\", \"y\": [4.3, 17.6, 6.5, -10.4, -1.1, 2.8, 11.8, 1.6, 1.8, 2.8, 5.5, 7.7, 0.8, 2.6, -1.8, 16.2, 6.4, 4.7, 2.2, 4.9, -5.3, 3.4, -8.8, 14.0, 3.1, 1.1, 2.3, 4.5, 4.4, 4.7, -10.0, 11.7, 1.7, 4.0, 7.3, 11.8, -3.5, 11.7, 2.5, 7.9, 4.6, 10.4, 1.6, 5.0, 5.7, -9.4, 7.4, 5.1, 8.5, -1.5, -4.8, 7.6, 30.9, 9.7, -1.9, 8.0, 3.3, -7.3, 8.1, 1.0, 4.4, 4.6, 1.4, 3.5, 4.5, 1.3, 3.1, 7.8, 11.3, -4.4, 21.6, 5.5, 7.3, 15.5, 1.0, 1.2, 4.4, 14.1, 3.8, 14.3, 5.8, -1.2, 4.9, -3.8, 3.9, 11.4, 6.3, 7.0, 5.3, 10.1, 0.9, 31.2, -6.2, -4.9, 20.0, 3.7, -6.8, -2.4, 6.2, 5.0, 4.6, 3.2, 4.4, 10.7, 1.5, 17.7, 6.7, 1.5, 3.4, 3.9, 31.5, 7.8, 3.1, 3.6, 4.2, 11.6, 1.7, 4.8, 4.3, -11.2, -12.6, 3.8, 24.8, 4.4, -1.8, 3.2, -3.0, 3.7, 10.0, 5.9, -2.7, 2.9, 9.2, 7.2, 2.6, 8.3, 7.2, 3.2, 6.3, 3.5, 4.1, 3.8, 3.7, 1.2, 17.0, 5.8, 0.8, 5.1, 21.5, 6.8, 8.5, 2.9, 2.6, 8.3, 3.2, 4.1, 6.4, 24.7, 2.6, 1.6, -4.1, 3.4, 7.4, 14.6, 7.3, 8.6, 7.4, -2.3, 3.9], \"yaxis\": \"y\"}, {\"customdata\": [[\"None\", -0.3], [\"None\", 5.2], [\"None\", 7.9], [\"None\", 5.6], [\"None\", 15.4], [\"None\", 13.0], [\"None\", 12.6], [\"None\", 14.1], [\"5 years or more\", 3.9], [\"Less than 5 years\", 3.7], [\"None\", 8.0], [\"None\", 4.6], [\"None\", 1.3], [\"None\", -3.9], [\"None\", 21.5], [\"None\", 14.4], [\"None\", 2.6], [\"None\", 2.5], [\"5 years or more\", 5.9], [\"None\", 22.3], [\"None\", 3.0], [\"None\", 16.8], [\"None\", 13.7], [\"None\", 11.6], [\"None\", 52.4], [\"None\", 15.9], [\"None\", 16.9], [\"None\", 31.3], [\"None\", 6.1], [\"None\", 2.3], [\"None\", 10.3], [\"None\", 3.6], [\"None\", 24.9], [\"None\", 34.6], [\"None\", -3.7], [\"None\", 11.0]], \"hovertemplate\": \"<b>%{hovertext}</b><br><br>Typical Entry-Level Education=Master's degree<br>Median Annual Wage 2019=%{x}<br>Employment Percent Change, 2019-2029=%{customdata[1]}<br>Education Code=%{marker.size}<br>Work Experience in a Related Occupation=%{customdata[0]}<extra></extra>\", \"hovertext\": [\"Acupuncturists and healthcare diagnosing or treating practitioners, all other\", \"Anthropologists and archeologists    * Anthropologist* Applied Anthropologist* Archaeologist* Ethnoarchaeologist* Medical Anthropologist* Physical Anthropologist* Political Anthropologist* Research Anthropologist* Research Archaeologist\", \"Archivists    * Archivist* Digital Archivist* Film Archivist* Historical Records Administrator* Image Archivist* Museum Archivist* Processing Archivist* Reference Archivist* State Archivist\", \"Art, drama, and music teachers, postsecondary    * Ballet Professor* Graphic Design Professor* Music Professor* Photography Professor* Piano Performance and Pedagogy Professor* Piano Professor* Scene and Lighting Design Lecturer* Stagecraft Professor* Theatre Professor* Voice Professor\", \"Computer and information research scientists\", \"Counselors, all other    * AIDS Counselor* Anger Control Counselor* Grief Counselor* HIV Counselor* Sexual Assault Counselor\", \"Curators    * Collections Curator* Collections and Archives Director* Curator* Educational Institution Curator* Exhibitions and Collections Manager* Herbarium Curator* Museum Curator* Photography and Prints Curator\", \"Economists    * Agricultural Economist* Econometrician* Economic Development Specialist* Economic Research Analyst* Economist* Environmental Economist* Industrial Economist* Labor Economist* Price Economist* Social Economist* Tax Economist* Trade Economist\", \"Education administrators, kindergarten through secondary    * Elementary School Principal* High School Principal* Junior High School Principal* K-12 School Principal* K-8 School Principal* Middle School Principal* Secondary School Principal\", \"Education administrators, postsecondary    * Adult Basic Education Manager* Continuing Education Director* Graduate School Dean* Graduate Studies Dean* Provost* University Administrator* University Dean\", \"Educational, guidance, and career counselors and advisors    * Career Counselor* Career Technical Counselor* Education Counselor* International Student Counselor* School Adjustment Counselor* School Guidance Counselor* Student Advisor* Student Development Advisor* Student Services Counselor* Student Success Counselor* Study Abroad Advisor* Vocational Adviser\", \"Epidemiologists    * Clinical Epidemiologist* Communicable Disease Specialist* Environmental Epidemiologist* Epidemiology Investigator* Malariologist* Medical Epidemiologist* Pharmacoepidemiologist\", \"Family and consumer sciences teachers, postsecondary    * Family Resource Management Professor* Family and Consumer Sciences Professor* Home and Family Living Professor* Weaving Professor\", \"Farm and home management educators    * 4-H Youth Development Specialist* Agricultural Agent* Agricultural Extension Educator* Extension Service Advisor* Family Resource Management Specialist* Family and Consumer Sciences Extension Agent* Farm Business Management Agent* Farm Management Specialist* Feed Management Advisor* Home Economics Expert\", \"Genetic counselors    * Certified Genetic Counselor* Chromosomal Disorders Counselor* Genetic Counselor* Mitochondrial Disorders Counselor* Prenatal Genetic Counselor\", \"Healthcare social workers    * AIDS Social Worker* C-SWHC* Certified Social Workers In Health Care* Healthcare Social Worker* Hospice Home Care Social Worker* Hospice Social Worker* Hospital Social Worker* Medical Social Worker* Neonatal Social Worker* Nephrology Social Worker* Oncology Social Worker* Pediatric Social Worker* Public Health Social Worker* Renal Social Worker\", \"Historians    * Genealogist* Historiographer* Protohistorian\", \"Industrial-organizational psychologists    * Engineering Psychologist* Human Resources Psychologist* I/O Psychologist* Industrial Psychologist* Management Psychologist* Organizational Psychologist* Organizational Research Consultant* Personnel Research Psychologist\", \"Instructional coordinators    * Curriculum Coordinator* Curriculum Designer* Curriculum Specialist* Curriculum and Assessment Director* Curriculum and Instruction Director* Instructional Coordinator* Instructional Materials Director* School Curriculum Developer* Special Education Curriculum Specialist\", \"Marriage and family therapists    * Child and Family Counselor* Couples Therapist* Family Counselor* Family Therapist* Marriage Counselor* Marriage Therapist* Relationship Counselor\", \"Mathematicians    * Algebraist* Cipher Expert* Cryptanalyst* Cryptographer* Cryptographic Vulnerability Analyst* Geometrician* Mathematician\", \"Mental health and substance abuse social workers    * Community Mental Health Social Worker* Drug Abuse Social Worker* Psychiatric Social Worker* Psychotherapist Social Worker\", \"Nurse anesthetists    * Certified Registered Nurse Anesthetist* Certified Registered Nurse Anesthetist (CRNA)* DNAP* Doctor of Nurse Anesthesia Practice* Nurse Anesthetist\", \"Nurse midwives    * Certified Nurse Midwife* Certified Nurse Midwife (CNM)\", \"Nurse practitioners    * Acute Care Nurse Practitioner* Adult Nurse Practitioner* Cardiology Nurse Practitioner* Certified Nurse Practitioner* Certified Pediatric Nurse Practitioner* Certified Registered Nurse Practitioner* Dermatology Nurse Practitioner* Electrophysiology Nurse Practitioner* Emergency Medicine Nurse Practitioner* Family Health Nurse Practitioner* Family Practice Nurse Practitioner* Gastroenterology Nurse Practitioner* Gerontological Nurse Practitioner* Internal Medicine Nurse Practitioner* NP* Neurosurgical Nurse Practitioner* Nurse Practitioner* Obstetrics-Gynecology Nurse Practitioner* Orthopedic Nurse Practitioner* Palliative Care Nurse Practitioner* Pediatric Nurse Practitioner* Surgical Nurse Practitioner\", \"Occupational therapists    * OT* Occupational Therapist* Registered Occupational Therapist\", \"Orthotists and prosthetists    * American Board Certified Orthotist* Artificial Limb Fitter* Certified Orthotic Fitter* Certified Prosthetist/Orthotist* Licensed Prosthetist* Orthotic/Prosthetic Practitioner* Orthotist* Pedorthist* Prosthetist\", \"Physician assistants    * Anesthesiologist Assistant* Certified Physician's Assistant* Family Practice Physician Assistant* Orthopaedic Physician Assistant* Orthopedic Physician Assistant* Pediatric Physician Assistant* Radiology Practitioner Assistant* Surgical Physician Assistant\", \"Political scientists    * Government Affairs Researcher* Government Affairs Specialist* Local Governance and Citizen Participation Specialist* Political Consultant* Political Research Scientist* Political Researcher\", \"Psychologists, all other    * Developmental Psychologist* Experimental Psychologist* Forensic Psychologist* Neuropsychologist* Psychometrist* Psychotherapist* Rehabilitation Psychologist* Social Psychologist* Sports Psychologist\", \"Rehabilitation counselors    * Certified Rehabilitation Counselor* Coordinator of Rehabilitation Services* Psychosocial Rehabilitation Counselor* Rehabilitation Counselor* Veterans Rehabilitation Counselor* Vocational Rehabilitation Counselor\", \"Sociologists    * Criminologist* Family Sociologist* Penologist* Rural Sociologist* Sociologist* Urban Sociologist\", \"Speech-language pathologists    * Language Pathologist* Public School Speech Clinician* Public School Speech Therapist* Speech Clinician* Speech Pathologist* Speech Therapist* Speech and Language Specialist\", \"Statisticians    * Analytical Statistician* Applied Statistician* Biometrician* Biostatistician* Environmental Statistician* Mathematical Statistician* Research Biostatistician* Sampling Expert* Statistical Analyst* Statistical Reporting Analyst* Statistician* Survey Statistician* Time Study Statistician\", \"Survey researchers    * Pollster* Survey Methodologist* Survey Questionnaire Designer* Survey Researcher\", \"Urban and regional planners    * City Planner* Community Development Planner* Regional Planner* Urban Planner\"], \"legendgroup\": \"Master's degree\", \"marker\": {\"color\": \"#EF553B\", \"size\": [2, 2, 2, 2, 2, 2, 2, 2, 2, 2, 2, 2, 2, 2, 2, 2, 2, 2, 2, 2, 2, 2, 2, 2, 2, 2, 2, 2, 2, 2, 2, 2, 2, 2, 2, 2], \"sizemode\": \"area\", \"sizeref\": 0.02, \"symbol\": \"circle\"}, \"mode\": \"markers\", \"name\": \"Master's degree\", \"orientation\": \"v\", \"showlegend\": true, \"type\": \"scatter\", \"x\": [\"75,640\", \"63,670\", \"53,950\", \"69,530\", \"122,840\", \"42,930\", \"54,570\", \"105,020\", \"96,400\", \"95,410\", \"57,040\", \"70,990\", \"76,480\", \"49,710\", \"81,880\", \"56,750\", \"63,680\", \"92,880\", \"66,290\", \"49,610\", \"105,030\", \"46,650\", \"174,790\", \"105,030\", \"109,820\", \"84,950\", \"68,410\", \"112,260\", \"122,220\", \"101,790\", \"35,950\", \"83,420\", \"79,120\", \"91,160\", \"59,170\", \"74,350\"], \"xaxis\": \"x\", \"y\": [-0.3, 5.2, 7.9, 5.6, 15.4, 13.0, 12.6, 14.1, 3.9, 3.7, 8.0, 4.6, 1.3, -3.9, 21.5, 14.4, 2.6, 2.5, 5.9, 22.3, 3.0, 16.8, 13.7, 11.6, 52.4, 15.9, 16.9, 31.3, 6.1, 2.3, 10.3, 3.6, 24.9, 34.6, -3.7, 11.0], \"yaxis\": \"y\"}, {\"customdata\": [[\"None\", -1.8], [\"None\", -6.5], [\"Less than 5 years\", 5.4], [\"None\", 4.4], [\"None\", -17.4], [\"None\", 6.1], [\"None\", 9.4], [\"None\", -3.2], [\"None\", 22.9], [\"None\", 6.5], [\"None\", 13.3], [\"None\", 2.9], [\"None\", -0.4], [\"None\", 5.3], [\"None\", -0.3], [\"None\", 4.9], [\"None\", -6.4], [\"None\", 1.9], [\"None\", 0.9], [\"None\", -6.4], [\"None\", 1.3], [\"None\", 3.8], [\"None\", 3.4], [\"None\", 9.3], [\"None\", -2.9], [\"None\", 2.6], [\"None\", 5.5], [\"None\", -0.4], [\"5 years or more\", 6.4], [\"None\", 1.7], [\"None\", -3.1], [\"None\", 1.7], [\"5 years or more\", 14.0], [\"None\", -6.4], [\"None\", 1.4], [\"None\", 1.7], [\"None\", -18.7], [\"None\", -2.0], [\"None\", 9.1], [\"None\", 9.1], [\"None\", 15.2], [\"None\", -7.0], [\"None\", 6.7], [\"5 years or more\", 3.2], [\"None\", 0.2], [\"None\", 3.8], [\"None\", -7.5], [\"None\", -3.2], [\"None\", 4.7], [\"None\", -2.2], [\"None\", 4.8], [\"Less than 5 years\", 1.7], [\"None\", -4.8], [\"None\", 15.7], [\"None\", -5.7], [\"None\", -2.0], [\"None\", -4.8], [\"None\", -8.3], [\"None\", -24.6], [\"None\", 9.4], [\"Less than 5 years\", 1.1], [\"None\", -0.9], [\"None\", 4.5], [\"None\", -19.0], [\"None\", 3.0], [\"Less than 5 years\", 7.8], [\"Less than 5 years\", 4.1], [\"None\", 1.7], [\"None\", 1.4], [\"None\", 8.4], [\"None\", -23.2], [\"None\", 6.6], [\"None\", 3.8], [\"None\", -15.2], [\"None\", 6.2], [\"None\", -4.6], [\"Less than 5 years\", 2.9], [\"Less than 5 years\", -20.4], [\"None\", 15.4], [\"None\", -10.5], [\"None\", -6.4], [\"None\", -3.1], [\"None\", -11.4], [\"None\", -16.7], [\"None\", 1.3], [\"5 years or more\", -6.5], [\"None\", -5.3], [\"None\", -14.6], [\"None\", 8.6], [\"5 years or more\", 4.8], [\"Less than 5 years\", -7.8], [\"Less than 5 years\", -1.1], [\"Less than 5 years\", 5.9], [\"Less than 5 years\", 16.4], [\"Less than 5 years\", 8.4], [\"Less than 5 years\", 11.4], [\"Less than 5 years\", 2.7], [\"Less than 5 years\", -8.3], [\"Less than 5 years\", -3.0], [\"Less than 5 years\", 11.2], [\"Less than 5 years\", 5.2], [\"Less than 5 years\", -0.3], [\"Less than 5 years\", -5.5], [\"Less than 5 years\", 5.1], [\"Less than 5 years\", 17.3], [\"None\", -20.1], [\"None\", 1.3], [\"None\", 0.5], [\"Less than 5 years\", 0.6], [\"None\", -0.5], [\"Less than 5 years\", 24.3], [\"None\", -21.1], [\"None\", -5.8], [\"None\", -2.9], [\"None\", -0.7], [\"None\", -3.7], [\"None\", 3.7], [\"None\", 5.7], [\"None\", 7.7], [\"Less than 5 years\", 8.8], [\"None\", 6.5], [\"Less than 5 years\", 5.6], [\"None\", -2.1], [\"None\", -5.6], [\"None\", 3.9], [\"None\", -8.2], [\"None\", 8.2], [\"None\", 6.9], [\"None\", 10.5], [\"None\", -10.3], [\"None\", 1.5], [\"None\", 20.2], [\"None\", 4.4], [\"None\", 5.6], [\"None\", 6.8], [\"None\", 5.0], [\"None\", -6.9], [\"None\", 33.7], [\"None\", -6.9], [\"None\", 15.6], [\"None\", 3.0], [\"None\", -17.0], [\"None\", 2.5], [\"None\", 4.5], [\"None\", -2.2], [\"None\", 5.5], [\"None\", 2.5], [\"None\", -10.0], [\"None\", -10.1], [\"None\", -10.2], [\"None\", -22.1], [\"None\", -3.8], [\"None\", 5.9], [\"None\", 4.9], [\"None\", 8.3], [\"None\", 8.1], [\"None\", -7.5], [\"Less than 5 years\", -3.5], [\"Less than 5 years\", -11.7], [\"None\", -11.4], [\"None\", -12.5], [\"None\", -14.5], [\"None\", 4.2], [\"None\", -6.7], [\"None\", 4.2], [\"None\", 6.1], [\"None\", -22.3], [\"None\", 3.6], [\"None\", 8.1], [\"None\", 11.5], [\"None\", 5.9], [\"None\", 9.5], [\"None\", -3.4], [\"None\", -8.6], [\"None\", 0.0], [\"None\", -11.5], [\"None\", -18.6], [\"None\", 6.9], [\"None\", -12.8], [\"None\", 4.3], [\"Less than 5 years\", 1.6], [\"None\", 1.2], [\"None\", 0.7], [\"None\", -8.2], [\"None\", -0.2], [\"None\", -6.1], [\"None\", -9.6], [\"None\", 0.8], [\"None\", 2.1], [\"None\", -7.1], [\"None\", -14.7], [\"None\", -35.7], [\"None\", 4.8], [\"None\", 19.9], [\"None\", 4.0], [\"None\", -5.0], [\"None\", -13.1], [\"None\", 4.0], [\"None\", 7.6], [\"None\", 4.0], [\"None\", 5.0], [\"None\", 3.8], [\"None\", 1.4], [\"None\", -5.7], [\"None\", -36.2], [\"None\", 4.4], [\"None\", -8.4], [\"None\", -4.7], [\"None\", 4.7], [\"None\", -4.5], [\"None\", 8.5], [\"None\", 8.3], [\"None\", -0.5], [\"None\", -15.7], [\"None\", 3.6], [\"None\", -3.6], [\"None\", -19.4], [\"None\", 21.3], [\"None\", 4.4], [\"None\", 0.0], [\"None\", -8.8], [\"None\", 4.3], [\"None\", 5.7], [\"None\", -13.5], [\"None\", -13.5], [\"None\", -17.8], [\"Less than 5 years\", -21.9], [\"None\", -8.6], [\"None\", -7.7], [\"None\", -15.1], [\"None\", 3.3], [\"None\", -14.8], [\"None\", -13.3], [\"Less than 5 years\", 8.3], [\"None\", -7.5], [\"None\", 2.1], [\"None\", 3.9], [\"Less than 5 years\", 0.2], [\"None\", 10.9], [\"None\", 6.2], [\"None\", 9.7], [\"None\", -3.2], [\"None\", -4.7], [\"None\", -6.8], [\"None\", 3.4], [\"None\", -5.5], [\"None\", -2.1], [\"Less than 5 years\", 2.6], [\"None\", 2.3], [\"None\", 3.6], [\"None\", 10.0], [\"None\", 5.1], [\"None\", -19.3], [\"None\", 5.0], [\"None\", -2.9], [\"None\", 11.8], [\"None\", 4.6], [\"None\", -11.3], [\"None\", -16.0], [\"None\", 1.9], [\"None\", 6.0], [\"None\", 0.9], [\"None\", -6.9], [\"None\", 4.3], [\"None\", -10.1], [\"None\", 10.3], [\"None\", 2.8], [\"Less than 5 years\", 10.3], [\"None\", 0.7], [\"None\", 3.5], [\"None\", 10.1], [\"None\", 1.3], [\"None\", -8.7], [\"None\", -10.3], [\"None\", -14.5], [\"None\", -0.7], [\"None\", 16.8], [\"None\", 50.5], [\"None\", 2.2], [\"None\", 0.7], [\"None\", -3.2], [\"None\", 4.7], [\"None\", -16.0], [\"None\", 5.3], [\"None\", 0.7], [\"None\", -22.5], [\"None\", -0.6], [\"None\", -1.6], [\"None\", -27.9], [\"None\", -15.3], [\"None\", -10.3], [\"None\", -11.9], [\"None\", -10.5], [\"None\", -12.8], [\"None\", -9.7], [\"None\", -4.9], [\"None\", -22.3], [\"None\", 0.5], [\"None\", 2.3], [\"None\", -2.6], [\"None\", -4.8], [\"None\", 5.4], [\"None\", 6.0], [\"None\", 4.0], [\"None\", 2.4], [\"None\", -3.1], [\"5 years or more\", 3.5], [\"None\", -25.9], [\"None\", 10.7], [\"None\", 8.0], [\"None\", 9.3], [\"None\", -4.0], [\"None\", 15.8], [\"None\", -32.3], [\"None\", -4.2], [\"None\", 5.1], [\"None\", 3.1], [\"None\", -6.8], [\"Less than 5 years\", 4.2], [\"None\", -4.6], [\"None\", -2.4], [\"None\", -36.4]], \"hovertemplate\": \"<b>%{hovertext}</b><br><br>Typical Entry-Level Education=High school diploma or equivalent<br>Median Annual Wage 2019=%{x}<br>Employment Percent Change, 2019-2029=%{customdata[1]}<br>Education Code=%{marker.size}<br>Work Experience in a Related Occupation=%{customdata[0]}<extra></extra>\", \"hovertext\": [\"Adhesive bonding machine operators and tenders    * Glue Line Operator* Glue Machine Operator* Glue Reel Operator* Paper Gluing Operator\", \"Advertising sales agents    * Advertising Account Executive* Advertising Agent* Advertising Solicitor* Display Advertising Sales Representative* Inside Sales Advertising Executive* Outside Sales Advertising Executive* Radio Time Salesperson* Signs and Displays Salesperson* Yellow Pages Space Salesperson\", \"Aircraft cargo handling supervisors\", \"Aircraft service attendants and transportation workers, all other\", \"Aircraft structure, surfaces, rigging, and systems assemblers    * Aircraft De-Icer Installer* Aircraft Fuselage Framer* Aircraft Layout Worker* Aircraft Line Assembler* Aircraft Part Assembler* Aircraft Riveter* Aircraft Sheet Metal Mechanic* Helicopter Airframe Mechanic* Propeller Layout Worker* Wing Coverer\", \"Airfield operations specialists    * Aviation Operations Specialist* Flight Operations Coordinator\", \"Ambulance drivers and attendants, except emergency medical technicians    * Ambulance Attendant* Emergency Medical Services (EMS) Driver* Emergency Medical Services Driver\", \"Animal breeders    * Animal Breeder* Cat Breeder* Dairy Husbandry Worker* Dog Breeder* Equine Breeder* Horse Breeder* Livestock Breeder* Poultry Inseminator* Stallion Manager\", \"Animal caretakers    * Animal Care Giver* Animal Care Technician* Animal Caregiver* Animal Daycare Provider* Animal Groomer* Animal Shelter Worker* Animal Sitter* Aquarist* Aquarium Tank Attendant* Cat and Dog Bather* Dog Bather* Dog Beautician* Dog Groomer* Dog Sitter* Horse Exerciser* Kennel Aide* Kennel Attendant* Kennel Helper* Kennel Worker* Pet Feeder* Pet Groomer* Pet Sitter* Pet Stylist* Zookeeper\", \"Animal control workers    * Animal Control Officer* Animal Cruelty Investigator* Animal Treatment Investigator* Animal Warden* Dog Catcher* Dog Warden* Humane Officer\", \"Animal trainers    * Animal Trainer* Dog Handler* Dog Trainer* Dolphin Trainer* Guide Dog Instructor* Guide Dog Mobility Instructor* Guide Dog Trainer* Horse Breaker* Licensed Guide Dog Instructor* Lion Trainer* Marine Mammal Trainer* Seeing Eye Dog Trainer\", \"Automotive body and related repairers    * Auto Body Customizer* Auto Body Technician* Auto Body Worker* Auto Bumper Straightener* Body Shop Worker* Body and Frame Technician* Car Refinisher* Truck Body Repairer* Vehicle Body Sander\", \"Automotive glass installers and repairers    * Auto Glass Installer* Auto Glass Mechanic* Automotive Glass Technician* Automotive Glazier* Windshield Installer* Windshield Repair Technician\", \"Baggage porters and bellhops    * Baggage Porter* Bell Staff* Bellperson* Bellstaff* Hotel Baggage Handler* Luggage Attendant* Redcap* Skycap\", \"Bailiffs    * Bailiff* City Bailiff* County Bailiff* Court Bailiff* Court Officer* Court Security Officer* Deputy Bailiff\", \"Bicycle repairers    * Bicycle Mechanic* Bicycle Repairer* Bicycle Service Technician* Bike Mechanic\", \"Bill and account collectors    * Accounts Collector* Bill Collector* Billing Representative* Collection Agent* Collections Clerk* Collections Representative* Debt Collector* Installment Agent* Installment Loan Collector* Insurance Collector* Payment Collector* Repossessor\", \"Billing and posting clerks    * Billing Clerk* Invoice Clerk* Invoice Control Clerk* Patient Account Representative* Posting Clerk* Statement Clerk* Statement Distribution Clerk* Statement Processor\", \"Boilermakers    * Boiler Fitter* Boiler Installer* Boiler Mechanic* Boiler Setter* Boiler Tester* Boilermaker* Boilermaker Mechanic\", \"Brickmasons and blockmasons    * Adobe Layer* Block Layer* Blockmason* Brick Chimney Builder* Brick Setter* Bricklayer* Brickmason* Brickmason Apprentice* Firebrick Layer* Furnace Mason* Pottery Kiln Builder* Refractory Bricklayer\", \"Bridge and lock tenders    * Bridge Operator* Bridge Tender* Dam Tender* Lighthouse Keeper* Lock and Dam Operator\", \"Brokerage clerks    * Brokerage Clerk* Brokerage Purchase-and-Sale Clerk* Commodities Clerk* Dividend Clerk* Securities Clerk\", \"Bus and truck mechanics and diesel engine specialists    * Biodiesel Engine Specialist* Diesel Engine Fitter* Diesel Service Technician* Marine Diesel Technician* School Bus Mechanic* Tractor Trailer Mechanic* Truck Engine Technician\", \"Bus drivers, transit and intercity\", \"Cabinetmakers and bench carpenters    * Cabinet Builder* Cabinetmaker* Marquetry Worker* Wood Furniture Assembler* Wood Working Assembler\", \"Camera and photographic equipment repairers    * Aircraft Photographic Equipment Repairer* Camera Machinist* Camera Repair Technician* Camera Repairer* Photographic Equipment Technician\", \"Cargo and freight agents    * Cargo Agent* Cargo Router* Freight Agent* Freight Shipping Agent* Ramp Service Agent\", \"Carpenters    * Beam Builder* Building Carpenter* Construction Carpenter* Counter Installer* Custom Wood Stair Builder* Finish Carpenter* Hardwood Floor Installer* House Carpenter* Wood Floor Layer\", \"Chefs and head cooks    * Banquet Chef* Chef De Cuisine* Chef De Froid* Executive Chef* Head Chef* Kitchen Chef* Master Chef* Pastry Chef* Sous Chef* Sushi Chef\", \"Chemical equipment operators and tenders    * Acid Purification Equipment Operator* Chemical Machine Tender* Chemical Process Equipment Operator* Chemical Processor* Chemical Treatment Operator\", \"Chemical plant and system operators    * Chemical Plant Operator* Chemical Treatment Plant Technician* Nitric Acid Plant Operator* Nitrogen Operator* Pharmaceutical Manufacturing Machine Operator\", \"Childcare workers    * Au Pair* Baby Sitter* Before and After School Daycare Worker* Childcare Aide* Childcare Attendant* Childcare Worker* Day Care Attendant* Day Care Worker* Daycare Aide* Daycare Provider* Governess* Nanny* Nursery Day Care Worker* Playground Aide\", \"Choreographers    * Choreographer* Dance Director* Dance Master\", \"Claims adjusters, examiners, and investigators    * Claims Analyst* Fire Claims Adjuster* Health Claims Examiner* Health Insurance Adjuster* Independent Insurance Adjuster* Medical Claims Analyst* Medical Claims Examiner* Property Damage Claims Adjustor* Property and Casualty Insurance Claims Examiner* Reinsurance Claims Analyst* Workers Compensation Claims Adjuster* Workers Compensation Claims Examiner\", \"Cleaning, washing, and metal pickling equipment operators and tenders    * Acid Dipper* Bottle Washing Machine Operator* Degreaser Operator* Glass Cleaning Machine Tender* Immersion Metal Cleaner* Metal Pickling Equipment Operator* Pickle House Operator\", \"Coating, painting, and spraying machine setters, operators, and tenders\", \"Coil winders, tapers, and finishers    * Coil Builder* Coil Former* Coil Winder* Motor Rewinder* Motor Winder* Multiple Coil Winder* Rotor Coil Taper* Wire Coiler* Wire Winder* Wire Winding Machine Tender\", \"Coin, vending, and amusement machine servicers and repairers    * Arcade Games Mechanic* Coin Box Collector* Juke Box Mechanic* Parking Meter Collector* Slot Machine Mechanic* Slot Technician* Stamp Machine Servicer* Vending Machine Filler\", \"Commercial pilots    * Aerial Crop Duster* Aerial Hurricane Hunter* Aerial Sprayer* Agricultural Pilot* Air Ambulance Captain* Air Tour Pilot* Balloon Pilot* Charter Pilot (Commercial Pilot Certificate Required)* Charter Pilot (Commercial)* Commercial Helicopter Pilot* Corporate Pilot* EMS Helicopter Pilot* Emergency Medical Service Helicopter Pilot* Emergency Medical Service Rotary Wing Pilot* Executive Pilot* Flight Instructor (Commercial Pilots)* Helicopter Pilot\", \"Communications equipment operators, all other    * Communications Equipment Operator* Facsimile Machine Operator* Fax Machine Operator* Telegraph and Teletype Operator* Telex Operator\", \"Community health workers    * CHW* Community Health Advisor* Community Health Representative* Community Health Worker* Lay Health Advocate* Peer Health Promoter* Promotor(a)\", \"Computer numerically controlled tool operators\", \"Concierges    * Activities Concierge* Club Concierge* Concierge* Conference Concierge* Guest Service Supervisor* Hotel Concierge* Hotel Guest Service Agent\", \"Construction and building inspectors    * Architectural Inspector* Bridge Inspector* Building Code Inspector* Building Inspector* Construction Inspector* Electrical Inspector* Elevator Inspector* Highway Inspector* Home Inspector* Plumbing Inspector* Public Works Inspector* Residential Building Inspector\", \"Control and valve installers and repairers, except mechanical door    * Air Valve Mechanic* Electric Meter Installer* Gas Meter Installer* Gas Meter Mechanic* Thermostat Repairer* Valve Mechanic* Water Meter Installer\", \"Cooling and freezing equipment operators and tenders    * Ammonia Refrigeration Worker* Chiller Operator* Chiller Tender* Freezer Operator* Refrigerating Machine Operator* Refrigeration Operator\", \"Correctional officers and jailers    * Certified Detention Deputy* Convict Guard* Correction Officer* Correctional Guard* Correctional Sergeant* Detention Deputy* Detention Officer* Jail Guard* Juvenile Corrections Officer* Penal Officer* Prison Guard* Prison Officer\", \"Correspondence clerks    * Claims Correspondence Clerk* Correspondence Clerk* Correspondence Representative* Correspondence Transcriber* Customer Service Correspondence Clerk* Fan Mail Editor* Medicare Correspondence Representative* Student Loan Correspondent\", \"Costume attendants    * Costume Attendant* Theatrical Wardrobe Attendant* Theatrical Wardrobe Dresser* Wardrobe Assistant* Wardrobe Attendant* Wardrobe Custodian* Wardrobe Dresser* Wardrobe Supervisor\", \"Couriers and messengers    * Bank Courier* Bicycle Messenger* Courier* Court Messenger* Laboratory Courier* Office Messenger* Office Runner\", \"Court, municipal, and license clerks    * Circuit Court Clerk* City Clerk* Court Clerk* Courtroom Clerk* Deputy Court Clerk* Docket Clerk* Dog Licenser* License Clerk* Motor Vehicle License Clerk* Motor Vehicle Representative* Municipal Clerk* Tax Clerk* Township Clerk* Warrant Clerk\", \"Crane and tower operators    * Boom Crane Operator* Bridge Crane Operator* Cherry Picker Operator* Coal Tower Operator* Electric Crane Operator* Erecting Crane Operator* Monorail Crane Operator* Overhead Crane Operator* Port Crane Operator* Radio Control Crane Operator* Scrap Crane Operator* Tower Loader Operator* Woodyard Crane Operator\", \"Credit authorizers, checkers, and clerks    * Charge Authorizer* Commercial Credit Reviewer* Credit Authorizer* Credit Charge Authorizer* Credit Checker* Credit Investigator* Credit Processor* Credit Rating Checker* Credit Reference Clerk* Credit Report Checker\", \"Crematory operators and personal care and service workers, all other\", \"Crushing, grinding, and polishing machine setters, operators, and tenders    * Beveling and Edging Machine Operator* Beveller Operator* Blanchard Grinder Operator* Crusher Plant Operator* Cullet Crusher and Washer* Industrial Coffee Grinder* Marble and Granite Polisher* Mix Crusher Operator* Pulverizer Operator\", \"Customer service representatives    * Complaint Clerk* Contact Center Specialist* Customer Complaint Clerk* Customer Contact Specialist* Customer Relations Representative* Customer Support Representative* Gas Distribution and Emergency Clerk* Passenger Relations Representative* Policyholder Information Clerk* Warranty Clerk\", \"Cutting and slicing machine setters, operators, and tenders    * Dog Food Shredder Operator* Glass Cutting Machine Operator* Insulation Cutter* Paper Cutter* Paper Slitter* Rubber Trimmer* Shearing Machine Tender* Trimming Operator\", \"Cutting, punching, and press machine setters, operators, and tenders, metal and plastic    * Crimping Machine Operator for Metal* Four Slide Machine Setter* Metal Punch Press Operator* Metal Slitter* Metal Stamper\", \"Data entry keyers    * Customs Entry Clerk* Data Entry Clerk* Data Input Clerk* Data Keyer* Data Processing Clerk* Data Typist* Key Punch Operator* Keypunch Operator* Keypuncher\", \"Dental laboratory technicians    * Crown Ceramist* Crown and Bridge Dental Lab Technician* Crown and Bridge Technician* Dental Ceramist* Dental Laboratory Worker* Dental Mold Maker* Dental Technician* Orthodontic Technician\", \"Detectives and criminal investigators    * Criminal Investigator* Deputy United States Marshal* FBI Investigator* Homicide Detective* Narcotics Detective* Narcotics Investigator* Police Detective\", \"Dispatchers, except police, fire, and ambulance    * Airplane Dispatch Clerk* Auto Service Dispatcher* Bus Dispatcher* Crew Dispatcher* Maintenance Dispatcher* School Bus Dispatcher* Taxicab Dispatcher* Tow Truck Dispatcher* Train Dispatcher* Truck Dispatcher\", \"Dredge operators    * Dredge Deckhand* Dredge Engineer* Dredge Mate* Dredge Operator* Dredger\", \"Drilling and boring machine tool setters, operators, and tenders, metal and plastic    * Bore Mill Operator for Plastic* Boring Mill Operator for Metal* Drill Press Operator for Metal* Horizontal Boring Mill Operator for Metal* Radial Drill Operator for Plastic* Radial Drill Press Operator for Plastic* Reaming Machine Operator for Plastic\", \"Driver/sales workers    * Bakery Deliverer* Bobtailer* Delivery Sales worker* Newspaper Deliverer* Newspaper Delivery Driver* Pizza Delivery Driver* Route Sales Person* Route Salesperson* Sales Route Driver\", \"Earth drillers, except oil and gas; and explosives workers, ordnance handling experts, and blasters\", \"Electric motor, power tool, and related repairers    * AC/DC Rewinder* Armature Rewinder* Battery Repairer* Dynamo Repairer* Electric Motor Fitter* Electric Motor Rewinder* Electrical Parts Reconditioner\", \"Electrical power-line installers and repairers    * Electric Powerline Examiner* Electric Utility Lineworker* Electrical High Tension Tester* Electrical Lineworker* Power Lineworker* Underground Conduit Installer\", \"Electrical, electronic, and electromechanical assemblers, except coil winders, tapers, and finishers\", \"Electricians    * Chief Electrician* Control Electrician* Electrical Maintenance Worker* Electrical Sign Wirer* House Wirer* Licensed Electrician* Lighting Fixture Installer* Marine Electrician* Master Electrician* Solar Photovoltaic Electrician* Stage Electrician\", \"Electronic equipment installers and repairers, motor vehicles    * Auto Electrician* Auto Phone Installer* Auto Radio Mechanic* Automotive Electrician* Car Alarm Installer* Car Stereo Installer* GPS Car Navigation Installer* Mobile Electronics Installation Specialist\", \"Elevator and escalator installers and repairers    * Elevator Adjuster* Elevator Constructor* Elevator Installer* Elevator Mechanic* Elevator Repair and Maintenance Technician* Elevator Service Technician* Escalator Installer* Escalator Mechanic* Escalator Service Mechanic* Freight Elevator Erector* Hydraulic Elevator Constructor\", \"Eligibility interviewers, government programs    * Medicare Interviewer* Public Housing Interviewer* Social Security Benefits Interviewer* Unemployment Benefits Claims Taker* Welfare Interviewer\", \"Engine and other machine assemblers    * Aircraft Engine Assembler* Assembling Motor Builder* Clutch Housing Assembler* Engine Builder* Gas Turbine Assembler* Generator Assembler* Jet Engine Assembler* Machine Builder* Sewing Machine Assembler* Steam Turbine Assembler* Truck Transmission Assembler* Truck Transmission Builder\", \"Entertainment attendants and related workers, all other    * Jockey Valet\", \"Etchers and engravers    * Engraver* Glass Etcher* Laser Engraver* Machine Engraver* Metal Engraver* Pantograph Engraver* Rotary Engraver* Rubber Engraver\", \"Excavating and loading machine and dragline operators, surface mining\", \"Executive secretaries and executive administrative assistants    * Executive Assistant\", \"Exercise trainers and group fitness instructors    * Aerobics Instructor* Certified Personal Trainer* Fitness Trainer* Group Exercise Instructor* Group Fitness Instructor* Personal Fitness Trainer* Personal Trainer* Weight Trainer* Weight Training Instructor* Yoga Instructor* Yoga Teacher\", \"Extruding and drawing machine setters, operators, and tenders, metal and plastic    * Wire Drawing Machine Tender* Wire Mill Rover\", \"Extruding and forming machine setters, operators, and tenders, synthetic and glass fibers    * Drawbench Operator* Fiber Machine Tender* Synthetic Filament Extruder\", \"Extruding, forming, pressing, and compacting machine setters, operators, and tenders    * Bowling Ball Molder* Brick Maker* Cigarette Stamper* Extrusion Press Operator* Paper Baling Machine Operator* Rubber Extrusion Operator* Sugar Presser* Tuber Operator\", \"Fabric and apparel patternmakers    * Clothing Patternmaker* Embroidery Patternmaker* Fabric Pattern Grader\", \"Fallers    * Lumberjack* Pulpwood Cutter* Timber Cutter* Timber Faller* Timber Feller\", \"Farm equipment mechanics and service technicians    * Agricultural Equipment Mechanic* Combine Mechanic* Dairy Equipment Mechanic* Dairy Equipment Repairer* Harvester Mechanic* Irrigation Equipment Mechanic* Milking Machine Mechanic* Tractor Mechanic\", \"Farmers, ranchers, and other agricultural managers    * Agricultural Crop Farm Manager* Animal Husbandry Manager* Aquaculture Farm Manager* Beef Farm Operator* Christmas Tree Farm Manager* Dairy Farm Manager* Fish Hatchery Manager* Greenhouse Manager* Hatchery Manager* Orchard Manager\", \"Fiberglass laminators and fabricators\", \"File clerks    * Cut File Clerk* Document Clerk* File Clerk* File Keeper* Index Clerk* Records Clerk\", \"Financial clerks, all other    * Bank Vault Attendant* Bank Vault Clerk* Bank Vault Custodian* Financial Operations Clerk* Financial Reserve Clerk* Safe Deposit Clerk* Safety Deposit Clerk* Vault Teller\", \"First-line supervisors of construction trades and extraction workers    * Carpenter Supervisor* Drilling Foreman* Electrician Supervisor* Excavating Supervisor* Quarry Boss* Rig Supervisor* Roustabout Crew Leader* Segmental Paving Supervisor* Solar Panel Installation Supervisor\", \"First-line supervisors of correctional officers    * Chief Jailer* Correctional Officer Sergeant* Correctional Supervisor* Corrections Sergeant* Prison Guard Supervisor\", \"First-line supervisors of farming, fishing, and forestry workers    * Animal Caretaker Supervisor* Aquacultural Worker Supervisor* Corn Crop Supervisor* Corral Boss* Cranberry Bog Supervisor* Farm Supervisor* Farrowing Manager* Feed Manager* Fish Hatchery Supervisor* Harvest Crew Supervisor* Harvest Manager* Logging Crew Supervisor* Picking Crew Supervisor* Planting Supervisor* Ranch Hand Supervisor\", \"First-line supervisors of food preparation and serving workers    * Banquet Supervisor* Bar Manager* Cafeteria Manager* Dairy Bar Manager* Food Service Supervisor* Head Waiter* Head Waitress* Kitchen Supervisor\", \"First-line supervisors of gambling services workers\", \"First-line supervisors of housekeeping and janitorial workers    * Building Cleaning Supervisor* Cleaning Staff Supervisor* Custodial Supervisor* Head Custodian* Head School Custodian* Janitor Supervisor* Maid Supervisor* Maintenance and Custodian Supervisor\", \"First-line supervisors of landscaping, lawn service, and groundskeeping workers    * Gardening Supervisor* Greenskeeper Supervisor* Grounds Crew Supervisor* Grounds Foreman* Grounds Maintenance Supervisor* Head Greenskeeper* Horticultural Services Supervisor* Landscape Installation Foreman* Turf and Grounds Supervisor\", \"First-line supervisors of mechanics, installers, and repairers    * Automobile Body Repair Supervisor* Body Shop Supervisor* Electronic Maintenance Supervisor* Fleet Maintenance Supervisor* Heating, Ventilation, and Air Conditioning Supervisor* Oil Field Equipment Mechanic Supervisor* Railroad Car Repair Supervisor* Repair Department Supervisor\", \"First-line supervisors of non-retail sales workers    * Blood Donor Recruiter Supervisor* Insurance Sales Supervisor* Radio Time Sales Supervisor* Real Estate Sales Supervisor* Stock Broker Supervisor* Telemarketer Supervisor* Telemarketing Manager* Telesales Supervisor\", \"First-line supervisors of office and administrative support workers    * Accounts Payable Supervisor* Billing Department Supervisor* Billing Supervisor* Clerical Supervisor* Data Entry Supervisor* Medical Billing Supervisor* Office Services Supervisor* Payroll Supervisor* Records Supervisor* Teller Supervisor* Timekeeping Supervisor\", \"First-line supervisors of personal service and entertainment and recreation workers, except gambling services\", \"First-line supervisors of police and detectives    * Commanding Officer Homicide Squad* Detective Lieutenant* Detective Supervisor* Police Lieutenant* Traffic Lieutenant* Traffic Sergeant\", \"First-line supervisors of production and operating workers    * Assembly Line Supervisor* Assembly Supervisor* Die Cast Supervisor* Machine Assembler Supervisor* Machinist Supervisor* Molding Supervisor* Paper Machine Supervisor* Printing Supervisor* Printing Worker Supervisor* Tool Room Supervisor\", \"First-line supervisors of retail sales workers    * Assistant Store Manager* Cashier Manager* Cashier Supervisor* Delicatessen Department Manager* Produce Department Supervisor* Sales Clerk Supervisor* Used Car Sales Supervisor\", \"First-line supervisors of transportation and material-moving workers, except aircraft cargo handling supervisors\", \"Flight attendants    * Airline Flight Attendant* Airplane Flight Attendant* Flight Steward\", \"Floral designers    * Corsage Maker* Floral Arranger* Floral Artist* Floral Decorator* Florist* Florist Designer* Flower Arranger\", \"Food batchmakers    * Almond Paste Mixer* Candy Maker* Candy Puller* Cheese Processor* Cottage Cheese Maker* Dough Scaler and Mixer* Frozen Yogurt Maker* Honey Blender* Ice Cream Maker* Liquid Sugar Fortifier* Peanut Butter Maker* Pickle Maker* Relish Maker* Taffy Puller\", \"Food cooking machine operators and tenders    * Doughnut Machine Operator* Dumpling Machine Operator* Fish Fryer* Food Cooking Machine Operator* Kettle Fry Cook Operator* Pierogi Maker* Potato Chip Frier* Tripe Cooker\", \"Food service managers    * Banquet Director* Banquet Manager* Cafeteria Director* Food Service Director* Food Service Manager* Food and Beverage Manager* Restaurant General Manager* Tavern Operator\", \"Forest and conservation workers    * Forest Nursery Worker* Forester Aide* Forestry Laborer* Rangelands Conservation Laborer* Reforestation Worker* Seedling Puller* Wetlands Conservation Laborer\", \"Forest fire inspectors and prevention specialists    * Environmental Protection Fire Control Officer* Fire Control Officer* Fire Operations Forester* Fire Ranger* Forest Fire Control Officer* Forest Fire Officer* Wildfire Prevention Specialist* Wildland Fire Operations Specialist\", \"Forging machine setters, operators, and tenders, metal and plastic    * Cold Header Operator* Forging Roll Operator* Header Setup Operator* Spike Machine Operator* Swager Operator* Swaging Machine Operator\", \"Foundry mold and coremakers    * Airset Caster* Airset Molder* Core Stripper* Foundry Molder* Green Sand Molder* No Bake Molder* Sand Molder* Wax Pattern Coater\", \"Funeral attendants    * Funeral Assistant* Funeral Attendant* Funeral Greeter* Funeral Home Assistant* Funeral Home Associate* Mortician Helper* Pallbearer* Undertaker Helper\", \"Furnace, kiln, oven, drier, and kettle operators and tenders    * Calciner Operator* Dry Kiln Operator* Induction Furnace Operator* Lime Kiln Operator* Lumber Kiln Operator* Rubber Curer* Soap Drier Tender* Tunnel Kiln Operator\", \"Furniture finishers    * Cabinet Finisher* Furniture Refinisher* Furniture Sander* Piano Refinisher* Wood Cabinet Finisher\", \"Gambling and sports book writers and runners    * Betting Clerk* Bookie* Casino Floor Runner* Keno Runner* Keno Writer* Race Book Writer* Race and Sports Book Writer* Sports Book Board Attendant* Sportsbook Ticket Writer\", \"Gambling cage workers    * Cage Cashier* Casino Cage Cashier* Casino Cashier* Gaming Cage Cashier* Gaming Cashier\", \"Gambling dealers    * 21 Dealer* Blackjack Dealer* Casino Dealer* Casino Games Dealer* Craps Dealer* Keno Dealer* Poker Dealer* Roulette Dealer* Table Games Dealer\", \"Gambling managers    * Bingo Manager* Casino Manager* Gaming Department Head* Gaming Director* Gaming Manager* Slot Operations Director* Slots Manager* Table Games Manager\", \"Gambling service workers, all other    * Card Table Attendant* Pit Clerk* Poker Prop Player* Proposition Player* Shill\", \"Gambling surveillance officers and gambling investigators    * Casino Investigator* Casino Surveillance Officer* Gambling Monitor* Gaming Surveillance Observer* Gaming Surveillance Officer\", \"Gas compressor and gas pumping station operators    * Acetylene Gas Compressor* Butane Compressor Operator* Compressor Station Operator* Gas Compressor Operator* Gas Cylinder Processor* Gas Storage Operator* High Pressure Compressed Gas Filler* LNG Plant Operator* Liquid Natural Gas Plant Operator\", \"Gas plant operators    * Gas Controller* Gas Plant Dispatcher* Gas Plant Operator* Gas Plant Technician* Natural Gas Plant Technician\", \"Glaziers    * Leaded Glass Installer* Plate Glass Installer* Stained Glass Glazier* Stained Glass Installer* Stained Glass Joiner* Window Glazier\", \"Grinding, lapping, polishing, and buffing machine tool setters, operators, and tenders, metal and plastic    * Aluminum Polisher* Deburring Machine Operator* Jewel Bearing Facer* Metal Grinder* Tool Polishing Machine Operator\", \"Hazardous materials removal workers    * Asbestos Abatement Worker* Asbestos Remover* Decontamination Worker* Hazard Waste Handler* Hazmat Technician* Irradiated Fuel Handler* Lead Abatement Worker* Radiological Control and Safety Technician\", \"Healthcare support workers, all other    * Ortho/Prosthetic Aide\", \"Hearing aid specialists    * Hearing Aid Fitter* Hearing Aid Technician* Hearing Instrument Specialist\", \"Heat treating equipment setters, operators, and tenders, metal and plastic    * Annealing Furnace Operator* Carburizing Furnace Operator* Flame Hardening Machine Setter* Heat Treater Apprentice* Heat Treating Furnace Tender* Induction Machine Setter* Wire Annealer* Wire Temperer\", \"Helpers--electricians    * Electrical Sign Wirer Helper* Electrician's Assistant* House Wirer Helper* Marine Electrician Helper* Stage Electrician Helper* Utilities Ground Worker\", \"Helpers--extraction workers    * Blaster Helper* Blasting Helper* Boring Machine Operator Helper* Continuous Miner Operator Helper* Driller Helper* Loading Machine Operator Helper* Longwall Machine Operator Helper* Mining Helper* Roof Bolter Helper* Rotary Drill Operator Helper* Shale Planer Operator Helper\", \"Helpers--installation, maintenance, and repair workers    * Automobile Body Repairer Helper* Cable Splicer Helper* Hydroelectric Machinery Mechanic Helper* Locksmith Helper* Mechanic's Assistant* Meter Repairer Helper* Motorboat Mechanic Helper* Powerhouse Mechanic Helper* Streetcar Repairer Helper\", \"Helpers--pipelayers, plumbers, pipefitters, and steamfitters    * Gas Main Fitter Helper* Hydraulic Plumber Helper* Industrial Gas Fitter Helper* Marine Pipefitter Helper* Marine Steam Fitter Helper* Pipe Fitter Helper* Plumber Assistant* Plumber Helper* Sewer Pipe Layer Helper* Sprinkler Fitter Helper* Trench Pipe Layer Helper* Water Main Installer Helper\", \"Helpers--production workers    * Blending Tank Helper* Commercial Baker Helper* Machinist Helper* Slitter Helper* Tailor Helper* Welder Helper* Woodworker Helper\", \"Highway maintenance workers    * Highway Maintainer* Highway Maintenance Crew Worker* Highway Worker* Lane Marker Installer* Road Patcher* Road Sign Installer\", \"Home appliance repairers    * Certified Appliance Service Technician* Electric Stove Installer* Gas Appliance Repairer* Gas Appliance Servicer* Home Appliance Installer* Stove Installer* Vacuum Cleaner Repair Person* Vacuum Cleaner Repairer* Washing Machine Installer* Washing Machine Repairer* Window Air Conditioner Installer\", \"Home health and personal care aides\", \"Hotel, motel, and resort desk clerks    * Assistant Innkeeper* Hotel Desk Clerk* Hotel Front Desk Clerk* Hotel Registration Clerk* Motel Clerk* Motel Front Desk Attendant* Resort Desk Clerk\", \"Industrial machinery mechanics    * Bag Machine Adjuster* Boilerhouse Mechanic* Foundry Equipment Mechanic* Hydroelectric Machinery Mechanic* Industrial Conveyor Belt Repairer* Loom Fixer* Loom Technician\", \"Information and record clerks, all other    * Election Clerk* Flight Crew Scheduler* Probate Clerk* Student Admissions Clerk\", \"Inspectors, testers, sorters, samplers, and weighers    * Ampoule Examiner* Bag Grader* Cigarette Examiner* Compressed Gas Tester* Machined Parts Quality Inspector* Petroleum Sampler* Quality Assurance Inspector* Quality Control Inspector* Quality Inspector* Spark Plug Tester\", \"Installation, maintenance, and repair workers, all other    * Bowling Alley Mechanic* Fire Extinguisher Installer* Gasoline Pump Installer* Gunsmith* Ski Lift Mechanic* Wheelwright* Windmill Mechanic* Window Shade Installer\", \"Insulation workers, mechanical    * Boiler Coverer* Heat and Frost Insulator* Pipe Coverer* Pipe Insulator* Refrigeration Insulator* Sheet Metal Insulator\", \"Insurance claims and policy processing clerks    * Insurance Claims Clerk* Insurance Clerk* Insurance Examining Clerk* Insurance Policy Issue Clerk* Underwriting Assistant* Underwriting Clerk\", \"Insurance sales agents    * Health Insurance Sales Agent* Insurance Agent* Insurance Broker* Life Insurance Agent* Life Insurance Salesperson* Pension Agent\", \"Interviewers, except eligibility and loan    * Admitting Interviewer* Census Clerk* Census Taker* Field Enumerator* Market Research Interviewer* Outpatient Interviewing Clerk* Survey Interviewer* Telephone Interviewer\", \"Jewelers and precious stone and metal workers    * Diamond Grader* Diamond Polisher* Diamond Setter* Facetor* Gem Cutter* Gemologist* Goldsmith* Jewelry Repairer* Jewelsmith* Lapidarist* Pewterer* Silversmith\", \"Lathe and turning machine tool setters, operators, and tenders, metal and plastic    * Engine Lathe Operator* Gear Cutter* Screw Machine Operator* Screw Machine Tool Setter\", \"Layout workers, metal and plastic    * Shipfitter* Shipfitter Apprentice\", \"Legal secretaries and administrative assistants    * Accredited Legal Secretary* Certified Legal Secretary Specialist* Law Secretary* Legal Administrative Assistant\", \"Library assistants, clerical    * Book Sorter* Braille and Talking Books Clerk* Circulation Clerk* Film Library Clerk* Library Aide* Library Assistant* Library Circulation Clerk* Library Clerk* Medical Library Assistant* Microfilm Clerk\", \"Light truck drivers    * Pharmacy Delivery Driver\", \"Lighting technicians and media and communication equipment workers, all other\", \"Loan interviewers and clerks    * Loan Interviewer* Loan Processor* Mortgage Closing Clerk* Mortgage Loan Closer* Mortgage Loan Processing Clerk* Mortgage Loan Processor* Mortgage Processor\", \"Locker room, coatroom, and dressing room attendants    * Athletic Equipment Manager* Bathhouse Attendant* Checkroom Attendant* Cloak Room Attendant* Coat Checker* Ladies Locker Room Attendant* Locker Room Attendant* Locker Room Manager* Locker Room Supervisor* Washroom Attendant\", \"Locksmiths and safe repairers    * Key Maker* Keysmith* Lock Expert* Lock Fitter* Lock Setter* Lock Technician* Locksmith* Safe and Vault Installer* Safe and Vault Mechanic\", \"Locomotive engineers    * Freight Engineer* Railroad Engineer* Railway Engineer* Train Engineer\", \"Lodging managers    * Bed and Breakfast Innkeeper* Boardinghouse Keeper* Hotel Director* Hotel Manager* Hotel Operations Manager* Innkeeper* Lodging Facilities Manager\", \"Log graders and scalers    * Log Check Scaler* Log Grader* Log Scaler* Log Sorter* Timber Estimator* Veneer Grader\", \"Logging equipment operators    * Delimber Operator* Feller Buncher Operator* Feller Operator* Grapple Operator* Grapple Skidder Operator* Log Hauler* Log Processor Operator* Log Stacker Operator* Logging Crane Operator* Logging Shovel Operator* Logging Tractor Operator* Lumber Stacker Operator* Timber Harvester Operator* Tree-Shear Operator\", \"Logging workers, all other    * Log Cutter* Log Peeler* Log Roper* Rigging Slinger* Timber Hand\", \"Machinists    * Automotive Machinist* CNC Machinist* Gear Machinist* Manual Lathe Machinist* Precision Machinist* Production Machinist* Tool Room Machinist\", \"Mail clerks and mail machine operators, except postal service    * Direct Mail Clerk* Mailroom Clerk* Packaging Clerk\", \"Maintenance and repair workers, general    * Building Maintenance Mechanic* Building Mechanic* Building Services Mechanic* Maintenance Mechanic* Mechanics Handyman* Plant Maintenance Technician\", \"Maintenance workers, machinery    * Crane Oiler\", \"Manufactured building and mobile home installers    * Housetrailer Servicer* Mobile Home Mechanic* Mobile Home Servicer* Mobile Home Technician* Modular Home Crew Member\", \"Mechanical door repairers    * Automatic Door Mechanic* Door Closer Mechanic* Garage Door Technician* Mechanical Door Repairer* Overhead Door Technician\", \"Media and communication workers, all other    * Stage Technician\", \"Medical appliance technicians    * Arch-Support Maker* Brace Maker* Hearing Aid Repair Technician* Orthopaedic Technician* Orthopaedic Technologist* Orthotic Fabricator Technician* Orthotic Finish Grinding Technician* Orthotics Fitter* Orthotics Technician* Prosthetics Fabrication Technician* Prosthetics Lab Technician* Prosthetics Technician* Surgical Appliance Fitter\", \"Medical equipment preparers    * Central Sterile Supply Technician* Certified Registered Central Service Technician* Health Equipment Servicer* Medical Equipment Preparer* Medical Supply Technician* Oxygen Equipment Preparer* Sterile Preparation Technician* Sterile Processing Technician* Sterile Processing and Distribution Technician* Sterilization Specialist* Sterilization Technician\", \"Medical secretaries and administrative assistants    * Dental Secretary* Hospital Secretary* Psychiatric Secretary\", \"Merchandise displayers and window trimmers    * Display Artist* Display Decorator* Display Designer* Display Specialist* Mannequin Decorator* Merchandise Displayer* Show Floor Decorator* Visual Merchandiser* Visual Merchandising Specialist* Window Decorator* Window Draper* Window Dresser* Window Trimmer\", \"Metal workers and plastic workers, all other    * Electrical Discharge Machine Setup Operator* Metal Rivet Machine Operator* Tin Recovery Worker\", \"Metal-refining furnace operators and tenders    * Electric Arc Furnace Operator* Melt Room Operator* Smelter Operator\", \"Meter readers, utilities    * Electric Meter Reader* Gas Meter Reader* Water Meter Reader\", \"Milling and planing machine setters, operators, and tenders, metal and plastic    * Metal Milling Machine Operator* Metal Rotary Head Milling Machine Setup Operator* Plastic Thread Milling Machine Setup Operator\", \"Millwrights    * Construction Millwright* Machine Erector* Machinery Dismantler* Maintenance Millwright* Manufacturing Millwright\", \"Miscellaneous assemblers and fabricators\", \"Miscellaneous construction and related workers\", \"Miscellaneous first-line supervisors, protective service workers\", \"Mixing and blending machine setters, operators, and tenders    * Asphalt Blender* Clay Mixer* Concrete Batcher* Dye Mixer* Glue Mixer* Ink Blender* Ink Mixer* Plaster Mixer* Resin Mixer\", \"Mobile heavy equipment mechanics, except engines    * Bulldozer Mechanic* Construction Equipment Mechanic* Dragline Mechanic* Forklift Mechanic* Forklift Technician\", \"Model makers, metal and plastic    * Metal Mockup Maker* Plastic Jig and Fixture Builder\", \"Model makers, wood    * Architectural Wood Model Maker\", \"Molders, shapers, and casters, except metal and plastic    * Almond Paste Molder* Burial Vault Maker* Cigar Roller* Clay Modeler* Concrete Vault Maker* Glass Bender* Glass Block Bender* Glass Blower* Glass Presser* Glass Tube Bender* Mannequin Mold Maker* Neon Glass Bender* Neon Glass Blower* Neon Molder* Neon Tube Bender* Rubber Molder* Stone Carver\", \"Molding, coremaking, and casting machine setters, operators, and tenders, metal and plastic    * Aluminum Molding Machine Operator* Blow Mold Operator* Compression Molding Machine Operator* Plastic Cup Fabricating Machine Operator\", \"Motorboat mechanics and service technicians    * Certified Marine Mechanic* Marine Propulsion Technician* Marine Technician* Motorboat Mechanic* Outboard Motor Mechanic* Outboard Technician\", \"Multiple machine tool setters, operators, and tenders, metal and plastic    * Combination Machine Tool Operator* Multi-operation Forming Machine Setter\", \"Musical instrument repairers and tuners    * Accordion Repairer* Band Instrument Repair Technician* Banjo Repairer* Bow Rehairer* Brass and Wind Instrument Repairer* Chip Tuner* Fretted String Instrument Repairer* Guitar Builder* Guitar Repairer* Keyboard Instrument Repairer* Luthier* Mandolin Repairer* Organ Installer* Organ Tuner* Percussion Instrument Repairer* Piano Regulator* Piano Technician* Piano Tuner* Pipe Organ Technician* Stringed Instrument Repairer* Tone Regulator* Violin Repairer\", \"New accounts clerks    * Banking Services Clerk* New Accounts Banking Representative* New Client Banking Services Clerk\", \"Nuclear power reactor operators    * Nuclear Control Room Operator* Nuclear Reactor Operator* Nuclear Station Operator* Reactor Operator\", \"Occupational health and safety technicians\", \"Occupational therapy aides    * Certified Occupational Rehabilitation Aide* OT Aide* Occupational Rehabilitation Aide* Occupational Therapist Aide* Rehabilitation Services Aide\", \"Office and administrative support workers, all other    * Braille Transcriber* Envelope Stuffer* Fingerprint Clerk* Investigation Clerk* Newspaper Inserter* Notary Public\", \"Office clerks, general    * Administrative Clerk* Office Assistant* Office Clerk* Real Estate Clerk\", \"Office machine operators, except computer    * Business Machine Operator* Coin Machine Operator* Coin Rolling Machine Operator* Coin Wrapping Machine Operator* Collator Operator* Copy Center Operator* Copy Machine Operator* Duplicating Machine Operator\", \"Operating engineers and other construction equipment operators    * Angle Dozer Operator* Blade Grader Operator* Bulldozer Operator* Ditching Machine Operating Engineer* Grader Operator* Motor Grader Operator* Scraper Operator* Steam Shovel Operating Engineer* Steam Shovel Operator\", \"Ophthalmic laboratory technicians    * Contact Lens Cutter* Contact Lens Technician* Eyeglass Assembler* Eyeglass Lens Cutter* Eyeglass Maker* Lens Grinder* Lens Grinder and Polisher* Lens Mounter* Precision Lens Centerer and Edger* Prescription Eyeglass Maker\", \"Opticians, dispensing    * Certified Optician* Contact Lens Fitter* Eyeglass Fitter* Licensed Dispensing Optician* Licensed Optical Dispenser* Licensed Optician* Optical Dispenser* Optician\", \"Orderlies\", \"Outdoor power equipment and other small engine mechanics    * Chain Saw Mechanic* Edge Trimmer Mechanic* Electric Golf Cart Repairers* Electric Wheelchair Repairer* Go-Cart Mechanic* Golf Cart Mechanic* Lawn Mower Repairer* Mobility Scooter Repairer* Motor Scooter Mechanic* Power Saw Mechanic* Power Wheelchair Mechanic* Snowblower Mechanic* Snowmobile Mechanic\", \"Packaging and filling machine operators and tenders    * Bottle Capper* Bottle Line Worker* Bottle Packer* Can Filler* Can Sealer* Keg Filler* Potato Chip Packaging Machine Operator* Tea Bag Packer\", \"Paper goods machine setters, operators, and tenders    * Box Fabricator* Carton Making Machine Operator* Corrugated Box Machine Operator* Corrugator Machine Operator* Corrugator Operator* Envelope Machine Operator* Napkin Machine Operator* Paper Bag Machine Operator* Paper Cone Machine Tender* Paper Machine Operator\", \"Parking enforcement workers    * Meter Maid* Parking Enforcement Officer* Parking Meter Attendant\", \"Passenger attendants    * Dining Car Steward* Ship Steward* Sleeping Car Service Attendant* Train Attendant\", \"Patternmakers, metal and plastic    * Metal Patternmaker\", \"Patternmakers, wood    * Wood Die Maker\", \"Paving, surfacing, and tamping equipment operators    * Asphalt Paver* Asphalt Paving Machine Operator* Asphalt Roller Operator* Asphalt Tamping Machine Operator* Blacktop-Paver Operator* Paver Operator* Road Grader* Screed Operator\", \"Payroll and timekeeping clerks    * Flight Crew Time Clerk* Payroll Bookkeeper* Personnel Scheduler* Time Clerk* Time and Attendance Clerk* Timekeeper\", \"Pest control workers    * Exterminator* Fumigator* Insecticide Expert* Mosquito Sprayer* Pest Controller* Rat Exterminator* Rodent Exterminator* Termite Technician* Termite Treater\", \"Pesticide handlers, sprayers, and applicators, vegetation    * Certified Pesticide Applicator* Fruit Sprayer* Herbicide Sprayer* Orchard Sprayer* Plant Sprayer* Weed Sprayer\", \"Petroleum pump system operators, refinery operators, and gaugers    * Hydrotreater Operator* Oil Gauger* Oil Pipeline Dispatcher* Oil Pipeline Operator* Oil Refiner* Petroleum Plant Operator* Petroleum Refinery Control Panel Operator* Petroleum Refinery Operator* Petroleum Refining Equipment Operator\", \"Pharmacy aides    * Certified Pharmacist Assistant* Pharmacist Aide* Pharmacist Assistant* Pharmacy Assistant* Pharmacy Clerk* Prescription Clerk\", \"Pharmacy technicians    * CPHT* Certified Pharmacy Technician* Pharmacist Technician* Pharmacy Laboratory Technician* Pharmacy Technician\", \"Photographers    * Advertising Photographer* Aerial Photographer* Industrial Photographer* Marine Photographer* Medical Photographer* News Photographer* Newspaper Photojournalist* Photojournalist* Portrait Photographer* School Photographer* Wedding Photographer\", \"Photographic process workers and processing machine operators    * Digital Imaging Technician* Digital Photo Printer* Digital Photo Technician* Digital Retoucher* Film Developing Machine Operator* Film Printer* Film Process Operator* Film Processor* Photo Lab Specialist* Photo Lab Technician* Photo Machine Operator* Photo Print Specialist* Photo Retoucher* Print Retoucher\", \"Physical therapist aides    * Clinical Rehabilitation Aide* Physical Therapy Aide* Physiotherapy Aide\", \"Pile driver operators    * Diesel Pile Hammer Operator* Hydraulic Pile Hammer Operator* Hydraulic Press-In Operator* Pile Driver Operator* Vibratory Pile Driver\", \"Plant and system operators, all other    * Asphalt Plant Operator* Concrete Batch Plant Operator* Lime Filter Operator* Sand Plant Attendant\", \"Plating machine setters, operators, and tenders, metal and plastic    * Anodizer* Chrome Plater* Chromium Plater* Copper Plater* Electro Plater* Electrogalvanizing Machine Operator* Electroplater* Galvanizer* Hard Chrome Plater* Metal Plater* Metal Spraying Machine Operator* Metalizing Machine Operator* Nickel Plater* Plating Machine Operator* Tin Plater\", \"Plumbers, pipefitters, and steamfitters    * Fire Sprinkler Installer* Gas Main Fitter* Gas Plumber* Hydraulic Plumber* Industrial Gas Fitter* Marine Pipefitter* Marine Steamfitter* Master Plumber* Pipe Fitter* Plumber* Solar Thermal Installer* Sprinkler Fitter* Steamfitter* Water Pump Installer\", \"Police and sheriff's patrol officers    * Border Guard* Border Patrol Officer* Constable* Cop* Deputy Sheriff* Highway Patrol Officer* Motorcycle Police* Mounted Police* Park Police* Patrol Officer* Policeman* Policewoman* State Highway Police Officer* State Trooper\", \"Postal service clerks    * Bulk Mail Clerk* Bulk Mail Technician* Parcel Post Clerk* Postal Clerk* Postal Service Clerk* Postal Service Window Clerk\", \"Postal service mail carriers    * City Letter Carrier* Letter Carrier* Mail Deliverer* Parcel Post Carrier* Postal Mail Carrier* Rural Mail Carrier* Rural Route Carrier* USPS Letter Carrier\", \"Postal service mail sorters, processors, and processing machine operators    * Flat Sorter Operator* Flat Sorting Machine Clerk* Mail Forwarding System Markup Clerk* Parcel Post Distribution Machine Operator* Post Office Markup Clerk* Postal Service Mail Processor* Small Package and Bundle Sorter Clerk\", \"Postmasters and mail superintendents    * Postal Supervisor* Postmaster\", \"Pourers and casters, metal    * Aluminum Pourer* Ingot Caster* Iron Pourer* Molten Iron Pourer* Steel Pourer* Tin Pourer* White Metal Caster\", \"Power distributors and dispatchers    * Power System Dispatcher* Steam Plant Control Room Operator* Steam and Power Panel Operator* Substation Operator\", \"Power plant operators    * Hydroelectric Plant Operator* Power Plant Control Room Operator* Powerhouse Operator* Turbine Room Attendant\", \"Precision instrument and equipment repairers, all other    * Gyroscope Repairer* Hydrometer Calibrator* Scale Adjuster* Telescope Repairer\", \"Print binding and finishing workers    * Bindery Cutter Operator* Bindery Folder Operator* Bindery Machine Operator* Bindery Worker* Book Repairer* Bookbinder* Bookbinding Machine Operator* Case Binder Operator* Foil Stamp Operator* Perfect Binder Operator* Saddle Stitch Operator* Saddle Stitcher Operator* Spiral Binder Operator\", \"Printing press operators    * Digital Press Operator* Flexographic Press Operator* Gravure Press Operator* Lithograph Press Operator* Lithographing Machine Operator* Offset Lithographic Press Setter and Set-Up Operator* Offset Press Operator* Printing Machine Operator* Screen Printing Machine Operator* Screen Printing Press Operator* Silk Screen Operator* Silk Screen Printer* Web Offset Press Feeder* Web Press Operator\", \"Private detectives and investigators    * Certified Legal Investigator* Licensed Private Investigator* Loss Prevention Detective* Private Detective* Private Eye* Private Investigator* Skip Tracer* Store Detective\", \"Procurement clerks    * Procurement Assistant* Procurement Clerk* Purchasing Assistant* Purchasing Clerk\", \"Production workers, all other\", \"Production, planning, and expediting clerks    * Expeditor* Material Control Clerk* Material Expediter* Mill Recorder* Production Control Clerk* Production Control Coordinating Clerk* Production Control Coordinator* Production Scheduler* Work Ticket Distributor\", \"Property, real estate, and community association managers    * Apartment Manager* Building Rental Manager* Community Association Manager* Condominium Association Manager* Homeowner Association Manager* Land Acquisition Manager* Leasing Property Manager* Property Manager* Real Estate Manager\", \"Psychiatric aides\", \"Public safety telecommunicators    * 911 Dispatcher* 911 Operator* Ambulance Dispatcher* Emergency Communications Dispatcher* Emergency Communications Operator* Emergency Operator* Emergency Telecommunications Dispatcher* Fire Dispatcher* Police Dispatcher* Police Radio Dispatcher\", \"Pump operators, except wellhead pumpers    * Acid Pump Operator* Brewery Pumper* Concrete Pump Operator* Fluid Pump Operator\", \"Rail car repairers    * Freight Car Repairer* Mine Car Mechanic* Rail Car Maintenance Mechanic* Rail Car Mechanic* Streetcar Repairer* Subway Car Repairer* Tank Car Reconditioner* Trolley Car Mechanic* Trolley Car Overhauler\", \"Rail transportation workers, all other    * Railway Equipment Operator* Retarder Operator* Transfer Table Operator\", \"Rail yard engineers, dinkey operators, and hostlers    * Coal Tram Driver* Dinkey Driver* Dinkey Operator* Engine Hostler* Haulage Engine Operator* Railcar Switcher* Yard Hostler\", \"Rail-track laying and maintenance equipment operators    * Ballast Cleaning Machine Operator* Rail Maintenance Worker* Railroad Track Mechanic* Track Layer* Track Machine Operator* Track Maintainer* Track Moving Machine Operator* Track Repair Worker* Track Repairer* Track Service Worker* Track Surfacing Machine Operator* Trackwalker\", \"Railroad brake, signal, and switch operators and locomotive firers\", \"Railroad conductors and yardmasters    * Freight Conductor* Passenger Car Conductor* Train Conductor* Yard Conductor\", \"Real estate brokers    * Licensed Real Estate Broker* Real Estate Broker\", \"Real estate sales agents    * Agricultural Real Estate Agent* Apartment Rental Agent* Industrial Real Estate Agent* Land Sales Agent* Right of Way Agent\", \"Receptionists and information clerks    * Appointment Clerk* Dental Receptionist* Front Desk Receptionist* Land Leasing Information Clerk\", \"Recreation workers    * Activities Aide* Activities Assistant* Activities Coordinator* Activities Leader* Camp Counselor* Playground Worker* Recreation Activities Coordinator* Recreation Assistant* Recreational Aide\", \"Recreational vehicle service technicians    * Master Certified RV Technician* Mobile Service Recreational Vehicle Technician* RV Mechanic* RV Servicer* RVDA Master Certified RV Technician* Recreational Vehicle (RV) Repairer* Recreational Vehicle Mechanic\", \"Refractory materials repairers, except brickmasons    * Bondactor Machine Operator* Cupola Repairer* Kiln Door Builder* Ladle Repairer* Refractory Repairer\", \"Reinforcing iron and rebar workers    * Post Tensioning Ironworker* Rebar Worker* Reinforcing Steel  Worker* Rod Buster* Steel Rod Buster* Steel Tier\", \"Reservation and transportation ticket agents and travel clerks    * Airline Reservation Agent* Airline Reservationist* Airline Ticket Agent* Gate Agent* Hotel Reservationist* Passenger Agent* Passenger Booking Clerk* Reservation Agent* Reservation Sales Agent* Train Clerk* Train Reservation Clerk* Transportation Clerk* Travel Clerk\", \"Residential advisors    * Dormitory Counselor* House Parent* Residence Director* Residence Life Coordinator* Residential Advisor* Residential Director* Residential Life Director* Sorority Mother\", \"Riggers    * Acrobatic Rigger* Boat Rigger* Crane Rigger* Fly Rail Operator* Gantry Rigger* High Rigger* Marine Rigger* Parachute Rigger* Ship Rigger* Theatrical Rigger* Wire Rigger* Yacht Rigger* Yard Rigger\", \"Rolling machine setters, operators, and tenders, metal and plastic    * Brass Roller* Forming Roll Operator* Metal Sheet Roller Operator* Pipe Straightener* Plastic Straightening Roll Operator* Steel Roller\", \"Roof bolters, mining\", \"Sales and related workers, all other    * Auctioneer* Blood Donor Recruiter* Leaflet Distributor* Livestock Auctioneer* Personal Shopper* Store Gift Wrap Associate\", \"Sales representatives of services, except advertising, insurance, financial services, and travel\", \"Sales representatives, wholesale and manufacturing, except technical and scientific products    * Bottling Equipment Sales Representative* Freight Broker* Hotel Supplies Salesperson* Mortician Supplies Sales Representative* Pulpwood Dealer* Wholesale Diamond Broker\", \"Sawing machine setters, operators, and tenders, wood    * Backup Sawyer* Band Scroll Saw Operator* Bandmill Operator* Buzzsaw Operator* Chop Saw Operator* Circle Saw Operator* Curve Saw Operator* Cut Off Saw Operator* Hardwood Sawyer* Headrig Sawyer* Panel Saw Operator* Rip Saw Operator* Stave Saw Operator* Trim Saw Operator\", \"School bus monitors and protective service workers, all other\", \"Secretaries and administrative assistants, except legal, medical, and executive    * Alumni Secretary* Department Secretary* Office Secretary* Personal Secretary* Real Estate Administrative Assistant* School Attendance Secretary* School Secretary\", \"Security and fire alarm systems installers    * Alarm Adjuster* Alarm Technician* Burglar Alarm Installer* Fire Alarm Installer* Fire Alarm Technician* Home Security Alarm Installer\", \"Security guards    * Armed Guard* Bank Guard* Bodyguard* Bouncer* Private Watchman* Security Officer\", \"Self-enrichment teachers    * Ballet Teacher* CPR Instructor* Ceramics Instructor* Citizenship Teacher* Dance Teacher* Defensive Driving Instructor* Driver Education Instructor* Driving Instructor* First Aid Instructor* Horseback Riding Instructor* Judo Instructor* Karate Instructor* Knitting Teacher* Martial Arts Instructor* Sailing Instructor* Skiing Instructor* Snowboard Instructor* Theater Education Teacher\", \"Semiconductor processing technicians    * Electronic Semiconductor Processor* Semiconductor Assembler* Wafer Fabricator\", \"Separating, filtering, clarifying, precipitating, and still machine setters, operators, and tenders    * Brewmaster* Fermentation Operator* Fermenter* Linseed Oil Temperer* Milk Pasteurizer* Milk Processor* Molasses Preparer* Pasteurizer* Winemaker\", \"Septic tank servicers and sewer pipe cleaners    * Electric Sewer Cleaning Machine Operator* Septic Pump Truck Driver* Septic Tank Cleaner* Sewage Screen Operator* Sewer Cleaner* Sewer Pipe Cleaner* Sewer and Drain Technician\", \"Sheet metal workers    * Air Conditioning Sheet Metal Installer* Heating, Ventilation, and Air Conditioning  (HVAC) Sheet Metal Installer* Sheet Metal Duct Installer* Sheet Metal Fabricator* Sheet Metal Former* Sheet Metal Installer* Sheet Metal Layout Mechanic* Sheet Metal Layout Worker* Sheet Metal Worker* Tinsmith\", \"Shipping, receiving, and inventory clerks    * Freight Clerk* Incoming Freight Clerk* Receiving Clerk* Reconsignment Clerk* Route Delivery Clerk* Shipping Order Clerk* Shipping and Receiving Clerk* Store Receiving Clerk\", \"Shoe and leather workers and repairers    * Cobbler* Leather Lacer* Leather Worker* Luggage Repairer* Saddle Maker* Saddle and Harness Maker* Shoe Maker* Shoemaker\", \"Shoe machine operators and tenders    * Arch Cushion Press Operator* Insole Beveler* Lacing Operator* Lasting Machine Operator* Pump Stitcher* Rasper Machine Operator* Shoe Cementer* Shoe Sewing Machine Operator and Tender* Sole Trimmer\", \"Signal and track switch repairers    * Electric Track Switch Maintainer* Light Rail Signal Technician* Rail Signal Mechanic* Railway Signal Technician* Third Rail Installer* Train Control Electronic Technician* Train Control Technician\", \"Social and human service assistants    * Addictions Counselor Assistant* Case Work Aide* Clinical Social Work Aide* Family Service Assistant* Human Services Worker* Social Work Assistant\", \"Solar photovoltaic installers    * PV Installer* PV Panel Installer* Photovoltaic (PV) Installation Technician* Solar PV Installer\", \"Stationary engineers and boiler operators    * Boiler Engineer* Boiler Operator\\u00bf\\u00bf\\u00bf* Boiler Plant Operator* Boiler Room Operator* Heating, Ventilation, and Air Conditioning (HVAC) Mechanic Boiler Operator* High Pressure Boiler Operator\", \"Stockers and order fillers\", \"Stonemasons    * Banker Mason* Curbstone Setter* Granite Setter* Memorial Mason* Monument Mason* Rock Mason* Stone Chimney Mason* Stone Layer* Stonemason\", \"Structural iron and steel workers    * Bridge Ironworker* Construction Ironworker* Iron Guardrail Installer* Metal Tank Erector* Ornamental Ironworker* Pre-Engineered Metal Building Ironworker* Precast Concrete Ironworker* Steel Fabricator* Steel Fitter* Structural Steel Erector* Wind Turbine Erector\", \"Structural metal fabricators and fitters    * Mill Beam Fitter* Protector Plate Attacher\", \"Subway and streetcar operators    * Light Rail Operator* Light Rail Transit Operator* Light Rail Vehicle Operator* Rapid Transit Operator* Subway Conductor* Subway Train Operator* Tram Operator* Trolley Car Operator\", \"Surveying and mapping technicians    * Cartographic Aide* Cartographic Technician* Field Map Technician* GIS Mapping Technician* Geophysical Prospecting Surveying Technician* Mapping Technician* Mineral Surveying Technician* Surveying Technician* Topography Technician\", \"Switchboard operators, including answering service    * PBX Operator* Private Branch Exchange Operator* Telephone Answering Service Operator* Telephone Switchboard Operator\", \"Tax preparers    * Corporate Tax Preparer* Income Tax Advisor* Income Tax Preparer* Licensed Tax Consultant* Tax Consultant* Tax Specialist\", \"Telecommunications line installers and repairers    * Cable Television Installer* FIOS Line Installer* Fiber Optic Technician* Telecommunication Lines Repairer* Telecommunications Line Installer* Telephone Cable Splicer* Telephone Lines Repairer* Telephone Lineworker\", \"Telephone operators    * 411 Directory Assistance Operator* Directory Assistance Operator* Information Operator* Local Telephone Operator* Long Distance Operator* Telephone Exchange Operator\", \"Tellers    * Bank Teller* Commercial Teller* Exchange Teller* Foreign Banknote Teller* Foreign Exchange Clerk* Loan Teller* Money Order Clerk* Receiving Teller* Savings Teller* Securities Teller\", \"Terrazzo workers and finishers    * Granite-Chip Terrazzo  Finisher* Marble-Chip Terrazzo Worker* Onyx-Chip Terrazzo Worker* Rustic Terrazzo Setter* Terrazzo Finisher* Terrazzo Grinder* Terrazzo Installer* Terrazzo Layer* Terrazzo Setter* Terrazzo Worker\", \"Textile bleaching and dyeing machine operators and tenders    * Cloth Dyer* Dye Range Operator* Rug Dyer* Skein Yarn Dyer* Yarn Dyer\", \"Textile cutting machine setters, operators, and tenders    * Bedspread Cutter* Canvas Cutter* Cloth Cutter* Industrial Fabric Cutter* Textile Slitting Machine Operator* Twill Cutter* Upholstery Cutter* Welt Trimming Machine Operator\", \"Textile knitting and weaving machine setters, operators, and tenders    * Crochet Machine Operator* Jacquard Loom Weaver* Knitter Operator* Knitting Machine Operator* Loom Operator* Looping Machine Operator* Warp Knitting Machine Operator\", \"Textile winding, twisting, and drawing out machine setters, operators, and tenders    * Rope Machine Setter* Roving Winder* Silk Winding Machine Operator* Twister Operator* Winder Operator\", \"Textile, apparel, and furnishings workers, all other    * Apparel Embroidery Digitizer* Feltmaker* Hat Blocking Machine Operator* Swatch Maker* Tassel Making Machine Operator\", \"Timing device assemblers and adjusters\", \"Tire builders    * Auto Tire Recapper* Retreader* Tire Finisher* Tire Molder* Tire Retreader\", \"Tire repairers and changers    * Auto Tire Worker* Tire Balancer* Tire Fixer* Tire Mechanic* Tire Mounter* Tire Servicer* Tire Technician\", \"Title examiners, abstractors, and searchers    * Abstract Searcher* Abstract Writer* Advisory Title Officer* Escrow Officer* Land Title Examiner* Lease Examiner* Lien Searcher* Title Agent* Title Checker* Title Examiner* Title Inspector* Title Investigator* Title Officer* Title Searcher\", \"Tool grinders, filers, and sharpeners    * Tool Grinder* Tool Grinding Machine Operator* Tool Sharpener* Tool Straightener\", \"Tour and travel guides\", \"Traffic technicians    * Highway Traffic Control Technician* Traffic Engineering Technician* Traffic Signal Technician* Transportation Planning Technician* Transportation Technician\", \"Transit and railroad police    * Railroad Detective* Railroad Police Officer* Track Patrol* Transit Authority Police* Transit Police Officer\", \"Transportation inspectors    * Aircraft Inspector* Aircraft Landing Gear Inspector* Aircraft Quality Control Inspector* Airworthiness Safety Inspector* Freight Inspector* Locomotive Inspector* Motor Vehicle Emissions Inspector* Railroad Car Inspector* Railroad Inspector* School Bus Inspector* Transit Vehicle Inspector\", \"Transportation security screeners    * Airport Baggage Screener* Airport Security Screener* Flight Security Specialist* Transportation Security Administration (TSA) Screener* Transportation Security Officer\", \"Transportation, storage, and distribution managers    * Airport Manager* Cold Storage Supervisor* Distribution Center Manager* Logistics Manager* Logistics Supply Officer* Marine Oil Terminal Superintendent* Traffic Safety Administrator* Transportation Manager* Warehouse Manager* Warehouse Operations Manager\", \"Travel agents    * Auto Travel Counselor* Certified Corporate Travel Executive* Certified Travel Counselor* Corporate Travel Expert* Travel Agent* Travel Consultant* Travel Counselor* Travel Service Consultant\", \"Tree trimmers and pruners    * Pruner* Tree Pruner* Tree Specialist* Tree Surgeon* Tree Trimmer\", \"Umpires, referees, and other sports officials    * Athletic Events Scorer* Baseball Umpire* Diving Judge* Dressage Judge* Equestrian Events Judge* Handicapper* Horse Show Judge* Paddock Judge* Pit Steward* Placing Judge* Race Starter\", \"Underground mining machine operators and extraction workers, all other\", \"Upholsterers    * Aircraft Seat Upholsterer* Auto Upholsterer* Chair Upholsterer* Dining Chair Seat Cushion Trimmer* Furniture Upholsterer* Seating Upholsterer\", \"Veterinary assistants and laboratory animal caretakers    * Laboratory Animal Caretaker* Veterinarian Assistant* Veterinarian Helper* Veterinary Attendant\", \"Watch and clock repairers    * Antique Clock Repairer* Chronometer Repairer* Clock Repair Technician* Clockmaker* Clocksmith* Horologist* Time Piece Repairer* Watchmaker\", \"Water and wastewater treatment plant and system operators    * Industrial Waste Treatment Technician* Lead Sewage Plant Operator* Liquid Waste Treatment Plant Operator* Sewage Plant Operator* Waste Treatment Operator* Wastewater Operator* Water Plant Operator* Water Treatment Technician\", \"Weighers, measurers, checkers, and samplers, recordkeeping    * Bean Weigher* Cheese Weigher* Freight Checker* Sample Checker* Scale Attendant* Scale Clerk* Scale Operator* Warehouse Checker* Weighing Station Operator* Wool Sampler\", \"Welders, cutters, solderers, and brazers    * Aluminum Welder* Arc Welder* Brazer* Certified Maintenance Welder* Cutting Torch Operator* Pipe Welder* Silver Solderer* Sub Arc Operator* Welder Fitter* Wire Welder\", \"Welding, soldering, and brazing machine setters, operators, and tenders    * Brazing Machine Operator* Brazing Machine Setter and Setup Operator* Brazing Machine Tender* Electron Beam Welder Setter* Machine Welder* Reserve Tube Welder* Soldering Machine Operator* Soldering Machine Setter and Setup Operator* Soldering Machine Tender* Ultrasonic Welding Machine Operator* Welding Machine Operator\", \"Wellhead pumpers    * Oil Field Pumper* Oil Well Pumper* Oilfield Plant and Field Operator* Wellhead Pumper\", \"Woodworkers, all other    * Pole Framer* Timber Framer* Wood Carver* Wood Casket Assembler* Wood Veneer Taper\", \"Woodworking machine setters, operators, and tenders, except sawing    * CNC Wood Lathe Operator* Roof Truss Builder* Speed Belt Sander* Tenon Operator* Wood Boring Machine Operator* Wood Dowel Machine Operator* Wood Lathe Operator* Wood Planer\", \"Word processors and typists    * Clerk Typist* Dictaphone Typist* Legal Transcriptionist* Statistical Typist* Transcription Typist* Typist* Word Processor\"], \"legendgroup\": \"High school diploma or equivalent\", \"marker\": {\"color\": \"#00cc96\", \"size\": [7, 7, 7, 7, 7, 7, 7, 7, 7, 7, 7, 7, 7, 7, 7, 7, 7, 7, 7, 7, 7, 7, 7, 7, 7, 7, 7, 7, 7, 7, 7, 7, 7, 7, 7, 7, 7, 7, 7, 7, 7, 7, 7, 7, 7, 7, 7, 7, 7, 7, 7, 7, 7, 7, 7, 7, 7, 7, 7, 7, 7, 7, 7, 7, 7, 7, 7, 7, 7, 7, 7, 7, 7, 7, 7, 7, 7, 7, 7, 7, 7, 7, 7, 7, 7, 7, 7, 7, 7, 7, 7, 7, 7, 7, 7, 7, 7, 7, 7, 7, 7, 7, 7, 7, 7, 7, 7, 7, 7, 7, 7, 7, 7, 7, 7, 7, 7, 7, 7, 7, 7, 7, 7, 7, 7, 7, 7, 7, 7, 7, 7, 7, 7, 7, 7, 7, 7, 7, 7, 7, 7, 7, 7, 7, 7, 7, 7, 7, 7, 7, 7, 7, 7, 7, 7, 7, 7, 7, 7, 7, 7, 7, 7, 7, 7, 7, 7, 7, 7, 7, 7, 7, 7, 7, 7, 7, 7, 7, 7, 7, 7, 7, 7, 7, 7, 7, 7, 7, 7, 7, 7, 7, 7, 7, 7, 7, 7, 7, 7, 7, 7, 7, 7, 7, 7, 7, 7, 7, 7, 7, 7, 7, 7, 7, 7, 7, 7, 7, 7, 7, 7, 7, 7, 7, 7, 7, 7, 7, 7, 7, 7, 7, 7, 7, 7, 7, 7, 7, 7, 7, 7, 7, 7, 7, 7, 7, 7, 7, 7, 7, 7, 7, 7, 7, 7, 7, 7, 7, 7, 7, 7, 7, 7, 7, 7, 7, 7, 7, 7, 7, 7, 7, 7, 7, 7, 7, 7, 7, 7, 7, 7, 7, 7, 7, 7, 7, 7, 7, 7, 7, 7, 7, 7, 7, 7, 7, 7, 7, 7, 7, 7, 7, 7, 7, 7, 7, 7, 7, 7, 7, 7, 7, 7, 7, 7, 7, 7, 7, 7, 7, 7, 7], \"sizemode\": \"area\", \"sizeref\": 0.02, \"symbol\": \"circle\"}, \"mode\": \"markers\", \"name\": \"High school diploma or equivalent\", \"orientation\": \"v\", \"showlegend\": true, \"type\": \"scatter\", \"x\": [\"34,340\", \"53,310\", \"53,850\", \"37,000\", \"54,210\", \"52,650\", \"25,890\", \"42,920\", \"24,780\", \"37,590\", \"30,430\", \"43,580\", \"35,790\", \"25,580\", \"47,830\", \"30,330\", \"37,000\", \"38,740\", \"63,100\", \"53,100\", \"50,110\", \"52,750\", \"48,500\", \"43,030\", \"35,790\", \"38,880\", \"43,740\", \"48,330\", \"51,530\", \"49,130\", \"62,550\", \"24,230\", \"46,330\", \"66,790\", \"31,850\", \"38,150\", \"36,520\", \"35,420\", \"86,080\", \"42,790\", \"40,360\", \"41,200\", \"31,390\", \"60,710\", \"58,100\", \"35,290\", \"45,180\", \"38,140\", \"41,410\", \"29,690\", \"39,380\", \"56,690\", \"40,100\", \"27,130\", \"37,560\", \"34,710\", \"35,600\", \"35,610\", \"33,490\", \"41,340\", \"83,170\", \"40,190\", \"47,040\", \"38,910\", \"25,860\", \"46,250\", \"44,070\", \"72,520\", \"34,810\", \"56,180\", \"37,380\", \"84,990\", \"46,590\", \"45,660\", \"26,460\", \"30,620\", \"44,800\", \"60,890\", \"40,390\", \"36,320\", \"36,110\", \"35,480\", \"45,070\", \"44,650\", \"42,200\", \"71,160\", \"35,480\", \"32,710\", \"42,420\", \"66,210\", \"63,730\", \"48,280\", \"33,400\", \"50,710\", \"40,780\", \"49,370\", \"67,460\", \"74,760\", \"56,620\", \"39,800\", \"91,090\", \"61,310\", \"40,350\", \"55,060\", \"56,640\", \"28,040\", \"30,790\", \"31,110\", \"55,320\", \"31,770\", \"45,270\", \"39,670\", \"35,590\", \"27,930\", \"40,090\", \"32,480\", \"24,750\", \"28,040\", \"21,260\", \"74,970\", \"28,300\", \"34,190\", \"66,160\", \"70,710\", \"44,630\", \"36,100\", \"43,900\", \"38,460\", \"53,420\", \"38,250\", \"32,830\", \"37,120\", \"30,530\", \"32,100\", \"29,100\", \"40,730\", \"40,260\", \"25,280\", \"24,470\", \"53,590\", \"41,360\", \"39,140\", \"39,830\", \"48,690\", \"40,750\", \"50,940\", \"34,970\", \"40,870\", \"40,100\", \"49,940\", \"47,300\", \"27,490\", \"34,730\", \"73,460\", \"40,640\", \"25,110\", \"41,940\", \"67,090\", \"54,430\", \"37,280\", \"41,440\", \"39,780\", \"44,420\", \"30,960\", \"39,080\", \"47,520\", \"33,890\", \"41,570\", \"47,580\", \"40,690\", \"37,440\", \"36,580\", \"29,460\", \"34,830\", \"42,250\", \"42,280\", \"43,210\", \"55,560\", \"32,350\", \"39,720\", \"50,490\", \"37,780\", \"53,370\", \"57,020\", \"59,260\", \"34,030\", \"32,130\", \"41,330\", \"36,330\", \"36,650\", \"36,550\", \"100,530\", \"51,550\", \"29,230\", \"35,470\", \"34,040\", \"33,450\", \"48,980\", \"32,620\", \"37,840\", \"28,980\", \"36,100\", \"30,990\", \"39,210\", \"40,920\", \"26,570\", \"46,910\", \"64,880\", \"40,130\", \"46,180\", \"37,330\", \"35,840\", \"74,180\", \"27,850\", \"33,950\", \"36,280\", \"32,280\", \"27,000\", \"62,600\", \"58,390\", \"33,500\", \"55,160\", \"63,150\", \"48,330\", \"51,310\", \"60,140\", \"76,900\", \"38,620\", \"90,700\", \"81,990\", \"58,720\", \"33,040\", \"36,910\", \"50,510\", \"43,310\", \"29,800\", \"48,260\", \"58,760\", \"31,110\", \"41,910\", \"45,040\", \"56,390\", \"51,600\", \"49,330\", \"56,100\", \"60,260\", \"65,990\", \"59,720\", \"48,930\", \"30,050\", \"26,350\", \"38,570\", \"53,990\", \"49,100\", \"38,380\", \"29,450\", \"50,860\", \"40,490\", \"59,090\", \"31,820\", \"56,130\", \"59,930\", \"30,410\", \"30,990\", \"37,690\", \"48,970\", \"29,680\", \"39,190\", \"38,060\", \"41,330\", \"39,870\", \"50,400\", \"34,190\", \"29,560\", \"30,570\", \"73,890\", \"35,060\", \"44,890\", \"62,150\", \"27,380\", \"43,280\", \"55,040\", \"40,390\", \"67,880\", \"45,010\", \"30,610\", \"43,080\", \"56,750\", \"35,750\", \"31,230\", \"52,180\", \"29,460\", \"28,730\", \"29,980\", \"29,790\", \"27,970\", \"35,080\", \"46,010\", \"28,640\", \"48,180\", \"39,330\", \"27,600\", \"47,480\", \"71,820\", \"75,820\", \"41,770\", \"94,560\", \"40,660\", \"39,980\", \"28,550\", \"50,160\", \"35,130\", \"28,590\", \"42,520\", \"47,760\", \"35,040\", \"42,490\", \"38,310\", \"55,040\", \"33,110\", \"30,990\", \"40,340\"], \"xaxis\": \"x\", \"y\": [-1.8, -6.5, 5.4, 4.4, -17.4, 6.1, 9.4, -3.2, 22.9, 6.5, 13.3, 2.9, -0.4, 5.3, -0.3, 4.9, -6.4, 1.9, 0.9, -6.4, 1.3, 3.8, 3.4, 9.3, -2.9, 2.6, 5.5, -0.4, 6.4, 1.7, -3.1, 1.7, 14.0, -6.4, 1.4, 1.7, -18.7, -2.0, 9.1, 9.1, 15.2, -7.0, 6.7, 3.2, 0.2, 3.8, -7.5, -3.2, 4.7, -2.2, 4.8, 1.7, -4.8, 15.7, -5.7, -2.0, -4.8, -8.3, -24.6, 9.4, 1.1, -0.9, 4.5, -19.0, 3.0, 7.8, 4.1, 1.7, 1.4, 8.4, -23.2, 6.6, 3.8, -15.2, 6.2, -4.6, 2.9, -20.4, 15.4, -10.5, -6.4, -3.1, -11.4, -16.7, 1.3, -6.5, -5.3, -14.6, 8.6, 4.8, -7.8, -1.1, 5.9, 16.4, 8.4, 11.4, 2.7, -8.3, -3.0, 11.2, 5.2, -0.3, -5.5, 5.1, 17.3, -20.1, 1.3, 0.5, 0.6, -0.5, 24.3, -21.1, -5.8, -2.9, -0.7, -3.7, 3.7, 5.7, 7.7, 8.8, 6.5, 5.6, -2.1, -5.6, 3.9, -8.2, 8.2, 6.9, 10.5, -10.3, 1.5, 20.2, 4.4, 5.6, 6.8, 5.0, -6.9, 33.7, -6.9, 15.6, 3.0, -17.0, 2.5, 4.5, -2.2, 5.5, 2.5, -10.0, -10.1, -10.2, -22.1, -3.8, 5.9, 4.9, 8.3, 8.1, -7.5, -3.5, -11.7, -11.4, -12.5, -14.5, 4.2, -6.7, 4.2, 6.1, -22.3, 3.6, 8.1, 11.5, 5.9, 9.5, -3.4, -8.6, 0.0, -11.5, -18.6, 6.9, -12.8, 4.3, 1.6, 1.2, 0.7, -8.2, -0.2, -6.1, -9.6, 0.8, 2.1, -7.1, -14.7, -35.7, 4.8, 19.9, 4.0, -5.0, -13.1, 4.0, 7.6, 4.0, 5.0, 3.8, 1.4, -5.7, -36.2, 4.4, -8.4, -4.7, 4.7, -4.5, 8.5, 8.3, -0.5, -15.7, 3.6, -3.6, -19.4, 21.3, 4.4, 0.0, -8.8, 4.3, 5.7, -13.5, -13.5, -17.8, -21.9, -8.6, -7.7, -15.1, 3.3, -14.8, -13.3, 8.3, -7.5, 2.1, 3.9, 0.2, 10.9, 6.2, 9.7, -3.2, -4.7, -6.8, 3.4, -5.5, -2.1, 2.6, 2.3, 3.6, 10.0, 5.1, -19.3, 5.0, -2.9, 11.8, 4.6, -11.3, -16.0, 1.9, 6.0, 0.9, -6.9, 4.3, -10.1, 10.3, 2.8, 10.3, 0.7, 3.5, 10.1, 1.3, -8.7, -10.3, -14.5, -0.7, 16.8, 50.5, 2.2, 0.7, -3.2, 4.7, -16.0, 5.3, 0.7, -22.5, -0.6, -1.6, -27.9, -15.3, -10.3, -11.9, -10.5, -12.8, -9.7, -4.9, -22.3, 0.5, 2.3, -2.6, -4.8, 5.4, 6.0, 4.0, 2.4, -3.1, 3.5, -25.9, 10.7, 8.0, 9.3, -4.0, 15.8, -32.3, -4.2, 5.1, 3.1, -6.8, 4.2, -4.6, -2.4, -36.4], \"yaxis\": \"y\"}, {\"customdata\": [[\"5 years or more\", 0.3], [\"None\", 2.1], [\"None\", 0.5], [\"None\", 4.4], [\"None\", 5.1], [\"None\", 4.9], [\"None\", 2.4], [\"None\", 1.9], [\"None\", 13.3], [\"None\", 4.0], [\"None\", 9.3], [\"None\", 12.0], [\"None\", 4.3], [\"None\", 4.5], [\"None\", 3.1], [\"None\", 3.2], [\"None\", 2.6], [\"None\", 6.7], [\"None\", 0.2], [\"None\", 2.8], [\"None\", 5.2], [\"Less than 5 years\", 4.8], [\"None\", 8.6], [\"None\", 2.1], [\"None\", 3.7], [\"None\", 6.1], [\"None\", 5.7], [\"None\", 2.2], [\"None\", -0.6], [\"None\", 2.9], [\"Less than 5 years\", 20.5], [\"None\", 3.6], [\"5 years or more\", 3.4], [\"None\", 3.4], [\"Less than 5 years\", 6.9], [\"None\", 4.0], [\"None\", 3.0], [\"None\", 1.3], [\"None\", 6.1], [\"Less than 5 years\", 17.6], [\"None\", -1.4], [\"None\", 4.3], [\"None\", 2.4], [\"None\", 2.4], [\"None\", -1.6], [\"None\", -3.3], [\"None\", 6.7], [\"None\", 18.2], [\"None\", 4.3], [\"None\", 7.3], [\"None\", 4.4], [\"None\", 0.2], [\"None\", 4.9], [\"None\", 2.0], [\"None\", 2.2], [\"None\", 11.9], [\"None\", 8.8], [\"None\", 2.6], [\"None\", -0.3], [\"None\", 5.7], [\"None\", 3.8], [\"None\", -2.2], [\"None\", 15.9]], \"hovertemplate\": \"<b>%{hovertext}</b><br><br>Typical Entry-Level Education=Doctoral or professional degree<br>Median Annual Wage 2019=%{x}<br>Employment Percent Change, 2019-2029=%{customdata[1]}<br>Education Code=%{marker.size}<br>Work Experience in a Related Occupation=%{customdata[0]}<extra></extra>\", \"hovertext\": [\"Administrative law judges, adjudicators, and hearing officers    * Appeals Examiner* Appeals Referee* Appellate Conferee* Hearing Examiner* Hearing Officer* Justice of The Peace* Traffic Court Referee\", \"Agricultural sciences teachers, postsecondary    * Agricultural Soil Conservation Professor* Agronomy Professor* Animal Husbandry Professor* Animal Science Professor* Aquaculture and Fisheries Professor* Farm Management Professor* Floriculture Professor* Horticulture Instructor* Olericulture Professor\", \"Anesthesiologists\", \"Anthropology and archeology teachers, postsecondary    * Cultural Anthropology Professor* Ethnoarchaeology Professor* Near East Archeology Professor* Paleology Professor* Sociocultural Anthropology Professor\", \"Architecture teachers, postsecondary    * Architectural Design Professor* Architecture Professor* Interior Design Professor* Landscape Architecture Professor\", \"Area, ethnic, and cultural studies teachers, postsecondary    * African Studies Professor* Asian Studies Professor* Black Studies Professor* Ethnology Professor* Gender Studies Professor* Latin American Studies Professor* Women's Studies Professor\", \"Astronomers    * Astronomer* Astrophysicist\", \"Atmospheric, earth, marine, and space sciences teachers, postsecondary    * Climatology Professor* Earth Science Professor* Geology Professor* Geoscience Professor* Meteorology Professor* Mineralogy Professor* Oceanic Sciences Professor* Oceanography Professor* Volcanology Professor\", \"Audiologists    * Audiologist* Clinical Audiologist* Dispensing Audiologist* Educational Audiologist* Hearing Therapist* Licensed Audiologist* Pediatric Audiologist\", \"Biochemists and biophysicists    * Biochemist* Biological Chemist* Biophysicist* Clinical Biochemist* Physical Biochemist\", \"Biological science teachers, postsecondary    * Anatomy Professor* Bacteriology Professor* Biochemistry Professor* Botany Professor* Embryology Professor* Microbiology Professor* Zoology Professor\", \"Business teachers, postsecondary    * Accounting Professor* Banking and Finance Instructor* Business Administration Professor* Finance Professor* Management Professor* Marketing Instructor* Marketing Professor\", \"Chemistry teachers, postsecondary    * Chemistry Professor* Inorganic Chemistry Professor* Organic Chemistry Professor* Physical Chemistry Professor* Phytochemistry Professor\", \"Chiropractors    * Chiropractic Doctor* Chiropractic Physician* Chiropractor\", \"Clinical, counseling, and school psychologists    * Child Psychologist* Child Psychometrist* Clinical Psychologist* Eating Disorder Psychologist* Educational Psychologist* Geropsychologist* Pediatric Psychologist* School Psychologist* School Psychometrist* Vocational Psychologist\", \"Communications teachers, postsecondary    * Interpersonal Communications Professor* Journalism Professor* Media Arts Professor* Professor of Communication and Writing* Professor of Rhetoric* Public Speaking Professor* Speech Professor\", \"Computer science teachers, postsecondary    * C++ Professor* Computer Information Systems Professor* Computer Programming Professor* IT Professor* Information Systems Professor* Information Technology Professor* Java Programming Professor\", \"Criminal justice and law enforcement teachers, postsecondary    * Criminal Justice Professor* Criminology Professor* Penology Professor\", \"Dentists, all other specialists    * Endodontist* Maxillofacial Pathology* Oral Pathologist* Pediatric Dentist* Pedodontist* Periodontist* Public Health Dentist\", \"Dentists, general    * Family Dentist\", \"Economics teachers, postsecondary    * Agricultural Economics Professor* Econometrics Professor* Industrial Economics Professor* Labor Economics Professor* Macroeconomics Professor* Microeconomics Professor\", \"Education teachers, postsecondary    * Counselor Education Professor* Literacy Education Professor* Mathematics Education Professor* Primary Education Professor* Science Education Professor* Secondary Education Professor* Special Education Professor\", \"Engineering teachers, postsecondary    * Aeronautical Engineering Professor* Ceramic Engineering Professor* Chemical Engineering Professor* Civil Engineering Professor* Electrical Engineering Professor* Electronics Engineering Professor* Industrial Engineering Professor* Manufacturing Engineering Professor* Marine Engineering Professor* Mechanical Engineering Professor* Petroleum Engineering Professor\", \"English language and literature teachers, postsecondary    * Children's Literature Professor* Composition Professor* Contemporary English Literature Professor* Creative Writing English Professor* Etymology Professor* Medieval English Literature Professor* Seventeenth-Century English Literature Professor* Victorian Literature Professor\", \"Environmental science teachers, postsecondary    * Environmental Science Professor* Environmental Science, Management and Policy Professor* Environmental Studies Professor\", \"Family medicine physicians\", \"Foreign language and literature teachers, postsecondary    * Arabic Professor* Biblical Languages Professor* Chinese Language Professor* French Professor* German Professor* Greek Professor* Hebrew Professor* Japanese Professor* Russian Language Professor* Spanish Literature Professor\", \"Forestry and conservation science teachers, postsecondary    * Ecology Professor* Environmental Conservation Professor* Forest Biometrics Professor* Forest Ecology Professor* Forest Management Professor* Forest Pathology Professor* Forest Resources Professor* Forest Technology Professor* Silviculture Professor* Timber Management Professor* Wildlife Conservation Professor\", \"General internal medicine physicians\", \"Geography teachers, postsecondary    * Cartography Professor* GIS Professor* Geographic Information Systems Professor* Geomatics Professor\", \"Health specialties teachers, postsecondary    * Clinical Laboratory Science Professor* Clinical Sciences Professor* Dentistry Professor* Gastroenterology Professor* Neurology Professor* Nutrition Professor* Occupational Therapy Professor* Optometry Professor* Pharmacology Professor* Physical Therapy Professor* Podiatric Medicine Professor* Podiatry Professor* Public Health Professor\", \"History teachers, postsecondary    * African History Professor* American History Professor* Historiography Professor* Jewish History Professor* Russian History Professor* South Asian History Professor\", \"Judges, magistrate judges, and magistrates    * Administrative Court Justice* Circuit Court Judge* County Court Judge* Criminal Court Judge* District Court Judge* Jurist* Justice* Probate Judge* Trial Court Judge* Tribal Judge\", \"Judicial law clerks    * Judicial Clerk\", \"Law teachers, postsecondary    * Constitutional Law Professor* Contracts Law Professor* Criminal Law Professor* Environmental Law Professor* Labor Law Professor* Torts Law Professor\", \"Lawyers    * Agency Legal Counsel* Assistant Attorney General* Assistant Corporation Counsel* Assistant Counsel* Associate Attorney* Attorney* Attorney At Law* Attorney General* Brief Writer* City Attorney* Civil Lawyer* Commonwealth Attorney* Corporate Attorney* Corporate Counsel* Corporate Counselor* County Attorney* Defense Attorney* Deputy Attorney General* Deputy Chief Counsel* District Attorney* Environmental Attorney* Estate Conservator* General Counsel* Insurance Attorney* Lawyer* Legal Counsel* Probate Lawyer* Prosecutor* Public Defender* Real Estate Attorney* Sports Attorney* Tax Attorney* Trial Attorney* Trial Lawyer\", \"Library science teachers, postsecondary    * Library and Information Science Professor* Library and Information Technology Instructor* Medical Records Library Professor\", \"Mathematical science teachers, postsecondary    * Actuarial Science Professor* Biostatistics Professor* Calculus Professor* Geometry Professor* Mathematics Professor* Statistical Methods Professor* Statistics Professor* Topology Professor\", \"Medical scientists, except epidemiologists    * Cancer Researcher* Clinical Pharmacologist* Clinical Research Scientist* Gerontologist* Histologist* Histopathologist* Immunochemist* Industrial Pharmacist* Medical Health Researcher* Medical Research Scientist* Medical Scientist* Neuroscientist* Pharmacologist* Serologist* Toxicologist\", \"Nursing instructors and teachers, postsecondary    * Advanced Nursing Professor* Clinical Nursing Instructor* Clinical Nursing Professor* Registered Nursing Professor\", \"Obstetricians and gynecologists\", \"Optometrists    * Doctor of Optometry* Optometrist\", \"Oral and maxillofacial surgeons    * Dental Surgeon* Maxillofacial Surgeon* Oral Surgeon\", \"Orthodontists    * Dentofacial Orthopedics Dentist* Invisible Braces Orthodontist* Orthodontist* Pediatric Orthodontist\", \"Pediatricians, general\", \"Pharmacists    * Apothecary* Clinical Pharmacist* Druggist* Hospital Pharmacist* Registered Pharmacist\", \"Philosophy and religion teachers, postsecondary    * Biblical Studies Professor* Divinity Professor* Eastern Philosophy Professor* Old Testament Professor* Pastoral Ministries Professor* Religious Studies Professor* Theology Professor* Western Philosophy Professor\", \"Physical therapists    * Cardiopulmonary Physical Therapist* Geriatric Physical Therapist* Orthopedic Physical Therapist* PT* Pediatric Physical Therapist* Physical Therapist* Physiotherapist* Pulmonary Physical Therapist* Sports Physical Therapist\", \"Physicians, all other; and ophthalmologists, except pediatric\", \"Physicists    * Fluid Dynamicist* Health Physicist* Mathematical Physicist* Medical Physicist* Molecular Physicist* Nuclear Physicist* Optical Scientist* Research Physicist* Rheologist* Thermodynamic Physicist* Thermodynamicist\", \"Physics teachers, postsecondary    * Aerodynamics Professor* Astrophysics Professor* Atomic Physics Professor* Ballistics Professor* Hydrodynamics Professor* Medical Physics Professor* Nuclear Physics Professor* Physical Science Professor* Thermodynamics Professor\", \"Podiatrists    * Chiropodist* Doctor of Podiatric Medicine* Foot Doctor* Foot Orthopedist* Foot and Ankle Surgeon* Orthopedic Podiatrist* Podiatric Physician\", \"Political science teachers, postsecondary    * Government Professor* International Relations Professor* Political Theory Professor* Public Policy Professor\", \"Postsecondary teachers, all other    * Braille Teacher* Flight Simulator Teacher* Interdisciplinary Professor* Military Science Teacher* Project Management Professor\", \"Prosthodontists    * Maxillofacial Prosthetics Dentist* Maxillofacial Prosthodontist* Prosthodontist* Reconstructive Dentist\", \"Psychiatrists\", \"Psychology teachers, postsecondary    * Applied Psychology Professor* Child Development Professor* Clinical Psychology Professor* Educational Psychology Professor* Human Relations Professor* Industrial Psychology Professor* Industrial/Organizational Psychology Professor* Psychology Professor\", \"Recreation and fitness studies teachers, postsecondary    * Health and Physical Education Professor* Human Performance Professor* Kinesiology Professor* Leisure Studies Professor* Physical Education (PE) Professor* Physical Education Professor* Swimming Professor\", \"Social sciences teachers, postsecondary, all other    * Social Science Professor* Survey Research Professor* Urban Planning Professor\", \"Social work teachers, postsecondary    * Family Welfare Social Work Professor* Geriatric Social Work Professor* Health Social Work Professor* Social Work Professor\", \"Sociology teachers, postsecondary    * Comparative Sociology Professor* Race Relations Professor* Social Organization Professor\", \"Surgeons, except ophthalmologists\", \"Veterinarians    * Animal Pathologist* Animal Surgeon* Doctor of Veterinary Medicine* Doctor of Veterinary Medicine (DVM)* Equine Veterinarian* Large Animal Veterinarian* Poultry Pathologist* Public Health Veterinarian* Small Animal Veterinarian* Veterinary Medicine Scientist* Wildlife Veterinarian\"], \"legendgroup\": \"Doctoral or professional degree\", \"marker\": {\"color\": \"#ab63fa\", \"size\": [1, 1, 1, 1, 1, 1, 1, 1, 1, 1, 1, 1, 1, 1, 1, 1, 1, 1, 1, 1, 1, 1, 1, 1, 1, 1, 1, 1, 1, 1, 1, 1, 1, 1, 1, 1, 1, 1, 1, 1, 1, 1, 1, 1, 1, 1, 1, 1, 1, 1, 1, 1, 1, 1, 1, 1, 1, 1, 1, 1, 1, 1, 1], \"sizemode\": \"area\", \"sizeref\": 0.02, \"symbol\": \"circle\"}, \"mode\": \"markers\", \"name\": \"Doctoral or professional degree\", \"orientation\": \"v\", \"showlegend\": true, \"type\": \"scatter\", \"x\": [\"97,870\", \"83,260\", \">=208,000\", \"86,220\", \"87,900\", \"77,070\", \"114,590\", \"92,040\", \"77,600\", \"94,490\", \"83,300\", \"87,200\", \"79,550\", \"70,340\", \"78,200\", \"70,630\", \"85,180\", \"62,860\", \"147,220\", \"155,600\", \"104,370\", \"65,510\", \"101,010\", \"68,490\", \"82,430\", \"205,590\", \"69,990\", \"85,450\", \"201,590\", \"80,520\", \"97,320\", \"75,170\", \"136,910\", \"54,010\", \"113,530\", \"122,960\", \"71,410\", \"73,690\", \"88,790\", \"74,600\", \">=208,000\", \"115,250\", \">=208,000\", \">=208,000\", \"175,310\", \"128,090\", \"75,240\", \"89,440\", \"206,500\", \"122,850\", \"89,590\", \"126,240\", \"85,930\", \"68,970\", \">=208,000\", \">=208,000\", \"76,620\", \"64,380\", \"71,530\", \"72,070\", \"75,290\", \">=208,000\", \"95,460\"], \"xaxis\": \"x\", \"y\": [0.3, 2.1, 0.5, 4.4, 5.1, 4.9, 2.4, 1.9, 13.3, 4.0, 9.3, 12.0, 4.3, 4.5, 3.1, 3.2, 2.6, 6.7, 0.2, 2.8, 5.2, 4.8, 8.6, 2.1, 3.7, 6.1, 5.7, 2.2, -0.6, 2.9, 20.5, 3.6, 3.4, 3.4, 6.9, 4.0, 3.0, 1.3, 6.1, 17.6, -1.4, 4.3, 2.4, 2.4, -1.6, -3.3, 6.7, 18.2, 4.3, 7.3, 4.4, 0.2, 4.9, 2.0, 2.2, 11.9, 8.8, 2.6, -0.3, 5.7, 3.8, -2.2, 15.9], \"yaxis\": \"y\"}, {\"customdata\": [[\"None\", 7.0], [\"None\", 4.1], [\"None\", 0.5], [\"None\", -2.5], [\"None\", 4.4], [\"None\", 3.1], [\"None\", 2.1], [\"None\", 5.4], [\"None\", 2.8], [\"None\", 2.5], [\"None\", 6.4], [\"None\", 5.9], [\"None\", -19.0], [\"None\", 16.8], [\"None\", 5.9], [\"None\", 0.6], [\"None\", 1.5], [\"None\", 0.5], [\"None\", 3.0], [\"None\", -7.6], [\"None\", 7.5], [\"None\", 8.4], [\"None\", 0.6], [\"Less than 5 years\", -5.7], [\"None\", 5.5], [\"None\", -5.0], [\"None\", 1.5], [\"None\", -1.2], [\"None\", 4.7], [\"Less than 5 years\", 7.0], [\"None\", -8.3], [\"None\", 3.1], [\"None\", 5.1], [\"None\", -2.0], [\"None\", 5.4], [\"None\", -18.9], [\"None\", 34.6], [\"None\", 10.5], [\"None\", 32.6], [\"None\", 2.5], [\"None\", 7.1], [\"None\", 3.7], [\"None\", 6.7], [\"None\", 19.4], [\"None\", 16.2], [\"None\", 8.0]], \"hovertemplate\": \"<b>%{hovertext}</b><br><br>Typical Entry-Level Education=Associate's degree<br>Median Annual Wage 2019=%{x}<br>Employment Percent Change, 2019-2029=%{customdata[1]}<br>Education Code=%{marker.size}<br>Work Experience in a Related Occupation=%{customdata[0]}<extra></extra>\", \"hovertext\": [\"Aerospace engineering and operations technologists and technicians    * Altitude Chamber Technician* Flight Data Technician* Wind Tunnel Technician\", \"Agricultural and food science technicians\", \"Air traffic controllers    * Air Traffic Control Operator* Air Traffic Control Specialist* Air Traffic Controller* Air Traffic Coordinator* Airport Tower Controller* Control Tower Operator* Enroute Controller\", \"Architectural and civil drafters    * Architectural Drafter* Building Drafter* Civil Computer-Aided Design and Drafting Technician* Civil Drafter* Structural Drafter\", \"Avionics technicians    * Aircraft Armament Mechanic* Aircraft Electrician* Aircraft Instrument Mechanic* Airplane Electrician* Automatic Pilot Mechanic* Aviation Electronics Technician* In-Flight Refueling System Repairer\", \"Broadcast technicians    * Audio Engineer* Broadcast Engineer* Broadcast Maintenance Engineer* Broadcast Operations Engineer* Radio Station Audio Engineer* Radio/Television Technician* Remote Broadcast Engineer* Telecasting Engineer* Television Audio Engineer\", \"Calibration technologists and technicians and engineering technologists and technicians, except drafters, all other\", \"Cardiovascular technologists and technicians    * Cardiac Catheterization Laboratory Technologist* Cardiac Catheterization Technologist* Cardiac Monitor Technician* Cardiac Technician* Cardiopulmonary Technologist* Cardiovascular Interventional Technologist* Cardiovascular Technologist* EKG Technician* Echocardiogram Technician* Echocardiographer* Echocardiographic Technologist* Echocardiography Technician* Echocardiology Technologist* Electrocardiogram Technician* Electrocardiograph Operator* Pulmonary Function Technologist\", \"Chemical technicians    * Assayer* Chemical Laboratory Technician* Chemical Technician* Inorganic Chemical Technician\", \"Civil engineering technologists and technicians    * Civil Engineering Technician* Concrete Engineering Technician* Geotechnical Engineering Technician* Highway Engineering Technician* Structural Engineering Technician* Transportation Engineering Technician\", \"Computer network support specialists\", \"Dental hygienists\", \"Desktop publishers    * DTP Operator* Desktop Publisher* Desktop Publishing Specialist* Electronic Console Display Operator* Electronic Imager* Electronic Pagination System Operator* Electronic Publisher* Electronic Publishing Specialist\", \"Diagnostic medical sonographers    * Cardiac/Vascular Sonographer* Diagnostic Medical Sonographer* Registered Diagnostic Medical Sonographer* Sonographer* Ultrasonographer* Ultrasound Technician* Ultrasound Technologist\", \"Dietetic technicians    * Clinical Dietetic Technician* Cook Chill Technician* DTR* Dietary Aide* Dietary Technician* Dietetic Technician* Nutrition Technician* Registered Diet Technician\", \"Drafters, all other    * Blueprint Tracer* Drafting Layout Worker* Draughtsman* Geological Drafter* Marine Drafter\", \"Electrical and electronic engineering technologists and technicians    * Electrical Design Technician* Electrical Engineering Technician* Electrical Power Station Technician* Electronic Instrument Testing Technician* Lighting Engineering Technician* Programmable Logic Controller Programmer* Semiconductor Development Technician\", \"Electrical and electronics drafters    * Circuit Board Drafter* Electrical Computer Aided Design and Drafting Technician* Electrical Drafter* Electrical Systems Drafter* Electronic Drafter* Printed Circuit Board Drafter\", \"Electro-mechanical and mechatronics technologists and technicians    * Remotely Piloted Vehicle Engineering Technician* Robotics Testing Technician\", \"Embalmers    * Anatomical Embalmer* Arterial Embalmer* Embalmer Apprentice* Licensed Embalmer* Restorative Art Embalmer\", \"Environmental engineering technologists and technicians    * Air Analysis Engineering Technician* Environmental Remediation Engineering Technician* Environmental Technician* Pollution Control Engineering Technician\", \"Environmental science and protection technicians, including health\", \"Forest and conservation technicians\", \"Funeral home managers\", \"Geological and hydrologic technicians\", \"Human resources assistants, except payroll and timekeeping    * Employment Clerk* HR Clerk* Personnel Clerk\", \"Industrial engineering technologists and technicians    * Industrial Engineering Technician* Motion Study Technician* Production Control Technologist* Time Study Technician* Time Study Technologist\", \"Legal support workers, all other    * Legal Technician\", \"Life, physical, and social science technicians, all other    * Meteorological Aide* Polygraph Examiner\", \"Magnetic resonance imaging technologists    * Computed Tomography/Magnetic Resonance Imaging (CT/MRI) Technologist* MRI Technologist\", \"Mechanical drafters    * Aeronautical Drafter* Automotive Design Drafter* Die Designer* Gage Designer* Mechanical Design Drafter* Mechanical Drafter* Tool Designer* Tool and Die Designer\", \"Mechanical engineering technologists and technicians    * Gyroscopic Engineering Technician* Heat Transfer Technician* Hydraulic Technician* Mechanical Engineering Technician* Optomechanical Technician\", \"Medical equipment repairers    * BMET* Biomedical Electronics Technician* Biomedical Equipment Technician* Certified Biomedical Equipment Technician* Dental Equipment Mechanic* Dental Equipment Repairer* Durable Medical Equipment Repairer* Electromedical Equipment Technician* Radiology Equipment Servicer* Surgical Instrument Mechanic\", \"Morticians, undertakers, and funeral arrangers    * Certified Mortician* Funeral Arrangement Director* Funeral Arranger* Funeral Director* Licensed Funeral Director\", \"Nuclear medicine technologists    * Certified Nuclear Medicine Technologist* Isotope Technologist* Nuclear Cardiology Technologist* Nuclear Medical Technologist* Radioisotope Technologist* Registered Nuclear Medicine Technologist\", \"Nuclear technicians    * Nuclear Monitoring Technician* Nuclear Technician* Radiation Protection Technician* Radiochemical Technician\", \"Occupational therapy assistants    * COTA* Certified Occupational Therapy Assistant* Licensed Occupational Therapy Assistant* Occupational Therapist Assistants\", \"Paralegals and legal assistants    * Assistant Paralegal* Legal Aide* Legal Assistant* Paralegal* Summer Associate* Summer Law Clerk\", \"Physical therapist assistants    * LPTA* Licensed Physical Therapist Assistant* Physical Therapy Assistant* Physical Therapy Technician* Physiotherapy Assistant\", \"Preschool teachers, except special education    * Early Childhood Teacher* Head Start Teacher* Nursery School Teacher* Nursery Teacher* Pre-K Teacher* Pre-Kindergarten Teacher* Preschool Teacher\", \"Radiation therapists    * Dosimetrist* Radiation Therapist* Radiation Therapy Technologist* Registered Radiation Therapist\", \"Radio, cellular, and tower equipment installers and repairers    * Radio Frequency Technician* Radio Mechanic* Radio Repairer* Two-Way Radio Technician\", \"Radiologic technologists and technicians    * Computed Axial Tomography Technologist* Computed Tomography (CT) Scanner Operator* Radiologic Technician* Registered Radiologic Technologist* Skiagrapher* X-Ray Technician\", \"Respiratory therapists    * CRT* Certified Respiratory Therapist* Inhalation Therapist* Oxygen Therapist* RRT* Registered Respiratory Therapist* Respiratory Therapist\", \"Veterinary technologists and technicians    * Certified Veterinary Technician* LVT* Licensed Veterinary Technician* Registered Veterinary Technician* Veterinary Lab Tech* Veterinary Laboratory Technician* Veterinary Surgery Technician* Veterinary Surgery Technologist* Veterinary Technologist* Veterinary X-Ray Operator\", \"Web developers and digital interface designers\"], \"legendgroup\": \"Associate's degree\", \"marker\": {\"color\": \"#FFA15A\", \"size\": [4, 4, 4, 4, 4, 4, 4, 4, 4, 4, 4, 4, 4, 4, 4, 4, 4, 4, 4, 4, 4, 4, 4, 4, 4, 4, 4, 4, 4, 4, 4, 4, 4, 4, 4, 4, 4, 4, 4, 4, 4, 4, 4, 4, 4, 4], \"sizemode\": \"area\", \"sizeref\": 0.02, \"symbol\": \"circle\"}, \"mode\": \"markers\", \"name\": \"Associate's degree\", \"orientation\": \"v\", \"showlegend\": true, \"type\": \"scatter\", \"x\": [\"66,020\", \"41,230\", \"122,990\", \"56,340\", \"65,700\", \"40,570\", \"62,990\", \"57,720\", \"49,260\", \"53,410\", \"63,460\", \"76,220\", \"45,390\", \"74,320\", \"28,400\", \"52,830\", \"65,260\", \"61,530\", \"58,350\", \"47,760\", \"50,620\", \"46,540\", \"45,500\", \"76,350\", \"51,130\", \"41,430\", \"56,550\", \"58,400\", \"50,550\", \"73,410\", \"57,060\", \"56,980\", \"49,280\", \"54,150\", \"77,950\", \"82,080\", \"61,510\", \"51,740\", \"58,790\", \"30,520\", \"85,560\", \"55,380\", \"60,510\", \"61,330\", \"35,320\", \"73,760\"], \"xaxis\": \"x\", \"y\": [7.0, 4.1, 0.5, -2.5, 4.4, 3.1, 2.1, 5.4, 2.8, 2.5, 6.4, 5.9, -19.0, 16.8, 5.9, 0.6, 1.5, 0.5, 3.0, -7.6, 7.5, 8.4, 0.6, -5.7, 5.5, -5.0, 1.5, -1.2, 4.7, 7.0, -8.3, 3.1, 5.1, -2.0, 5.4, -18.9, 34.6, 10.5, 32.6, 2.5, 7.1, 3.7, 6.7, 19.4, 16.2, 8.0], \"yaxis\": \"y\"}, {\"customdata\": [[\"None\", 11.4], [\"None\", 2.9], [\"None\", 10.3], [\"None\", -0.2], [\"None\", 10.0], [\"None\", 2.4], [\"None\", 5.3], [\"None\", 5.9], [\"None\", 4.8], [\"None\", 1.7], [\"None\", -8.9], [\"None\", -7.4], [\"None\", -2.0], [\"None\", 3.6], [\"None\", 5.4], [\"None\", 2.3], [\"None\", 0.4], [\"None\", 3.5], [\"None\", -13.4], [\"None\", 2.0], [\"Less than 5 years\", 23.1], [\"None\", -4.4], [\"None\", 1.1], [\"None\", -1.0], [\"None\", 5.7], [\"None\", -29.9], [\"None\", 3.1], [\"None\", 30.5], [\"None\", 6.5], [\"None\", 0.5], [\"None\", -20.0], [\"None\", 0.4], [\"Less than 5 years\", 10.4], [\"None\", 3.8], [\"None\", -8.3], [\"None\", 11.4], [\"None\", 2.2], [\"None\", 9.9], [\"None\", 2.2], [\"None\", -0.8], [\"None\", 6.9], [\"None\", -1.1], [\"None\", -0.1], [\"None\", 6.8], [\"None\", 2.5], [\"None\", 0.0], [\"None\", -19.5], [\"None\", 6.5], [\"None\", 4.2], [\"None\", -4.7], [\"None\", 1.3], [\"None\", 1.9], [\"None\", 3.5], [\"None\", -5.0], [\"None\", 8.2], [\"None\", 2.8], [\"None\", 1.6], [\"None\", 4.4], [\"None\", 4.2], [\"None\", 10.1], [\"None\", 0.2], [\"None\", 9.0], [\"None\", -13.4], [\"None\", 0.2], [\"None\", -0.3], [\"None\", 1.5], [\"None\", 1.7], [\"None\", 0.5], [\"None\", -11.2], [\"None\", 3.1], [\"None\", -4.8], [\"None\", 0.2], [\"None\", -0.5], [\"None\", -0.8], [\"None\", 7.2], [\"None\", 2.0], [\"None\", 11.1], [\"None\", 4.7], [\"None\", 4.1], [\"None\", -18.9], [\"None\", 8.8], [\"None\", -0.6], [\"None\", 3.6], [\"None\", 2.4], [\"None\", 26.9], [\"None\", 25.1], [\"None\", 0.9], [\"None\", 22.9], [\"None\", -7.9], [\"None\", -9.3], [\"None\", 11.4], [\"None\", 3.3], [\"None\", -4.3], [\"None\", -1.7], [\"None\", -4.0], [\"None\", -14.2], [\"None\", 8.6], [\"None\", 3.3], [\"None\", 3.7]], \"hovertemplate\": \"<b>%{hovertext}</b><br><br>Typical Entry-Level Education=No formal educational credential<br>Median Annual Wage 2019=%{x}<br>Employment Percent Change, 2019-2029=%{customdata[1]}<br>Education Code=%{marker.size}<br>Work Experience in a Related Occupation=%{customdata[0]}<extra></extra>\", \"hovertext\": [\"Agricultural equipment operators    * Cane Flume Chute Operator* Combine Driver* Combine Operator* Corn Detasseler Machine Operator* Cotton Ginner* Cotton Picker Operator* Custom Harvester* Farm Tractor Operator* Hay Baler* Hay Stacker Operator* Rake Operator* Replanting Machine Operator* Tractor Operator* Wheat Combine Driver\", \"Agricultural workers, all other    * Crop Scout* Irrigation Worker* Livestock Showman\", \"Amusement and recreation attendants    * Amusement Park Worker* Animal Ride Attendant* Arcade Attendant* Carnival Worker* Ferris Wheel Operator* Golf Caddy* Ice Rink Attendant* Ride Operator* Rides Attendant* Ski Lift Attendant* Ski Lift Operator* Sports Complex Attendant\", \"Artists and related workers, all other    * Calligrapher* Tattoo Artist\", \"Athletes and sports competitors    * All Terrain Vehicle Racer* Athlete* Auto Racer* Baseball Pitcher* Baseball Player* Basketball Player* Bicycle Racer* Bicyclist* Billiard Player* Bowler* Bull Rider* Car Racer* Cyclist* Dirt Bike Racer* Drag Car Racer* Figure Skater* Football Player* Golfer* Hockey Player* Horse Racer* Ice Skater* Jockey* Kick Boxer* Motocross Racer* National Association for  Stock Car Auto Racing Driver* Prize Fighter* Professional Bass Fisher* Professional Soccer Player* Pugilist* Race Car Driver* Roller Skater* Skater* Skier* Snowboarder* Softball Player* Stock Car Driver* Surfer* Swimmer* Tennis Player* Volleyball Player* Wrestler\", \"Automotive and watercraft service attendants    * Auto Service Station Attendant* Gas Pump Attendant* Gas Station Attendant* Gas and Oil Servicer* Oil Changer* Pump Jockey* Service Station Attendant\", \"Bakers    * Bagel Maker* Bread Baker* Dough Maker* Pastry Baker* Pastry Finisher* Pie Baker* Pie Maker\", \"Bartenders    * Barkeep* Bartender* Drink Mixer* Mixologist* Taproom Attendant\", \"Building cleaning workers, all other    * Building Pressure Washer* Chimney Sweep* Chimney Sweeper\", \"Butchers and meat cutters    * Butcher* Butcher Apprentice* Halal Butcher* Kosher Butcher* Meat Carver* Meat Clerk* Meat Counter Worker\", \"Carpet installers    * Carpet Installer* Carpet Layer* Commercial Carpet Installer* Residential Carpet Installer* Wall-to-Wall Carpet Installer\", \"Cashiers    * Cash Register Operator* Check Out Cashier* Fare Collector* Grocery Checker* Hotel  Dining Room Cashier* Snack Bar Cashier* Toll Booth Operator* Toll Collector\", \"Cement masons and concrete finishers    * Cement Mason* Cement Patcher* Concrete Finisher* Concrete Floor Installer* Concrete Mason* Concrete Smoother* Concrete Swimming Pool Installer\", \"Cleaners of vehicles and equipment    * Aircraft Cleaner* Auto Cleaner* Auto Detailer* Automobile Detailer* Beer Coil Cleaner* Boat Detailer* Bus Cleaner* Bus Washer* Car Wash Attendant* Car Washer* Equipment Cleaner* Machine Cleaner* Railroad Car Cleaner* Truck Washer\", \"Construction laborers    * Air Hammer Operator* Construction Craft Laborer* Construction Laborer* Construction Trench Digger\", \"Continuous mining machine operators    * Continuous Mining Machine Coal Miner* Continuous Mining Machine Lode Miner* Self-Propelled Mining Machine Operator\", \"Conveyor operators and tenders    * Ash Conveyor Operator* Assembly Line Tender* Chip Bin Conveyor Tender* Conveyor Belt Operator* Conveyor Tender* Grain Elevator Operator* Packing Line Operator\", \"Cooks, all other    * Falafel Cart Cook* Fraternity House Cook\", \"Cooks, fast food    * Fast Food Cook* Fast Food Fry Cook* Fryline Attendant\", \"Cooks, institution and cafeteria    * Cafeteria Cook* Camp Cook* Galley Cook* Institutional Cook* Mess Cook* School Cook\", \"Cooks, restaurant    * Banquet Cook* Breakfast Cook* Chef De Partie* Line Cook* Saucier* Specialty Cook\", \"Cooks, short order    * Griddle Attendant* Griddle Cook* Grill Cook* Short Order Fry Cook* Snack Bar Cook\", \"Counter and rental clerks    * Airplane Charter Clerk* Apartment Rental Clerk* Automobile Rental Clerk* Bicycle Rental Clerk* Boat Rental Clerk* Car Rental Agent* Dry Cleaning Counter Clerk* Layaway Clerk* Rental Clerk* Storage Facility Rental Clerk* Video Rental Clerk\", \"Craft artists    * Furniture Artist* Hand Potter* Metal Arts Production Artist* Quilter\", \"Crossing guards and flaggers    * Construction Site Crossing Guard* Crossing Guard* School Crossing Guard* School Traffic Guard\", \"Cutters and trimmers, hand    * Fur Trimmer* Hand Cloth Cutter* Hand Fabric Cutter* Portable Machine Cutter\", \"Demonstrators and product promoters    * Home Demonstrator* Home Service Demonstrator* Hostess Party Sales Representative* In-Store Demonstrator\", \"Derrick operators, oil and gas    * Derrick Operator* Gas Derrick Operator* Oil Derrick Operator* Rotary Derrick Operator* Well Service Derrick Worker\", \"Dining room and cafeteria attendants and bartender helpers    * Banquet Set Up Person* Bar Back* Barback* Buffet Attendant* Bus Person* Busser* Lunchroom Attendant\", \"Dishwashers    * Dish Room Worker* Dishwasher* Silverware Cleaner\", \"Door-to-door sales workers, news and street vendors, and related workers    * Newspaper Carrier* Newstand Vendor* Peddler* Souvenir Street Vendor\", \"Drywall and ceiling tile installers    * Acoustical Ceiling Installer* Drywall Applicator* Drywall Finisher* Drywall Hanger* Drywall Installer* Drywall Sander* Drywall Stripper* Drywall Worker* Sheet Rock Applier* Sheet Rock Hanger* Sheet Rock Installer* Sheet Rock Worker\", \"Farm labor contractors    * Farm Labor Contractor* Harvesting Contractor\", \"Farmworkers and laborers, crop, nursery, and greenhouse    * Cane Cutter* Carrot Harvester* Citrus Picker* Corn Picker* Cotton Picker* Crop Picker* Flower Picker* Greenhouse Transplanter* Harvest Worker* Harvester* Orchard Hand* Orchard Worker* Pecan Gatherer* Pepper Picker* Vineyard Tender\", \"Farmworkers, farm, ranch, and aquacultural animals    * Aquaculture Worker* Barn Hand* Barn Worker* Cattle Brander* Cattle Driver* Chicken Handler* Chicken Vaccinator* Cow Tender* Egg Gatherer* Farrowing Worker* Goat Herder* Groom* Hatchery Worker* Livestock Handler* Poultry Debeaker* Ranch Hand* Sheep Shearer* Shrimp Pond Laborer\", \"Fast food and counter workers\", \"Fence erectors    * Chain Link Fence Installer* Fence Builder* Fence Erector* Wire Fence Builder* Wood Fence Installer\", \"Floor layers, except carpet, wood, and hard tiles    * Composition Floor Layer* Cork Floor Installer* Laminate Floor Installer* Linoleum Installer* Resilient Tile Installer* Shock-Absorption Floor Layer* Vinyl Flooring Installer* Vinyl Installer\", \"Floor sanders and finishers    * Floor Finisher* Floor Refinisher* Floor Sander* Floor Sanding Machine Operator* Floor Scraper* Hardwood Finisher\", \"Food and tobacco roasting, baking, and drying machine operators and tenders    * Bean Roaster* Coffee Roaster* Fish Smoker* Food Dehydrator Operator* Grain Roaster* Malt House Kiln Operator* Meat Curer* Meat Smoker* Sausage Smoker* Smokehouse Worker* Tobacco Drier Operator\", \"Food preparation and serving related workers, all other    * Kitchen Steward\", \"Food preparation workers    * Deli Clerk* Deli Slicer* Food Preparer* Fruit and Vegetable Parer* Salad Maker* Sandwich Maker\", \"Food processing workers, all other    * Olive Pitter* Pasta Press Operator* Poultry Hanger* Yeast Maker\", \"Food servers, nonrestaurant    * Boat Hop* Hospital Food Service Worker* Room Service Food Server\", \"Gambling change persons and booth cashiers    * Mutuel Teller* Slot Attendant\", \"Graders and sorters, agricultural products    * Apple Sorter* Cherry Sorter* Cotton Grader* Egg Grader* Fruit Sorter* Meat Grader* Oyster Sorter* Peanut Grader* Potato Sorter* Seed Sorter* Strawberry Sorter* Vegetable Sorter* Wool Grader\", \"Grinding and polishing workers, hand    * Hand Buffer* Hand Sander* Jewelry Grinder* Jewelry Polisher* Knife Grinder* Ring Polisher\", \"Grounds maintenance workers, all other    * Trail Construction Worker* Trail Maintenance Worker* Trailhead Construction Worker* Trailhead Maintenance Worker* Tree Trimmer Helper\", \"Helpers, construction trades, all other    * Boiler Coverer Helper* Bridge Ironworker Helper* Carpet Layer Helper* Cellulose Insulation Helper* Construction Ironworker Helper* Cork Insulator Helper* Drywall Hanger Helper* Drywall Stripper Helper* Drywall Taper Helper* HVAC Sheet Metal Installer Helper* Heat and Frost Insulator Helper* Linoleum Layer Helper* Ornamental Ironworker Helper* Pipe Insulator Helper* Plate Glass Installer Helper* Post Tensioning Ironworker Helper* Rod Buster Helper* Sheet Metal Duct Installer Helper* Sheet Rock Installation Helper* Sheet Rock Taper Helper* Stained Glass Glazier Helper* Terrazzo Finisher Helper* Terrazzo Layer Helper* Terrazzo Worker Helper* Trench Digger Helper* Wall Taper Helper* Window Glazier Helper\", \"Helpers--brickmasons, blockmasons, stonemasons, and tile and marble setters    * Adobe Layer Helper* Brick Carrier* Brick Washer* Bricklayer Helper* Ceramic Tile Installation Helper* Chimney Builder Helper* Firebrick Layer Helper* Marble Installation Helper* Mortar Mixer* Parquet Floor Layer's Helper* Refractory Tile Helper* Wood Tile Installation Helper\", \"Helpers--carpenters    * Beam Builder Helper* Building Carpenter Helper* Carpenter Assistant* Carpenter Helper* Construction Carpenters Helper* Hardwood Floor Installation Helper* House Carpenter Helper\", \"Helpers--painters, paperhangers, plasterers, and stucco masons    * Billboard Poster Helper* Bridge Painter Helper* Dry Plasterer Helper* Highway Painter Helper* House Painter Helper* Ornamental Plasterer Helper* Plaster Tender* Ship Painter Helper* Swimming Pool Plasterer Helper* Wallpaper Hanger Helper* Wallpaperer Helper\", \"Helpers--roofers    * Hot Tar Roofer Helper* Industrial Roofer Helper* Residential Roofer Helper* Roofer Assistant* Roofer Helper* Roofing Laborer* Shingles Roofer Helper* Slate Roofer Helper* Terra Cotta Roofer Helper\", \"Hoist and winch operators    * Hoist Operator* Winch Derrick Operator* Winch Operator\", \"Hosts and hostesses, restaurant, lounge, and coffee shop    * Bar Host/Hostess* Bar Hostess* Dining Room Host* Dining Room Host/Hostess* Maitre D'* Tearoom Host/Hostess* Tearoom Hostess\", \"Industrial truck and tractor operators    * Forklift Driver* Forklift Operator* Front-End Loader Operator* Hydraulic Lift Driver* Industrial Truck Operator* Reach-Lift Truck Driver* Stacker Operator\", \"Insulation workers, floor, ceiling, and wall    * Ceiling Insulation Blower* Composition Weatherboard Installer* Cork Insulation Installer* Cork Insulator* Insulation Machine Operator* Interior Surface Insulation Worker* Wall Insulation Sprayer\", \"Janitors and cleaners, except maids and housekeeping cleaners    * Building Custodian* Cleaning and Maintenance Worker* Custodial Worker* Custodian* Floor Cleaner* Heavy Duty Custodian* Industrial Plant Custodian* Janitor* Office Cleaner* School Custodian* Window Cleaner* Window Washer\", \"Laborers and freight, stock, and material movers, hand    * Cargo Handler* Cart Pusher* Freight Handler* Grave Digger* Manufacturing Laborer* Material Handler* Package Handler* Shipping and Receiving Material Handler* Stock Mover* Van Loader* Wharf Laborer\", \"Landscaping and groundskeeping workers    * Golf Course Laborer* Greenskeeper* Greenskeeper Laborer* Grounds Caretaker* Grounds Maintenance Worker* Hedge Trimmer* Lawn Care Worker* Lawn Caretaker* Lawn Maintenance Worker* Lawn Mower* Lawn Service Worker* Shrub Planter* Sod Layer\", \"Laundry and dry-cleaning workers    * Drycleaner* Launderer* Laundress* Laundry Attendant* Laundry Equipment Operator* Laundry Operator* Laundry Sorter* Laundry Worker* Precision Dyer\", \"Lifeguards, ski patrol, and other recreational protective service workers    * Beach Lifeguard* Certified Ski Patroller* Life Guard* OEC Technician* Outdoor Emergency Care Technician* Pool Lifeguard* Ski Patrol\", \"Loading and moving machine operators, underground mining\", \"Machine feeders and offbearers    * Brick Offbearer* Chain Offbearer* Chopper Feeder* Doffer* Dryer Feeder* Hopper Feeder* Hopper Filler* Line Feeder* Offbearer* Packing Machine Can Feeder* Spike Machine Feeder* Spinning Doffer* Spooler Operator\", \"Maids and housekeeping cleaners    * Chambermaid* Cleaning Maid* Cottage Attendant* Domestic Maid* House Cleaner* Housekeeping Aide* Housekeeping Staff* Motel Maid* Ward Maid\", \"Material moving workers, all other    * Freight Elevator Operator\", \"Meat, poultry, and fish cutters and trimmers    * Crab Picker* Deboner* Fish Cutter* Fish Filleter* Frozen Meat Cutter* Meat Trimmer* Oyster Shucker* Poultry Cutter* Poultry Eviscerator* Shrimp Peeler* Shrimp Picker* Wing Scorer\", \"Models    * Artist's Model* Clothes Model* Fashion Model* Figure Model* Hand Model* Hat Model* Model* Photographer's Model* Studio Model\", \"Motion picture projectionists    * Chief Projectionist* Film Projector Operator* Motion Picture Operator* Motion Picture Projectionist* Movie Projectionist* Projector Booth Operator* Stereoptician\", \"Motor vehicle operators, all other    * Assembly Line Driver* Ice-Resurfacing Machine Operators* Motorcycle Deliverer* Street Cleaning Equipment Operator* Street Sweeper Operator\", \"Packers and packagers, hand    * Bagger* Carton Wrapper* Egg Packer* Gift Wrapper* Grocery Store Bagger* Meat Packager* Meat Wrapper* Utility Bagger\", \"Painters, construction and maintenance    * Bridge Painter* Facilities Painter* Highway Painter* House Painter* Industrial Painter* Parking Line Painter* Roof Painter* Traffic Line Painter\", \"Painting, coating, and decorating workers    * Ceramic Painter* China Decorator* Glass Decorator* Lacquerer* Sign Painter\", \"Paperhangers    * Billboard Poster* Paperhanger* Wall Covering Installer* Wallpaper Hanger* Wallpaperer\", \"Parking attendants    * Auto Parker* Car Jockey* Parking Attendant* Parking Ramp Attendant* Valet Parker* Valet Runner\", \"Parts salespersons    * Appliance Parts Counter Clerk* Auto Parts Salesperson* Electronic Parts Salesperson* Parts Clerk* Parts Counter Clerk\", \"Passenger vehicle drivers, except bus drivers, transit and intercity\", \"Pipelayers    * Cast-Iron Drain Pipe Layer* Pipe Layer* Sewer Pipe Layer* Trench Pipe Layer* Water Main Pipe Layer\", \"Plasterers and stucco masons    * Dry Plasterer* Journey Level Plasterer* Molding Plasterer* Ornamental Plasterer* Plasterer Apprentice* Stucco Plasterer* Stucco Worker* Swimming Pool Plasterer\", \"Pressers, textile, garment, and related materials    * Clothes Ironer* Clothes Presser* Clothing Presser* Garment Presser* Pants Presser* Shirt Presser* Silk Presser* Wool Presser\", \"Refuse and recyclable material collectors    * Garbage Collector* Recyclable Materials Collector* Refuse Collector* Scrap Metal Collector* Solid Waste Collector* Trash Collector\", \"Retail salespersons    * Automotive Salesperson* Department Store Salesperson* Menswear Salesperson* New Car Salesperson* Pet Supplies Salesperson* Pets Salesperson* Shoe Salesperson* Used Car Salesperson* Women's Apparel Salesperson\", \"Rock splitters, quarry    * Quarry Plug and Feather Driller* Sandstone Splitter\", \"Roofers    * Composition Roofer* Hot Tar Roofer* Industrial Roofer* Metal Roofing Mechanic* Residential Roofer* Roofer* Sheet Metal Roofer* Shingles Roofer* Slate Roofer* Terra Cotta Roofer\", \"Rotary drill operators, oil and gas    * Drilling Rig Operator* Natural Gas Shothole Driller* Oil Driller* Oil Rig Driller* Oil Well Cable Tool Driller* Oil Well Cable Tool Operator* Oil Well Driller* Prospecting Driller\", \"Roustabouts, oil and gas    * Oil Field Roustabout* Oil Rig Roughneck* Roustabout* Roustabout Pusher\", \"Sailors and marine oilers    * Able Seaman* Deck Cadet* Deck Hand* Deckhand* Merchant Mariner* Merchant Seaman* Ordinary Seaman* Sailor* Vessel Ordinary Seaman\", \"Service unit operators, oil and gas    * Oil Well Fishing-Tool Technician* Well Service Pump Equipment Operator* Well Service Rig Operator* Well Services Operator* Well Servicing Rig Operator\", \"Sewers, hand    * Hand Quilter* Hand Sewer* Hand Stitcher* Hand Weaver\", \"Sewing machine operators    * Blind Stitch Machine Operator* Button Sewing Machine Operator* Carpet Sewing Machine Operator* Custom T-Shirt Embroidery Machine Operator* Embroidery Machine Operator* Hemming and Tacking Machine Operator* Ultrasonic Seaming Machine Operator\", \"Shampooers    * Scalp Treatment Specialist* Shampoo Assistant* Shampoo Technician* Shampooer\", \"Slaughterers and meat packers    * Beef Splitter* Cattle Killer* Halal Meat Packer* Hog Slaughterer* Meat Packer* Meat Processor* Poultry Slaughterer* Shochet* Slaughterer\", \"Tailors, dressmakers, and custom sewers    * Alterations Sewer* Alterations Tailor* Bridal Gown Fitter* Coat Cutter* Coat Maker* Couture Dressmaker* Dress Fitter* Fur Tailor* Garment Fitter* Suit Maker* Vest Maker\", \"Tank car, truck, and ship loaders    * Barge Loader* Bulk Tank Car Unloader* Dock Loader* Rail Car Loader* Rail Loader* Ship Unloader* Tank Car Loader* Tank Truck Loader\", \"Tapers    * Drywall Taper* Sheet Rock Taper* Wall Taper\", \"Telemarketers    * Inbound Telemarketer* Outbound Telemarketer* Telemarketer* Telemarketing Sales Representative* Telephone Solicitor* Telesales Representative* Telesales Specialist\", \"Tile and stone setters    * Ceramic Tile Installer* Hard Tile Setter* Marble Ceiling Installer* Parquet Floor Layer* Tile Installer* Tile Mason* Wood Tile Installer\", \"Ushers, lobby attendants, and ticket takers    * Drive-In Theater Attendant* Lobby Attendant* Theater Usher* Ticket Attendant* Ticket Collector* Usher\", \"Waiters and waitresses    * Cocktail Server* Cocktail Waitress* Dining Car Server* Restaurant Server* Wine Steward\"], \"legendgroup\": \"No formal educational credential\", \"marker\": {\"color\": \"#19d3f3\", \"size\": [8, 8, 8, 8, 8, 8, 8, 8, 8, 8, 8, 8, 8, 8, 8, 8, 8, 8, 8, 8, 8, 8, 8, 8, 8, 8, 8, 8, 8, 8, 8, 8, 8, 8, 8, 8, 8, 8, 8, 8, 8, 8, 8, 8, 8, 8, 8, 8, 8, 8, 8, 8, 8, 8, 8, 8, 8, 8, 8, 8, 8, 8, 8, 8, 8, 8, 8, 8, 8, 8, 8, 8, 8, 8, 8, 8, 8, 8, 8, 8, 8, 8, 8, 8, 8, 8, 8, 8, 8, 8, 8, 8, 8, 8, 8, 8, 8, 8, 8], \"sizemode\": \"area\", \"sizeref\": 0.02, \"symbol\": \"circle\"}, \"mode\": \"markers\", \"name\": \"No formal educational credential\", \"orientation\": \"v\", \"showlegend\": true, \"type\": \"scatter\", \"x\": [\"31,950\", \"29,590\", \"23,370\", \"64,490\", \"51,370\", \"25,200\", \"27,700\", \"23,680\", \"31,230\", \"32,500\", \"40,090\", \"23,650\", \"44,810\", \"25,800\", \"36,860\", \"55,280\", \"34,660\", \"30,760\", \"23,510\", \"27,750\", \"27,790\", \"25,150\", \"28,820\", \"34,710\", \"29,760\", \"30,200\", \"30,930\", \"46,990\", \"23,470\", \"23,970\", \"27,420\", \"45,700\", \"61,910\", \"25,440\", \"27,830\", \"22,740\", \"35,800\", \"44,240\", \"39,610\", \"31,590\", \"24,970\", \"24,800\", \"27,550\", \"24,430\", \"25,690\", \"25,670\", \"30,600\", \"32,090\", \"31,910\", \"35,410\", \"33,060\", \"31,340\", \"32,110\", \"59,720\", \"23,090\", \"36,200\", \"40,380\", \"27,430\", \"29,510\", \"30,440\", \"24,220\", \"23,420\", \"54,210\", \"31,180\", \"24,850\", \"31,770\", \"28,100\", \"28,350\", \"25,150\", \"32,910\", \"25,910\", \"40,280\", \"32,950\", \"40,520\", \"25,140\", \"31,710\", \"31,340\", \"38,820\", \"45,440\", \"24,190\", \"37,840\", \"25,250\", \"36,070\", \"42,100\", \"54,980\", \"38,910\", \"43,480\", \"46,740\", \"29,950\", \"26,420\", \"22,550\", \"29,230\", \"31,520\", \"42,360\", \"59,070\", \"26,290\", \"43,050\", \"23,500\", \"22,890\"], \"xaxis\": \"x\", \"y\": [11.4, 2.9, 10.3, -0.2, 10.0, 2.4, 5.3, 5.9, 4.8, 1.7, -8.9, -7.4, -2.0, 3.6, 5.4, 2.3, 0.4, 3.5, -13.4, 2.0, 23.1, -4.4, 1.1, -1.0, 5.7, -29.9, 3.1, 30.5, 6.5, 0.5, -20.0, 0.4, 10.4, 3.8, -8.3, 11.4, 2.2, 9.9, 2.2, -0.8, 6.9, -1.1, -0.1, 6.8, 2.5, 0.0, -19.5, 6.5, 4.2, -4.7, 1.3, 1.9, 3.5, -5.0, 8.2, 2.8, 1.6, 4.4, 4.2, 10.1, 0.2, 9.0, -13.4, 0.2, -0.3, 1.5, 1.7, 0.5, -11.2, 3.1, -4.8, 0.2, -0.5, -0.8, 7.2, 2.0, 11.1, 4.7, 4.1, -18.9, 8.8, -0.6, 3.6, 2.4, 26.9, 25.1, 0.9, 22.9, -7.9, -9.3, 11.4, 3.3, -4.3, -1.7, -4.0, -14.2, 8.6, 3.3, 3.7], \"yaxis\": \"y\"}, {\"customdata\": [[\"None\", 4.6], [\"None\", 12.3], [\"None\", -2.8], [\"None\", -3.7], [\"None\", 7.5], [\"Less than 5 years\", -0.3], [\"None\", 4.7], [\"None\", 21.9], [\"Less than 5 years\", -6.3], [\"None\", 8.9], [\"None\", 6.6], [\"None\", 2.4], [\"None\", 1.9], [\"Less than 5 years\", -3.2], [\"None\", 6.4], [\"5 years or more\", 5.9], [\"None\", 6.1], [\"Less than 5 years\", 6.2], [\"None\", -2.2], [\"None\", 7.9], [\"None\", 4.0], [\"None\", 1.5], [\"None\", -4.0], [\"None\", -3.9], [\"None\", 9.1], [\"None\", 11.0], [\"None\", 19.2], [\"None\", 20.6], [\"None\", 19.2], [\"None\", 8.5], [\"None\", -2.2], [\"Less than 5 years\", 0.1], [\"None\", 3.5], [\"None\", 7.6], [\"None\", 14.2], [\"None\", 17.2], [\"None\", -20.7], [\"Less than 5 years\", 13.3], [\"Less than 5 years\", 0.7], [\"None\", 16.6], [\"None\", 6.0], [\"None\", 6.8], [\"None\", -2.6], [\"None\", -5.4], [\"None\", 60.7]], \"hovertemplate\": \"<b>%{hovertext}</b><br><br>Typical Entry-Level Education=Postsecondary nondegree award<br>Median Annual Wage 2019=%{x}<br>Employment Percent Change, 2019-2029=%{customdata[1]}<br>Education Code=%{marker.size}<br>Work Experience in a Related Occupation=%{customdata[0]}<extra></extra>\", \"hovertext\": [\"Aircraft mechanics and service technicians    * A&P Mechanic* Aircraft Engine Mechanic* Aircraft Engine Specialist* Airframe Mechanic* Airframe and Power Plant Mechanic* Airplane Rigger* FAA Certified Powerplant Mechanic* Flight Test Mechanic* Helicopter Mechanic* Jet Engine Mechanic* Propeller-Driven Airplane Mechanic\", \"Audio and video technicians    * Audio-Visual Production Specialist* Event AV Operator* Event Crew Technician* Multimedia Production Assistant* Video Control Operator* Video Equipment Technician* Video Production Assistant\", \"Audiovisual equipment installers and repairers    * Cable Installation Technician* Electric Organ Checker* Electronic Musical Instrument Repairer* Home Stereo Equipment Installer* Home Theater Installer* Satellite Dish Installer* Stereo Equipment Installer* Television Installer* Television Repairer* Wireless Internet Installer\", \"Automotive service technicians and mechanics    * Auto Clutch Rebuilder* Auto Clutch Specialist* Auto Radiator Specialist* Auto Suspension and Steering Mechanic* Auto Transmission Specialist* Automotive Alignment Specialist* Automotive Brake Adjuster* Automotive Brake Specialist* Automotive Brake Technician* Automotive Fuel Injection Servicer* Automotive Fuel Systems Converter* Automotive Specialty Technician* Hybrid Car Mechanic* Motor Tune-Up Specialist\", \"Barbers    * Barber* Barber Apprentice* Master Barber\", \"Captains, mates, and pilots of water vessels    * Barge Captain* Barge Master* Boat Pilot* Car Ferry Captain* Car Ferry Master* Coastal Tug Mate* Deck Officer* Docking Pilot* Ferry Boat Captain* Ferry Captain* Ferryboat Captain* First Mate* Harbor Boat Pilot* Harbor Pilot* Harbor Tug Captain* Port Captain* River Boat Captain* River Pilot* Sailboat Captain* Ship Harbor Pilot* Tow Boat Captain* Towboat Pilot* Tug Boat Captain* Tugboat Captain* Tugboat Mate* Tugboat Operator* Tugboat Pilot\", \"Commercial divers    * Commercial Diver* Marine Diver* Non Destructive Testing Underwater Welder* Salvage Diver* Scuba Diver* Submarine Diver* Underwater Welder\", \"Computer numerically controlled tool programmers\", \"Cooks, private household    * Certified Personal Chef* Personal Chef* Private Chef\", \"Court reporters and simultaneous captioners\", \"Dental assistants    * Certified Dental Assistant* Dental Aide* Dental Assistant* Expanded Functions Dental Assistant* Orthodontic Assistant* Orthodontist Assistant* Registered Dental Assistant* Surgical Dental Assistant\", \"Electrical and electronics installers and repairers, transportation equipment    * Locomotive Electrician* Marine Electronics Repairer* Marine Electronics Technician\", \"Electrical and electronics repairers, commercial and industrial equipment    * Industrial Aerial Installer* Industrial Robotics Mechanic* Missile Pad Mechanic* Public Address System Mechanic\", \"Electrical and electronics repairers, powerhouse, substation, and relay    * Generating Station Mechanic* Power Transformer Repairer* Powerhouse Electrician* Protective Relay Technician* Relay Technician* Substation Electrician* Substation Mechanic\", \"Emergency medical technicians and paramedics\", \"Fire inspectors and investigators    * Arson Investigator* CFEI* Certified Fire Investigator* Certified Fire and Explosion Investigator* Certified Vehicle Fire Investigator* Fire Hazard Inspector* Fire Investigator* Fire Prevention Inspector* Fire Safety Inspector\", \"Firefighters    * Fire Engine Pump Operator* Fire Equipment Operator* Fire Fighter* Forest Firefighter* Marine Firefighter* Municipal Firefighter* Smoke Jumper* Wildland Firefighter\", \"First-line supervisors of firefighting and prevention workers    * Fire Lieutenant* Municipal Fire Fighting and Prevention Supervisor* Supervising Fire Marshal\", \"Hairdressers, hairstylists, and cosmetologists    * Beautician* Cosmetologist* Funeral Home Makeup Artist* Hair Colorist* Hair Stylist* Hair and Makeup Designer* Hairdresser* Hairpiece Stylist* Wedding Makeup Artist* Wig Stylist\", \"Health information technologists, medical registrars, surgical assistants, and healthcare practitioners and technical workers, all other\", \"Heating, air conditioning, and refrigeration mechanics and installers    * Air Conditioning Service Technician* Bulk Cooler Installer* Evaporative Cooler Installer* Furnace Converter* Furnace Fitter* Gas Furnace Installer* Heating, Ventilation, and Air Conditioning (HVAC) Mechanic* Oil Burner Repairer* Oil Furnace Installer* Refrigeration Systems Installer* Stoker Installer\", \"Heavy and tractor-trailer truck drivers    * Auto Carrier Driver* Cement Truck Driver* Concrete Mixer Driver* Concrete Mixer Truck Driver* Fuel Truck Driver* Garbage Truck Driver* Line Haul Driver* Logging Truck Driver* Moving Van Driver* Over-the-Road Driver* Semi-Truck Driver* Tanker Driver* Tow Truck Operator\", \"Insurance appraisers, auto damage    * Auto Damage Appraiser* Auto Damage Insurance Appraiser* Automobile Damage Appraiser* Vehicle Damage Appraiser\", \"Library technicians    * Cataloging Library Technical Assistant* Library Acquisitions Technician* Library Cataloging Technician* Library Circulation Technician* Library Technical Assistant* Serials or Bindery Library Technical Assistant\", \"Licensed practical and licensed vocational nurses    * LP Nurse* LPN* LVN* Licensed Practical Nurse* Licensed Vocational Nurse* Pediatric Licensed Practical Nurse* Triage Licensed Practical Nurse\", \"Makeup artists, theatrical and performance    * Special Effects Makeup Artist\", \"Manicurists and pedicurists    * Fingernail Sculptor* Nail Technician* Pedicurist\", \"Massage therapists    * Deep Tissue Massage Therapist* Licensed Massage Practitioner* Licensed Massage Therapist* Massage Therapist* Masseur* Masseuse* Massotherapist* Rolfer* Swedish Masseuse\", \"Medical assistants    * Autopsy Assistant* Certified Medical Assistant* Chiropractic Assistant* Clinical Medical Assistant* Morgue Attendant* Ocular Care Aide* Optometric Aide* Optometrist Assistant* Optometry Assistant* Orthopedic Cast Specialist* Podiatric Aide\", \"Medical dosimetrists, medical records specialists, and health technologists and technicians, all other\", \"Medical transcriptionists    * Certified Medical Transcriptionist* Medical Record Transcriber* Medical Stenographer* Medical Transcriber* Medical Transcriptionist* Pathology Transcriptionist* Radiology Transcriptionist* Registered Medical Transcriptionist\", \"Motorboat operators    * Launch Operator* Motorboat Operator* Outboard Motorboat Operator* Speedboat Driver* Speedboat Operator* Water Taxi Ferry Operator* Water Taxi Operator\", \"Motorcycle mechanics    * ATV Technician* All Terrain Vehicle Technician* Motor Scooter Mechanic* Motorcycle Mechanic* Motorcycle Repairer* Motorcycle Service Technician* Motorcycle Technician* Scooter Mechanic\", \"Nursing assistants\", \"Ophthalmic medical technicians    * Ocular Care Technologist* Ophthalmic Technologist\", \"Phlebotomists    * Certified Phlebotomy Technician* Phlebotomist* Phlebotomy Technician* Venipuncturist\", \"Prepress technicians and workers    * Digital Proofing and Platemaker* Electronic Pre-Press Technician* Photoengraver* Plate Mounter* Pre-Press Proofer* Prepress Stripper* Type Setter\", \"Psychiatric technicians    * Behavioral Health Technician* Mental Health Technician* Psychiatric Technician\", \"Ship engineers    * Barge Engineer* Ferry Engineer* Towboat Engineer* Tug Boat Engineer* Tugboat Engineer\", \"Skincare specialists    * Electrolysis Needle Operator* Electrolysis Operator* Electrolysist* Esthetician* Facialist* Licensed Esthetician* Medical Esthetician* Skin Care Technician\", \"Sound engineering technicians    * Audio Recording Engineer* Disc Recordist* Dub Room Engineer* Film Sound Engineer* Play Back Operator* Public Address Technician* Recording Engineer* Sound Assistant* Sound Cutter* Sound Designer* Sound Editor* Sound Effects Technician* Sound Engineering Technician\", \"Surgical technologists    * Certified Surgical Technologist* OR Tech* Operating Room Technician* Surgical First Assistant* Surgical Scrub Technologist* Surgical Technologist\", \"Telecommunications equipment installers and repairers, except line installers    * Communications Equipment Installer* Fiber Optic Central Office Installer* Headend Technician* Private Branch Exchange (PBX ) Installer and Repairer* Switchboard Wirer* Telecommunications Switch Technician\", \"Tool and die makers    * Jig Bore Tool Maker* Metal Die Finisher* Metal Gauge Maker* Plastic Die Maker Apprentice* Tool Maker* Toolmaker\", \"Wind turbine service technicians    * Wind Energy Mechanic* Wind Energy Technician* Wind Turbine Mechanic* Wind Turbine Technician\"], \"legendgroup\": \"Postsecondary nondegree award\", \"marker\": {\"color\": \"#FF6692\", \"size\": [5, 5, 5, 5, 5, 5, 5, 5, 5, 5, 5, 5, 5, 5, 5, 5, 5, 5, 5, 5, 5, 5, 5, 5, 5, 5, 5, 5, 5, 5, 5, 5, 5, 5, 5, 5, 5, 5, 5, 5, 5, 5, 5, 5, 5], \"sizemode\": \"area\", \"sizeref\": 0.02, \"symbol\": \"circle\"}, \"mode\": \"markers\", \"name\": \"Postsecondary nondegree award\", \"orientation\": \"v\", \"showlegend\": true, \"type\": \"scatter\", \"x\": [\"64,090\", \"45,910\", \"39,510\", \"42,090\", \"30,150\", \"72,340\", \"49,980\", \"56,450\", \"37,870\", \"60,130\", \"40,080\", \"62,530\", \"59,300\", \"82,780\", \"35,400\", \"61,660\", \"50,850\", \"77,800\", \"26,090\", \"49,850\", \"48,730\", \"45,260\", \"63,270\", \"34,900\", \"47,480\", \"75,730\", \"25,770\", \"42,820\", \"34,800\", \"42,630\", \"33,380\", \"48,260\", \"37,600\", \"29,660\", \"36,940\", \"35,510\", \"40,510\", \"33,780\", \"74,610\", \"34,090\", \"54,740\", \"48,300\", \"57,910\", \"53,920\", \"52,910\"], \"xaxis\": \"x\", \"y\": [4.6, 12.3, -2.8, -3.7, 7.5, -0.3, 4.7, 21.9, -6.3, 8.9, 6.6, 2.4, 1.9, -3.2, 6.4, 5.9, 6.1, 6.2, -2.2, 7.9, 4.0, 1.5, -4.0, -3.9, 9.1, 11.0, 19.2, 20.6, 19.2, 8.5, -2.2, 0.1, 3.5, 7.6, 14.2, 17.2, -20.7, 13.3, 0.7, 16.6, 6.0, 6.8, -2.6, -5.4, 60.7], \"yaxis\": \"y\"}, {\"customdata\": [[\"None\", -5.7], [\"None\", 8.0], [\"None\", -0.8], [\"None\", -11.5], [\"None\", 3.6]], \"hovertemplate\": \"<b>%{hovertext}</b><br><br>Typical Entry-Level Education=Some college, no degree<br>Median Annual Wage 2019=%{x}<br>Employment Percent Change, 2019-2029=%{customdata[1]}<br>Education Code=%{marker.size}<br>Work Experience in a Related Occupation=%{customdata[0]}<extra></extra>\", \"hovertext\": [\"Bookkeeping, accounting, and auditing clerks    * Accounts Receivable Assistant* Accounts Receivable Clerk* Auditing Clerk* Bookkeeper* Fixed Capital Clerk* Foreign Exchange Position Clerk* Mortgage Accounting Clerk\", \"Computer user support specialists\", \"Computer, automated teller, and office machine repairers    * ATM Servicer* Cash Register Servicer* Computer Repair Technician* Computer Repairer* Computer Service Technician* Copier Technician* Copying Machine Repairer* Data Processing Equipment Repairer* Photocopying Equipment Repairer* Printer Repair Technician\", \"Order clerks    * Catalogue Clerk* Classified Ad Clerk* Mail Order Clerk* Order Desk Clerk* Service Order Clerk* Subscription Clerk* Want Ad Clerk\", \"Teaching assistants, except postsecondary\"], \"legendgroup\": \"Some college, no degree\", \"marker\": {\"color\": \"#B6E880\", \"size\": [6, 6, 6, 6, 6], \"sizemode\": \"area\", \"sizeref\": 0.02, \"symbol\": \"circle\"}, \"mode\": \"markers\", \"name\": \"Some college, no degree\", \"orientation\": \"v\", \"showlegend\": true, \"type\": \"scatter\", \"x\": [\"41,230\", \"52,270\", \"39,530\", \"34,240\", \"27,920\"], \"xaxis\": \"x\", \"y\": [-5.7, 8.0, -0.8, -11.5, 3.6], \"yaxis\": \"y\"}],                        {\"legend\": {\"itemsizing\": \"constant\", \"title\": {\"text\": \"Typical Entry-Level Education\"}, \"tracegroupgap\": 0}, \"template\": {\"data\": {\"bar\": [{\"error_x\": {\"color\": \"#2a3f5f\"}, \"error_y\": {\"color\": \"#2a3f5f\"}, \"marker\": {\"line\": {\"color\": \"#E5ECF6\", \"width\": 0.5}}, \"type\": \"bar\"}], \"barpolar\": [{\"marker\": {\"line\": {\"color\": \"#E5ECF6\", \"width\": 0.5}}, \"type\": \"barpolar\"}], \"carpet\": [{\"aaxis\": {\"endlinecolor\": \"#2a3f5f\", \"gridcolor\": \"white\", \"linecolor\": \"white\", \"minorgridcolor\": \"white\", \"startlinecolor\": \"#2a3f5f\"}, \"baxis\": {\"endlinecolor\": \"#2a3f5f\", \"gridcolor\": \"white\", \"linecolor\": \"white\", \"minorgridcolor\": \"white\", \"startlinecolor\": \"#2a3f5f\"}, \"type\": \"carpet\"}], \"choropleth\": [{\"colorbar\": {\"outlinewidth\": 0, \"ticks\": \"\"}, \"type\": \"choropleth\"}], \"contour\": [{\"colorbar\": {\"outlinewidth\": 0, \"ticks\": \"\"}, \"colorscale\": [[0.0, \"#0d0887\"], [0.1111111111111111, \"#46039f\"], [0.2222222222222222, \"#7201a8\"], [0.3333333333333333, \"#9c179e\"], [0.4444444444444444, \"#bd3786\"], [0.5555555555555556, \"#d8576b\"], [0.6666666666666666, \"#ed7953\"], [0.7777777777777778, \"#fb9f3a\"], [0.8888888888888888, \"#fdca26\"], [1.0, \"#f0f921\"]], \"type\": \"contour\"}], \"contourcarpet\": [{\"colorbar\": {\"outlinewidth\": 0, \"ticks\": \"\"}, \"type\": \"contourcarpet\"}], \"heatmap\": [{\"colorbar\": {\"outlinewidth\": 0, \"ticks\": \"\"}, \"colorscale\": [[0.0, \"#0d0887\"], [0.1111111111111111, \"#46039f\"], [0.2222222222222222, \"#7201a8\"], [0.3333333333333333, \"#9c179e\"], [0.4444444444444444, \"#bd3786\"], [0.5555555555555556, \"#d8576b\"], [0.6666666666666666, \"#ed7953\"], [0.7777777777777778, \"#fb9f3a\"], [0.8888888888888888, \"#fdca26\"], [1.0, \"#f0f921\"]], \"type\": \"heatmap\"}], \"heatmapgl\": [{\"colorbar\": {\"outlinewidth\": 0, \"ticks\": \"\"}, \"colorscale\": [[0.0, \"#0d0887\"], [0.1111111111111111, \"#46039f\"], [0.2222222222222222, \"#7201a8\"], [0.3333333333333333, \"#9c179e\"], [0.4444444444444444, \"#bd3786\"], [0.5555555555555556, \"#d8576b\"], [0.6666666666666666, \"#ed7953\"], [0.7777777777777778, \"#fb9f3a\"], [0.8888888888888888, \"#fdca26\"], [1.0, \"#f0f921\"]], \"type\": \"heatmapgl\"}], \"histogram\": [{\"marker\": {\"colorbar\": {\"outlinewidth\": 0, \"ticks\": \"\"}}, \"type\": \"histogram\"}], \"histogram2d\": [{\"colorbar\": {\"outlinewidth\": 0, \"ticks\": \"\"}, \"colorscale\": [[0.0, \"#0d0887\"], [0.1111111111111111, \"#46039f\"], [0.2222222222222222, \"#7201a8\"], [0.3333333333333333, \"#9c179e\"], [0.4444444444444444, \"#bd3786\"], [0.5555555555555556, \"#d8576b\"], [0.6666666666666666, \"#ed7953\"], [0.7777777777777778, \"#fb9f3a\"], [0.8888888888888888, \"#fdca26\"], [1.0, \"#f0f921\"]], \"type\": \"histogram2d\"}], \"histogram2dcontour\": [{\"colorbar\": {\"outlinewidth\": 0, \"ticks\": \"\"}, \"colorscale\": [[0.0, \"#0d0887\"], [0.1111111111111111, \"#46039f\"], [0.2222222222222222, \"#7201a8\"], [0.3333333333333333, \"#9c179e\"], [0.4444444444444444, \"#bd3786\"], [0.5555555555555556, \"#d8576b\"], [0.6666666666666666, \"#ed7953\"], [0.7777777777777778, \"#fb9f3a\"], [0.8888888888888888, \"#fdca26\"], [1.0, \"#f0f921\"]], \"type\": \"histogram2dcontour\"}], \"mesh3d\": [{\"colorbar\": {\"outlinewidth\": 0, \"ticks\": \"\"}, \"type\": \"mesh3d\"}], \"parcoords\": [{\"line\": {\"colorbar\": {\"outlinewidth\": 0, \"ticks\": \"\"}}, \"type\": \"parcoords\"}], \"pie\": [{\"automargin\": true, \"type\": \"pie\"}], \"scatter\": [{\"marker\": {\"colorbar\": {\"outlinewidth\": 0, \"ticks\": \"\"}}, \"type\": \"scatter\"}], \"scatter3d\": [{\"line\": {\"colorbar\": {\"outlinewidth\": 0, \"ticks\": \"\"}}, \"marker\": {\"colorbar\": {\"outlinewidth\": 0, \"ticks\": \"\"}}, \"type\": \"scatter3d\"}], \"scattercarpet\": [{\"marker\": {\"colorbar\": {\"outlinewidth\": 0, \"ticks\": \"\"}}, \"type\": \"scattercarpet\"}], \"scattergeo\": [{\"marker\": {\"colorbar\": {\"outlinewidth\": 0, \"ticks\": \"\"}}, \"type\": \"scattergeo\"}], \"scattergl\": [{\"marker\": {\"colorbar\": {\"outlinewidth\": 0, \"ticks\": \"\"}}, \"type\": \"scattergl\"}], \"scattermapbox\": [{\"marker\": {\"colorbar\": {\"outlinewidth\": 0, \"ticks\": \"\"}}, \"type\": \"scattermapbox\"}], \"scatterpolar\": [{\"marker\": {\"colorbar\": {\"outlinewidth\": 0, \"ticks\": \"\"}}, \"type\": \"scatterpolar\"}], \"scatterpolargl\": [{\"marker\": {\"colorbar\": {\"outlinewidth\": 0, \"ticks\": \"\"}}, \"type\": \"scatterpolargl\"}], \"scatterternary\": [{\"marker\": {\"colorbar\": {\"outlinewidth\": 0, \"ticks\": \"\"}}, \"type\": \"scatterternary\"}], \"surface\": [{\"colorbar\": {\"outlinewidth\": 0, \"ticks\": \"\"}, \"colorscale\": [[0.0, \"#0d0887\"], [0.1111111111111111, \"#46039f\"], [0.2222222222222222, \"#7201a8\"], [0.3333333333333333, \"#9c179e\"], [0.4444444444444444, \"#bd3786\"], [0.5555555555555556, \"#d8576b\"], [0.6666666666666666, \"#ed7953\"], [0.7777777777777778, \"#fb9f3a\"], [0.8888888888888888, \"#fdca26\"], [1.0, \"#f0f921\"]], \"type\": \"surface\"}], \"table\": [{\"cells\": {\"fill\": {\"color\": \"#EBF0F8\"}, \"line\": {\"color\": \"white\"}}, \"header\": {\"fill\": {\"color\": \"#C8D4E3\"}, \"line\": {\"color\": \"white\"}}, \"type\": \"table\"}]}, \"layout\": {\"annotationdefaults\": {\"arrowcolor\": \"#2a3f5f\", \"arrowhead\": 0, \"arrowwidth\": 1}, \"coloraxis\": {\"colorbar\": {\"outlinewidth\": 0, \"ticks\": \"\"}}, \"colorscale\": {\"diverging\": [[0, \"#8e0152\"], [0.1, \"#c51b7d\"], [0.2, \"#de77ae\"], [0.3, \"#f1b6da\"], [0.4, \"#fde0ef\"], [0.5, \"#f7f7f7\"], [0.6, \"#e6f5d0\"], [0.7, \"#b8e186\"], [0.8, \"#7fbc41\"], [0.9, \"#4d9221\"], [1, \"#276419\"]], \"sequential\": [[0.0, \"#0d0887\"], [0.1111111111111111, \"#46039f\"], [0.2222222222222222, \"#7201a8\"], [0.3333333333333333, \"#9c179e\"], [0.4444444444444444, \"#bd3786\"], [0.5555555555555556, \"#d8576b\"], [0.6666666666666666, \"#ed7953\"], [0.7777777777777778, \"#fb9f3a\"], [0.8888888888888888, \"#fdca26\"], [1.0, \"#f0f921\"]], \"sequentialminus\": [[0.0, \"#0d0887\"], [0.1111111111111111, \"#46039f\"], [0.2222222222222222, \"#7201a8\"], [0.3333333333333333, \"#9c179e\"], [0.4444444444444444, \"#bd3786\"], [0.5555555555555556, \"#d8576b\"], [0.6666666666666666, \"#ed7953\"], [0.7777777777777778, \"#fb9f3a\"], [0.8888888888888888, \"#fdca26\"], [1.0, \"#f0f921\"]]}, \"colorway\": [\"#636efa\", \"#EF553B\", \"#00cc96\", \"#ab63fa\", \"#FFA15A\", \"#19d3f3\", \"#FF6692\", \"#B6E880\", \"#FF97FF\", \"#FECB52\"], \"font\": {\"color\": \"#2a3f5f\"}, \"geo\": {\"bgcolor\": \"white\", \"lakecolor\": \"white\", \"landcolor\": \"#E5ECF6\", \"showlakes\": true, \"showland\": true, \"subunitcolor\": \"white\"}, \"hoverlabel\": {\"align\": \"left\"}, \"hovermode\": \"closest\", \"mapbox\": {\"style\": \"light\"}, \"paper_bgcolor\": \"white\", \"plot_bgcolor\": \"#E5ECF6\", \"polar\": {\"angularaxis\": {\"gridcolor\": \"white\", \"linecolor\": \"white\", \"ticks\": \"\"}, \"bgcolor\": \"#E5ECF6\", \"radialaxis\": {\"gridcolor\": \"white\", \"linecolor\": \"white\", \"ticks\": \"\"}}, \"scene\": {\"xaxis\": {\"backgroundcolor\": \"#E5ECF6\", \"gridcolor\": \"white\", \"gridwidth\": 2, \"linecolor\": \"white\", \"showbackground\": true, \"ticks\": \"\", \"zerolinecolor\": \"white\"}, \"yaxis\": {\"backgroundcolor\": \"#E5ECF6\", \"gridcolor\": \"white\", \"gridwidth\": 2, \"linecolor\": \"white\", \"showbackground\": true, \"ticks\": \"\", \"zerolinecolor\": \"white\"}, \"zaxis\": {\"backgroundcolor\": \"#E5ECF6\", \"gridcolor\": \"white\", \"gridwidth\": 2, \"linecolor\": \"white\", \"showbackground\": true, \"ticks\": \"\", \"zerolinecolor\": \"white\"}}, \"shapedefaults\": {\"line\": {\"color\": \"#2a3f5f\"}}, \"ternary\": {\"aaxis\": {\"gridcolor\": \"white\", \"linecolor\": \"white\", \"ticks\": \"\"}, \"baxis\": {\"gridcolor\": \"white\", \"linecolor\": \"white\", \"ticks\": \"\"}, \"bgcolor\": \"#E5ECF6\", \"caxis\": {\"gridcolor\": \"white\", \"linecolor\": \"white\", \"ticks\": \"\"}}, \"title\": {\"x\": 0.05}, \"xaxis\": {\"automargin\": true, \"gridcolor\": \"white\", \"linecolor\": \"white\", \"ticks\": \"\", \"title\": {\"standoff\": 15}, \"zerolinecolor\": \"white\", \"zerolinewidth\": 2}, \"yaxis\": {\"automargin\": true, \"gridcolor\": \"white\", \"linecolor\": \"white\", \"ticks\": \"\", \"title\": {\"standoff\": 15}, \"zerolinecolor\": \"white\", \"zerolinewidth\": 2}}}, \"title\": {\"text\": \"Expected Job Growth by Industry 2019-2020 vs Median Salary\"}, \"xaxis\": {\"anchor\": \"y\", \"domain\": [0.0, 1.0], \"title\": {\"text\": \"Median Annual Wage 2019\"}, \"type\": \"log\"}, \"yaxis\": {\"anchor\": \"x\", \"domain\": [0.0, 1.0], \"title\": {\"text\": \"Employment Percent Change, 2019-2029\"}}},                        {\"responsive\": true}                    ).then(function(){\n",
       "                            \n",
       "var gd = document.getElementById('d31e0678-9e8a-4ff6-91f8-fd15ebe84418');\n",
       "var x = new MutationObserver(function (mutations, observer) {{\n",
       "        var display = window.getComputedStyle(gd).display;\n",
       "        if (!display || display === 'none') {{\n",
       "            console.log([gd, 'removed!']);\n",
       "            Plotly.purge(gd);\n",
       "            observer.disconnect();\n",
       "        }}\n",
       "}});\n",
       "\n",
       "// Listen for the removal of the full notebook cells\n",
       "var notebookContainer = gd.closest('#notebook-container');\n",
       "if (notebookContainer) {{\n",
       "    x.observe(notebookContainer, {childList: true});\n",
       "}}\n",
       "\n",
       "// Listen for the clearing of the current output cell\n",
       "var outputEl = gd.closest('.output');\n",
       "if (outputEl) {{\n",
       "    x.observe(outputEl, {childList: true});\n",
       "}}\n",
       "\n",
       "                        })                };                });            </script>        </div>"
      ]
     },
     "metadata": {},
     "output_type": "display_data"
    }
   ],
   "source": [
    "import plotly.express as px\n",
    "\n",
    "\n",
    "\n",
    "fig = px.scatter(job_df2, x=\"Median Annual Wage 2019\", y=\"Employment Percent Change, 2019-2029\", log_x=True, \n",
    "                 title=\"Expected Job Growth by Industry 2019-2020 vs Median Salary\",\n",
    "                 hover_name=\"Occupation Title\", hover_data=[\"Work Experience in a Related Occupation\",\n",
    "                                                            \"Employment Percent Change, 2019-2029\"],\n",
    "                 color= \"Typical Entry-Level Education\", size=\"Education Code\")\n",
    "\n",
    "\n",
    "fig.show()\n",
    "\n"
   ]
  },
  {
   "cell_type": "code",
   "execution_count": null,
   "metadata": {},
   "outputs": [],
   "source": [
    "Discussion"
   ]
  },
  {
   "cell_type": "markdown",
   "metadata": {},
   "source": [
    "This dataset proved to be quite informative, as many of us may be looking to advance in our fields or education. As expected the higher paying jobs require more education. However, it was unexpected that the job growth rate was low in many of the higher earning fields. We can conclude that most high paying jobs (90k<) have an entry-level education requirement of Bachelors degreee and highere. Additionally, we can conclude That there is an expected decline in job growth under the bachelors degree level."
   ]
  }
 ],
 "metadata": {
  "kernelspec": {
   "display_name": "Python 3",
   "language": "python",
   "name": "python3"
  },
  "language_info": {
   "codemirror_mode": {
    "name": "ipython",
    "version": 3
   },
   "file_extension": ".py",
   "mimetype": "text/x-python",
   "name": "python",
   "nbconvert_exporter": "python",
   "pygments_lexer": "ipython3",
   "version": "3.7.6"
  }
 },
 "nbformat": 4,
 "nbformat_minor": 4
}
